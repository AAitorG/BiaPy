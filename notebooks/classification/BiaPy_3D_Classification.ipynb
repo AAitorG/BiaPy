{
  "cells": [
    {
      "cell_type": "markdown",
      "metadata": {
        "id": "kcAryclxsQJ5"
      },
      "source": [
        "# **3D Classification pipeline**\n",
        "___  \n",
        "  \n",
        "In this notebook, we demonstrate the use of the [BiaPy](https://biapyx.github.io/) pipeline for **3D classification** of microscopy data.\n",
        "\n",
        "<figure>\n",
        "<center>\n",
        "<img src='https://github.com/BiaPyX/BiaPy-doc/blob/master/source/img/classification/MedMNIST_OrganMNIST3D_img_003_0.gif?raw=true' width='80px'/>\n",
        "<img src='https://github.com/BiaPyX/BiaPy-doc/blob/master/source/img/classification/MedMNIST_OrganMNIST3D_img_012_1.gif?raw=true' width='80px'/>\n",
        "<img src='https://github.com/BiaPyX/BiaPy-doc/blob/master/source/img/classification/MedMNIST_OrganMNIST3D_img_005_2.gif?raw=true' width='80px'/>\n",
        "<img src='https://github.com/BiaPyX/BiaPy-doc/blob/master/source/img/classification/MedMNIST_OrganMNIST3D_img_000_3.gif?raw=true' width='80px'/>\n",
        "<img src='https://github.com/BiaPyX/BiaPy-doc/blob/master/source/img/classification/MedMNIST_OrganMNIST3D_img_002_4.gif?raw=true' width='80px'/>\n",
        "<img src='https://github.com/BiaPyX/BiaPy-doc/blob/master/source/img/classification/MedMNIST_OrganMNIST3D_img_001_5.gif?raw=true' width='80px'/>\n",
        "<img src='https://github.com/BiaPyX/BiaPy-doc/blob/master/source/img/classification/MedMNIST_OrganMNIST3D_img_026_6.gif?raw=true' width='80px'/>\n",
        "<img src='https://github.com/BiaPyX/BiaPy-doc/blob/master/source/img/classification/MedMNIST_OrganMNIST3D_img_031_7.gif?raw=true' width='80px'/>\n",
        "<img src='https://github.com/BiaPyX/BiaPy-doc/blob/master/source/img/classification/MedMNIST_OrganMNIST3D_img_006_8.gif?raw=true' width='80px'/>\n",
        "<img src='https://github.com/BiaPyX/BiaPy-doc/blob/master/source/img/classification/MedMNIST_OrganMNIST3D_img_004_9.gif?raw=true' width='80px'/>\n",
        "<img src='https://github.com/BiaPyX/BiaPy-doc/blob/master/source/img/classification/MedMNIST_OrganMNIST3D_img_015_10.gif?raw=true' width='80px'/>\n",
        "<figcaption><b>Figure 1</b>: Example of a 3D classification problem. These examples belong to various classes and were sourced from  <a href=\"https://medmnist.com/\">MedMNIST v2</a>, specifically from the OrganMNIST3D dataset which is based on 3D computed tomography (CT) images from <a href=\"https://arxiv.org/abs/1901.04056\">Liver Tumor Segmentation Benchmark (LiTS)</a>.</figcaption></center>\n",
        "</figure>\n",
        "\n",
        "Without any coding, we'll guide you step-by-step through the process to:\n",
        "1. **Upload a set of training and test images** along with their corresponding instance label images.\n",
        "2. **Train a Deep Neural Network (DNN)** model using the training set.\n",
        "3. **Apply the model** to the test images.\n",
        "4. **Download the segmentation results** to your local machine.\n",
        "\n",
        "**Disclaimer:** The structure of the notebook is heavily inspired by the fantastic [ZeroCostDL4Mic notebooks](https://github.com/HenriquesLab/ZeroCostDL4Mic/wiki).\n",
        "\n",
        "**Contact:** This notebook was created by [Ignacio Arganda-Carreras](mailto:ignacio.arganda@ehu.eus), [Lenka Backová](mailto:lenka.backova@ehu.eus), [Daniel Franco-Barranco](mailto:daniel.franco@dipc.org) and [Ane Paniagua](mailto:anepaniagua@gmail.com). For suggestions, comments, or issues, please reach out to us via email or [create an issue in BiaPy's repository](https://github.com/BiaPyX/BiaPy/issues). Thank you!"
      ]
    },
    {
      "cell_type": "markdown",
      "metadata": {
        "id": "hG5ClE_HHQaE"
      },
      "source": [
        "## **Expected Inputs and Outputs**\n",
        "___\n",
        "\n",
        "### **Inputs**\n",
        "\n",
        "This notebook expects the following folders as input:\n",
        "\n",
        "1. **Training Raw Images**: Contains the raw 3D images used for training the model.\n",
        "2. **Test Raw Images**: Houses the raw 3D images for testing the model.\n",
        "3. **Output Folder**: A designated path where the classification results will be saved.\n",
        "\n",
        "### **Outputs**\n",
        "\n",
        "Upon successful execution, a new folder will be generated, housing the classification results. The results will be saved in a CSV file, which can be easily downloaded at the end of this notebook.\n",
        "\n",
        "<font color='red'><b>Note:</b></font> For testing purposes, you can utilize the **example datasets provided under 'Manage File(s) Source > Option 3'**.\n",
        "\n",
        "**Data structure**\n",
        "\n",
        "Input images are expected to be separated into different folders, which correspond to their classification label. Each image label is obtained from the directory name in which that image resides. That is why is so important to follow the directory tree as described below. If you have a .csv file with each image label, as is provided by <a class=\"reference external\" href=\"https://medmnist.com/\">MedMNIST v2</a>, you can use our script <a class=\"reference external\" href=\"https://github.com/BiaPyX/BiaPy/blob/master/biapy/utils/scripts/from_class_csv_to_folders.py\">from_class_csv_to_folders.py</a> to create the directory tree as below:\n",
        "```\n",
        "dataset/\n",
        "├── train\n",
        "│   ├── 0\n",
        "│   │   ├── train0_0.tif\n",
        "│   │   ├── train1013_0.tif\n",
        "│   │   ├── . . .\n",
        "│   │   └── train932_0.tif\n",
        "│   ├── 1\n",
        "│   │   ├── train104_1.tif\n",
        "│   │   ├── train1049_1.tif\n",
        "│   │   ├── . . .\n",
        "│   │   └── train964_1.tif\n",
        "| . . .\n",
        "│   └── 6\n",
        "│       ├── train1105_6.tif\n",
        "│       ├── train1148_6.tif\n",
        "│       ├── . . .\n",
        "│       └── train98_6.tif\n",
        "└── test\n",
        "    ├── 0\n",
        "    │   ├── test1008_0.tif\n",
        "    │   ├── test1084_0.tif\n",
        "    │   ├── . . .\n",
        "    │   └── test914_0.tif\n",
        "    ├── 1\n",
        "    │   ├── test10_1.tif\n",
        "    │   ├── test1034_1.tif\n",
        "    │   ├── . . .\n",
        "    │   └── test984_1.tif\n",
        "  . . .\n",
        "    └── 6\n",
        "        ├── test1021_6.tif\n",
        "        ├── test1069_6.tif\n",
        "        ├── . . .\n",
        "        └── test806_6.tif\n",
        "```\n",
        "\n",
        "Here each directory is a number but it can be any string. Notice that they will be considered the class names. Regarding the test, if you have no classes it doesn’t matter if the images are separated in several folders or are all in one folder. But, if `DATA.TEST.LOAD_GT` is enabled, each folder in test path (i.e. ```DATA.TEST.PATH```) will be considered as a class (as done for training and validation).\n",
        "\n",
        "**Input Format Support**\n",
        "\n",
        "This notebook is compatible with a range of input formats. You can use the following file extensions: `.tif`, `.npy` (every extension for 3D images supported by [scikit-image](https://scikit-image.org/docs/stable/api/skimage.io.html#skimage.io.imread)).\n",
        "\n"
      ]
    },
    {
      "cell_type": "markdown",
      "metadata": {
        "id": "xGSj0DrpUJoY"
      },
      "source": [
        "## **Prepare the environment**\n",
        "___\n",
        "\n",
        "Establish connection with Google services. You **must be logged in to Google** to continue.\n",
        "Since this is not Google's own code, you will probably see a message warning you of the dangers of running unfamiliar code. This is completely normal.\n"
      ]
    },
    {
      "cell_type": "markdown",
      "metadata": {
        "id": "4bj_sbDFTiZ7"
      },
      "source": [
        "## **Check for GPU Access**\n",
        "---\n",
        "\n",
        "By default, the session is configured to use Python 3 with GPU acceleration. However, it's a good practice to double-check these settings:\n",
        "\n",
        "1. Navigate to **Runtime** in the top menu and select **Change the Runtime type**.\n",
        "2. Ensure the following settings:\n",
        "   - **Runtime type:** Python 3 (This program is written in the Python 3 programming language.)\n",
        "   - **Accelerator:** GPU (Graphics Processing Unit)\n",
        "\n",
        "This will ensure that you're using Python 3 and taking advantage of GPU acceleration."
      ]
    },
    {
      "cell_type": "markdown",
      "metadata": {
        "id": "XZmI9c09OhSo"
      },
      "source": [
        "## **Manage File(s) Source**\n",
        "---\n",
        "\n",
        "The input folder can be provided using three different options:\n",
        "1. **Direct Upload**: Directly upload the desired folder.\n",
        "2. **Google Drive**: Use a folder stored in your Google Drive.\n",
        "3. **Sample Data**: Use a sample dataset provided by us.\n",
        "\n",
        "The steps you'll need to follow vary depending on your chosen option. These steps are detailed in the subsequent sections.\n"
      ]
    },
    {
      "cell_type": "markdown",
      "metadata": {
        "id": "GPksHcHLO0SU"
      },
      "source": [
        "### **Option 1: Upload Local Files to the Notebook**\n",
        "---\n",
        "\n",
        "You will be prompted to upload your files to Colab and they will be stored under `/content/input/`."
      ]
    },
    {
      "cell_type": "code",
      "execution_count": null,
      "metadata": {
        "cellView": "form",
        "id": "xGS5LCaHPWR8"
      },
      "outputs": [],
      "source": [
        "#@markdown ##Play the cell to upload local files (train raw images)\n",
        "from google.colab import files\n",
        "!mkdir -p /content/input/train\n",
        "%cd /content/input/train\n",
        "uploaded = files.upload()\n",
        "%cd /content"
      ]
    },
    {
      "cell_type": "code",
      "execution_count": null,
      "metadata": {
        "id": "UV7scwnqzvMn"
      },
      "outputs": [],
      "source": [
        "# @title  { display-mode: \"form\" }\n",
        "#@markdown ##Play the cell to upload local files (test raw images)\n",
        "\n",
        "from google.colab import files\n",
        "!mkdir -p /content/input/test\n",
        "%cd /content/input/test\n",
        "uploaded = files.upload()\n",
        "%cd /content"
      ]
    },
    {
      "cell_type": "markdown",
      "metadata": {
        "id": "nLXGd55gUYjK"
      },
      "source": [
        "### **Option 2: Mount Your Google Drive**\n",
        "---\n",
        "\n",
        "If you wish to use this notebook with data from your Google Drive, you'll first need to mount the drive to this notebook.\n",
        "\n",
        "Execute the cell below to initiate the Google Drive mounting process. A link will be displayed click on it. In the new browser window that opens, choose your drive and click 'Allow'. Copy the code that appears, return to this notebook, paste the code into the cell, and press 'Enter'. This action grants Colab access to your Google Drive data.\n",
        "\n",
        "After this process, you can access your data via the **Files** tab, located on the top left of this notebook."
      ]
    },
    {
      "cell_type": "code",
      "execution_count": null,
      "metadata": {
        "cellView": "form",
        "id": "h-yXrZLdUk3Z"
      },
      "outputs": [],
      "source": [
        "#@markdown ##Play the cell to connect your Google Drive to Colab\n",
        "\n",
        "#@markdown * Click on the URL.\n",
        "\n",
        "#@markdown * Sign in your Google Account.\n",
        "\n",
        "#@markdown * Copy the authorization code.\n",
        "\n",
        "#@markdown * Enter the authorization code.\n",
        "\n",
        "#@markdown * Click on \"Files\" site on the right. Refresh the site. Your Google Drive folder should now be available here as \"drive\".\n",
        "\n",
        "# mount user's Google Drive to Google Colab.\n",
        "from google.colab import drive\n",
        "drive.mount('/content/gdrive')"
      ]
    },
    {
      "cell_type": "markdown",
      "metadata": {
        "id": "u9FcxFB3H7az"
      },
      "source": [
        "### **Option 3: Download an Example Dataset**\n",
        "---\n",
        "Don't have data readily available but still want to test the notebook? No problem! Simply execute the following cell to download a sample dataset.\n",
        "\n",
        "Specifically, we'll use the [MedMNIST v2](https://medmnist.com/\") dataset, concretely OrganMNIST3D dataset which is publicly available online."
      ]
    },
    {
      "cell_type": "code",
      "execution_count": 1,
      "metadata": {
        "cellView": "form",
        "colab": {
          "base_uri": "https://localhost:8080/"
        },
        "id": "pD3aoo-ZUtW4",
        "outputId": "04d3f201-502c-49e2-8d56-08a50064df70"
      },
      "outputs": [
        {
          "output_type": "stream",
          "name": "stdout",
          "text": [
            "Dataset downloaded and unzipped under /content/data\n"
          ]
        }
      ],
      "source": [
        "#@markdown ##Play to download an example dataset\n",
        "!pip install gdown==5.1.0 --quiet\n",
        "import gdown\n",
        "import os\n",
        "\n",
        "os.chdir('/content/')\n",
        "gdown.download(\"https://drive.google.com/uc?id=1pypWJ4Z9sRLPlVHbG6zpwmS6COkm3wUg\", \"DermaMNIST.zip\", quiet=True)\n",
        "\n",
        "!unzip -q DermaMNIST.zip\n",
        "!rm DermaMNIST.zip\n",
        "\n",
        "print('Dataset downloaded and unzipped under /content/data')\n"
      ]
    },
    {
      "cell_type": "markdown",
      "metadata": {
        "id": "FEv7FBXFQvjv"
      },
      "source": [
        "## **Paths for Input Images and Output Files**\n",
        "___\n",
        "\n",
        "Depending on the option you chose for managing file sources, you'll set your paths differently:\n",
        "\n",
        "- **Option 1 (Upload from Local Machine)**:\n",
        "  - Set `train_data_path` to `/content/input/train`\n",
        "  - Set `test_data_path` to `/content/input/test`\n",
        "  - Set `output_path` to `/content/out`\n",
        "  \n",
        "  \n",
        "- **Option 2 (Use Google Drive Data)**:\n",
        "  - Insert the paths to your input files and your desired output directory here, i.e., `/content/gdrive/MyDrive/...`.\n",
        "  \n",
        "- **Option 3 (Use Our Sample Data)**:\n",
        "  - Set `train_data_path` to `/content/data/train`\n",
        "  - Set `test_data_path` to `/content/data/test`\n",
        "  - Set `output_path` to `/content/out`\n",
        "  \n",
        "\n",
        "  **Note**: Ensure you download your results from the `/content/out` directory after the process!\n",
        "\n",
        "**Helpful Tip**: If you're unsure about the paths to your folders, look at the top left of this notebook for a small folder icon. Navigate through the directories until you locate your desired folder. Right-click on it and select \"Copy Path\" to copy the folder's path."
      ]
    },
    {
      "cell_type": "code",
      "execution_count": 2,
      "metadata": {
        "cellView": "form",
        "id": "vl4e0UIGYZcx"
      },
      "outputs": [],
      "source": [
        "#@markdown #####Path to train images\n",
        "train_data_path = '/content/data/train' #@param {type:\"string\"}\n",
        "#@markdown #####Path to validation images (necessary only if you do not want to extract validation from train, i.e. when **validation_from_train** variable below is **False**)\n",
        "val_data_path = '/content/data/validation' #@param {type:\"string\"}\n",
        "#@markdown #####Path to test images\n",
        "test_data_path = '/content/data/test' #@param {type:\"string\"}\n",
        "#@markdown #####Path to store the resulting images (it'll be created if not existing):\n",
        "output_path = '/content/output' #@param {type:\"string\"}"
      ]
    },
    {
      "cell_type": "markdown",
      "source": [
        "## **Dataset Visualization**\n",
        "---"
      ],
      "metadata": {
        "id": "Btutz_-kkL_q"
      }
    },
    {
      "cell_type": "code",
      "source": [
        "# @markdown ## Play to visualize some data samples\n",
        "# @markdown Select the set and the class to visualize samples from, and the index of the image and the z value (slice numer) to be displayed.\n",
        "%matplotlib inline\n",
        "import matplotlib\n",
        "import numpy as np\n",
        "from matplotlib import pyplot as plt\n",
        "from skimage.io import imread\n",
        "import os\n",
        "from ipywidgets import interact, IntSlider, Layout, Dropdown, HBox, Output\n",
        "\n",
        "# Initialize id directories\n",
        "classes = sorted(next(os.walk(train_data_path))[1])\n",
        "ids_train = {}\n",
        "ids_test = {}\n",
        "for c in classes:\n",
        "    train_class_path = os.path.join(train_data_path, c)\n",
        "    test_class_path = os.path.join(test_data_path, c)\n",
        "\n",
        "    ids_train[c] = [os.path.join(c, f) for f in sorted(next(os.walk(train_class_path))[2])]\n",
        "    ids_test[c] = [os.path.join(c, f) for f in sorted(next(os.walk(test_class_path))[2])]\n",
        "\n",
        "# Initialize global attributes\n",
        "instance_id = 0\n",
        "class_value = classes[0]\n",
        "input_path = train_data_path\n",
        "ids_input = ids_train\n",
        "input_img = imread(os.path.join(input_path, ids_input[class_value][0]))\n",
        "\n",
        "# Initialize widgets\n",
        "\n",
        "# Dropdown widget to choose training or test set\n",
        "train_test_dropdown = Dropdown(\n",
        "    options=['training-set', 'test-set'],\n",
        "    value='training-set',\n",
        "    description='Set:',\n",
        "    disabled=False,\n",
        ")\n",
        "\n",
        "# Dropdown widget to choose class\n",
        "class_dropdown = Dropdown(\n",
        "    options=classes,\n",
        "    value=classes[0],\n",
        "    description='Set:',\n",
        "    disabled=False,\n",
        ")\n",
        "\n",
        "# Slider widget to choose instance\n",
        "slider= IntSlider(\n",
        "    value=0,\n",
        "    min=1,\n",
        "    max=len(ids_input),\n",
        "    step=1,\n",
        "    description='Image index:',\n",
        "    disabled=False,\n",
        "    continuous_update=False,\n",
        "    orientation='horizontal',\n",
        "    readout=True,\n",
        "    layout=Layout(width='400px', margin = '0 0 0 10px')\n",
        ")\n",
        "\n",
        "slider.style.description_width = 'initial'\n",
        "slider.style.handle_color='blue'\n",
        "\n",
        "# Slider widget to choose Z value\n",
        "sliderZ= IntSlider(\n",
        "    value=0,\n",
        "    min=1,\n",
        "    max=len(input_img),\n",
        "    step=1,\n",
        "    description='Z value:',\n",
        "    disabled=False,\n",
        "    continuous_update=False,\n",
        "    orientation='horizontal',\n",
        "    readout=True,\n",
        "    layout=Layout(width='400px', margin = '0 0 0 10px')\n",
        ")\n",
        "\n",
        "sliderZ.style.description_width = 'initial'\n",
        "sliderZ.style.handle_color='blue'\n",
        "\n",
        "# Initialize Output instance to handle code output cell\n",
        "output = Output()\n",
        "\n",
        "# Function to update path (input_path) and image IDs (ids_input) depending on dropdown\n",
        "def update_paths(change):\n",
        "    global input_path, ids_input, classes\n",
        "    if change.new == 'test-set':\n",
        "        input_path = test_data_path\n",
        "        ids_input = ids_test\n",
        "    else:\n",
        "        input_path = train_data_path\n",
        "        ids_input = ids_train\n",
        "\n",
        "    # Reset class slider value when dropdown changes\n",
        "    class_dropdown.value = classes[0]\n",
        "    update_class({'new': classes[0]})\n",
        "\n",
        "# Function to update class value (class_value) depending on class slider value\n",
        "def update_class(change):\n",
        "    global class_value, ids_input\n",
        "    class_value = change['new']\n",
        "\n",
        "    slider.value = 1\n",
        "    slider.max = len(ids_input[class_value])\n",
        "    update_id({'new': 1})\n",
        "\n",
        "\n",
        "# Function to update image set (input_img) depending on slider value\n",
        "def update_id(change):\n",
        "    index = change['new']\n",
        "\n",
        "    global instance_id\n",
        "    instance_id = index - 1\n",
        "\n",
        "    global input_img, input_path, ids_input, class_value\n",
        "    input_img = imread(os.path.join(input_path, ids_input[class_value][instance_id]))\n",
        "\n",
        "    sliderZ.value = 1\n",
        "    sliderZ.max = len(input_img)\n",
        "    display_images({'new': 1})\n",
        "\n",
        "# Function to display images depending on sliderZ value\n",
        "def display_images(change):\n",
        "    with output:\n",
        "        output.clear_output(wait=True)\n",
        "        index = change['new']\n",
        "\n",
        "        global input_img, gt_img, instance_id\n",
        "\n",
        "        # # Print image path to ensure the image displayed is correct\n",
        "        # global ids_input, class_value\n",
        "        # print(\"Image path:\")\n",
        "        # print(os.path.join(input_path, ids_input[class_value][instance_id]))\n",
        "\n",
        "        # Display images\n",
        "        plt.figure(figsize=(12, 6))\n",
        "\n",
        "        plt.subplot(1, 2, 1)\n",
        "        plt.title(f\"Input image: {instance_id+1}, Z: {index}\")\n",
        "        plt.imshow(input_img[index-1], cmap='gray')\n",
        "        # plt.axis('off')\n",
        "\n",
        "        plt.show()\n",
        "\n",
        "\n",
        "# Create an HBox to hold the dropdown and slider\n",
        "controls = HBox([train_test_dropdown, class_dropdown, slider, sliderZ])\n",
        "display(controls, output)\n",
        "\n",
        "# Link widgets to functions\n",
        "train_test_dropdown.observe(update_paths, names='value')\n",
        "class_dropdown.observe(update_class, names='value')\n",
        "slider.observe(update_id, names='value')\n",
        "sliderZ.observe(display_images, names='value')\n",
        "\n",
        "# Initial display\n",
        "display_images({'new': slider.value})"
      ],
      "metadata": {
        "colab": {
          "base_uri": "https://localhost:8080/",
          "height": 537,
          "referenced_widgets": [
            "455c44ded1c843e9a060ba5a1aca6c9d",
            "4aaa4933c4d64ae2bc8014d3214bf2f0",
            "c3a5dd6aa65c4d888b92cd9d3833f179",
            "c3beb24e33fb41bbb663fb632f252451",
            "5b2d77e04e1e4d8e8fab6aae542a282b",
            "47827e563f0e4d68958c90aae1dadaa4",
            "80195fe7ff8e408cbadcadab061ee2db",
            "4ff643d6612c4c33877dfcb52fec74ad",
            "447e4f482d274cbf910873a34525d2e4",
            "4f0c304bbeba4c268b0deb6c9709e442",
            "aebdde5cb8184e09861f58c0b4640c79",
            "ccd0a082886e474ca35840dab3e1decb",
            "6d3a6bf9df5144ed8ba0eb6c3a5270cd",
            "d6b67f12926440f5afe33bfcf504f85a",
            "c4e443c7bde3406d9d7158cae1deee1c",
            "7cd98872c36443edb4dc0f80e59c0b4e"
          ]
        },
        "id": "KdlvA9M-VCH6",
        "outputId": "3a2658dc-3160-4822-9580-473da9a50a3b",
        "cellView": "form"
      },
      "execution_count": 3,
      "outputs": [
        {
          "output_type": "display_data",
          "data": {
            "text/plain": [
              "HBox(children=(Dropdown(description='Set:', options=('training-set', 'test-set'), value='training-set'), Dropd…"
            ],
            "application/vnd.jupyter.widget-view+json": {
              "version_major": 2,
              "version_minor": 0,
              "model_id": "455c44ded1c843e9a060ba5a1aca6c9d"
            }
          },
          "metadata": {}
        },
        {
          "output_type": "display_data",
          "data": {
            "text/plain": [
              "Output()"
            ],
            "application/vnd.jupyter.widget-view+json": {
              "version_major": 2,
              "version_minor": 0,
              "model_id": "c4e443c7bde3406d9d7158cae1deee1c"
            }
          },
          "metadata": {}
        }
      ]
    },
    {
      "cell_type": "markdown",
      "metadata": {
        "id": "UKLFbSmB9X8R"
      },
      "source": [
        "## **Install BiaPy**\n",
        "---\n",
        "This might take some minutes depending on the current installed libraries in Colab.\n"
      ]
    },
    {
      "cell_type": "code",
      "execution_count": 4,
      "metadata": {
        "colab": {
          "base_uri": "https://localhost:8080/"
        },
        "id": "p33UIUUWLm3V",
        "outputId": "7d1f08dc-e3e9-4104-f1fd-17b0e5740bee"
      },
      "outputs": [
        {
          "output_type": "stream",
          "name": "stdout",
          "text": [
            "Found existing installation: torchtext 0.18.0\n",
            "Uninstalling torchtext-0.18.0:\n",
            "  Successfully uninstalled torchtext-0.18.0\n",
            "Collecting biapy==3.4.6\n",
            "  Downloading biapy-3.4.6-py3-none-any.whl (327 kB)\n",
            "\u001b[2K     \u001b[90m━━━━━━━━━━━━━━━━━━━━━━━━━━━━━━━━━━━━━━━━\u001b[0m \u001b[32m327.0/327.0 kB\u001b[0m \u001b[31m6.6 MB/s\u001b[0m eta \u001b[36m0:00:00\u001b[0m\n",
            "\u001b[?25hRequirement already satisfied: matplotlib>=3.7.1 in /usr/local/lib/python3.10/dist-packages (from biapy==3.4.6) (3.7.1)\n",
            "Collecting scikit-learn>=1.4.0 (from biapy==3.4.6)\n",
            "  Downloading scikit_learn-1.5.1-cp310-cp310-manylinux_2_17_x86_64.manylinux2014_x86_64.whl (13.4 MB)\n",
            "\u001b[2K     \u001b[90m━━━━━━━━━━━━━━━━━━━━━━━━━━━━━━━━━━━━━━━━\u001b[0m \u001b[32m13.4/13.4 MB\u001b[0m \u001b[31m64.2 MB/s\u001b[0m eta \u001b[36m0:00:00\u001b[0m\n",
            "\u001b[?25hRequirement already satisfied: pydot>=1.4.2 in /usr/local/lib/python3.10/dist-packages (from biapy==3.4.6) (1.4.2)\n",
            "Collecting yacs>=0.1.8 (from biapy==3.4.6)\n",
            "  Downloading yacs-0.1.8-py3-none-any.whl (14 kB)\n",
            "Requirement already satisfied: tqdm>=4.66.1 in /usr/local/lib/python3.10/dist-packages (from biapy==3.4.6) (4.66.4)\n",
            "Requirement already satisfied: scikit-image<=0.21.0,>=0.19.3 in /usr/local/lib/python3.10/dist-packages (from biapy==3.4.6) (0.19.3)\n",
            "Collecting edt>=2.3.2 (from biapy==3.4.6)\n",
            "  Downloading edt-2.4.1-cp310-cp310-manylinux_2_17_x86_64.manylinux2014_x86_64.whl (3.0 MB)\n",
            "\u001b[2K     \u001b[90m━━━━━━━━━━━━━━━━━━━━━━━━━━━━━━━━━━━━━━━━\u001b[0m \u001b[32m3.0/3.0 MB\u001b[0m \u001b[31m96.2 MB/s\u001b[0m eta \u001b[36m0:00:00\u001b[0m\n",
            "\u001b[?25hCollecting fill-voids>=2.0.6 (from biapy==3.4.6)\n",
            "  Downloading fill_voids-2.0.7-cp310-cp310-manylinux_2_17_x86_64.manylinux2014_x86_64.whl (1.4 MB)\n",
            "\u001b[2K     \u001b[90m━━━━━━━━━━━━━━━━━━━━━━━━━━━━━━━━━━━━━━━━\u001b[0m \u001b[32m1.4/1.4 MB\u001b[0m \u001b[31m13.7 MB/s\u001b[0m eta \u001b[36m0:00:00\u001b[0m\n",
            "\u001b[?25hRequirement already satisfied: opencv-python>=4.8.0.76 in /usr/local/lib/python3.10/dist-packages (from biapy==3.4.6) (4.8.0.76)\n",
            "Requirement already satisfied: pandas>=1.5.3 in /usr/local/lib/python3.10/dist-packages (from biapy==3.4.6) (2.0.3)\n",
            "Collecting torchinfo>=1.8.0 (from biapy==3.4.6)\n",
            "  Downloading torchinfo-1.8.0-py3-none-any.whl (23 kB)\n",
            "Collecting tensorboardX>=2.6.2.2 (from biapy==3.4.6)\n",
            "  Downloading tensorboardX-2.6.2.2-py2.py3-none-any.whl (101 kB)\n",
            "\u001b[2K     \u001b[90m━━━━━━━━━━━━━━━━━━━━━━━━━━━━━━━━━━━━━━━━\u001b[0m \u001b[32m101.7/101.7 kB\u001b[0m \u001b[31m16.4 MB/s\u001b[0m eta \u001b[36m0:00:00\u001b[0m\n",
            "\u001b[?25hRequirement already satisfied: h5py>=3.9.0 in /usr/local/lib/python3.10/dist-packages (from biapy==3.4.6) (3.9.0)\n",
            "Collecting zarr>=2.16.1 (from biapy==3.4.6)\n",
            "  Downloading zarr-2.18.2-py3-none-any.whl (210 kB)\n",
            "\u001b[2K     \u001b[90m━━━━━━━━━━━━━━━━━━━━━━━━━━━━━━━━━━━━━━━━\u001b[0m \u001b[32m210.2/210.2 kB\u001b[0m \u001b[31m31.4 MB/s\u001b[0m eta \u001b[36m0:00:00\u001b[0m\n",
            "\u001b[?25hCollecting bioimageio.core==0.5.9 (from biapy==3.4.6)\n",
            "  Downloading bioimageio.core-0.5.9-py3-none-any.whl (77 kB)\n",
            "\u001b[2K     \u001b[90m━━━━━━━━━━━━━━━━━━━━━━━━━━━━━━━━━━━━━━━━\u001b[0m \u001b[32m77.3/77.3 kB\u001b[0m \u001b[31m12.7 MB/s\u001b[0m eta \u001b[36m0:00:00\u001b[0m\n",
            "\u001b[?25hCollecting imagecodecs>=2024.1.1 (from biapy==3.4.6)\n",
            "  Downloading imagecodecs-2024.6.1-cp310-cp310-manylinux_2_17_x86_64.manylinux2014_x86_64.whl (39.5 MB)\n",
            "\u001b[2K     \u001b[90m━━━━━━━━━━━━━━━━━━━━━━━━━━━━━━━━━━━━━━━━\u001b[0m \u001b[32m39.5/39.5 MB\u001b[0m \u001b[31m15.3 MB/s\u001b[0m eta \u001b[36m0:00:00\u001b[0m\n",
            "\u001b[?25hCollecting pytorch-msssim>=1.0.0 (from biapy==3.4.6)\n",
            "  Downloading pytorch_msssim-1.0.0-py3-none-any.whl (7.7 kB)\n",
            "Requirement already satisfied: numpy>=1.25.2 in /usr/local/lib/python3.10/dist-packages (from biapy==3.4.6) (1.25.2)\n",
            "Requirement already satisfied: imageio>=2.31.6 in /usr/local/lib/python3.10/dist-packages (from biapy==3.4.6) (2.31.6)\n",
            "Requirement already satisfied: imgaug>=0.4.0 in /usr/local/lib/python3.10/dist-packages (from biapy==3.4.6) (0.4.0)\n",
            "Requirement already satisfied: pooch>=1.8.1 in /usr/local/lib/python3.10/dist-packages (from biapy==3.4.6) (1.8.2)\n",
            "Collecting bioimageio.spec==0.4.9.* (from bioimageio.core==0.5.9->biapy==3.4.6)\n",
            "  Downloading bioimageio.spec-0.4.9.post5-py3-none-any.whl (143 kB)\n",
            "\u001b[2K     \u001b[90m━━━━━━━━━━━━━━━━━━━━━━━━━━━━━━━━━━━━━━━━\u001b[0m \u001b[32m143.6/143.6 kB\u001b[0m \u001b[31m21.6 MB/s\u001b[0m eta \u001b[36m0:00:00\u001b[0m\n",
            "\u001b[?25hCollecting ruamel.yaml (from bioimageio.core==0.5.9->biapy==3.4.6)\n",
            "  Downloading ruamel.yaml-0.18.6-py3-none-any.whl (117 kB)\n",
            "\u001b[2K     \u001b[90m━━━━━━━━━━━━━━━━━━━━━━━━━━━━━━━━━━━━━━━━\u001b[0m \u001b[32m117.8/117.8 kB\u001b[0m \u001b[31m15.9 MB/s\u001b[0m eta \u001b[36m0:00:00\u001b[0m\n",
            "\u001b[?25hRequirement already satisfied: xarray in /usr/local/lib/python3.10/dist-packages (from bioimageio.core==0.5.9->biapy==3.4.6) (2023.7.0)\n",
            "Requirement already satisfied: tifffile in /usr/local/lib/python3.10/dist-packages (from bioimageio.core==0.5.9->biapy==3.4.6) (2024.6.18)\n",
            "Collecting marshmallow-jsonschema (from bioimageio.spec==0.4.9.*->bioimageio.core==0.5.9->biapy==3.4.6)\n",
            "  Downloading marshmallow_jsonschema-0.13.0-py3-none-any.whl (11 kB)\n",
            "Collecting marshmallow-union (from bioimageio.spec==0.4.9.*->bioimageio.core==0.5.9->biapy==3.4.6)\n",
            "  Downloading marshmallow_union-0.1.15.post1-py2.py3-none-any.whl (4.6 kB)\n",
            "Collecting marshmallow<4.0,>=3.6.0 (from bioimageio.spec==0.4.9.*->bioimageio.core==0.5.9->biapy==3.4.6)\n",
            "  Downloading marshmallow-3.21.3-py3-none-any.whl (49 kB)\n",
            "\u001b[2K     \u001b[90m━━━━━━━━━━━━━━━━━━━━━━━━━━━━━━━━━━━━━━━━\u001b[0m \u001b[32m49.2/49.2 kB\u001b[0m \u001b[31m7.7 MB/s\u001b[0m eta \u001b[36m0:00:00\u001b[0m\n",
            "\u001b[?25hRequirement already satisfied: packaging>=17.0 in /usr/local/lib/python3.10/dist-packages (from bioimageio.spec==0.4.9.*->bioimageio.core==0.5.9->biapy==3.4.6) (24.1)\n",
            "Requirement already satisfied: typer in /usr/local/lib/python3.10/dist-packages (from bioimageio.spec==0.4.9.*->bioimageio.core==0.5.9->biapy==3.4.6) (0.12.3)\n",
            "Requirement already satisfied: typing-extensions in /usr/local/lib/python3.10/dist-packages (from bioimageio.spec==0.4.9.*->bioimageio.core==0.5.9->biapy==3.4.6) (4.12.2)\n",
            "Requirement already satisfied: requests in /usr/local/lib/python3.10/dist-packages (from bioimageio.spec==0.4.9.*->bioimageio.core==0.5.9->biapy==3.4.6) (2.31.0)\n",
            "Collecting fastremap (from fill-voids>=2.0.6->biapy==3.4.6)\n",
            "  Downloading fastremap-1.14.2-cp310-cp310-manylinux_2_17_x86_64.manylinux2014_x86_64.whl (6.0 MB)\n",
            "\u001b[2K     \u001b[90m━━━━━━━━━━━━━━━━━━━━━━━━━━━━━━━━━━━━━━━━\u001b[0m \u001b[32m6.0/6.0 MB\u001b[0m \u001b[31m26.2 MB/s\u001b[0m eta \u001b[36m0:00:00\u001b[0m\n",
            "\u001b[?25hRequirement already satisfied: pillow<10.1.0,>=8.3.2 in /usr/local/lib/python3.10/dist-packages (from imageio>=2.31.6->biapy==3.4.6) (9.4.0)\n",
            "Requirement already satisfied: six in /usr/local/lib/python3.10/dist-packages (from imgaug>=0.4.0->biapy==3.4.6) (1.16.0)\n",
            "Requirement already satisfied: scipy in /usr/local/lib/python3.10/dist-packages (from imgaug>=0.4.0->biapy==3.4.6) (1.11.4)\n",
            "Requirement already satisfied: Shapely in /usr/local/lib/python3.10/dist-packages (from imgaug>=0.4.0->biapy==3.4.6) (2.0.4)\n",
            "Requirement already satisfied: contourpy>=1.0.1 in /usr/local/lib/python3.10/dist-packages (from matplotlib>=3.7.1->biapy==3.4.6) (1.2.1)\n",
            "Requirement already satisfied: cycler>=0.10 in /usr/local/lib/python3.10/dist-packages (from matplotlib>=3.7.1->biapy==3.4.6) (0.12.1)\n",
            "Requirement already satisfied: fonttools>=4.22.0 in /usr/local/lib/python3.10/dist-packages (from matplotlib>=3.7.1->biapy==3.4.6) (4.53.0)\n",
            "Requirement already satisfied: kiwisolver>=1.0.1 in /usr/local/lib/python3.10/dist-packages (from matplotlib>=3.7.1->biapy==3.4.6) (1.4.5)\n",
            "Requirement already satisfied: pyparsing>=2.3.1 in /usr/local/lib/python3.10/dist-packages (from matplotlib>=3.7.1->biapy==3.4.6) (3.1.2)\n",
            "Requirement already satisfied: python-dateutil>=2.7 in /usr/local/lib/python3.10/dist-packages (from matplotlib>=3.7.1->biapy==3.4.6) (2.8.2)\n",
            "Requirement already satisfied: pytz>=2020.1 in /usr/local/lib/python3.10/dist-packages (from pandas>=1.5.3->biapy==3.4.6) (2023.4)\n",
            "Requirement already satisfied: tzdata>=2022.1 in /usr/local/lib/python3.10/dist-packages (from pandas>=1.5.3->biapy==3.4.6) (2024.1)\n",
            "Requirement already satisfied: platformdirs>=2.5.0 in /usr/local/lib/python3.10/dist-packages (from pooch>=1.8.1->biapy==3.4.6) (4.2.2)\n",
            "Requirement already satisfied: torch in /usr/local/lib/python3.10/dist-packages (from pytorch-msssim>=1.0.0->biapy==3.4.6) (2.3.0+cu121)\n",
            "Requirement already satisfied: networkx>=2.2 in /usr/local/lib/python3.10/dist-packages (from scikit-image<=0.21.0,>=0.19.3->biapy==3.4.6) (3.3)\n",
            "Requirement already satisfied: PyWavelets>=1.1.1 in /usr/local/lib/python3.10/dist-packages (from scikit-image<=0.21.0,>=0.19.3->biapy==3.4.6) (1.6.0)\n",
            "Requirement already satisfied: joblib>=1.2.0 in /usr/local/lib/python3.10/dist-packages (from scikit-learn>=1.4.0->biapy==3.4.6) (1.4.2)\n",
            "Requirement already satisfied: threadpoolctl>=3.1.0 in /usr/local/lib/python3.10/dist-packages (from scikit-learn>=1.4.0->biapy==3.4.6) (3.5.0)\n",
            "Requirement already satisfied: protobuf>=3.20 in /usr/local/lib/python3.10/dist-packages (from tensorboardX>=2.6.2.2->biapy==3.4.6) (3.20.3)\n",
            "Requirement already satisfied: PyYAML in /usr/local/lib/python3.10/dist-packages (from yacs>=0.1.8->biapy==3.4.6) (6.0.1)\n",
            "Collecting asciitree (from zarr>=2.16.1->biapy==3.4.6)\n",
            "  Downloading asciitree-0.3.3.tar.gz (4.0 kB)\n",
            "  Preparing metadata (setup.py) ... \u001b[?25l\u001b[?25hdone\n",
            "Collecting numcodecs>=0.10.0 (from zarr>=2.16.1->biapy==3.4.6)\n",
            "  Downloading numcodecs-0.12.1-cp310-cp310-manylinux_2_17_x86_64.manylinux2014_x86_64.whl (7.7 MB)\n",
            "\u001b[2K     \u001b[90m━━━━━━━━━━━━━━━━━━━━━━━━━━━━━━━━━━━━━━━━\u001b[0m \u001b[32m7.7/7.7 MB\u001b[0m \u001b[31m100.7 MB/s\u001b[0m eta \u001b[36m0:00:00\u001b[0m\n",
            "\u001b[?25hCollecting fasteners (from zarr>=2.16.1->biapy==3.4.6)\n",
            "  Downloading fasteners-0.19-py3-none-any.whl (18 kB)\n",
            "Requirement already satisfied: charset-normalizer<4,>=2 in /usr/local/lib/python3.10/dist-packages (from requests->bioimageio.spec==0.4.9.*->bioimageio.core==0.5.9->biapy==3.4.6) (3.3.2)\n",
            "Requirement already satisfied: idna<4,>=2.5 in /usr/local/lib/python3.10/dist-packages (from requests->bioimageio.spec==0.4.9.*->bioimageio.core==0.5.9->biapy==3.4.6) (3.7)\n",
            "Requirement already satisfied: urllib3<3,>=1.21.1 in /usr/local/lib/python3.10/dist-packages (from requests->bioimageio.spec==0.4.9.*->bioimageio.core==0.5.9->biapy==3.4.6) (2.0.7)\n",
            "Requirement already satisfied: certifi>=2017.4.17 in /usr/local/lib/python3.10/dist-packages (from requests->bioimageio.spec==0.4.9.*->bioimageio.core==0.5.9->biapy==3.4.6) (2024.6.2)\n",
            "Collecting ruamel.yaml.clib>=0.2.7 (from ruamel.yaml->bioimageio.core==0.5.9->biapy==3.4.6)\n",
            "  Downloading ruamel.yaml.clib-0.2.8-cp310-cp310-manylinux_2_17_x86_64.manylinux2014_x86_64.manylinux_2_24_x86_64.whl (526 kB)\n",
            "\u001b[2K     \u001b[90m━━━━━━━━━━━━━━━━━━━━━━━━━━━━━━━━━━━━━━━━\u001b[0m \u001b[32m526.7/526.7 kB\u001b[0m \u001b[31m56.5 MB/s\u001b[0m eta \u001b[36m0:00:00\u001b[0m\n",
            "\u001b[?25hRequirement already satisfied: filelock in /usr/local/lib/python3.10/dist-packages (from torch->pytorch-msssim>=1.0.0->biapy==3.4.6) (3.15.4)\n",
            "Requirement already satisfied: sympy in /usr/local/lib/python3.10/dist-packages (from torch->pytorch-msssim>=1.0.0->biapy==3.4.6) (1.12.1)\n",
            "Requirement already satisfied: jinja2 in /usr/local/lib/python3.10/dist-packages (from torch->pytorch-msssim>=1.0.0->biapy==3.4.6) (3.1.4)\n",
            "Requirement already satisfied: fsspec in /usr/local/lib/python3.10/dist-packages (from torch->pytorch-msssim>=1.0.0->biapy==3.4.6) (2023.6.0)\n",
            "Collecting nvidia-cuda-nvrtc-cu12==12.1.105 (from torch->pytorch-msssim>=1.0.0->biapy==3.4.6)\n",
            "  Using cached nvidia_cuda_nvrtc_cu12-12.1.105-py3-none-manylinux1_x86_64.whl (23.7 MB)\n",
            "Collecting nvidia-cuda-runtime-cu12==12.1.105 (from torch->pytorch-msssim>=1.0.0->biapy==3.4.6)\n",
            "  Using cached nvidia_cuda_runtime_cu12-12.1.105-py3-none-manylinux1_x86_64.whl (823 kB)\n",
            "Collecting nvidia-cuda-cupti-cu12==12.1.105 (from torch->pytorch-msssim>=1.0.0->biapy==3.4.6)\n",
            "  Using cached nvidia_cuda_cupti_cu12-12.1.105-py3-none-manylinux1_x86_64.whl (14.1 MB)\n",
            "Collecting nvidia-cudnn-cu12==8.9.2.26 (from torch->pytorch-msssim>=1.0.0->biapy==3.4.6)\n",
            "  Using cached nvidia_cudnn_cu12-8.9.2.26-py3-none-manylinux1_x86_64.whl (731.7 MB)\n",
            "Collecting nvidia-cublas-cu12==12.1.3.1 (from torch->pytorch-msssim>=1.0.0->biapy==3.4.6)\n",
            "  Using cached nvidia_cublas_cu12-12.1.3.1-py3-none-manylinux1_x86_64.whl (410.6 MB)\n",
            "Collecting nvidia-cufft-cu12==11.0.2.54 (from torch->pytorch-msssim>=1.0.0->biapy==3.4.6)\n",
            "  Using cached nvidia_cufft_cu12-11.0.2.54-py3-none-manylinux1_x86_64.whl (121.6 MB)\n",
            "Collecting nvidia-curand-cu12==10.3.2.106 (from torch->pytorch-msssim>=1.0.0->biapy==3.4.6)\n",
            "  Using cached nvidia_curand_cu12-10.3.2.106-py3-none-manylinux1_x86_64.whl (56.5 MB)\n",
            "Collecting nvidia-cusolver-cu12==11.4.5.107 (from torch->pytorch-msssim>=1.0.0->biapy==3.4.6)\n",
            "  Using cached nvidia_cusolver_cu12-11.4.5.107-py3-none-manylinux1_x86_64.whl (124.2 MB)\n",
            "Collecting nvidia-cusparse-cu12==12.1.0.106 (from torch->pytorch-msssim>=1.0.0->biapy==3.4.6)\n",
            "  Using cached nvidia_cusparse_cu12-12.1.0.106-py3-none-manylinux1_x86_64.whl (196.0 MB)\n",
            "Collecting nvidia-nccl-cu12==2.20.5 (from torch->pytorch-msssim>=1.0.0->biapy==3.4.6)\n",
            "  Using cached nvidia_nccl_cu12-2.20.5-py3-none-manylinux2014_x86_64.whl (176.2 MB)\n",
            "Collecting nvidia-nvtx-cu12==12.1.105 (from torch->pytorch-msssim>=1.0.0->biapy==3.4.6)\n",
            "  Using cached nvidia_nvtx_cu12-12.1.105-py3-none-manylinux1_x86_64.whl (99 kB)\n",
            "Requirement already satisfied: triton==2.3.0 in /usr/local/lib/python3.10/dist-packages (from torch->pytorch-msssim>=1.0.0->biapy==3.4.6) (2.3.0)\n",
            "Collecting nvidia-nvjitlink-cu12 (from nvidia-cusolver-cu12==11.4.5.107->torch->pytorch-msssim>=1.0.0->biapy==3.4.6)\n",
            "  Downloading nvidia_nvjitlink_cu12-12.5.82-py3-none-manylinux2014_x86_64.whl (21.3 MB)\n",
            "\u001b[2K     \u001b[90m━━━━━━━━━━━━━━━━━━━━━━━━━━━━━━━━━━━━━━━━\u001b[0m \u001b[32m21.3/21.3 MB\u001b[0m \u001b[31m65.4 MB/s\u001b[0m eta \u001b[36m0:00:00\u001b[0m\n",
            "\u001b[?25hRequirement already satisfied: MarkupSafe>=2.0 in /usr/local/lib/python3.10/dist-packages (from jinja2->torch->pytorch-msssim>=1.0.0->biapy==3.4.6) (2.1.5)\n",
            "Requirement already satisfied: mpmath<1.4.0,>=1.1.0 in /usr/local/lib/python3.10/dist-packages (from sympy->torch->pytorch-msssim>=1.0.0->biapy==3.4.6) (1.3.0)\n",
            "Requirement already satisfied: click>=8.0.0 in /usr/local/lib/python3.10/dist-packages (from typer->bioimageio.spec==0.4.9.*->bioimageio.core==0.5.9->biapy==3.4.6) (8.1.7)\n",
            "Requirement already satisfied: shellingham>=1.3.0 in /usr/local/lib/python3.10/dist-packages (from typer->bioimageio.spec==0.4.9.*->bioimageio.core==0.5.9->biapy==3.4.6) (1.5.4)\n",
            "Requirement already satisfied: rich>=10.11.0 in /usr/local/lib/python3.10/dist-packages (from typer->bioimageio.spec==0.4.9.*->bioimageio.core==0.5.9->biapy==3.4.6) (13.7.1)\n",
            "Requirement already satisfied: markdown-it-py>=2.2.0 in /usr/local/lib/python3.10/dist-packages (from rich>=10.11.0->typer->bioimageio.spec==0.4.9.*->bioimageio.core==0.5.9->biapy==3.4.6) (3.0.0)\n",
            "Requirement already satisfied: pygments<3.0.0,>=2.13.0 in /usr/local/lib/python3.10/dist-packages (from rich>=10.11.0->typer->bioimageio.spec==0.4.9.*->bioimageio.core==0.5.9->biapy==3.4.6) (2.16.1)\n",
            "Requirement already satisfied: mdurl~=0.1 in /usr/local/lib/python3.10/dist-packages (from markdown-it-py>=2.2.0->rich>=10.11.0->typer->bioimageio.spec==0.4.9.*->bioimageio.core==0.5.9->biapy==3.4.6) (0.1.2)\n",
            "Building wheels for collected packages: asciitree\n",
            "  Building wheel for asciitree (setup.py) ... \u001b[?25l\u001b[?25hdone\n",
            "  Created wheel for asciitree: filename=asciitree-0.3.3-py3-none-any.whl size=5034 sha256=c0c5958eadd7a2c05d405218ecb2badda6ce5eea1543c9b95c045b8301b78871\n",
            "  Stored in directory: /root/.cache/pip/wheels/7f/4e/be/1171b40f43b918087657ec57cf3b81fa1a2e027d8755baa184\n",
            "Successfully built asciitree\n",
            "Installing collected packages: asciitree, yacs, torchinfo, tensorboardX, ruamel.yaml.clib, nvidia-nvtx-cu12, nvidia-nvjitlink-cu12, nvidia-nccl-cu12, nvidia-curand-cu12, nvidia-cufft-cu12, nvidia-cuda-runtime-cu12, nvidia-cuda-nvrtc-cu12, nvidia-cuda-cupti-cu12, nvidia-cublas-cu12, numcodecs, marshmallow, imagecodecs, fastremap, fasteners, edt, zarr, scikit-learn, ruamel.yaml, nvidia-cusparse-cu12, nvidia-cudnn-cu12, marshmallow-union, marshmallow-jsonschema, fill-voids, nvidia-cusolver-cu12, bioimageio.spec, pytorch-msssim, bioimageio.core, biapy\n",
            "  Attempting uninstall: scikit-learn\n",
            "    Found existing installation: scikit-learn 1.2.2\n",
            "    Uninstalling scikit-learn-1.2.2:\n",
            "      Successfully uninstalled scikit-learn-1.2.2\n",
            "Successfully installed asciitree-0.3.3 biapy-3.4.6 bioimageio.core-0.5.9 bioimageio.spec-0.4.9.post5 edt-2.4.1 fasteners-0.19 fastremap-1.14.2 fill-voids-2.0.7 imagecodecs-2024.6.1 marshmallow-3.21.3 marshmallow-jsonschema-0.13.0 marshmallow-union-0.1.15.post1 numcodecs-0.12.1 nvidia-cublas-cu12-12.1.3.1 nvidia-cuda-cupti-cu12-12.1.105 nvidia-cuda-nvrtc-cu12-12.1.105 nvidia-cuda-runtime-cu12-12.1.105 nvidia-cudnn-cu12-8.9.2.26 nvidia-cufft-cu12-11.0.2.54 nvidia-curand-cu12-10.3.2.106 nvidia-cusolver-cu12-11.4.5.107 nvidia-cusparse-cu12-12.1.0.106 nvidia-nccl-cu12-2.20.5 nvidia-nvjitlink-cu12-12.5.82 nvidia-nvtx-cu12-12.1.105 pytorch-msssim-1.0.0 ruamel.yaml-0.18.6 ruamel.yaml.clib-0.2.8 scikit-learn-1.5.1 tensorboardX-2.6.2.2 torchinfo-1.8.0 yacs-0.1.8 zarr-2.18.2\n",
            "Looking in indexes: https://download.pytorch.org/whl/cu118\n",
            "Collecting torch==2.2.0\n",
            "  Downloading https://download.pytorch.org/whl/cu118/torch-2.2.0%2Bcu118-cp310-cp310-linux_x86_64.whl (811.7 MB)\n",
            "\u001b[2K     \u001b[90m━━━━━━━━━━━━━━━━━━━━━━━━━━━━━━━━━━━━━━━━\u001b[0m \u001b[32m811.7/811.7 MB\u001b[0m \u001b[31m1.7 MB/s\u001b[0m eta \u001b[36m0:00:00\u001b[0m\n",
            "\u001b[?25hCollecting torchvision==0.17.0\n",
            "  Downloading https://download.pytorch.org/whl/cu118/torchvision-0.17.0%2Bcu118-cp310-cp310-linux_x86_64.whl (6.2 MB)\n",
            "\u001b[2K     \u001b[90m━━━━━━━━━━━━━━━━━━━━━━━━━━━━━━━━━━━━━━━━\u001b[0m \u001b[32m6.2/6.2 MB\u001b[0m \u001b[31m104.5 MB/s\u001b[0m eta \u001b[36m0:00:00\u001b[0m\n",
            "\u001b[?25hCollecting torchaudio==2.2.0\n",
            "  Downloading https://download.pytorch.org/whl/cu118/torchaudio-2.2.0%2Bcu118-cp310-cp310-linux_x86_64.whl (3.3 MB)\n",
            "\u001b[2K     \u001b[90m━━━━━━━━━━━━━━━━━━━━━━━━━━━━━━━━━━━━━━━━\u001b[0m \u001b[32m3.3/3.3 MB\u001b[0m \u001b[31m90.9 MB/s\u001b[0m eta \u001b[36m0:00:00\u001b[0m\n",
            "\u001b[?25hRequirement already satisfied: filelock in /usr/local/lib/python3.10/dist-packages (from torch==2.2.0) (3.15.4)\n",
            "Requirement already satisfied: typing-extensions>=4.8.0 in /usr/local/lib/python3.10/dist-packages (from torch==2.2.0) (4.12.2)\n",
            "Requirement already satisfied: sympy in /usr/local/lib/python3.10/dist-packages (from torch==2.2.0) (1.12.1)\n",
            "Requirement already satisfied: networkx in /usr/local/lib/python3.10/dist-packages (from torch==2.2.0) (3.3)\n",
            "Requirement already satisfied: jinja2 in /usr/local/lib/python3.10/dist-packages (from torch==2.2.0) (3.1.4)\n",
            "Requirement already satisfied: fsspec in /usr/local/lib/python3.10/dist-packages (from torch==2.2.0) (2023.6.0)\n",
            "Collecting nvidia-cuda-nvrtc-cu11==11.8.89 (from torch==2.2.0)\n",
            "  Downloading https://download.pytorch.org/whl/cu118/nvidia_cuda_nvrtc_cu11-11.8.89-py3-none-manylinux1_x86_64.whl (23.2 MB)\n",
            "\u001b[2K     \u001b[90m━━━━━━━━━━━━━━━━━━━━━━━━━━━━━━━━━━━━━━━━\u001b[0m \u001b[32m23.2/23.2 MB\u001b[0m \u001b[31m71.8 MB/s\u001b[0m eta \u001b[36m0:00:00\u001b[0m\n",
            "\u001b[?25hCollecting nvidia-cuda-runtime-cu11==11.8.89 (from torch==2.2.0)\n",
            "  Downloading https://download.pytorch.org/whl/cu118/nvidia_cuda_runtime_cu11-11.8.89-py3-none-manylinux1_x86_64.whl (875 kB)\n",
            "\u001b[2K     \u001b[90m━━━━━━━━━━━━━━━━━━━━━━━━━━━━━━━━━━━━━━━━\u001b[0m \u001b[32m875.6/875.6 kB\u001b[0m \u001b[31m68.3 MB/s\u001b[0m eta \u001b[36m0:00:00\u001b[0m\n",
            "\u001b[?25hCollecting nvidia-cuda-cupti-cu11==11.8.87 (from torch==2.2.0)\n",
            "  Downloading https://download.pytorch.org/whl/cu118/nvidia_cuda_cupti_cu11-11.8.87-py3-none-manylinux1_x86_64.whl (13.1 MB)\n",
            "\u001b[2K     \u001b[90m━━━━━━━━━━━━━━━━━━━━━━━━━━━━━━━━━━━━━━━━\u001b[0m \u001b[32m13.1/13.1 MB\u001b[0m \u001b[31m76.5 MB/s\u001b[0m eta \u001b[36m0:00:00\u001b[0m\n",
            "\u001b[?25hCollecting nvidia-cudnn-cu11==8.7.0.84 (from torch==2.2.0)\n",
            "  Downloading https://download.pytorch.org/whl/cu118/nvidia_cudnn_cu11-8.7.0.84-py3-none-manylinux1_x86_64.whl (728.5 MB)\n",
            "\u001b[2K     \u001b[90m━━━━━━━━━━━━━━━━━━━━━━━━━━━━━━━━━━━━━━━━\u001b[0m \u001b[32m728.5/728.5 MB\u001b[0m \u001b[31m2.2 MB/s\u001b[0m eta \u001b[36m0:00:00\u001b[0m\n",
            "\u001b[?25hCollecting nvidia-cublas-cu11==11.11.3.6 (from torch==2.2.0)\n",
            "  Downloading https://download.pytorch.org/whl/cu118/nvidia_cublas_cu11-11.11.3.6-py3-none-manylinux1_x86_64.whl (417.9 MB)\n",
            "\u001b[2K     \u001b[90m━━━━━━━━━━━━━━━━━━━━━━━━━━━━━━━━━━━━━━━━\u001b[0m \u001b[32m417.9/417.9 MB\u001b[0m \u001b[31m3.9 MB/s\u001b[0m eta \u001b[36m0:00:00\u001b[0m\n",
            "\u001b[?25hCollecting nvidia-cufft-cu11==10.9.0.58 (from torch==2.2.0)\n",
            "  Downloading https://download.pytorch.org/whl/cu118/nvidia_cufft_cu11-10.9.0.58-py3-none-manylinux1_x86_64.whl (168.4 MB)\n",
            "\u001b[2K     \u001b[90m━━━━━━━━━━━━━━━━━━━━━━━━━━━━━━━━━━━━━━━━\u001b[0m \u001b[32m168.4/168.4 MB\u001b[0m \u001b[31m7.0 MB/s\u001b[0m eta \u001b[36m0:00:00\u001b[0m\n",
            "\u001b[?25hCollecting nvidia-curand-cu11==10.3.0.86 (from torch==2.2.0)\n",
            "  Downloading https://download.pytorch.org/whl/cu118/nvidia_curand_cu11-10.3.0.86-py3-none-manylinux1_x86_64.whl (58.1 MB)\n",
            "\u001b[2K     \u001b[90m━━━━━━━━━━━━━━━━━━━━━━━━━━━━━━━━━━━━━━━━\u001b[0m \u001b[32m58.1/58.1 MB\u001b[0m \u001b[31m11.4 MB/s\u001b[0m eta \u001b[36m0:00:00\u001b[0m\n",
            "\u001b[?25hCollecting nvidia-cusolver-cu11==11.4.1.48 (from torch==2.2.0)\n",
            "  Downloading https://download.pytorch.org/whl/cu118/nvidia_cusolver_cu11-11.4.1.48-py3-none-manylinux1_x86_64.whl (128.2 MB)\n",
            "\u001b[2K     \u001b[90m━━━━━━━━━━━━━━━━━━━━━━━━━━━━━━━━━━━━━━━━\u001b[0m \u001b[32m128.2/128.2 MB\u001b[0m \u001b[31m8.0 MB/s\u001b[0m eta \u001b[36m0:00:00\u001b[0m\n",
            "\u001b[?25hCollecting nvidia-cusparse-cu11==11.7.5.86 (from torch==2.2.0)\n",
            "  Downloading https://download.pytorch.org/whl/cu118/nvidia_cusparse_cu11-11.7.5.86-py3-none-manylinux1_x86_64.whl (204.1 MB)\n",
            "\u001b[2K     \u001b[90m━━━━━━━━━━━━━━━━━━━━━━━━━━━━━━━━━━━━━━━━\u001b[0m \u001b[32m204.1/204.1 MB\u001b[0m \u001b[31m6.5 MB/s\u001b[0m eta \u001b[36m0:00:00\u001b[0m\n",
            "\u001b[?25hCollecting nvidia-nccl-cu11==2.19.3 (from torch==2.2.0)\n",
            "  Downloading https://download.pytorch.org/whl/cu118/nvidia_nccl_cu11-2.19.3-py3-none-manylinux1_x86_64.whl (135.3 MB)\n",
            "\u001b[2K     \u001b[90m━━━━━━━━━━━━━━━━━━━━━━━━━━━━━━━━━━━━━━━━\u001b[0m \u001b[32m135.3/135.3 MB\u001b[0m \u001b[31m7.4 MB/s\u001b[0m eta \u001b[36m0:00:00\u001b[0m\n",
            "\u001b[?25hCollecting nvidia-nvtx-cu11==11.8.86 (from torch==2.2.0)\n",
            "  Downloading https://download.pytorch.org/whl/cu118/nvidia_nvtx_cu11-11.8.86-py3-none-manylinux1_x86_64.whl (99 kB)\n",
            "\u001b[2K     \u001b[90m━━━━━━━━━━━━━━━━━━━━━━━━━━━━━━━━━━━━━━━━\u001b[0m \u001b[32m99.1/99.1 kB\u001b[0m \u001b[31m11.8 MB/s\u001b[0m eta \u001b[36m0:00:00\u001b[0m\n",
            "\u001b[?25hCollecting triton==2.2.0 (from torch==2.2.0)\n",
            "  Downloading https://download.pytorch.org/whl/triton-2.2.0-cp310-cp310-manylinux_2_17_x86_64.manylinux2014_x86_64.whl (167.9 MB)\n",
            "\u001b[2K     \u001b[90m━━━━━━━━━━━━━━━━━━━━━━━━━━━━━━━━━━━━━━━━\u001b[0m \u001b[32m167.9/167.9 MB\u001b[0m \u001b[31m7.0 MB/s\u001b[0m eta \u001b[36m0:00:00\u001b[0m\n",
            "\u001b[?25hRequirement already satisfied: numpy in /usr/local/lib/python3.10/dist-packages (from torchvision==0.17.0) (1.25.2)\n",
            "Requirement already satisfied: requests in /usr/local/lib/python3.10/dist-packages (from torchvision==0.17.0) (2.31.0)\n",
            "Requirement already satisfied: pillow!=8.3.*,>=5.3.0 in /usr/local/lib/python3.10/dist-packages (from torchvision==0.17.0) (9.4.0)\n",
            "Requirement already satisfied: MarkupSafe>=2.0 in /usr/local/lib/python3.10/dist-packages (from jinja2->torch==2.2.0) (2.1.5)\n",
            "Requirement already satisfied: charset-normalizer<4,>=2 in /usr/local/lib/python3.10/dist-packages (from requests->torchvision==0.17.0) (3.3.2)\n",
            "Requirement already satisfied: idna<4,>=2.5 in /usr/local/lib/python3.10/dist-packages (from requests->torchvision==0.17.0) (3.7)\n",
            "Requirement already satisfied: urllib3<3,>=1.21.1 in /usr/local/lib/python3.10/dist-packages (from requests->torchvision==0.17.0) (2.0.7)\n",
            "Requirement already satisfied: certifi>=2017.4.17 in /usr/local/lib/python3.10/dist-packages (from requests->torchvision==0.17.0) (2024.6.2)\n",
            "Requirement already satisfied: mpmath<1.4.0,>=1.1.0 in /usr/local/lib/python3.10/dist-packages (from sympy->torch==2.2.0) (1.3.0)\n",
            "Installing collected packages: triton, nvidia-nvtx-cu11, nvidia-nccl-cu11, nvidia-cusparse-cu11, nvidia-curand-cu11, nvidia-cufft-cu11, nvidia-cuda-runtime-cu11, nvidia-cuda-nvrtc-cu11, nvidia-cuda-cupti-cu11, nvidia-cublas-cu11, nvidia-cusolver-cu11, nvidia-cudnn-cu11, torch, torchvision, torchaudio\n",
            "  Attempting uninstall: triton\n",
            "    Found existing installation: triton 2.3.0\n",
            "    Uninstalling triton-2.3.0:\n",
            "      Successfully uninstalled triton-2.3.0\n",
            "  Attempting uninstall: torch\n",
            "    Found existing installation: torch 2.3.0+cu121\n",
            "    Uninstalling torch-2.3.0+cu121:\n",
            "      Successfully uninstalled torch-2.3.0+cu121\n",
            "  Attempting uninstall: torchvision\n",
            "    Found existing installation: torchvision 0.18.0+cu121\n",
            "    Uninstalling torchvision-0.18.0+cu121:\n",
            "      Successfully uninstalled torchvision-0.18.0+cu121\n",
            "  Attempting uninstall: torchaudio\n",
            "    Found existing installation: torchaudio 2.3.0+cu121\n",
            "    Uninstalling torchaudio-2.3.0+cu121:\n",
            "      Successfully uninstalled torchaudio-2.3.0+cu121\n",
            "Successfully installed nvidia-cublas-cu11-11.11.3.6 nvidia-cuda-cupti-cu11-11.8.87 nvidia-cuda-nvrtc-cu11-11.8.89 nvidia-cuda-runtime-cu11-11.8.89 nvidia-cudnn-cu11-8.7.0.84 nvidia-cufft-cu11-10.9.0.58 nvidia-curand-cu11-10.3.0.86 nvidia-cusolver-cu11-11.4.1.48 nvidia-cusparse-cu11-11.7.5.86 nvidia-nccl-cu11-2.19.3 nvidia-nvtx-cu11-11.8.86 torch-2.2.0+cu118 torchaudio-2.2.0+cu118 torchvision-0.17.0+cu118 triton-2.2.0\n",
            "Collecting timm>=0.9.12\n",
            "  Downloading timm-1.0.7-py3-none-any.whl (2.3 MB)\n",
            "\u001b[2K     \u001b[90m━━━━━━━━━━━━━━━━━━━━━━━━━━━━━━━━━━━━━━━━\u001b[0m \u001b[32m2.3/2.3 MB\u001b[0m \u001b[31m16.7 MB/s\u001b[0m eta \u001b[36m0:00:00\u001b[0m\n",
            "\u001b[?25hCollecting torchmetrics>=1.3.0.post0\n",
            "  Downloading torchmetrics-1.4.0.post0-py3-none-any.whl (868 kB)\n",
            "\u001b[2K     \u001b[90m━━━━━━━━━━━━━━━━━━━━━━━━━━━━━━━━━━━━━━━━\u001b[0m \u001b[32m868.8/868.8 kB\u001b[0m \u001b[31m28.5 MB/s\u001b[0m eta \u001b[36m0:00:00\u001b[0m\n",
            "\u001b[?25hRequirement already satisfied: torch in /usr/local/lib/python3.10/dist-packages (from timm>=0.9.12) (2.2.0+cu118)\n",
            "Requirement already satisfied: torchvision in /usr/local/lib/python3.10/dist-packages (from timm>=0.9.12) (0.17.0+cu118)\n",
            "Requirement already satisfied: pyyaml in /usr/local/lib/python3.10/dist-packages (from timm>=0.9.12) (6.0.1)\n",
            "Requirement already satisfied: huggingface_hub in /usr/local/lib/python3.10/dist-packages (from timm>=0.9.12) (0.23.4)\n",
            "Requirement already satisfied: safetensors in /usr/local/lib/python3.10/dist-packages (from timm>=0.9.12) (0.4.3)\n",
            "Requirement already satisfied: numpy>1.20.0 in /usr/local/lib/python3.10/dist-packages (from torchmetrics>=1.3.0.post0) (1.25.2)\n",
            "Requirement already satisfied: packaging>17.1 in /usr/local/lib/python3.10/dist-packages (from torchmetrics>=1.3.0.post0) (24.1)\n",
            "Collecting lightning-utilities>=0.8.0 (from torchmetrics>=1.3.0.post0)\n",
            "  Downloading lightning_utilities-0.11.3.post0-py3-none-any.whl (26 kB)\n",
            "Requirement already satisfied: setuptools in /usr/local/lib/python3.10/dist-packages (from lightning-utilities>=0.8.0->torchmetrics>=1.3.0.post0) (67.7.2)\n",
            "Requirement already satisfied: typing-extensions in /usr/local/lib/python3.10/dist-packages (from lightning-utilities>=0.8.0->torchmetrics>=1.3.0.post0) (4.12.2)\n",
            "Requirement already satisfied: filelock in /usr/local/lib/python3.10/dist-packages (from torch->timm>=0.9.12) (3.15.4)\n",
            "Requirement already satisfied: sympy in /usr/local/lib/python3.10/dist-packages (from torch->timm>=0.9.12) (1.12.1)\n",
            "Requirement already satisfied: networkx in /usr/local/lib/python3.10/dist-packages (from torch->timm>=0.9.12) (3.3)\n",
            "Requirement already satisfied: jinja2 in /usr/local/lib/python3.10/dist-packages (from torch->timm>=0.9.12) (3.1.4)\n",
            "Requirement already satisfied: fsspec in /usr/local/lib/python3.10/dist-packages (from torch->timm>=0.9.12) (2023.6.0)\n",
            "Requirement already satisfied: nvidia-cuda-nvrtc-cu11==11.8.89 in /usr/local/lib/python3.10/dist-packages (from torch->timm>=0.9.12) (11.8.89)\n",
            "Requirement already satisfied: nvidia-cuda-runtime-cu11==11.8.89 in /usr/local/lib/python3.10/dist-packages (from torch->timm>=0.9.12) (11.8.89)\n",
            "Requirement already satisfied: nvidia-cuda-cupti-cu11==11.8.87 in /usr/local/lib/python3.10/dist-packages (from torch->timm>=0.9.12) (11.8.87)\n",
            "Requirement already satisfied: nvidia-cudnn-cu11==8.7.0.84 in /usr/local/lib/python3.10/dist-packages (from torch->timm>=0.9.12) (8.7.0.84)\n",
            "Requirement already satisfied: nvidia-cublas-cu11==11.11.3.6 in /usr/local/lib/python3.10/dist-packages (from torch->timm>=0.9.12) (11.11.3.6)\n",
            "Requirement already satisfied: nvidia-cufft-cu11==10.9.0.58 in /usr/local/lib/python3.10/dist-packages (from torch->timm>=0.9.12) (10.9.0.58)\n",
            "Requirement already satisfied: nvidia-curand-cu11==10.3.0.86 in /usr/local/lib/python3.10/dist-packages (from torch->timm>=0.9.12) (10.3.0.86)\n",
            "Requirement already satisfied: nvidia-cusolver-cu11==11.4.1.48 in /usr/local/lib/python3.10/dist-packages (from torch->timm>=0.9.12) (11.4.1.48)\n",
            "Requirement already satisfied: nvidia-cusparse-cu11==11.7.5.86 in /usr/local/lib/python3.10/dist-packages (from torch->timm>=0.9.12) (11.7.5.86)\n",
            "Requirement already satisfied: nvidia-nccl-cu11==2.19.3 in /usr/local/lib/python3.10/dist-packages (from torch->timm>=0.9.12) (2.19.3)\n",
            "Requirement already satisfied: nvidia-nvtx-cu11==11.8.86 in /usr/local/lib/python3.10/dist-packages (from torch->timm>=0.9.12) (11.8.86)\n",
            "Requirement already satisfied: triton==2.2.0 in /usr/local/lib/python3.10/dist-packages (from torch->timm>=0.9.12) (2.2.0)\n",
            "Requirement already satisfied: requests in /usr/local/lib/python3.10/dist-packages (from huggingface_hub->timm>=0.9.12) (2.31.0)\n",
            "Requirement already satisfied: tqdm>=4.42.1 in /usr/local/lib/python3.10/dist-packages (from huggingface_hub->timm>=0.9.12) (4.66.4)\n",
            "Requirement already satisfied: pillow!=8.3.*,>=5.3.0 in /usr/local/lib/python3.10/dist-packages (from torchvision->timm>=0.9.12) (9.4.0)\n",
            "Requirement already satisfied: MarkupSafe>=2.0 in /usr/local/lib/python3.10/dist-packages (from jinja2->torch->timm>=0.9.12) (2.1.5)\n",
            "Requirement already satisfied: charset-normalizer<4,>=2 in /usr/local/lib/python3.10/dist-packages (from requests->huggingface_hub->timm>=0.9.12) (3.3.2)\n",
            "Requirement already satisfied: idna<4,>=2.5 in /usr/local/lib/python3.10/dist-packages (from requests->huggingface_hub->timm>=0.9.12) (3.7)\n",
            "Requirement already satisfied: urllib3<3,>=1.21.1 in /usr/local/lib/python3.10/dist-packages (from requests->huggingface_hub->timm>=0.9.12) (2.0.7)\n",
            "Requirement already satisfied: certifi>=2017.4.17 in /usr/local/lib/python3.10/dist-packages (from requests->huggingface_hub->timm>=0.9.12) (2024.6.2)\n",
            "Requirement already satisfied: mpmath<1.4.0,>=1.1.0 in /usr/local/lib/python3.10/dist-packages (from sympy->torch->timm>=0.9.12) (1.3.0)\n",
            "Installing collected packages: lightning-utilities, torchmetrics, timm\n",
            "Successfully installed lightning-utilities-0.11.3.post0 timm-1.0.7 torchmetrics-1.4.0.post0\n"
          ]
        }
      ],
      "source": [
        "# @title  { display-mode: \"form\" }\n",
        "#@markdown ##Play to install BiaPy and its dependences\n",
        "\n",
        "import os\n",
        "import sys\n",
        "import numpy as np\n",
        "from tqdm.notebook import tqdm\n",
        "from skimage.io import imread\n",
        "import ipywidgets as widgets\n",
        "from ipywidgets import Output\n",
        "\n",
        "# Uninstall some packages already installed in Colab for Pytorch 2.1.0\n",
        "!pip uninstall -y torchtext\n",
        "\n",
        "!pip install biapy==3.4.6\n",
        "\n",
        "# Then install Pytorch + CUDA 11.8\n",
        "!pip install torch==2.2.0 torchvision==0.17.0 torchaudio==2.2.0 --index-url https://download.pytorch.org/whl/cu118\n",
        "!pip install 'timm>=0.9.12' 'torchmetrics>=1.3.0.post0'\n",
        "\n",
        "from biapy import BiaPy\n",
        "\n",
        "changed_source = False"
      ]
    },
    {
      "cell_type": "markdown",
      "metadata": {
        "id": "9ZwoZC20rK42"
      },
      "source": [
        "## **Configure and train the DNN model**\n",
        "[BiaPy](https://biapy.readthedocs.io/en/latest/) contains a few deep learning models to perform 3D image classification.\n",
        "\n",
        "The selection of the model and the pipeline hyperparameters can be configured by editing the YAML configuration file or (easier) by running the next cells.\n",
        "\n"
      ]
    },
    {
      "cell_type": "code",
      "execution_count": 5,
      "metadata": {
        "cellView": "form",
        "id": "m1KgDHWn6bdo",
        "colab": {
          "base_uri": "https://localhost:8080/",
          "height": 90
        },
        "outputId": "496c4023-89d6-4e1b-bec9-87d7fb98f713"
      },
      "outputs": [
        {
          "output_type": "display_data",
          "data": {
            "text/plain": [
              "<IPython.core.display.HTML object>"
            ],
            "text/html": [
              "<h1>No BMZ models compatible with BiaPy were found for this task.</h1><br>"
            ]
          },
          "metadata": {}
        }
      ],
      "source": [
        "# @markdown ###OPTIONAL: Check BioImage Model Zoo (BMZ) models compatible with BiaPy\n",
        "# @markdown Use this option to generate a full list of the available BiaPy-compatible models in the BMZ.\n",
        "\n",
        "# @markdown **Important:** To select one of the listed models (if any), you will have to run the next cell and select \"BioImage Model Zoo\" as the source of the model. Then, paste the corresponding model's DOI into the created field.\n",
        "# @markdown <div><img src=\"https://bioimage.io/static/img/bioimage-io-logo.svg\" width=\"600\"/></div>\n",
        "\n",
        "\n",
        "import json\n",
        "from pathlib import Path\n",
        "import pooch\n",
        "import yaml\n",
        "from IPython.display import HTML, display\n",
        "import logging\n",
        "\n",
        "# Change pooch verbosity\n",
        "logger = pooch.get_logger()\n",
        "logger.setLevel(\"WARNING\")\n",
        "\n",
        "# Check the models that BiaPy can consume\n",
        "COLLECTION_URL = \"https://raw.githubusercontent.com/bioimage-io/collection-bioimage-io/gh-pages/collection.json\"\n",
        "collection_path = Path(pooch.retrieve(COLLECTION_URL, known_hash=None))\n",
        "with collection_path.open() as f:\n",
        "    collection = json.load(f)\n",
        "\n",
        "model_urls = [entry[\"rdf_source\"] for entry in collection[\"collection\"] if entry[\"type\"] == \"model\"]\n",
        "\n",
        "model_rdfs = []\n",
        "for mu in model_urls:\n",
        "    with open(Path(pooch.retrieve(mu, known_hash=None))) as stream:\n",
        "        try:\n",
        "            model_rdfs.append(yaml.safe_load(stream))\n",
        "        except yaml.YAMLError as exc:\n",
        "            print(exc)\n",
        "\n",
        "# Check axes, preprocessing functions used and postprocessing.\n",
        "pytorch_models = []\n",
        "for rdf in model_rdfs:\n",
        "    if \"pytorch_state_dict\" in rdf[\"weights\"] and len(rdf['inputs']) == 1:\n",
        "        implemented = True\n",
        "\n",
        "        # Check problem type\n",
        "        if not 'classification' in rdf['tags']:\n",
        "            implemented = False\n",
        "\n",
        "        # Check axes (3D)\n",
        "        if rdf['inputs'][0]['axes'] != \"bczyx\":\n",
        "            implemented = False\n",
        "        if \"3d\" not in rdf['tags']:\n",
        "            implemented = False\n",
        "\n",
        "        # Check preprocessing\n",
        "        if implemented and 'preprocessing' in rdf['inputs'][0]:\n",
        "            for preprocs in rdf['inputs'][0]['preprocessing']:\n",
        "                if preprocs['name'] not in [\"zero_mean_unit_variance\", \"scale_range\"]:\n",
        "                    implemented = False\n",
        "                    break\n",
        "\n",
        "        # Check post-processing\n",
        "        if implemented and 'postprocessing' in rdf['weights']['pytorch_state_dict']['kwargs'] and \\\n",
        "            rdf['weights']['pytorch_state_dict']['kwargs']['postprocessing'] is not None:\n",
        "            implemented = False\n",
        "\n",
        "        if implemented:\n",
        "            pytorch_models.append(rdf)\n",
        "\n",
        "# Print the possible models\n",
        "html = \"<table>\"\n",
        "c = 0\n",
        "for model in pytorch_models:\n",
        "    if c == 0:\n",
        "        html += \"<tr>\"\n",
        "    html += \"<td><p style='color:#2196f3'>%s</p><p>%s (%s)</p><p>DOI: %s</p><img src='%s' height='130'></td>\"%(\n",
        "        model['name'],\n",
        "        model['config']['bioimageio']['nickname'],\n",
        "        model['config']['bioimageio']['nickname_icon'],\n",
        "        model['id'],\n",
        "        model['covers'][0]\n",
        "    )\n",
        "    c +=1\n",
        "    if c == 3:\n",
        "        html += \"</tr>\"\n",
        "        c=0\n",
        "html += \"</table>\"\n",
        "if len( pytorch_models ) == 0:\n",
        "    display(HTML('<h1>No BMZ models compatible with BiaPy were found for this task.</h1><br>'))\n",
        "else:\n",
        "    display(HTML('<h1>List of models that can be used in BiaPy:</h1><br>'))\n",
        "    display(HTML(html))\n"
      ]
    },
    {
      "cell_type": "code",
      "execution_count": 6,
      "metadata": {
        "cellView": "form",
        "colab": {
          "base_uri": "https://localhost:8080/",
          "height": 49,
          "referenced_widgets": [
            "e9e69a81ebe44c338fc9a3d398f964c6",
            "2a0c1ce3e2474f579311737b92f04d11",
            "ebbfd264f9af4d1bb6609d0de8320169"
          ]
        },
        "id": "NjDOtMfUmsui",
        "outputId": "41294462-b19d-4e40-aa2a-f969ec3c4efc"
      },
      "outputs": [
        {
          "output_type": "display_data",
          "data": {
            "text/plain": [
              "ToggleButtons(description='Source:', options=('BiaPy', 'BioImage Model Zoo'), tooltips=('Models created during…"
            ],
            "application/vnd.jupyter.widget-view+json": {
              "version_major": 2,
              "version_minor": 0,
              "model_id": "e9e69a81ebe44c338fc9a3d398f964c6"
            }
          },
          "metadata": {}
        }
      ],
      "source": [
        "#@markdown ###Play to select the source to build the model (BiaPy, Torchvision or BioImage Model Zoo) { run: \"auto\", vertical-output: true, display-mode: \"form\" }\n",
        "\n",
        "#@markdown **BiaPy**: to use the models implemented in BiaPy.\n",
        "\n",
        "#@markdown **Torchvision**: to use models from [Torchvision](https://pytorch.org/vision/stable/index.html). In this workflow this models can only be used for doing inference so the training phase will be automatically disabled.\n",
        "\n",
        "#@markdown **Bioimage Model Zoo (BMZ)**: to use models from the [BMZ repository](https://bioimage.io/#/). You can run the above cell to generate an updated list of the models that can be used with BiaPy. Copy the DOI from the model and paste it below.\n",
        "import ipywidgets as widgets\n",
        "from ipywidgets import Output\n",
        "\n",
        "changed_source = True\n",
        "exists_tv = False\n",
        "exists_bmz = False\n",
        "# create widgets\n",
        "source = widgets.ToggleButtons(\n",
        "    options=['BiaPy', 'BioImage Model Zoo'],\n",
        "    description='Source:',\n",
        "    disabled=False,\n",
        "    button_style='', # 'success', 'info', 'warning', 'danger' or ''\n",
        "    tooltips=['Models created during this workflow', 'BioImage Model Zoo model'],\n",
        "#     icons=['check'] * 3\n",
        ")\n",
        "\n",
        "bmz = widgets.Text(\n",
        "    # value='10.5281/zenodo.5764892',\n",
        "    placeholder='DOI of BMZ model',\n",
        "    description='DOI:',\n",
        "    disabled=False\n",
        ")\n",
        "\n",
        "# display the first widget\n",
        "display(source)\n",
        "\n",
        "# intialize the output - second widget\n",
        "out = Output()\n",
        "\n",
        "def changed(change):\n",
        "    '''\n",
        "    Monitor change in the first widget\n",
        "    '''\n",
        "    global out\n",
        "    global exists_bmz\n",
        "    if source.value == 'BiaPy':\n",
        "        bmz.layout.display = 'none'\n",
        "        out.clear_output() #clear output\n",
        "        out = Output() # redefine output\n",
        "    else:\n",
        "          bmz.layout.display = 'none'\n",
        "          bmz.layout.display = 'flex'\n",
        "          if not exists_bmz:\n",
        "            out.append_display_data(bmz)\n",
        "            display(out)\n",
        "          exists_bmz = True\n",
        "\n",
        "# monitor the source widget for changes\n",
        "source.observe(changed, 'value')"
      ]
    },
    {
      "cell_type": "markdown",
      "metadata": {
        "id": "cfUyeHEP4vY3"
      },
      "source": [
        "### **Select your parameters**\n",
        "---\n",
        "#### **Name of the model**\n",
        "* **`model_name`:** Use only my_model -style, not my-model (Use \"_\" not \"-\"). Do not use spaces in the name. Avoid using the name of an existing model (saved in the same folder) as it will be overwritten.\n",
        "\n",
        "#### **Data management**\n",
        "\n",
        "* **`validation_from_train`:** Select to extract validation data from the training samples. If is not selected the validation data path must be set in **val_data_path** variable above. **Default value: False**\n",
        "\n",
        "* **`percentage_validation`:**  Input the percentage of your training dataset you want to use to validate the network during the training. **Default value: 10**\n",
        "\n",
        "* **`test_ground_truth`:** Select to use test data folder order as the ground truth class to measure the performance of the model's result. **Default value: True**\n",
        "\n",
        "\n",
        "#### **Basic training parameters**\n",
        "* **`number_of_classes`:** Input number of classes present in the problem. It must be equal to the number of subfolders in training and validation (if not extracted from train) folders.\n",
        "\n",
        "* **`number_of_epochs`:** Input how many epochs (rounds) the network will be trained. **Default value: 10**\n",
        "\n",
        "* **`patience`:**  Input how many epochs you want to wait without the model improving its results in the validation set to stop training. **Default value: 10**\n",
        "\n",
        "#### **Advanced Parameters - experienced users only**\n",
        "* **`model_architecture`:**  Select the architecture of the DNN used as backbone of the pipeline. Options: ViT, EfficientNet B0, simple CNN. **Default value: Simple CNN**\n",
        "\n",
        "* **`batch_size:`** This parameter defines the number of patches seen in each training step. Reducing or increasing the **batch size** may slow or speed up your training, respectively, and can influence network performance. **Default value: 8**\n",
        "\n",
        "* **`patch_size`:** Input the size of the patches use to train your model (length in pixels in X and Y). The value should be smaller or equal to the dimensions of the image. **Default value: 28**\n",
        "\n",
        "* **`input_channels`:** Input the number of channels of your images (grayscale = 1, RGB = 3). **Default value: 1**\n",
        "\n",
        "* **`optimizer`:** Select the optimizer used to train your model. Options: ADAM, ADAMW, Stochastic Gradient Descent (SGD). ADAM usually converges faster, while ADAMW provides a balance between fast convergence and better handling of weight decay regularization. SGD is known for better generalization. **Default value: ADAMW**\n",
        "\n",
        "* **`initial_learning_rate`:** Input the initial value to be used as learning rate. If you select ADAM or ADAMW as optimizer, this value should be around 10e-4. **Default value: 0.0001**\n",
        "\n",
        "* **`learning_rate_scheduler`:** Select to adjust the learning rate between epochs. Options: \"None\", \"Reduce on plateau\", \"One cycle\", \"Warm-up cosine decay\". **Default value: One cycle**\n",
        "\n",
        "* **`aggressive_data_augmentation`:** Select to apply more aggressive data augmentation (CutBlur, CutNoise, GridMask, etc.) during training. Otherwise, simple flips and rotations will be applied. **Default value: False**\n",
        "\n",
        "* **`test_time_augmentation`:** Select to apply augmentation (flips and rotations) at test time. It usually provides more robust results but uses more time to produce each result. **Default value: False**"
      ]
    },
    {
      "cell_type": "code",
      "execution_count": 7,
      "metadata": {
        "cellView": "form",
        "id": "LFEMdNlFkAxs"
      },
      "outputs": [],
      "source": [
        "#@markdown ###Name of the model:\n",
        "model_name = \"my_3d_classification\" #@param {type:\"string\"}\n",
        "\n",
        "#@markdown ### Data management:\n",
        "validation_from_train = False #@param {type:\"boolean\"}\n",
        "percentage_validation =  20 #@param {type:\"number\"}\n",
        "test_ground_truth = True #@param {type:\"boolean\"}\n",
        "\n",
        "#@markdown ### Basic training parameters:\n",
        "number_of_classes = 11#@param {type:\"number\"}\n",
        "number_of_epochs =  10#@param {type:\"number\"}\n",
        "patience =  10#@param {type:\"number\"}\n",
        "\n",
        "#@markdown ### Advanced training parameters:\n",
        "\n",
        "model_architecture = \"Simple CNN\" #@param [\"ViT\", \"Simple CNN\"]\n",
        "\n",
        "batch_size =  8#@param {type:\"number\"}\n",
        "patch_size = 28 #@param {type:\"number\"}\n",
        "\n",
        "input_channels = 1 #@param {type:\"number\"}\n",
        "\n",
        "optimizer = \"ADAMW\" #@param [\"ADAMW\", \"SGD\",\"ADAM\"]\n",
        "initial_learning_rate = 0.0001 #@param {type:\"number\"}\n",
        "learning_rate_scheduler = \"One cycle\" #@param [\"None\", \"Reduce on plateau\",\"One cycle\", \"Warm-up cosine decay\"]\n",
        "aggressive_data_augmentation = False #@param {type:\"boolean\"}\n",
        "test_time_augmentation = False #@param {type:\"boolean\"}\n",
        "\n",
        "checkpoint_path = ''"
      ]
    },
    {
      "cell_type": "code",
      "execution_count": null,
      "metadata": {
        "cellView": "form",
        "id": "AuCIPc53WWCl"
      },
      "outputs": [],
      "source": [
        "#@markdown ##OPTIONAL: Play the cell to upload initial model weights\n",
        "#@markdown Use this option to start the training from a **pre-trained model** if you have one. Otherwise, skip this cell.\n",
        "\n",
        "#@markdown **Important**: remember the weights must correspond to the selected architecture, patch size and number of input channels. Otherwise, an error will be shown when training.\n",
        "from google.colab import files\n",
        "\n",
        "#s.chdir('/content/')\n",
        "\n",
        "uploaded = files.upload()\n",
        "\n",
        "if len( uploaded ) > 0:\n",
        "    checkpoint_path = '/content/' + list(uploaded.keys())[0]\n",
        "\n",
        "    # open previously configured file, if exists\n",
        "    job_name = model_name\n",
        "    yaml_file = \"/content/\"+str(job_name)+\".yaml\"\n",
        "\n",
        "    # edit previous configuration file if it exists to load the checkpoint model\n",
        "    if os.path.exists( yaml_file ):\n",
        "        import yaml\n",
        "        with open( yaml_file, 'r') as stream:\n",
        "            try:\n",
        "                biapy_config = yaml.safe_load(stream)\n",
        "            except yaml.YAMLError as exc:\n",
        "                print(exc)\n",
        "        biapy_config['PATHS'] = {}\n",
        "        biapy_config['PATHS']['CHECKPOINT_FILE'] = checkpoint_path\n",
        "        biapy_config['MODEL'] = {}\n",
        "        biapy_config['MODEL']['LOAD_CHECKPOINT'] = True\n",
        "\n",
        "        # save file\n",
        "        with open( yaml_file, 'w') as outfile:\n",
        "            yaml.dump(biapy_config, outfile, default_flow_style=False)\n",
        "\n",
        "    print( \"Pre-trained model loaded and ready to re-train.\")"
      ]
    },
    {
      "cell_type": "markdown",
      "metadata": {
        "id": "oDNWZYlu4zSG"
      },
      "source": [
        "### **Train the model**\n",
        "---"
      ]
    },
    {
      "cell_type": "code",
      "execution_count": 8,
      "metadata": {
        "cellView": "form",
        "colab": {
          "base_uri": "https://localhost:8080/",
          "height": 1000
        },
        "id": "CZKK9EoVmH-Y",
        "outputId": "8366be5e-5b6d-420c-ebc1-d21284af880d"
      },
      "outputs": [
        {
          "output_type": "stream",
          "name": "stdout",
          "text": [
            "Training configuration finished.\n",
            "Date: 2024-07-08 09:33:37\n",
            "Arguments: Namespace(config='/content/my_3d_classification.yaml', result_dir='/content/output', name='my_3d_classification', run_id=1, gpu=0, world_size=1, local_rank=-1, dist_on_itp=False, dist_url='env://', dist_backend='nccl')\n",
            "Job: my_3d_classification_1\n",
            "Python       : 3.10.12 (main, Nov 20 2023, 15:14:05) [GCC 11.4.0]\n",
            "PyTorch:  2.2.0+cu118\n",
            "Not using distributed mode\n",
            "[09:33:37.508162] Configuration details:\n",
            "[09:33:37.510944] AUGMENTOR:\n",
            "  AFFINE_MODE: reflect\n",
            "  AUG_NUM_SAMPLES: 10\n",
            "  AUG_SAMPLES: True\n",
            "  BRIGHTNESS: False\n",
            "  BRIGHTNESS_EM: False\n",
            "  BRIGHTNESS_EM_FACTOR: (-0.1, 0.1)\n",
            "  BRIGHTNESS_EM_MODE: 3D\n",
            "  BRIGHTNESS_FACTOR: (-0.1, 0.1)\n",
            "  BRIGHTNESS_MODE: 3D\n",
            "  CBLUR_DOWN_RANGE: (2, 8)\n",
            "  CBLUR_INSIDE: True\n",
            "  CBLUR_SIZE: (0.2, 0.4)\n",
            "  CHANNEL_SHUFFLE: False\n",
            "  CMIX_SIZE: (0.2, 0.4)\n",
            "  CNOISE_NB_ITERATIONS: (1, 3)\n",
            "  CNOISE_SCALE: (0.05, 0.1)\n",
            "  CNOISE_SIZE: (0.2, 0.4)\n",
            "  CONTRAST: False\n",
            "  CONTRAST_EM: False\n",
            "  CONTRAST_EM_FACTOR: (-0.1, 0.1)\n",
            "  CONTRAST_EM_MODE: 3D\n",
            "  CONTRAST_FACTOR: (-0.1, 0.1)\n",
            "  CONTRAST_MODE: 3D\n",
            "  COUT_APPLY_TO_MASK: False\n",
            "  COUT_CVAL: 0.0\n",
            "  COUT_NB_ITERATIONS: (1, 3)\n",
            "  COUT_SIZE: (0.05, 0.3)\n",
            "  CUTBLUR: False\n",
            "  CUTMIX: False\n",
            "  CUTNOISE: False\n",
            "  CUTOUT: False\n",
            "  DA_PROB: 0.5\n",
            "  DRAW_GRID: True\n",
            "  DROPOUT: False\n",
            "  DROP_RANGE: (0, 0.2)\n",
            "  ELASTIC: False\n",
            "  ENABLE: True\n",
            "  E_ALPHA: (12, 16)\n",
            "  E_MODE: constant\n",
            "  E_SIGMA: 4\n",
            "  GAMMA_CONTRAST: False\n",
            "  GAUSSIAN_NOISE: False\n",
            "  GAUSSIAN_NOISE_MEAN: 0.0\n",
            "  GAUSSIAN_NOISE_USE_INPUT_IMG_MEAN_AND_VAR: False\n",
            "  GAUSSIAN_NOISE_VAR: 0.05\n",
            "  GC_GAMMA: (1.25, 1.75)\n",
            "  GRAYSCALE: False\n",
            "  GRIDMASK: False\n",
            "  GRID_D_RANGE: (0.4, 1)\n",
            "  GRID_INVERT: False\n",
            "  GRID_RATIO: 0.6\n",
            "  GRID_ROTATE: 1.0\n",
            "  G_BLUR: False\n",
            "  G_SIGMA: (1.0, 2.0)\n",
            "  HFLIP: True\n",
            "  MB_KERNEL: (3, 7)\n",
            "  MEDIAN_BLUR: False\n",
            "  MISALIGNMENT: False\n",
            "  MISSING_SECTIONS: False\n",
            "  MISSP_ITERATIONS: (10, 30)\n",
            "  MOTB_K_RANGE: (8, 12)\n",
            "  MOTION_BLUR: False\n",
            "  MS_DISPLACEMENT: 16\n",
            "  MS_ROTATE_RATIO: 0.5\n",
            "  PEPPER: False\n",
            "  PEPPER_AMOUNT: 0.05\n",
            "  POISSON_NOISE: False\n",
            "  RANDOM_ROT: True\n",
            "  RANDOM_ROT_RANGE: (-180, 180)\n",
            "  ROT90: False\n",
            "  SALT: False\n",
            "  SALT_AMOUNT: 0.05\n",
            "  SALT_AND_PEPPER: False\n",
            "  SALT_AND_PEPPER_AMOUNT: 0.05\n",
            "  SALT_AND_PEPPER_PROP: 0.5\n",
            "  SHEAR: False\n",
            "  SHEAR_RANGE: (-20, 20)\n",
            "  SHIFT: False\n",
            "  SHIFT_RANGE: (0.1, 0.2)\n",
            "  SHUFFLE_TRAIN_DATA_EACH_EPOCH: True\n",
            "  SHUFFLE_VAL_DATA_EACH_EPOCH: False\n",
            "  VFLIP: True\n",
            "  ZFLIP: True\n",
            "  ZOOM: False\n",
            "  ZOOM_RANGE: (0.8, 1.2)\n",
            "DATA:\n",
            "  CHECK_GENERATORS: False\n",
            "  EXTRACT_RANDOM_PATCH: False\n",
            "  FORCE_RGB: False\n",
            "  NORMALIZATION:\n",
            "    APPLICATION_MODE: image\n",
            "    CUSTOM_MEAN: -1.0\n",
            "    CUSTOM_STD: -1.0\n",
            "    PERC_CLIP: False\n",
            "    PERC_LOWER: -1.0\n",
            "    PERC_UPPER: -1.0\n",
            "    TYPE: div\n",
            "  PATCH_SIZE: (28, 28, 28, 1)\n",
            "  PREPROCESS:\n",
            "    CANNY:\n",
            "      ENABLE: False\n",
            "      HIGH_THRESHOLD: None\n",
            "      LOW_THRESHOLD: None\n",
            "    CLAHE:\n",
            "      CLIP_LIMIT: 0.01\n",
            "      ENABLE: False\n",
            "      KERNEL_SIZE: None\n",
            "    GAUSSIAN_BLUR:\n",
            "      CHANNEL_AXIS: None\n",
            "      ENABLE: False\n",
            "      MODE: nearest\n",
            "      SIGMA: 1\n",
            "    MATCH_HISTOGRAM:\n",
            "      ENABLE: False\n",
            "      REFERENCE_PATH: user_data/test/x\n",
            "    MEDIAN_BLUR:\n",
            "      ENABLE: False\n",
            "    RESIZE:\n",
            "      ANTI_ALIASING: False\n",
            "      CLIP: True\n",
            "      CVAL: 0.0\n",
            "      ENABLE: False\n",
            "      MODE: reflect\n",
            "      ORDER: 1\n",
            "      OUTPUT_SHAPE: (512, 512)\n",
            "      PRESERVE_RANGE: True\n",
            "    TEST: False\n",
            "    TRAIN: False\n",
            "    VAL: False\n",
            "  PROBABILITY_MAP: False\n",
            "  REFLECT_TO_COMPLETE_SHAPE: False\n",
            "  TEST:\n",
            "    ARGMAX_TO_OUTPUT: True\n",
            "    BINARY_MASKS: /content/data/test/../bin_mask\n",
            "    CHECK_DATA: True\n",
            "    DETECTION_MASK_DIR: user_data/test/y_detection_masks\n",
            "    GT_PATH: user_data/test/y\n",
            "    INSTANCE_CHANNELS_DIR: /content/data/test_BC_thick\n",
            "    INSTANCE_CHANNELS_MASK_DIR: user_data/test/y_BC_thick\n",
            "    IN_MEMORY: True\n",
            "    LOAD_GT: True\n",
            "    MEDIAN_PADDING: False\n",
            "    OVERLAP: (0, 0, 0)\n",
            "    PADDING: (3, 3, 3)\n",
            "    PATH: /content/data/test\n",
            "    RESOLUTION: (1, 1, 1)\n",
            "    SSL_SOURCE_DIR: /content/data/test_ssl_source\n",
            "    USE_VAL_AS_TEST: False\n",
            "  TRAIN:\n",
            "    CHECK_DATA: True\n",
            "    DETECTION_MASK_DIR: user_data/train/y_detection_masks\n",
            "    GT_PATH: user_data/train/y\n",
            "    INPUT_IMG_AXES_ORDER: TZCYX\n",
            "    INPUT_MASK_AXES_ORDER: TZCYX\n",
            "    INPUT_ZARR_MULTIPLE_DATA: False\n",
            "    INPUT_ZARR_MULTIPLE_DATA_GT_PATH: \n",
            "    INPUT_ZARR_MULTIPLE_DATA_RAW_PATH: \n",
            "    INSTANCE_CHANNELS_DIR: /content/data/train_BC_thick\n",
            "    INSTANCE_CHANNELS_MASK_DIR: user_data/train/y_BC_thick\n",
            "    IN_MEMORY: True\n",
            "    MINIMUM_FOREGROUND_PER: -1.0\n",
            "    OVERLAP: (0, 0, 0)\n",
            "    PADDING: (0, 0, 0)\n",
            "    PATH: /content/data/train\n",
            "    REPLICATE: 0\n",
            "    RESOLUTION: (1, 1, 1)\n",
            "    SSL_SOURCE_DIR: /content/data/train_ssl_source\n",
            "  VAL:\n",
            "    CROSS_VAL: False\n",
            "    CROSS_VAL_FOLD: 1\n",
            "    CROSS_VAL_NFOLD: 5\n",
            "    DETECTION_MASK_DIR: user_data/val/y_detection_masks\n",
            "    DIST_EVAL: True\n",
            "    FROM_TRAIN: False\n",
            "    GT_PATH: user_data/val/y\n",
            "    INPUT_IMG_AXES_ORDER: TZCYX\n",
            "    INPUT_MASK_AXES_ORDER: TZCYX\n",
            "    INPUT_ZARR_MULTIPLE_DATA: False\n",
            "    INPUT_ZARR_MULTIPLE_DATA_GT_PATH: \n",
            "    INPUT_ZARR_MULTIPLE_DATA_RAW_PATH: \n",
            "    INSTANCE_CHANNELS_DIR: /content/data/validation_BC_thick\n",
            "    INSTANCE_CHANNELS_MASK_DIR: user_data/val/y_BC_thick\n",
            "    IN_MEMORY: True\n",
            "    OVERLAP: (0, 0, 0)\n",
            "    PADDING: (0, 0, 0)\n",
            "    PATH: /content/data/validation\n",
            "    RANDOM: True\n",
            "    RESOLUTION: (1, 1, 1)\n",
            "    SPLIT_TRAIN: 0.2\n",
            "    SSL_SOURCE_DIR: /content/data/validation_ssl_source\n",
            "  W_BACKGROUND: 0.06\n",
            "  W_FOREGROUND: 0.94\n",
            "LOG:\n",
            "  CHART_CREATION_FREQ: 5\n",
            "  LOG_DIR: /content/output/my_3d_classification/train_logs\n",
            "  LOG_FILE_PREFIX: my_3d_classification_1\n",
            "  TENSORBOARD_LOG_DIR: /content/output/my_3d_classification/results/my_3d_classification_1/tensorboard\n",
            "LOSS:\n",
            "  TYPE: CE\n",
            "MODEL:\n",
            "  ACTIVATION: ELU\n",
            "  ARCHITECTURE: simple_cnn\n",
            "  BATCH_NORMALIZATION: True\n",
            "  BMZ:\n",
            "    SOURCE_MODEL_DOI: \n",
            "  DROPOUT_VALUES: [0.0, 0.0, 0.0, 0.0, 0.0]\n",
            "  FEATURE_MAPS: [16, 32, 64, 128, 256]\n",
            "  KERNEL_SIZE: 3\n",
            "  LAST_ACTIVATION: sigmoid\n",
            "  LOAD_CHECKPOINT: False\n",
            "  LOAD_CHECKPOINT_EPOCH: best_on_val\n",
            "  LOAD_CHECKPOINT_ONLY_WEIGHTS: True\n",
            "  MAE_DEC_HIDDEN_SIZE: 512\n",
            "  MAE_DEC_MLP_DIMS: 2048\n",
            "  MAE_DEC_NUM_HEADS: 16\n",
            "  MAE_DEC_NUM_LAYERS: 8\n",
            "  MAE_MASK_RATIO: 0.5\n",
            "  MAE_MASK_TYPE: grid\n",
            "  N_CLASSES: 11\n",
            "  SAVE_CKPT_FREQ: -1\n",
            "  SOURCE: biapy\n",
            "  TORCHVISION_MODEL_NAME: \n",
            "  UNETR_DEC_ACTIVATION: relu\n",
            "  UNETR_DEC_KERNEL_SIZE: 3\n",
            "  UNETR_VIT_HIDD_MULT: 3\n",
            "  UNETR_VIT_NUM_FILTERS: 16\n",
            "  UNET_SR_UPSAMPLE_POSITION: pre\n",
            "  UPSAMPLE_LAYER: convtranspose\n",
            "  VIT_EMBED_DIM: 768\n",
            "  VIT_MLP_RATIO: 4.0\n",
            "  VIT_MODEL: custom\n",
            "  VIT_NORM_EPS: 1e-06\n",
            "  VIT_NUM_HEADS: 12\n",
            "  VIT_NUM_LAYERS: 12\n",
            "  VIT_TOKEN_SIZE: 16\n",
            "  Z_DOWN: [2, 2, 2, 2]\n",
            "PATHS:\n",
            "  CHARTS: /content/output/my_3d_classification/results/my_3d_classification_1/charts\n",
            "  CHECKPOINT: /content/output/my_3d_classification/checkpoints\n",
            "  CHECKPOINT_FILE: \n",
            "  DA_SAMPLES: /content/output/my_3d_classification/results/my_3d_classification_1/aug\n",
            "  GEN_CHECKS: /content/output/my_3d_classification/results/my_3d_classification_1/gen_check\n",
            "  GEN_MASK_CHECKS: /content/output/my_3d_classification/results/my_3d_classification_1/gen_mask_check\n",
            "  LWR_X_FILE: /content/output/my_3d_classification/checkpoints/lower_bound_X_perc.npy\n",
            "  LWR_Y_FILE: /content/output/my_3d_classification/checkpoints/lower_bound_Y_perc.npy\n",
            "  MAE_OUT_DIR: /content/output/my_3d_classification/results/my_3d_classification_1/MAE_checks\n",
            "  MEAN_INFO_FILE: /content/output/my_3d_classification/checkpoints/normalization_mean_value.npy\n",
            "  PROB_MAP_DIR: /content/output/my_3d_classification/prob_map\n",
            "  PROB_MAP_FILENAME: prob_map.npy\n",
            "  PROFILER: /content/output/my_3d_classification/results/my_3d_classification_1/profiler\n",
            "  RESULT_DIR:\n",
            "    AS_3D_STACK: /content/output/my_3d_classification/results/my_3d_classification_1/as_3d_stack\n",
            "    AS_3D_STACK_BIN: /content/output/my_3d_classification/results/my_3d_classification_1/as_3d_stack_binarized\n",
            "    AS_3D_STACK_POST_PROCESSING: /content/output/my_3d_classification/results/my_3d_classification_1/as_3d_stack_post_processing\n",
            "    DET_ASSOC_POINTS: /content/output/my_3d_classification/results/my_3d_classification_1/point_associations\n",
            "    DET_LOCAL_MAX_COORDS_CHECK: /content/output/my_3d_classification/results/my_3d_classification_1/per_image_local_max_check\n",
            "    FULL_IMAGE: /content/output/my_3d_classification/results/my_3d_classification_1/full_image\n",
            "    FULL_IMAGE_BIN: /content/output/my_3d_classification/results/my_3d_classification_1/full_image_binarized\n",
            "    FULL_IMAGE_INSTANCES: /content/output/my_3d_classification/results/my_3d_classification_1/full_image_instances\n",
            "    FULL_IMAGE_POST_PROCESSING: /content/output/my_3d_classification/results/my_3d_classification_1/full_image_post_processing\n",
            "    INST_ASSOC_POINTS: /content/output/my_3d_classification/results/my_3d_classification_1/instance_associations\n",
            "    PATH: /content/output/my_3d_classification/results/my_3d_classification_1\n",
            "    PER_IMAGE: /content/output/my_3d_classification/results/my_3d_classification_1/per_image\n",
            "    PER_IMAGE_BIN: /content/output/my_3d_classification/results/my_3d_classification_1/per_image_binarized\n",
            "    PER_IMAGE_INSTANCES: /content/output/my_3d_classification/results/my_3d_classification_1/per_image_instances\n",
            "    PER_IMAGE_POST_PROCESSING: /content/output/my_3d_classification/results/my_3d_classification_1/per_image_post_processing\n",
            "  STD_INFO_FILE: /content/output/my_3d_classification/checkpoints/normalization_std_value.npy\n",
            "  TEST_FULL_GT_H5: user_data/test/y/h5\n",
            "  TEST_INSTANCE_CHANNELS_CHECK: /content/output/my_3d_classification/results/my_3d_classification_1/test_BC_instance_channels\n",
            "  TRAIN_INSTANCE_CHANNELS_CHECK: /content/output/my_3d_classification/results/my_3d_classification_1/train_BC_instance_channels\n",
            "  UPR_X_FILE: /content/output/my_3d_classification/checkpoints/upper_bound_X_perc.npy\n",
            "  UPR_Y_FILE: /content/output/my_3d_classification/checkpoints/upper_bound_Y_perc.npy\n",
            "  VAL_INSTANCE_CHANNELS_CHECK: /content/output/my_3d_classification/results/my_3d_classification_1/val_BC_instance_channels\n",
            "  WATERSHED_DIR: /content/output/my_3d_classification/results/my_3d_classification_1/watershed\n",
            "PROBLEM:\n",
            "  DENOISING:\n",
            "    N2V_MANIPULATOR: uniform_withCP\n",
            "    N2V_NEIGHBORHOOD_RADIUS: 5\n",
            "    N2V_PERC_PIX: 0.198\n",
            "    N2V_STRUCTMASK: False\n",
            "  DETECTION:\n",
            "    CENTRAL_POINT_DILATION: 3\n",
            "    CHECK_POINTS_CREATED: True\n",
            "    DATA_CHECK_MW: False\n",
            "  IMAGE_TO_IMAGE:\n",
            "    MULTIPLE_RAW_ONE_TARGET_LOADER: False\n",
            "  INSTANCE_SEG:\n",
            "    DATA_CHANNELS: BC\n",
            "    DATA_CHANNEL_WEIGHTS: (1, 1)\n",
            "    DATA_CHECK_MW: False\n",
            "    DATA_CONTOUR_MODE: thick\n",
            "    DATA_MW_TH_BINARY_MASK: 0.5\n",
            "    DATA_MW_TH_CONTOUR: 0.1\n",
            "    DATA_MW_TH_DISTANCE: 1.0\n",
            "    DATA_MW_TH_FOREGROUND: 0.3\n",
            "    DATA_MW_TH_POINTS: 0.5\n",
            "    DATA_MW_TH_TYPE: auto\n",
            "    DATA_REMOVE_BEFORE_MW: False\n",
            "    DATA_REMOVE_SMALL_OBJ_BEFORE: 10\n",
            "    DISTANCE_CHANNEL_MASK: True\n",
            "    ERODE_AND_DILATE_FOREGROUND: False\n",
            "    FORE_DILATION_RADIUS: 5\n",
            "    FORE_EROSION_RADIUS: 5\n",
            "    SEED_MORPH_RADIUS: []\n",
            "    SEED_MORPH_SEQUENCE: []\n",
            "    WATERSHED_BY_2D_SLICES: False\n",
            "  NDIM: 3D\n",
            "  SELF_SUPERVISED:\n",
            "    NOISE: 0.2\n",
            "    PRETEXT_TASK: crappify\n",
            "    RESIZING_FACTOR: 4\n",
            "  SEMANTIC_SEG:\n",
            "    IGNORE_CLASS_ID: 0\n",
            "  SUPER_RESOLUTION:\n",
            "    UPSCALING: (1, 1, 1)\n",
            "  TYPE: CLASSIFICATION\n",
            "SYSTEM:\n",
            "  DEVICE: cpu\n",
            "  NUM_CPUS: 2\n",
            "  NUM_GPUS: 0\n",
            "  NUM_WORKERS: 5\n",
            "  PIN_MEM: True\n",
            "  SEED: 0\n",
            "TEST:\n",
            "  ANALIZE_2D_IMGS_AS_3D_STACK: False\n",
            "  AUGMENTATION: False\n",
            "  BY_CHUNKS:\n",
            "    ENABLE: False\n",
            "    FLUSH_EACH: 100\n",
            "    FORMAT: H5\n",
            "    INPUT_IMG_AXES_ORDER: TZCYX\n",
            "    INPUT_MASK_AXES_ORDER: TZCYX\n",
            "    INPUT_ZARR_MULTIPLE_DATA: False\n",
            "    INPUT_ZARR_MULTIPLE_DATA_GT_PATH: \n",
            "    INPUT_ZARR_MULTIPLE_DATA_RAW_PATH: \n",
            "    SAVE_OUT_TIF: False\n",
            "    WORKFLOW_PROCESS:\n",
            "      ENABLE: True\n",
            "      TYPE: chunk_by_chunk\n",
            "  DET_BLOB_LOG_MAX_SIGMA: 10\n",
            "  DET_BLOB_LOG_MIN_SIGMA: 5\n",
            "  DET_BLOB_LOG_NUM_SIGMA: 2\n",
            "  DET_EXCLUDE_BORDER: False\n",
            "  DET_MIN_TH_TO_BE_PEAK: [0.2]\n",
            "  DET_PEAK_LOCAL_MAX_MIN_DISTANCE: 1\n",
            "  DET_POINT_CREATION_FUNCTION: peak_local_max\n",
            "  DET_TOLERANCE: [10]\n",
            "  ENABLE: True\n",
            "  EVALUATE: True\n",
            "  FULL_IMG: False\n",
            "  MATCHING_STATS: True\n",
            "  MATCHING_STATS_THS: [0.3, 0.5, 0.75]\n",
            "  MATCHING_STATS_THS_COLORED_IMG: [0.3]\n",
            "  POST_PROCESSING:\n",
            "    APPLY_MASK: False\n",
            "    CLEAR_BORDER: False\n",
            "    DET_WATERSHED: False\n",
            "    DET_WATERSHED_DONUTS_CLASSES: [-1]\n",
            "    DET_WATERSHED_DONUTS_NUCLEUS_DIAMETER: 30\n",
            "    DET_WATERSHED_DONUTS_PATCH: [13, 120, 120]\n",
            "    DET_WATERSHED_FIRST_DILATION: [[-1, -1]]\n",
            "    MEASURE_PROPERTIES:\n",
            "      ENABLE: False\n",
            "      REMOVE_BY_PROPERTIES:\n",
            "        ENABLE: False\n",
            "        PROPS: []\n",
            "        SIGN: []\n",
            "        VALUES: []\n",
            "    REMOVE_CLOSE_POINTS: False\n",
            "    REMOVE_CLOSE_POINTS_RADIUS: [-1.0]\n",
            "    REPARE_LARGE_BLOBS_SIZE: -1\n",
            "    VORONOI_ON_MASK: False\n",
            "    VORONOI_TH: 0.0\n",
            "    YZ_FILTERING: False\n",
            "    YZ_FILTERING_SIZE: 5\n",
            "    Z_FILTERING: False\n",
            "    Z_FILTERING_SIZE: 5\n",
            "  REDUCE_MEMORY: False\n",
            "  REUSE_PREDICTIONS: False\n",
            "  VERBOSE: True\n",
            "TRAIN:\n",
            "  ACCUM_ITER: 1\n",
            "  BATCH_SIZE: 8\n",
            "  CHECKPOINT_MONITOR: val_loss\n",
            "  ENABLE: True\n",
            "  EPOCHS: 10\n",
            "  LR: 0.0001\n",
            "  LR_SCHEDULER:\n",
            "    MIN_LR: -1.0\n",
            "    NAME: onecycle\n",
            "    REDUCEONPLATEAU_FACTOR: 0.5\n",
            "    REDUCEONPLATEAU_PATIENCE: -1\n",
            "    WARMUP_COSINE_DECAY_EPOCHS: -1\n",
            "  OPTIMIZER: ADAMW\n",
            "  OPT_BETAS: (0.9, 0.999)\n",
            "  PATIENCE: 10\n",
            "  VERBOSE: False\n",
            "  W_DECAY: 0.02\n"
          ]
        },
        {
          "output_type": "stream",
          "name": "stderr",
          "text": [
            "site.config.json: 6.68kiB [00:00, 9.46MiB/s]                  \n",
            "/usr/local/lib/python3.10/dist-packages/bioimageio/spec/shared/_resolve_source.py:482: UserWarning: Download (6685) does not have expected size (2345).\n",
            "  warnings.warn(f\"Download ({t.n}) does not have expected size ({total_size}).\")\n",
            "collection.json: 235kiB [00:00, 19.6MiB/s]                   \n",
            "/usr/local/lib/python3.10/dist-packages/bioimageio/spec/shared/_resolve_source.py:482: UserWarning: Download (234788) does not have expected size (28539).\n",
            "  warnings.warn(f\"Download ({t.n}) does not have expected size ({total_size}).\")\n"
          ]
        },
        {
          "output_type": "stream",
          "name": "stdout",
          "text": [
            "[09:33:40.007948] *~~~~~~~~~~~~~~~~~~~~~~~~~~~~~~~~~~~~~~~~~~~~~~~~~~*\n",
            "[09:33:40.014290] Initializing Classification_Workflow\n",
            "[09:33:40.015144] *~~~~~~~~~~~~~~~~~~~~~~~~~~~~~~~~~~~~~~~~~~~~~~~~~~*\n",
            "\n",
            "[09:33:40.019294] ##########################\n",
            "#   LOAD TRAINING DATA   #\n",
            "##########################\n",
            "\n",
            "[09:33:40.021007] 0) Loading train images . . .\n",
            "[09:33:40.021918] ### LOAD ###\n",
            "[09:33:40.022834] Found 11 classes\n",
            "[09:33:40.023769] Analizing folder /content/data/train/0\n",
            "[09:33:40.026337] Found 115 samples\n",
            "[09:33:40.027112] Loading data from /content/data/train/0\n"
          ]
        },
        {
          "output_type": "stream",
          "name": "stderr",
          "text": [
            "100%|██████████| 115/115 [00:00<00:00, 192.11it/s]\n"
          ]
        },
        {
          "output_type": "stream",
          "name": "stdout",
          "text": [
            "[09:33:40.645943] *** Loaded data shape is (115, 28, 28, 28, 1)\n",
            "[09:33:40.646059] Analizing folder /content/data/train/1\n",
            "[09:33:40.646369] Found 115 samples\n",
            "[09:33:40.646439] Loading data from /content/data/train/1\n"
          ]
        },
        {
          "output_type": "stream",
          "name": "stderr",
          "text": [
            "100%|██████████| 115/115 [00:00<00:00, 188.56it/s]\n"
          ]
        },
        {
          "output_type": "stream",
          "name": "stdout",
          "text": [
            "[09:33:41.292892] *** Loaded data shape is (115, 28, 28, 28, 1)\n",
            "[09:33:41.293082] Analizing folder /content/data/train/10\n",
            "[09:33:41.295103] Found 115 samples\n",
            "[09:33:41.296255] Loading data from /content/data/train/10\n"
          ]
        },
        {
          "output_type": "stream",
          "name": "stderr",
          "text": [
            "100%|██████████| 115/115 [00:00<00:00, 173.37it/s]\n"
          ]
        },
        {
          "output_type": "stream",
          "name": "stdout",
          "text": [
            "[09:33:42.017719] *** Loaded data shape is (115, 28, 28, 28, 1)\n",
            "[09:33:42.017905] Analizing folder /content/data/train/2\n",
            "[09:33:42.025550] Found 115 samples\n",
            "[09:33:42.026157] Loading data from /content/data/train/2\n"
          ]
        },
        {
          "output_type": "stream",
          "name": "stderr",
          "text": [
            "100%|██████████| 115/115 [00:00<00:00, 148.84it/s]\n"
          ]
        },
        {
          "output_type": "stream",
          "name": "stdout",
          "text": [
            "[09:33:42.820060] *** Loaded data shape is (115, 28, 28, 28, 1)\n",
            "[09:33:42.821313] Analizing folder /content/data/train/3\n",
            "[09:33:42.822313] Found 91 samples\n",
            "[09:33:42.823158] Loading data from /content/data/train/3\n"
          ]
        },
        {
          "output_type": "stream",
          "name": "stderr",
          "text": [
            "100%|██████████| 91/91 [00:00<00:00, 154.83it/s]\n"
          ]
        },
        {
          "output_type": "stream",
          "name": "stdout",
          "text": [
            "[09:33:43.435430] *** Loaded data shape is (91, 28, 28, 28, 1)\n",
            "[09:33:43.435586] Analizing folder /content/data/train/4\n",
            "[09:33:43.438467] Found 93 samples\n",
            "[09:33:43.438560] Loading data from /content/data/train/4\n"
          ]
        },
        {
          "output_type": "stream",
          "name": "stderr",
          "text": [
            "100%|██████████| 93/93 [00:00<00:00, 146.48it/s]\n"
          ]
        },
        {
          "output_type": "stream",
          "name": "stdout",
          "text": [
            "[09:33:44.089826] *** Loaded data shape is (93, 28, 28, 28, 1)\n",
            "[09:33:44.097752] Analizing folder /content/data/train/5\n",
            "[09:33:44.100029] Found 94 samples\n",
            "[09:33:44.101080] Loading data from /content/data/train/5\n"
          ]
        },
        {
          "output_type": "stream",
          "name": "stderr",
          "text": [
            "100%|██████████| 94/94 [00:00<00:00, 152.82it/s]\n"
          ]
        },
        {
          "output_type": "stream",
          "name": "stdout",
          "text": [
            "[09:33:44.736361] *** Loaded data shape is (94, 28, 28, 28, 1)\n",
            "[09:33:44.740694] Analizing folder /content/data/train/6\n",
            "[09:33:44.741741] Found 40 samples\n",
            "[09:33:44.749305] Loading data from /content/data/train/6\n"
          ]
        },
        {
          "output_type": "stream",
          "name": "stderr",
          "text": [
            "100%|██████████| 40/40 [00:00<00:00, 162.54it/s]\n"
          ]
        },
        {
          "output_type": "stream",
          "name": "stdout",
          "text": [
            "[09:33:45.016778] *** Loaded data shape is (40, 28, 28, 28, 1)\n",
            "[09:33:45.017467] Analizing folder /content/data/train/7\n",
            "[09:33:45.018846] Found 39 samples\n",
            "[09:33:45.019703] Loading data from /content/data/train/7\n"
          ]
        },
        {
          "output_type": "stream",
          "name": "stderr",
          "text": [
            "100%|██████████| 39/39 [00:00<00:00, 129.46it/s]\n"
          ]
        },
        {
          "output_type": "stream",
          "name": "stdout",
          "text": [
            "[09:33:45.350550] *** Loaded data shape is (39, 28, 28, 28, 1)\n",
            "[09:33:45.350718] Analizing folder /content/data/train/8\n",
            "[09:33:45.352987] Found 39 samples\n",
            "[09:33:45.353088] Loading data from /content/data/train/8\n"
          ]
        },
        {
          "output_type": "stream",
          "name": "stderr",
          "text": [
            "100%|██████████| 39/39 [00:00<00:00, 158.80it/s]\n"
          ]
        },
        {
          "output_type": "stream",
          "name": "stdout",
          "text": [
            "[09:33:45.612752] *** Loaded data shape is (39, 28, 28, 28, 1)\n",
            "[09:33:45.614016] Analizing folder /content/data/train/9\n",
            "[09:33:45.615251] Found 115 samples\n",
            "[09:33:45.616157] Loading data from /content/data/train/9\n"
          ]
        },
        {
          "output_type": "stream",
          "name": "stderr",
          "text": [
            "100%|██████████| 115/115 [00:00<00:00, 168.27it/s]\n"
          ]
        },
        {
          "output_type": "stream",
          "name": "stdout",
          "text": [
            "[09:33:46.322291] *** Loaded data shape is (115, 28, 28, 28, 1)\n",
            "[09:33:46.332796] *** Loaded train data shape is: (971, 28, 28, 28, 1)\n",
            "[09:33:46.336021] 1) Loading validation images . . .\n",
            "[09:33:46.337022] ### LOAD ###\n",
            "[09:33:46.337911] Found 11 classes\n",
            "[09:33:46.338781] Analizing folder /content/data/validation/0\n",
            "[09:33:46.339646] Found 16 samples\n",
            "[09:33:46.340519] Loading data from /content/data/validation/0\n"
          ]
        },
        {
          "output_type": "stream",
          "name": "stderr",
          "text": [
            "100%|██████████| 16/16 [00:00<00:00, 159.39it/s]\n"
          ]
        },
        {
          "output_type": "stream",
          "name": "stdout",
          "text": [
            "[09:33:46.450172] *** Loaded data shape is (16, 28, 28, 28, 1)\n",
            "[09:33:46.451562] Analizing folder /content/data/validation/1\n",
            "[09:33:46.452809] Found 16 samples\n",
            "[09:33:46.453855] Loading data from /content/data/validation/1\n"
          ]
        },
        {
          "output_type": "stream",
          "name": "stderr",
          "text": [
            "100%|██████████| 16/16 [00:00<00:00, 136.22it/s]\n"
          ]
        },
        {
          "output_type": "stream",
          "name": "stdout",
          "text": [
            "[09:33:46.582642] *** Loaded data shape is (16, 28, 28, 28, 1)\n",
            "[09:33:46.582815] Analizing folder /content/data/validation/10\n",
            "[09:33:46.588361] Found 16 samples\n",
            "[09:33:46.588462] Loading data from /content/data/validation/10\n"
          ]
        },
        {
          "output_type": "stream",
          "name": "stderr",
          "text": [
            "100%|██████████| 16/16 [00:00<00:00, 174.04it/s]\n"
          ]
        },
        {
          "output_type": "stream",
          "name": "stdout",
          "text": [
            "[09:33:46.705288] *** Loaded data shape is (16, 28, 28, 28, 1)\n",
            "[09:33:46.706573] Analizing folder /content/data/validation/2\n",
            "[09:33:46.707199] Found 14 samples\n",
            "[09:33:46.707784] Loading data from /content/data/validation/2\n"
          ]
        },
        {
          "output_type": "stream",
          "name": "stderr",
          "text": [
            "100%|██████████| 14/14 [00:00<00:00, 201.36it/s]\n"
          ]
        },
        {
          "output_type": "stream",
          "name": "stdout",
          "text": [
            "[09:33:46.792362] *** Loaded data shape is (14, 28, 28, 28, 1)\n",
            "[09:33:46.793605] Analizing folder /content/data/validation/3\n",
            "[09:33:46.794551] Found 14 samples\n",
            "[09:33:46.795357] Loading data from /content/data/validation/3\n"
          ]
        },
        {
          "output_type": "stream",
          "name": "stderr",
          "text": [
            "100%|██████████| 14/14 [00:00<00:00, 234.80it/s]\n"
          ]
        },
        {
          "output_type": "stream",
          "name": "stdout",
          "text": [
            "[09:33:46.875301] *** Loaded data shape is (14, 28, 28, 28, 1)\n",
            "[09:33:46.876512] Analizing folder /content/data/validation/4\n",
            "[09:33:46.877421] Found 15 samples\n",
            "[09:33:46.878226] Loading data from /content/data/validation/4\n"
          ]
        },
        {
          "output_type": "stream",
          "name": "stderr",
          "text": [
            "100%|██████████| 15/15 [00:00<00:00, 112.63it/s]\n"
          ]
        },
        {
          "output_type": "stream",
          "name": "stdout",
          "text": [
            "[09:33:47.030580] *** Loaded data shape is (15, 28, 28, 28, 1)\n",
            "[09:33:47.030688] Analizing folder /content/data/validation/5\n",
            "[09:33:47.030805] Found 15 samples\n",
            "[09:33:47.030844] Loading data from /content/data/validation/5\n"
          ]
        },
        {
          "output_type": "stream",
          "name": "stderr",
          "text": [
            "100%|██████████| 15/15 [00:00<00:00, 158.69it/s]\n"
          ]
        },
        {
          "output_type": "stream",
          "name": "stdout",
          "text": [
            "[09:33:47.146883] *** Loaded data shape is (15, 28, 28, 28, 1)\n",
            "[09:33:47.148095] Analizing folder /content/data/validation/6\n",
            "[09:33:47.149111] Found 13 samples\n",
            "[09:33:47.156604] Loading data from /content/data/validation/6\n"
          ]
        },
        {
          "output_type": "stream",
          "name": "stderr",
          "text": [
            "100%|██████████| 13/13 [00:00<00:00, 211.67it/s]\n"
          ]
        },
        {
          "output_type": "stream",
          "name": "stdout",
          "text": [
            "[09:33:47.228276] *** Loaded data shape is (13, 28, 28, 28, 1)\n",
            "[09:33:47.230433] Analizing folder /content/data/validation/7\n",
            "[09:33:47.231469] Found 13 samples\n",
            "[09:33:47.232736] Loading data from /content/data/validation/7\n"
          ]
        },
        {
          "output_type": "stream",
          "name": "stderr",
          "text": [
            "100%|██████████| 13/13 [00:00<00:00, 167.09it/s]\n"
          ]
        },
        {
          "output_type": "stream",
          "name": "stdout",
          "text": [
            "[09:33:47.331288] *** Loaded data shape is (13, 28, 28, 28, 1)\n",
            "[09:33:47.331433] Analizing folder /content/data/validation/8\n",
            "[09:33:47.333355] Found 13 samples\n",
            "[09:33:47.333455] Loading data from /content/data/validation/8\n"
          ]
        },
        {
          "output_type": "stream",
          "name": "stderr",
          "text": [
            "100%|██████████| 13/13 [00:00<00:00, 201.69it/s]\n"
          ]
        },
        {
          "output_type": "stream",
          "name": "stdout",
          "text": [
            "[09:33:47.409221] *** Loaded data shape is (13, 28, 28, 28, 1)\n",
            "[09:33:47.410695] Analizing folder /content/data/validation/9\n",
            "[09:33:47.411698] Found 16 samples\n",
            "[09:33:47.412659] Loading data from /content/data/validation/9\n"
          ]
        },
        {
          "output_type": "stream",
          "name": "stderr",
          "text": [
            "100%|██████████| 16/16 [00:00<00:00, 199.67it/s]\n"
          ]
        },
        {
          "output_type": "stream",
          "name": "stdout",
          "text": [
            "[09:33:47.502024] *** Loaded data shape is (16, 28, 28, 28, 1)\n",
            "[09:33:47.506606] *** Loaded train data shape is: (161, 28, 28, 28, 1)\n",
            "[09:33:47.507519] ###############\n",
            "[09:33:47.508386] # Build model #\n",
            "[09:33:47.509211] ###############\n",
            "[09:33:50.293185] ##############################\n",
            "[09:33:50.294456] #  PREPARE TRAIN GENERATORS  #\n",
            "[09:33:50.299982] ##############################\n",
            "[09:33:50.300821] Initializing train data generator . . .\n",
            "[09:33:50.306866] Normalization config used for X: {'type': 'div', 'mask_norm': 'as_mask', 'application_mode': 'image', 'enable': True, 'orig_dtype': dtype('uint8'), 'div': 1}\n",
            "[09:33:50.316312] Initializing val data generator . . .\n",
            "[09:33:50.316668] Normalization config used for X: {'type': 'div', 'mask_norm': 'as_mask', 'application_mode': 'image', 'enable': True, 'orig_dtype': dtype('uint8'), 'div': 1}\n",
            "[09:33:50.316881] Creating generator samples . . .\n"
          ]
        },
        {
          "output_type": "stream",
          "name": "stderr",
          "text": [
            "  0%|          | 0/10 [00:00<?, ?it/s]\n",
            "  0%|          | 0/1 [00:00<?, ?it/s]\u001b[A\n",
            "                                     \u001b[A\n",
            "  0%|          | 0/1 [00:00<?, ?it/s]\u001b[A\n",
            " 10%|█         | 1/10 [00:00<00:01,  8.61it/s]\n",
            "  0%|          | 0/1 [00:00<?, ?it/s]\u001b[A\n",
            "                                     \u001b[A\n",
            "  0%|          | 0/1 [00:00<?, ?it/s]\u001b[A\n",
            "                                     \u001b[A\n",
            "  0%|          | 0/1 [00:00<?, ?it/s]\u001b[A\n",
            "                                     \u001b[A\n",
            "  0%|          | 0/1 [00:00<?, ?it/s]\u001b[A\n",
            " 30%|███       | 3/10 [00:00<00:00, 11.03it/s]\n",
            "  0%|          | 0/1 [00:00<?, ?it/s]\u001b[A\n",
            "                                     \u001b[A\n",
            "  0%|          | 0/1 [00:00<?, ?it/s]\u001b[A\n",
            "                                     \u001b[A\n",
            "  0%|          | 0/1 [00:00<?, ?it/s]\u001b[A\n",
            "                                     \u001b[A\n",
            "  0%|          | 0/1 [00:00<?, ?it/s]\u001b[A\n",
            " 50%|█████     | 5/10 [00:00<00:00, 13.12it/s]\n",
            "  0%|          | 0/1 [00:00<?, ?it/s]\u001b[A\n",
            "                                     \u001b[A\n",
            "  0%|          | 0/1 [00:00<?, ?it/s]\u001b[A\n",
            "                                     \u001b[A\n",
            "  0%|          | 0/1 [00:00<?, ?it/s]\u001b[A\n",
            "                                     \u001b[A\n",
            "  0%|          | 0/1 [00:00<?, ?it/s]\u001b[A\n",
            " 70%|███████   | 7/10 [00:00<00:00, 12.87it/s]\n",
            "  0%|          | 0/1 [00:00<?, ?it/s]\u001b[A\n",
            "                                     \u001b[A\n",
            "  0%|          | 0/1 [00:00<?, ?it/s]\u001b[A\n",
            "                                     \u001b[A\n",
            "  0%|          | 0/1 [00:00<?, ?it/s]\u001b[A\n",
            "                                     \u001b[A\n",
            "  0%|          | 0/1 [00:00<?, ?it/s]\u001b[A\n",
            " 90%|█████████ | 9/10 [00:00<00:00,  9.12it/s]\n",
            "  0%|          | 0/1 [00:00<?, ?it/s]\u001b[A\n",
            "                                     \u001b[A\n",
            "  0%|          | 0/1 [00:00<?, ?it/s]\u001b[A\n",
            "100%|██████████| 10/10 [00:00<00:00, 10.45it/s]\n",
            "/usr/local/lib/python3.10/dist-packages/torch/utils/data/dataloader.py:558: UserWarning: This DataLoader will create 5 worker processes in total. Our suggested max number of worker in current system is 2, which is smaller than what this DataLoader is going to create. Please be aware that excessive worker creation might get DataLoader running slow or even freeze, lower the worker number to avoid potential slowness/freeze if necessary.\n",
            "  warnings.warn(_create_warning_msg(\n"
          ]
        },
        {
          "output_type": "stream",
          "name": "stdout",
          "text": [
            "[09:33:51.290693] ### END TR-SAMPLES ###\n",
            "[09:33:51.290785] Number of workers: 5\n",
            "[09:33:51.290828] Accumulate grad iterations: 1\n",
            "[09:33:51.290859] Effective batch size: 8\n",
            "[09:33:51.291184] Sampler_train = <torch.utils.data.distributed.DistributedSampler object at 0x7aa67c7f0610>\n",
            "[09:33:51.292250] #######################\n",
            "[09:33:51.292324] # Prepare logging tool #\n",
            "[09:33:51.292362] #######################\n",
            "[09:33:51.322705] AdamW (\n",
            "Parameter Group 0\n",
            "    amsgrad: False\n",
            "    betas: (0.9, 0.999)\n",
            "    capturable: False\n",
            "    differentiable: False\n",
            "    eps: 1e-08\n",
            "    foreach: None\n",
            "    fused: None\n",
            "    lr: 0.0001\n",
            "    maximize: False\n",
            "    weight_decay: 0.0\n",
            "\n",
            "Parameter Group 1\n",
            "    amsgrad: False\n",
            "    betas: (0.9, 0.999)\n",
            "    capturable: False\n",
            "    differentiable: False\n",
            "    eps: 1e-08\n",
            "    foreach: None\n",
            "    fused: None\n",
            "    lr: 0.0001\n",
            "    maximize: False\n",
            "    weight_decay: 0.02\n",
            ")\n",
            "[09:33:51.322997] #####################\n",
            "[09:33:51.323041] #  TRAIN THE MODEL  #\n",
            "[09:33:51.323071] #####################\n",
            "[09:33:51.323110] Start training in epoch 1 - Total: 10\n",
            "[09:33:51.323158] ~~~ Epoch 1/10 ~~~\n",
            "\n",
            "[09:34:22.966912] Epoch: [1]  [  0/122]  eta: 1:04:20  loss: 2.3850 (2.3850)  accuracy: 0.2500 (0.2500)  top-5-accuracy: 0.2500 (0.2500)  lr: 0.000004  iter-time: 31.6419\n",
            "[09:34:23.868430] Epoch: [1]  [ 10/122]  eta: 0:05:31  loss: 2.4140 (2.4060)  accuracy: 0.0000 (0.0682)  top-5-accuracy: 0.3750 (0.4432)  lr: 0.000004  iter-time: 2.9583\n",
            "[09:34:24.775728] Epoch: [1]  [ 20/122]  eta: 0:02:42  loss: 2.4109 (2.3984)  accuracy: 0.0000 (0.0952)  top-5-accuracy: 0.5000 (0.4583)  lr: 0.000005  iter-time: 0.0901\n",
            "[09:34:25.710623] Epoch: [1]  [ 30/122]  eta: 0:01:42  loss: 2.3770 (2.3887)  accuracy: 0.1250 (0.1331)  top-5-accuracy: 0.5000 (0.4758)  lr: 0.000006  iter-time: 0.0917\n",
            "[09:34:26.644574] Epoch: [1]  [ 40/122]  eta: 0:01:10  loss: 2.3957 (2.3904)  accuracy: 0.1250 (0.1341)  top-5-accuracy: 0.5000 (0.4970)  lr: 0.000007  iter-time: 0.0931\n",
            "[09:34:27.559464] Epoch: [1]  [ 50/122]  eta: 0:00:51  loss: 2.3957 (2.3876)  accuracy: 0.1250 (0.1373)  top-5-accuracy: 0.6250 (0.5049)  lr: 0.000009  iter-time: 0.0922\n",
            "[09:34:28.467471] Epoch: [1]  [ 60/122]  eta: 0:00:37  loss: 2.3578 (2.3796)  accuracy: 0.1250 (0.1434)  top-5-accuracy: 0.6250 (0.5266)  lr: 0.000010  iter-time: 0.0908\n",
            "[09:34:29.337971] Epoch: [1]  [ 70/122]  eta: 0:00:27  loss: 2.3483 (2.3744)  accuracy: 0.1250 (0.1479)  top-5-accuracy: 0.6250 (0.5458)  lr: 0.000013  iter-time: 0.0886\n",
            "[09:34:30.168895] Epoch: [1]  [ 80/122]  eta: 0:00:20  loss: 2.3165 (2.3613)  accuracy: 0.2500 (0.1667)  top-5-accuracy: 0.7500 (0.5710)  lr: 0.000015  iter-time: 0.0849\n",
            "[09:34:31.003159] Epoch: [1]  [ 90/122]  eta: 0:00:13  loss: 2.2867 (2.3543)  accuracy: 0.2500 (0.1758)  top-5-accuracy: 0.7500 (0.5920)  lr: 0.000018  iter-time: 0.0831\n",
            "[09:34:31.839800] Epoch: [1]  [100/122]  eta: 0:00:08  loss: 2.2833 (2.3474)  accuracy: 0.2500 (0.1844)  top-5-accuracy: 0.7500 (0.6089)  lr: 0.000021  iter-time: 0.0834\n",
            "[09:34:32.677396] Epoch: [1]  [110/122]  eta: 0:00:04  loss: 2.2672 (2.3387)  accuracy: 0.2500 (0.1937)  top-5-accuracy: 0.7500 (0.6216)  lr: 0.000024  iter-time: 0.0835\n",
            "[09:34:33.509921] Epoch: [1]  [120/122]  eta: 0:00:00  loss: 2.2534 (2.3314)  accuracy: 0.2500 (0.2014)  top-5-accuracy: 0.7500 (0.6364)  lr: 0.000028  iter-time: 0.0833\n",
            "[09:34:43.212410] Epoch: [1]  [121/122]  eta: 0:00:00  loss: 2.2534 (2.3324)  accuracy: 0.2500 (0.1998)  top-5-accuracy: 0.7500 (0.6339)  lr: 0.000028  iter-time: 0.5643\n",
            "[09:34:43.341632] Epoch: [1] Total time: 0:00:52 (0.4264 s / it)\n",
            "[09:34:43.345079] [Train] averaged stats: loss: 2.2534 (2.3324)  accuracy: 0.2500 (0.1998)  top-5-accuracy: 0.7500 (0.6339)  lr: 0.000028\n",
            "[09:34:43.616685] Epoch: [1]  [ 0/21]  eta: 0:00:05  loss: 1.6534 (1.6534)  accuracy: 1.0000 (1.0000)  top-5-accuracy: 1.0000 (1.0000)  iter-time: 0.2698\n",
            "[09:34:43.894655] Epoch: [1]  [10/21]  eta: 0:00:00  loss: 2.3467 (2.1465)  accuracy: 0.1250 (0.3523)  top-5-accuracy: 1.0000 (0.9773)  iter-time: 0.0497\n",
            "[09:34:44.694243] Epoch: [1]  [20/21]  eta: 0:00:00  loss: 2.3256 (2.1122)  accuracy: 0.1250 (0.4405)  top-5-accuracy: 1.0000 (0.8869)  iter-time: 0.0538\n",
            "[09:34:44.764799] Epoch: [1] Total time: 0:00:01 (0.0675 s / it)\n",
            "[09:34:44.764936] [Val] averaged stats: loss: 2.3256 (2.1122)  accuracy: 0.1250 (0.4405)  top-5-accuracy: 1.0000 (0.8869)\n",
            "[09:34:44.767919] Val loss improved from inf to 2.112244651431129, saving model to /content/output/my_3d_classification/checkpoints/my_3d_classification_1-checkpoint-best.pth\n",
            "[09:34:44.799466] [Val] best loss: 2.1122 best  accuracy: 0.4405 top-5-accuracy: 0.8869 \n",
            "[09:34:44.801965] [Time] 53.5s 53.5s/9.8m\n",
            "\n",
            "[09:34:44.802051] ~~~ Epoch 2/10 ~~~\n",
            "\n",
            "[09:34:45.159846] Epoch: [2]  [  0/122]  eta: 0:00:43  loss: 2.2818 (2.2818)  accuracy: 0.2500 (0.2500)  top-5-accuracy: 0.7500 (0.7500)  lr: 0.000028  iter-time: 0.3558\n",
            "[09:34:46.018138] Epoch: [2]  [ 10/122]  eta: 0:00:12  loss: 2.1485 (2.1612)  accuracy: 0.3750 (0.3977)  top-5-accuracy: 0.8750 (0.8523)  lr: 0.000032  iter-time: 0.1099\n",
            "[09:34:46.860520] Epoch: [2]  [ 20/122]  eta: 0:00:09  loss: 2.1576 (2.1674)  accuracy: 0.3750 (0.3869)  top-5-accuracy: 0.8750 (0.8571)  lr: 0.000036  iter-time: 0.0846\n",
            "[09:34:47.720644] Epoch: [2]  [ 30/122]  eta: 0:00:08  loss: 2.1576 (2.1537)  accuracy: 0.3750 (0.4113)  top-5-accuracy: 0.7500 (0.8306)  lr: 0.000040  iter-time: 0.0849\n",
            "[09:34:48.573212] Epoch: [2]  [ 40/122]  eta: 0:00:07  loss: 2.1396 (2.1508)  accuracy: 0.5000 (0.4146)  top-5-accuracy: 0.7500 (0.8384)  lr: 0.000044  iter-time: 0.0855\n",
            "[09:34:49.426178] Epoch: [2]  [ 50/122]  eta: 0:00:06  loss: 2.1620 (2.1570)  accuracy: 0.3750 (0.4167)  top-5-accuracy: 0.8750 (0.8456)  lr: 0.000048  iter-time: 0.0851\n",
            "[09:34:50.278566] Epoch: [2]  [ 60/122]  eta: 0:00:05  loss: 2.1332 (2.1508)  accuracy: 0.5000 (0.4262)  top-5-accuracy: 0.8750 (0.8443)  lr: 0.000052  iter-time: 0.0850\n",
            "[09:34:51.131446] Epoch: [2]  [ 70/122]  eta: 0:00:04  loss: 2.0622 (2.1406)  accuracy: 0.5000 (0.4401)  top-5-accuracy: 0.8750 (0.8556)  lr: 0.000056  iter-time: 0.0851\n",
            "[09:34:51.987822] Epoch: [2]  [ 80/122]  eta: 0:00:03  loss: 2.0567 (2.1281)  accuracy: 0.5000 (0.4568)  top-5-accuracy: 0.8750 (0.8596)  lr: 0.000060  iter-time: 0.0853\n",
            "[09:34:52.842143] Epoch: [2]  [ 90/122]  eta: 0:00:02  loss: 2.0067 (2.1153)  accuracy: 0.6250 (0.4712)  top-5-accuracy: 1.0000 (0.8668)  lr: 0.000064  iter-time: 0.0853\n",
            "[09:34:53.710902] Epoch: [2]  [100/122]  eta: 0:00:01  loss: 2.0494 (2.1144)  accuracy: 0.5000 (0.4703)  top-5-accuracy: 0.8750 (0.8639)  lr: 0.000068  iter-time: 0.0859\n",
            "[09:34:54.606053] Epoch: [2]  [110/122]  eta: 0:00:01  loss: 2.0119 (2.0999)  accuracy: 0.5000 (0.4842)  top-5-accuracy: 0.8750 (0.8660)  lr: 0.000072  iter-time: 0.0879\n",
            "[09:34:55.470577] Epoch: [2]  [120/122]  eta: 0:00:00  loss: 1.8851 (2.0846)  accuracy: 0.6250 (0.5000)  top-5-accuracy: 0.8750 (0.8740)  lr: 0.000076  iter-time: 0.0878\n",
            "[09:34:55.511962] Epoch: [2]  [121/122]  eta: 0:00:00  loss: 1.9252 (2.0879)  accuracy: 0.6250 (0.4959)  top-5-accuracy: 0.8750 (0.8723)  lr: 0.000076  iter-time: 0.0856\n",
            "[09:34:55.623174] Epoch: [2] Total time: 0:00:10 (0.0887 s / it)\n",
            "[09:34:55.624522] [Train] averaged stats: loss: 1.9252 (2.0879)  accuracy: 0.6250 (0.4959)  top-5-accuracy: 0.8750 (0.8723)  lr: 0.000076\n",
            "[09:34:55.866532] Epoch: [2]  [ 0/21]  eta: 0:00:05  loss: 1.6317 (1.6317)  accuracy: 1.0000 (1.0000)  top-5-accuracy: 1.0000 (1.0000)  iter-time: 0.2391\n",
            "[09:34:56.193539] Epoch: [2]  [10/21]  eta: 0:00:00  loss: 1.6317 (1.7460)  accuracy: 1.0000 (0.8636)  top-5-accuracy: 1.0000 (1.0000)  iter-time: 0.0514\n",
            "[09:34:56.456667] Epoch: [2]  [20/21]  eta: 0:00:00  loss: 1.6848 (1.7615)  accuracy: 0.8750 (0.8393)  top-5-accuracy: 1.0000 (0.9940)  iter-time: 0.0294\n",
            "[09:34:56.573182] Epoch: [2] Total time: 0:00:00 (0.0451 s / it)\n",
            "[09:34:56.573943] [Val] averaged stats: loss: 1.6848 (1.7615)  accuracy: 0.8750 (0.8393)  top-5-accuracy: 1.0000 (0.9940)\n",
            "[09:34:56.574702] Val loss improved from 2.112244651431129 to 1.7614697445006597, saving model to /content/output/my_3d_classification/checkpoints/my_3d_classification_1-checkpoint-best.pth\n",
            "[09:34:56.643279] [Val] best loss: 1.7615 best  accuracy: 0.8393 top-5-accuracy: 0.9940 \n",
            "[09:34:56.646095] [Time] 11.8s 1.1m/2.9m\n",
            "\n",
            "[09:34:56.646991] ~~~ Epoch 3/10 ~~~\n",
            "\n",
            "[09:34:57.060934] Epoch: [3]  [  0/122]  eta: 0:00:49  loss: 2.0737 (2.0737)  accuracy: 0.5000 (0.5000)  top-5-accuracy: 0.8750 (0.8750)  lr: 0.000077  iter-time: 0.4067\n",
            "[09:34:57.921394] Epoch: [3]  [ 10/122]  eta: 0:00:12  loss: 1.8515 (1.9058)  accuracy: 0.7500 (0.6818)  top-5-accuracy: 1.0000 (0.9886)  lr: 0.000080  iter-time: 0.1150\n",
            "[09:34:58.778888] Epoch: [3]  [ 20/122]  eta: 0:00:10  loss: 1.8693 (1.9288)  accuracy: 0.7500 (0.6607)  top-5-accuracy: 1.0000 (0.9643)  lr: 0.000083  iter-time: 0.0857\n",
            "[09:34:59.646172] Epoch: [3]  [ 30/122]  eta: 0:00:08  loss: 1.9853 (1.9353)  accuracy: 0.5000 (0.6452)  top-5-accuracy: 0.8750 (0.9395)  lr: 0.000086  iter-time: 0.0861\n",
            "[09:35:00.514807] Epoch: [3]  [ 40/122]  eta: 0:00:07  loss: 1.9187 (1.9345)  accuracy: 0.6250 (0.6585)  top-5-accuracy: 1.0000 (0.9421)  lr: 0.000089  iter-time: 0.0866\n",
            "[09:35:01.381414] Epoch: [3]  [ 50/122]  eta: 0:00:06  loss: 1.8948 (1.9288)  accuracy: 0.7500 (0.6691)  top-5-accuracy: 1.0000 (0.9363)  lr: 0.000092  iter-time: 0.0866\n",
            "[09:35:02.253784] Epoch: [3]  [ 60/122]  eta: 0:00:05  loss: 1.8948 (1.9294)  accuracy: 0.7500 (0.6660)  top-5-accuracy: 0.8750 (0.9344)  lr: 0.000094  iter-time: 0.0868\n",
            "[09:35:03.127185] Epoch: [3]  [ 70/122]  eta: 0:00:04  loss: 1.8913 (1.9257)  accuracy: 0.6250 (0.6673)  top-5-accuracy: 1.0000 (0.9349)  lr: 0.000096  iter-time: 0.0871\n",
            "[09:35:03.997847] Epoch: [3]  [ 80/122]  eta: 0:00:03  loss: 1.8661 (1.9180)  accuracy: 0.6250 (0.6744)  top-5-accuracy: 1.0000 (0.9352)  lr: 0.000097  iter-time: 0.0869\n",
            "[09:35:04.867368] Epoch: [3]  [ 90/122]  eta: 0:00:02  loss: 1.8208 (1.9063)  accuracy: 0.7500 (0.6841)  top-5-accuracy: 1.0000 (0.9382)  lr: 0.000098  iter-time: 0.0869\n",
            "[09:35:05.740581] Epoch: [3]  [100/122]  eta: 0:00:01  loss: 1.8412 (1.9084)  accuracy: 0.6250 (0.6795)  top-5-accuracy: 1.0000 (0.9369)  lr: 0.000099  iter-time: 0.0870\n",
            "[09:35:06.609610] Epoch: [3]  [110/122]  eta: 0:00:01  loss: 1.8716 (1.9027)  accuracy: 0.6250 (0.6813)  top-5-accuracy: 0.8750 (0.9358)  lr: 0.000100  iter-time: 0.0870\n",
            "[09:35:07.482311] Epoch: [3]  [120/122]  eta: 0:00:00  loss: 1.7743 (1.8887)  accuracy: 0.7500 (0.6942)  top-5-accuracy: 1.0000 (0.9380)  lr: 0.000100  iter-time: 0.0869\n",
            "[09:35:07.525939] Epoch: [3]  [121/122]  eta: 0:00:00  loss: 1.7743 (1.8930)  accuracy: 0.7500 (0.6885)  top-5-accuracy: 1.0000 (0.9358)  lr: 0.000100  iter-time: 0.0847\n",
            "[09:35:07.650569] Epoch: [3] Total time: 0:00:11 (0.0902 s / it)\n",
            "[09:35:07.650747] [Train] averaged stats: loss: 1.7743 (1.8930)  accuracy: 0.7500 (0.6885)  top-5-accuracy: 1.0000 (0.9358)  lr: 0.000100\n",
            "[09:35:07.904134] Epoch: [3]  [ 0/21]  eta: 0:00:05  loss: 1.5836 (1.5836)  accuracy: 1.0000 (1.0000)  top-5-accuracy: 1.0000 (1.0000)  iter-time: 0.2502\n",
            "[09:35:08.224289] Epoch: [3]  [10/21]  eta: 0:00:00  loss: 1.5709 (1.6297)  accuracy: 1.0000 (0.9205)  top-5-accuracy: 1.0000 (1.0000)  iter-time: 0.0512\n",
            "[09:35:08.494941] Epoch: [3]  [20/21]  eta: 0:00:00  loss: 1.5735 (1.6839)  accuracy: 1.0000 (0.8690)  top-5-accuracy: 1.0000 (1.0000)  iter-time: 0.0291\n",
            "[09:35:08.605482] Epoch: [3] Total time: 0:00:00 (0.0453 s / it)\n",
            "[09:35:08.605649] [Val] averaged stats: loss: 1.5735 (1.6839)  accuracy: 1.0000 (0.8690)  top-5-accuracy: 1.0000 (1.0000)\n",
            "[09:35:08.607893] Val loss improved from 1.7614697445006597 to 1.6839044832047962, saving model to /content/output/my_3d_classification/checkpoints/my_3d_classification_1-checkpoint-best.pth\n",
            "[09:35:08.673187] [Val] best loss: 1.6839 best  accuracy: 0.8690 top-5-accuracy: 1.0000 \n",
            "[09:35:08.675874] [Time] 12.0s 1.3m/2.9m\n",
            "\n",
            "[09:35:08.675961] ~~~ Epoch 4/10 ~~~\n",
            "\n",
            "[09:35:09.318781] Epoch: [4]  [  0/122]  eta: 0:01:18  loss: 1.7434 (1.7434)  accuracy: 0.8750 (0.8750)  top-5-accuracy: 0.8750 (0.8750)  lr: 0.000100  iter-time: 0.6407\n",
            "[09:35:10.200566] Epoch: [4]  [ 10/122]  eta: 0:00:15  loss: 1.8146 (1.8029)  accuracy: 0.7500 (0.7841)  top-5-accuracy: 1.0000 (0.9659)  lr: 0.000100  iter-time: 0.1381\n",
            "[09:35:11.067628] Epoch: [4]  [ 20/122]  eta: 0:00:11  loss: 1.8181 (1.8120)  accuracy: 0.7500 (0.7738)  top-5-accuracy: 1.0000 (0.9583)  lr: 0.000100  iter-time: 0.0872\n",
            "[09:35:11.942860] Epoch: [4]  [ 30/122]  eta: 0:00:09  loss: 1.8488 (1.8350)  accuracy: 0.7500 (0.7419)  top-5-accuracy: 1.0000 (0.9516)  lr: 0.000100  iter-time: 0.0870\n",
            "[09:35:12.824728] Epoch: [4]  [ 40/122]  eta: 0:00:08  loss: 1.8435 (1.8298)  accuracy: 0.7500 (0.7439)  top-5-accuracy: 1.0000 (0.9512)  lr: 0.000099  iter-time: 0.0877\n",
            "[09:35:13.703474] Epoch: [4]  [ 50/122]  eta: 0:00:07  loss: 1.8331 (1.8425)  accuracy: 0.7500 (0.7304)  top-5-accuracy: 1.0000 (0.9510)  lr: 0.000099  iter-time: 0.0879\n",
            "[09:35:14.585069] Epoch: [4]  [ 60/122]  eta: 0:00:05  loss: 1.8133 (1.8364)  accuracy: 0.7500 (0.7336)  top-5-accuracy: 1.0000 (0.9529)  lr: 0.000099  iter-time: 0.0879\n",
            "[09:35:15.465289] Epoch: [4]  [ 70/122]  eta: 0:00:04  loss: 1.7874 (1.8302)  accuracy: 0.7500 (0.7342)  top-5-accuracy: 1.0000 (0.9560)  lr: 0.000098  iter-time: 0.0880\n",
            "[09:35:16.348808] Epoch: [4]  [ 80/122]  eta: 0:00:03  loss: 1.7664 (1.8206)  accuracy: 0.7500 (0.7454)  top-5-accuracy: 1.0000 (0.9552)  lr: 0.000098  iter-time: 0.0880\n",
            "[09:35:17.234432] Epoch: [4]  [ 90/122]  eta: 0:00:03  loss: 1.7220 (1.8118)  accuracy: 0.8750 (0.7555)  top-5-accuracy: 1.0000 (0.9533)  lr: 0.000097  iter-time: 0.0883\n",
            "[09:35:18.117731] Epoch: [4]  [100/122]  eta: 0:00:02  loss: 1.7741 (1.8144)  accuracy: 0.7500 (0.7537)  top-5-accuracy: 0.8750 (0.9505)  lr: 0.000097  iter-time: 0.0883\n",
            "[09:35:19.005214] Epoch: [4]  [110/122]  eta: 0:00:01  loss: 1.7835 (1.8125)  accuracy: 0.7500 (0.7556)  top-5-accuracy: 1.0000 (0.9505)  lr: 0.000096  iter-time: 0.0884\n",
            "[09:35:19.888515] Epoch: [4]  [120/122]  eta: 0:00:00  loss: 1.7618 (1.8047)  accuracy: 0.8750 (0.7655)  top-5-accuracy: 1.0000 (0.9535)  lr: 0.000095  iter-time: 0.0884\n",
            "[09:35:19.930159] Epoch: [4]  [121/122]  eta: 0:00:00  loss: 1.7618 (1.8096)  accuracy: 0.8750 (0.7592)  top-5-accuracy: 1.0000 (0.9539)  lr: 0.000095  iter-time: 0.0860\n",
            "[09:35:20.064727] Epoch: [4] Total time: 0:00:11 (0.0933 s / it)\n",
            "[09:35:20.064906] [Train] averaged stats: loss: 1.7618 (1.8096)  accuracy: 0.8750 (0.7592)  top-5-accuracy: 1.0000 (0.9539)  lr: 0.000095\n",
            "[09:35:20.356804] Epoch: [4]  [ 0/21]  eta: 0:00:06  loss: 1.5432 (1.5432)  accuracy: 1.0000 (1.0000)  top-5-accuracy: 1.0000 (1.0000)  iter-time: 0.2884\n",
            "[09:35:20.672027] Epoch: [4]  [10/21]  eta: 0:00:00  loss: 1.5473 (1.5599)  accuracy: 1.0000 (0.9886)  top-5-accuracy: 1.0000 (1.0000)  iter-time: 0.0544\n",
            "[09:35:20.994060] Epoch: [4]  [20/21]  eta: 0:00:00  loss: 1.5528 (1.6166)  accuracy: 1.0000 (0.9286)  top-5-accuracy: 1.0000 (1.0000)  iter-time: 0.0315\n",
            "[09:35:21.219368] Epoch: [4] Total time: 0:00:01 (0.0548 s / it)\n",
            "[09:35:21.219495] [Val] averaged stats: loss: 1.5528 (1.6166)  accuracy: 1.0000 (0.9286)  top-5-accuracy: 1.0000 (1.0000)\n",
            "[09:35:21.220155] Val loss improved from 1.6839044832047962 to 1.6165801116398402, saving model to /content/output/my_3d_classification/checkpoints/my_3d_classification_1-checkpoint-best.pth\n",
            "[09:35:21.518802] [Val] best loss: 1.6166 best  accuracy: 0.9286 top-5-accuracy: 1.0000 \n",
            "[09:35:21.523865] [Time] 12.8s 1.5m/3.0m\n",
            "\n",
            "[09:35:21.526995] ~~~ Epoch 5/10 ~~~\n",
            "\n",
            "[09:35:22.303631] Epoch: [5]  [  0/122]  eta: 0:01:33  loss: 1.8676 (1.8676)  accuracy: 0.6250 (0.6250)  top-5-accuracy: 1.0000 (1.0000)  lr: 0.000095  iter-time: 0.7671\n",
            "[09:35:23.326603] Epoch: [5]  [ 10/122]  eta: 0:00:18  loss: 1.7190 (1.7295)  accuracy: 0.8750 (0.8068)  top-5-accuracy: 1.0000 (0.9886)  lr: 0.000094  iter-time: 0.1626\n",
            "[09:35:24.282872] Epoch: [5]  [ 20/122]  eta: 0:00:13  loss: 1.7118 (1.7419)  accuracy: 0.8750 (0.8095)  top-5-accuracy: 1.0000 (0.9643)  lr: 0.000093  iter-time: 0.0987\n",
            "[09:35:25.282759] Epoch: [5]  [ 30/122]  eta: 0:00:11  loss: 1.7439 (1.7573)  accuracy: 0.7500 (0.7944)  top-5-accuracy: 1.0000 (0.9476)  lr: 0.000092  iter-time: 0.0976\n",
            "[09:35:26.177422] Epoch: [5]  [ 40/122]  eta: 0:00:09  loss: 1.6901 (1.7478)  accuracy: 0.8750 (0.8079)  top-5-accuracy: 1.0000 (0.9573)  lr: 0.000091  iter-time: 0.0946\n",
            "[09:35:27.075282] Epoch: [5]  [ 50/122]  eta: 0:00:07  loss: 1.6901 (1.7542)  accuracy: 0.8750 (0.8015)  top-5-accuracy: 1.0000 (0.9559)  lr: 0.000090  iter-time: 0.0895\n",
            "[09:35:27.974611] Epoch: [5]  [ 60/122]  eta: 0:00:06  loss: 1.7620 (1.7622)  accuracy: 0.7500 (0.7951)  top-5-accuracy: 1.0000 (0.9570)  lr: 0.000089  iter-time: 0.0897\n",
            "[09:35:28.873568] Epoch: [5]  [ 70/122]  eta: 0:00:05  loss: 1.7467 (1.7626)  accuracy: 0.7500 (0.7940)  top-5-accuracy: 1.0000 (0.9595)  lr: 0.000088  iter-time: 0.0898\n",
            "[09:35:29.774496] Epoch: [5]  [ 80/122]  eta: 0:00:04  loss: 1.7238 (1.7565)  accuracy: 0.8750 (0.8025)  top-5-accuracy: 1.0000 (0.9568)  lr: 0.000087  iter-time: 0.0898\n",
            "[09:35:30.673893] Epoch: [5]  [ 90/122]  eta: 0:00:03  loss: 1.6948 (1.7526)  accuracy: 0.8750 (0.8077)  top-5-accuracy: 1.0000 (0.9560)  lr: 0.000085  iter-time: 0.0898\n",
            "[09:35:31.574975] Epoch: [5]  [100/122]  eta: 0:00:02  loss: 1.7065 (1.7590)  accuracy: 0.8750 (0.8007)  top-5-accuracy: 1.0000 (0.9542)  lr: 0.000084  iter-time: 0.0899\n",
            "[09:35:32.490551] Epoch: [5]  [110/122]  eta: 0:00:01  loss: 1.7302 (1.7562)  accuracy: 0.7500 (0.8041)  top-5-accuracy: 1.0000 (0.9550)  lr: 0.000083  iter-time: 0.0907\n",
            "[09:35:33.397743] Epoch: [5]  [120/122]  eta: 0:00:00  loss: 1.6732 (1.7502)  accuracy: 0.8750 (0.8110)  top-5-accuracy: 1.0000 (0.9566)  lr: 0.000081  iter-time: 0.0910\n",
            "[09:35:33.443761] Epoch: [5]  [121/122]  eta: 0:00:00  loss: 1.6732 (1.7539)  accuracy: 0.8750 (0.8070)  top-5-accuracy: 1.0000 (0.9570)  lr: 0.000081  iter-time: 0.0887\n",
            "[09:35:33.551866] Epoch: [5] Total time: 0:00:12 (0.0985 s / it)\n",
            "[09:35:33.552916] [Train] averaged stats: loss: 1.6732 (1.7539)  accuracy: 0.8750 (0.8070)  top-5-accuracy: 1.0000 (0.9570)  lr: 0.000081\n",
            "[09:35:33.855235] Epoch: [5]  [ 0/21]  eta: 0:00:06  loss: 1.5431 (1.5431)  accuracy: 1.0000 (1.0000)  top-5-accuracy: 1.0000 (1.0000)  iter-time: 0.3006\n",
            "[09:35:34.176144] Epoch: [5]  [10/21]  eta: 0:00:00  loss: 1.5454 (1.5568)  accuracy: 1.0000 (0.9886)  top-5-accuracy: 1.0000 (1.0000)  iter-time: 0.0562\n",
            "[09:35:34.453175] Epoch: [5]  [20/21]  eta: 0:00:00  loss: 1.5466 (1.5771)  accuracy: 1.0000 (0.9762)  top-5-accuracy: 1.0000 (1.0000)  iter-time: 0.0297\n",
            "[09:35:34.591926] Epoch: [5] Total time: 0:00:01 (0.0494 s / it)\n",
            "[09:35:34.592054] [Val] averaged stats: loss: 1.5466 (1.5771)  accuracy: 1.0000 (0.9762)  top-5-accuracy: 1.0000 (1.0000)\n",
            "[09:35:34.592885] Val loss improved from 1.6165801116398402 to 1.5770862556639171, saving model to /content/output/my_3d_classification/checkpoints/my_3d_classification_1-checkpoint-best.pth\n",
            "[09:35:34.650606] [Val] best loss: 1.5771 best  accuracy: 0.9762 top-5-accuracy: 1.0000 \n",
            "[09:35:34.652989] Creating training plots . . .\n",
            "[09:35:35.304905] [Time] 13.8s 1.7m/3.1m\n",
            "\n",
            "[09:35:35.305033] ~~~ Epoch 6/10 ~~~\n",
            "\n",
            "[09:35:35.673828] Epoch: [6]  [  0/122]  eta: 0:00:44  loss: 1.7257 (1.7257)  accuracy: 0.8750 (0.8750)  top-5-accuracy: 1.0000 (1.0000)  lr: 0.000081  iter-time: 0.3632\n",
            "[09:35:36.589160] Epoch: [6]  [ 10/122]  eta: 0:00:12  loss: 1.7048 (1.6996)  accuracy: 0.8750 (0.8750)  top-5-accuracy: 1.0000 (0.9886)  lr: 0.000079  iter-time: 0.1159\n",
            "[09:35:37.493318] Epoch: [6]  [ 20/122]  eta: 0:00:10  loss: 1.7048 (1.7130)  accuracy: 0.8750 (0.8512)  top-5-accuracy: 1.0000 (0.9940)  lr: 0.000078  iter-time: 0.0907\n",
            "[09:35:38.397751] Epoch: [6]  [ 30/122]  eta: 0:00:09  loss: 1.7396 (1.7353)  accuracy: 0.7500 (0.8226)  top-5-accuracy: 1.0000 (0.9839)  lr: 0.000076  iter-time: 0.0903\n",
            "[09:35:39.307871] Epoch: [6]  [ 40/122]  eta: 0:00:07  loss: 1.7346 (1.7285)  accuracy: 0.8750 (0.8323)  top-5-accuracy: 1.0000 (0.9787)  lr: 0.000075  iter-time: 0.0906\n",
            "[09:35:40.229226] Epoch: [6]  [ 50/122]  eta: 0:00:06  loss: 1.7152 (1.7321)  accuracy: 0.8750 (0.8284)  top-5-accuracy: 1.0000 (0.9730)  lr: 0.000073  iter-time: 0.0914\n",
            "[09:35:41.140798] Epoch: [6]  [ 60/122]  eta: 0:00:05  loss: 1.7550 (1.7323)  accuracy: 0.8750 (0.8258)  top-5-accuracy: 1.0000 (0.9672)  lr: 0.000072  iter-time: 0.0915\n",
            "[09:35:42.057213] Epoch: [6]  [ 70/122]  eta: 0:00:04  loss: 1.6945 (1.7288)  accuracy: 0.8750 (0.8310)  top-5-accuracy: 1.0000 (0.9665)  lr: 0.000070  iter-time: 0.0912\n",
            "[09:35:42.978749] Epoch: [6]  [ 80/122]  eta: 0:00:03  loss: 1.7129 (1.7301)  accuracy: 0.8750 (0.8318)  top-5-accuracy: 1.0000 (0.9660)  lr: 0.000068  iter-time: 0.0917\n",
            "[09:35:43.890768] Epoch: [6]  [ 90/122]  eta: 0:00:03  loss: 1.7176 (1.7293)  accuracy: 0.8750 (0.8310)  top-5-accuracy: 1.0000 (0.9670)  lr: 0.000066  iter-time: 0.0916\n",
            "[09:35:44.807416] Epoch: [6]  [100/122]  eta: 0:00:02  loss: 1.7917 (1.7371)  accuracy: 0.7500 (0.8230)  top-5-accuracy: 1.0000 (0.9579)  lr: 0.000065  iter-time: 0.0913\n",
            "[09:35:45.734801] Epoch: [6]  [110/122]  eta: 0:00:01  loss: 1.7859 (1.7381)  accuracy: 0.7500 (0.8221)  top-5-accuracy: 0.8750 (0.9561)  lr: 0.000063  iter-time: 0.0918\n",
            "[09:35:46.662095] Epoch: [6]  [120/122]  eta: 0:00:00  loss: 1.6675 (1.7313)  accuracy: 0.8750 (0.8295)  top-5-accuracy: 1.0000 (0.9587)  lr: 0.000061  iter-time: 0.0922\n",
            "[09:35:46.706647] Epoch: [6]  [121/122]  eta: 0:00:00  loss: 1.6675 (1.7327)  accuracy: 0.8750 (0.8282)  top-5-accuracy: 1.0000 (0.9590)  lr: 0.000061  iter-time: 0.0898\n",
            "[09:35:46.813343] Epoch: [6] Total time: 0:00:11 (0.0943 s / it)\n",
            "[09:35:46.813537] [Train] averaged stats: loss: 1.6675 (1.7327)  accuracy: 0.8750 (0.8282)  top-5-accuracy: 1.0000 (0.9590)  lr: 0.000061\n",
            "[09:35:47.119040] Epoch: [6]  [ 0/21]  eta: 0:00:06  loss: 1.5441 (1.5441)  accuracy: 1.0000 (1.0000)  top-5-accuracy: 1.0000 (1.0000)  iter-time: 0.2997\n",
            "[09:35:47.439959] Epoch: [6]  [10/21]  eta: 0:00:00  loss: 1.5473 (1.5591)  accuracy: 1.0000 (1.0000)  top-5-accuracy: 1.0000 (1.0000)  iter-time: 0.0562\n",
            "[09:35:47.720633] Epoch: [6]  [20/21]  eta: 0:00:00  loss: 1.5674 (1.5837)  accuracy: 1.0000 (0.9821)  top-5-accuracy: 1.0000 (1.0000)  iter-time: 0.0299\n",
            "[09:35:47.860156] Epoch: [6] Total time: 0:00:01 (0.0498 s / it)\n",
            "[09:35:47.860361] [Val] averaged stats: loss: 1.5674 (1.5837)  accuracy: 1.0000 (0.9821)  top-5-accuracy: 1.0000 (1.0000)\n",
            "[09:35:47.861003] [Val] best loss: 1.5771 best  accuracy: 0.9762 top-5-accuracy: 1.0000 \n",
            "EarlyStopping counter: 1 out of 10\n",
            "[09:35:47.866115] [Time] 12.6s 1.9m/3.0m\n",
            "\n",
            "[09:35:47.866164] ~~~ Epoch 7/10 ~~~\n",
            "\n",
            "[09:35:48.376846] Epoch: [7]  [  0/122]  eta: 0:01:01  loss: 1.7020 (1.7020)  accuracy: 0.8750 (0.8750)  top-5-accuracy: 1.0000 (1.0000)  lr: 0.000061  iter-time: 0.5053\n",
            "[09:35:49.318386] Epoch: [7]  [ 10/122]  eta: 0:00:14  loss: 1.6768 (1.6658)  accuracy: 0.8750 (0.8977)  top-5-accuracy: 1.0000 (0.9886)  lr: 0.000059  iter-time: 0.1312\n",
            "[09:35:50.245878] Epoch: [7]  [ 20/122]  eta: 0:00:11  loss: 1.6768 (1.6867)  accuracy: 0.8750 (0.8690)  top-5-accuracy: 1.0000 (0.9762)  lr: 0.000057  iter-time: 0.0932\n",
            "[09:35:51.172639] Epoch: [7]  [ 30/122]  eta: 0:00:09  loss: 1.7136 (1.7083)  accuracy: 0.8750 (0.8468)  top-5-accuracy: 1.0000 (0.9718)  lr: 0.000055  iter-time: 0.0926\n",
            "[09:35:52.102536] Epoch: [7]  [ 40/122]  eta: 0:00:08  loss: 1.6982 (1.7148)  accuracy: 0.8750 (0.8415)  top-5-accuracy: 1.0000 (0.9726)  lr: 0.000053  iter-time: 0.0927\n",
            "[09:35:53.033215] Epoch: [7]  [ 50/122]  eta: 0:00:07  loss: 1.6916 (1.7246)  accuracy: 0.8750 (0.8260)  top-5-accuracy: 1.0000 (0.9706)  lr: 0.000052  iter-time: 0.0929\n",
            "[09:35:53.957640] Epoch: [7]  [ 60/122]  eta: 0:00:06  loss: 1.7825 (1.7281)  accuracy: 0.7500 (0.8238)  top-5-accuracy: 1.0000 (0.9713)  lr: 0.000050  iter-time: 0.0926\n",
            "[09:35:54.892574] Epoch: [7]  [ 70/122]  eta: 0:00:05  loss: 1.7876 (1.7321)  accuracy: 0.7500 (0.8169)  top-5-accuracy: 1.0000 (0.9718)  lr: 0.000048  iter-time: 0.0928\n",
            "[09:35:55.839964] Epoch: [7]  [ 80/122]  eta: 0:00:04  loss: 1.7357 (1.7316)  accuracy: 0.7500 (0.8164)  top-5-accuracy: 1.0000 (0.9691)  lr: 0.000046  iter-time: 0.0939\n",
            "[09:35:56.767413] Epoch: [7]  [ 90/122]  eta: 0:00:03  loss: 1.6670 (1.7226)  accuracy: 0.8750 (0.8269)  top-5-accuracy: 1.0000 (0.9698)  lr: 0.000044  iter-time: 0.0936\n",
            "[09:35:57.693881] Epoch: [7]  [100/122]  eta: 0:00:02  loss: 1.6925 (1.7292)  accuracy: 0.8750 (0.8205)  top-5-accuracy: 1.0000 (0.9666)  lr: 0.000042  iter-time: 0.0926\n",
            "[09:35:58.627899] Epoch: [7]  [110/122]  eta: 0:00:01  loss: 1.7430 (1.7276)  accuracy: 0.7500 (0.8221)  top-5-accuracy: 1.0000 (0.9673)  lr: 0.000041  iter-time: 0.0929\n",
            "[09:35:59.561301] Epoch: [7]  [120/122]  eta: 0:00:00  loss: 1.6636 (1.7204)  accuracy: 0.8750 (0.8285)  top-5-accuracy: 1.0000 (0.9690)  lr: 0.000039  iter-time: 0.0932\n",
            "[09:35:59.605787] Epoch: [7]  [121/122]  eta: 0:00:00  loss: 1.6636 (1.7240)  accuracy: 0.8750 (0.8245)  top-5-accuracy: 1.0000 (0.9693)  lr: 0.000039  iter-time: 0.0907\n",
            "[09:35:59.709380] Epoch: [7] Total time: 0:00:11 (0.0971 s / it)\n",
            "[09:35:59.709561] [Train] averaged stats: loss: 1.6636 (1.7240)  accuracy: 0.8750 (0.8245)  top-5-accuracy: 1.0000 (0.9693)  lr: 0.000039\n",
            "[09:36:00.002840] Epoch: [7]  [ 0/21]  eta: 0:00:06  loss: 1.5441 (1.5441)  accuracy: 1.0000 (1.0000)  top-5-accuracy: 1.0000 (1.0000)  iter-time: 0.2915\n",
            "[09:36:00.335023] Epoch: [7]  [10/21]  eta: 0:00:00  loss: 1.5441 (1.5538)  accuracy: 1.0000 (0.9886)  top-5-accuracy: 1.0000 (1.0000)  iter-time: 0.0564\n",
            "[09:36:00.616219] Epoch: [7]  [20/21]  eta: 0:00:00  loss: 1.5459 (1.5783)  accuracy: 1.0000 (0.9762)  top-5-accuracy: 1.0000 (1.0000)  iter-time: 0.0304\n",
            "[09:36:00.753075] Epoch: [7] Total time: 0:00:01 (0.0496 s / it)\n",
            "[09:36:00.753240] [Val] averaged stats: loss: 1.5459 (1.5783)  accuracy: 1.0000 (0.9762)  top-5-accuracy: 1.0000 (1.0000)\n",
            "[09:36:00.755877] [Val] best loss: 1.5771 best  accuracy: 0.9762 top-5-accuracy: 1.0000 \n",
            "EarlyStopping counter: 2 out of 10\n",
            "[09:36:00.759515] [Time] 12.9s 2.2m/3.0m\n",
            "\n",
            "[09:36:00.759560] ~~~ Epoch 8/10 ~~~\n",
            "\n",
            "[09:36:01.241830] Epoch: [8]  [  0/122]  eta: 0:00:58  loss: 1.6866 (1.6866)  accuracy: 0.8750 (0.8750)  top-5-accuracy: 1.0000 (1.0000)  lr: 0.000039  iter-time: 0.4798\n",
            "[09:36:02.176414] Epoch: [8]  [ 10/122]  eta: 0:00:14  loss: 1.6481 (1.6408)  accuracy: 0.8750 (0.9091)  top-5-accuracy: 1.0000 (0.9886)  lr: 0.000037  iter-time: 0.1283\n",
            "[09:36:03.092481] Epoch: [8]  [ 20/122]  eta: 0:00:11  loss: 1.6315 (1.6438)  accuracy: 0.8750 (0.9167)  top-5-accuracy: 1.0000 (0.9940)  lr: 0.000035  iter-time: 0.0923\n",
            "[09:36:04.007861] Epoch: [8]  [ 30/122]  eta: 0:00:09  loss: 1.6813 (1.6634)  accuracy: 0.8750 (0.8952)  top-5-accuracy: 1.0000 (0.9798)  lr: 0.000033  iter-time: 0.0913\n",
            "[09:36:04.924624] Epoch: [8]  [ 40/122]  eta: 0:00:08  loss: 1.6808 (1.6682)  accuracy: 0.8750 (0.8902)  top-5-accuracy: 1.0000 (0.9787)  lr: 0.000032  iter-time: 0.0913\n",
            "[09:36:05.842203] Epoch: [8]  [ 50/122]  eta: 0:00:07  loss: 1.6682 (1.6733)  accuracy: 0.8750 (0.8824)  top-5-accuracy: 1.0000 (0.9779)  lr: 0.000030  iter-time: 0.0916\n",
            "[09:36:06.754765] Epoch: [8]  [ 60/122]  eta: 0:00:06  loss: 1.7320 (1.6771)  accuracy: 0.8750 (0.8791)  top-5-accuracy: 1.0000 (0.9775)  lr: 0.000028  iter-time: 0.0914\n",
            "[09:36:07.664498] Epoch: [8]  [ 70/122]  eta: 0:00:05  loss: 1.6803 (1.6773)  accuracy: 0.8750 (0.8785)  top-5-accuracy: 1.0000 (0.9789)  lr: 0.000027  iter-time: 0.0910\n",
            "[09:36:08.573390] Epoch: [8]  [ 80/122]  eta: 0:00:04  loss: 1.6803 (1.6820)  accuracy: 0.8750 (0.8735)  top-5-accuracy: 1.0000 (0.9753)  lr: 0.000025  iter-time: 0.0908\n",
            "[09:36:09.486028] Epoch: [8]  [ 90/122]  eta: 0:00:03  loss: 1.6884 (1.6815)  accuracy: 0.8750 (0.8764)  top-5-accuracy: 1.0000 (0.9753)  lr: 0.000023  iter-time: 0.0909\n",
            "[09:36:10.395539] Epoch: [8]  [100/122]  eta: 0:00:02  loss: 1.6884 (1.6886)  accuracy: 0.8750 (0.8688)  top-5-accuracy: 1.0000 (0.9728)  lr: 0.000022  iter-time: 0.0909\n",
            "[09:36:11.316922] Epoch: [8]  [110/122]  eta: 0:00:01  loss: 1.6832 (1.6885)  accuracy: 0.8750 (0.8682)  top-5-accuracy: 1.0000 (0.9718)  lr: 0.000020  iter-time: 0.0914\n",
            "[09:36:12.229328] Epoch: [8]  [120/122]  eta: 0:00:00  loss: 1.6635 (1.6839)  accuracy: 0.8750 (0.8719)  top-5-accuracy: 1.0000 (0.9731)  lr: 0.000019  iter-time: 0.0914\n",
            "[09:36:12.274230] Epoch: [8]  [121/122]  eta: 0:00:00  loss: 1.6635 (1.6855)  accuracy: 0.8750 (0.8702)  top-5-accuracy: 1.0000 (0.9734)  lr: 0.000019  iter-time: 0.0892\n",
            "[09:36:12.385052] Epoch: [8] Total time: 0:00:11 (0.0953 s / it)\n",
            "[09:36:12.385248] [Train] averaged stats: loss: 1.6635 (1.6855)  accuracy: 0.8750 (0.8702)  top-5-accuracy: 1.0000 (0.9734)  lr: 0.000019\n",
            "[09:36:12.682777] Epoch: [8]  [ 0/21]  eta: 0:00:06  loss: 1.5432 (1.5432)  accuracy: 1.0000 (1.0000)  top-5-accuracy: 1.0000 (1.0000)  iter-time: 0.2933\n",
            "[09:36:13.009515] Epoch: [8]  [10/21]  eta: 0:00:00  loss: 1.5437 (1.5499)  accuracy: 1.0000 (1.0000)  top-5-accuracy: 1.0000 (1.0000)  iter-time: 0.0563\n",
            "[09:36:13.287346] Epoch: [8]  [20/21]  eta: 0:00:00  loss: 1.5499 (1.5685)  accuracy: 1.0000 (0.9821)  top-5-accuracy: 1.0000 (1.0000)  iter-time: 0.0302\n",
            "[09:36:13.410989] Epoch: [8] Total time: 0:00:01 (0.0487 s / it)\n",
            "[09:36:13.411130] [Val] averaged stats: loss: 1.5499 (1.5685)  accuracy: 1.0000 (0.9821)  top-5-accuracy: 1.0000 (1.0000)\n",
            "[09:36:13.411969] Val loss improved from 1.5770862556639171 to 1.5685409704844158, saving model to /content/output/my_3d_classification/checkpoints/my_3d_classification_1-checkpoint-best.pth\n",
            "[09:36:13.472821] [Val] best loss: 1.5685 best  accuracy: 0.9821 top-5-accuracy: 1.0000 \n",
            "[09:36:13.475840] [Time] 12.7s 2.4m/3.0m\n",
            "\n",
            "[09:36:13.475925] ~~~ Epoch 9/10 ~~~\n",
            "\n",
            "[09:36:13.975528] Epoch: [9]  [  0/122]  eta: 0:00:59  loss: 1.6190 (1.6190)  accuracy: 1.0000 (1.0000)  top-5-accuracy: 1.0000 (1.0000)  lr: 0.000019  iter-time: 0.4905\n",
            "[09:36:14.905529] Epoch: [9]  [ 10/122]  eta: 0:00:14  loss: 1.6080 (1.6174)  accuracy: 1.0000 (0.9318)  top-5-accuracy: 1.0000 (0.9886)  lr: 0.000017  iter-time: 0.1285\n",
            "[09:36:15.810506] Epoch: [9]  [ 20/122]  eta: 0:00:11  loss: 1.6015 (1.6291)  accuracy: 0.8750 (0.9226)  top-5-accuracy: 1.0000 (0.9940)  lr: 0.000016  iter-time: 0.0914\n",
            "[09:36:16.712079] Epoch: [9]  [ 30/122]  eta: 0:00:09  loss: 1.6685 (1.6479)  accuracy: 0.8750 (0.9032)  top-5-accuracy: 1.0000 (0.9879)  lr: 0.000014  iter-time: 0.0902\n",
            "[09:36:17.610293] Epoch: [9]  [ 40/122]  eta: 0:00:08  loss: 1.6685 (1.6513)  accuracy: 0.8750 (0.9024)  top-5-accuracy: 1.0000 (0.9878)  lr: 0.000013  iter-time: 0.0899\n",
            "[09:36:18.514406] Epoch: [9]  [ 50/122]  eta: 0:00:07  loss: 1.6788 (1.6575)  accuracy: 0.8750 (0.8971)  top-5-accuracy: 1.0000 (0.9902)  lr: 0.000012  iter-time: 0.0900\n",
            "[09:36:19.417797] Epoch: [9]  [ 60/122]  eta: 0:00:06  loss: 1.6877 (1.6632)  accuracy: 0.8750 (0.8914)  top-5-accuracy: 1.0000 (0.9877)  lr: 0.000011  iter-time: 0.0902\n",
            "[09:36:20.317797] Epoch: [9]  [ 70/122]  eta: 0:00:04  loss: 1.6818 (1.6639)  accuracy: 0.8750 (0.8908)  top-5-accuracy: 1.0000 (0.9877)  lr: 0.000010  iter-time: 0.0900\n",
            "[09:36:21.218981] Epoch: [9]  [ 80/122]  eta: 0:00:04  loss: 1.6686 (1.6662)  accuracy: 0.8750 (0.8889)  top-5-accuracy: 1.0000 (0.9861)  lr: 0.000009  iter-time: 0.0899\n",
            "[09:36:22.118042] Epoch: [9]  [ 90/122]  eta: 0:00:03  loss: 1.6686 (1.6690)  accuracy: 0.8750 (0.8846)  top-5-accuracy: 1.0000 (0.9849)  lr: 0.000008  iter-time: 0.0898\n",
            "[09:36:23.015862] Epoch: [9]  [100/122]  eta: 0:00:02  loss: 1.6940 (1.6782)  accuracy: 0.8750 (0.8738)  top-5-accuracy: 1.0000 (0.9827)  lr: 0.000007  iter-time: 0.0897\n",
            "[09:36:23.914084] Epoch: [9]  [110/122]  eta: 0:00:01  loss: 1.6683 (1.6778)  accuracy: 0.8750 (0.8750)  top-5-accuracy: 1.0000 (0.9809)  lr: 0.000006  iter-time: 0.0897\n",
            "[09:36:24.816736] Epoch: [9]  [120/122]  eta: 0:00:00  loss: 1.6469 (1.6733)  accuracy: 0.8750 (0.8791)  top-5-accuracy: 1.0000 (0.9814)  lr: 0.000005  iter-time: 0.0899\n",
            "[09:36:24.861488] Epoch: [9]  [121/122]  eta: 0:00:00  loss: 1.6469 (1.6752)  accuracy: 0.8750 (0.8774)  top-5-accuracy: 1.0000 (0.9816)  lr: 0.000005  iter-time: 0.0876\n",
            "[09:36:25.002754] Epoch: [9] Total time: 0:00:11 (0.0945 s / it)\n",
            "[09:36:25.002927] [Train] averaged stats: loss: 1.6469 (1.6752)  accuracy: 0.8750 (0.8774)  top-5-accuracy: 1.0000 (0.9816)  lr: 0.000005\n",
            "[09:36:25.340787] Epoch: [9]  [ 0/21]  eta: 0:00:07  loss: 1.5432 (1.5432)  accuracy: 1.0000 (1.0000)  top-5-accuracy: 1.0000 (1.0000)  iter-time: 0.3362\n",
            "[09:36:25.667989] Epoch: [9]  [10/21]  eta: 0:00:00  loss: 1.5438 (1.5497)  accuracy: 1.0000 (1.0000)  top-5-accuracy: 1.0000 (1.0000)  iter-time: 0.0597\n",
            "[09:36:25.941529] Epoch: [9]  [20/21]  eta: 0:00:00  loss: 1.5455 (1.5660)  accuracy: 1.0000 (0.9821)  top-5-accuracy: 1.0000 (1.0000)  iter-time: 0.0296\n",
            "[09:36:26.086446] Epoch: [9] Total time: 0:00:01 (0.0515 s / it)\n",
            "[09:36:26.086584] [Val] averaged stats: loss: 1.5455 (1.5660)  accuracy: 1.0000 (0.9821)  top-5-accuracy: 1.0000 (1.0000)\n",
            "[09:36:26.087418] Val loss improved from 1.5685409704844158 to 1.5660119851430256, saving model to /content/output/my_3d_classification/checkpoints/my_3d_classification_1-checkpoint-best.pth\n",
            "[09:36:26.171248] [Val] best loss: 1.5660 best  accuracy: 0.9821 top-5-accuracy: 1.0000 \n",
            "[09:36:26.174128] [Time] 12.7s 2.6m/3.0m\n",
            "\n",
            "[09:36:26.174207] ~~~ Epoch 10/10 ~~~\n",
            "\n",
            "[09:36:26.521731] Epoch: [10]  [  0/122]  eta: 0:00:41  loss: 1.6869 (1.6869)  accuracy: 0.8750 (0.8750)  top-5-accuracy: 1.0000 (1.0000)  lr: 0.000005  iter-time: 0.3401\n",
            "[09:36:27.590785] Epoch: [10]  [ 10/122]  eta: 0:00:14  loss: 1.6195 (1.6192)  accuracy: 1.0000 (0.9318)  top-5-accuracy: 1.0000 (0.9886)  lr: 0.000004  iter-time: 0.1280\n",
            "[09:36:28.481744] Epoch: [10]  [ 20/122]  eta: 0:00:11  loss: 1.6195 (1.6322)  accuracy: 0.8750 (0.9167)  top-5-accuracy: 1.0000 (0.9940)  lr: 0.000003  iter-time: 0.0979\n",
            "[09:36:29.378055] Epoch: [10]  [ 30/122]  eta: 0:00:09  loss: 1.6799 (1.6426)  accuracy: 0.8750 (0.9113)  top-5-accuracy: 1.0000 (0.9879)  lr: 0.000003  iter-time: 0.0892\n",
            "[09:36:30.276667] Epoch: [10]  [ 40/122]  eta: 0:00:08  loss: 1.6719 (1.6553)  accuracy: 0.8750 (0.8963)  top-5-accuracy: 1.0000 (0.9817)  lr: 0.000002  iter-time: 0.0896\n",
            "[09:36:31.172175] Epoch: [10]  [ 50/122]  eta: 0:00:07  loss: 1.6643 (1.6589)  accuracy: 0.8750 (0.8922)  top-5-accuracy: 1.0000 (0.9853)  lr: 0.000002  iter-time: 0.0896\n",
            "[09:36:32.066701] Epoch: [10]  [ 60/122]  eta: 0:00:05  loss: 1.6753 (1.6637)  accuracy: 0.8750 (0.8873)  top-5-accuracy: 1.0000 (0.9857)  lr: 0.000001  iter-time: 0.0893\n",
            "[09:36:32.961890] Epoch: [10]  [ 70/122]  eta: 0:00:04  loss: 1.6753 (1.6645)  accuracy: 0.8750 (0.8891)  top-5-accuracy: 1.0000 (0.9859)  lr: 0.000001  iter-time: 0.0893\n",
            "[09:36:33.856246] Epoch: [10]  [ 80/122]  eta: 0:00:03  loss: 1.6355 (1.6629)  accuracy: 0.8750 (0.8904)  top-5-accuracy: 1.0000 (0.9830)  lr: 0.000001  iter-time: 0.0893\n",
            "[09:36:34.751734] Epoch: [10]  [ 90/122]  eta: 0:00:03  loss: 1.6226 (1.6593)  accuracy: 0.8750 (0.8956)  top-5-accuracy: 1.0000 (0.9821)  lr: 0.000000  iter-time: 0.0894\n",
            "[09:36:35.649540] Epoch: [10]  [100/122]  eta: 0:00:02  loss: 1.6678 (1.6705)  accuracy: 0.8750 (0.8812)  top-5-accuracy: 1.0000 (0.9802)  lr: 0.000000  iter-time: 0.0895\n",
            "[09:36:36.544766] Epoch: [10]  [110/122]  eta: 0:00:01  loss: 1.6670 (1.6667)  accuracy: 0.8750 (0.8851)  top-5-accuracy: 1.0000 (0.9797)  lr: 0.000000  iter-time: 0.0895\n",
            "[09:36:37.441703] Epoch: [10]  [120/122]  eta: 0:00:00  loss: 1.6171 (1.6640)  accuracy: 0.8750 (0.8884)  top-5-accuracy: 1.0000 (0.9804)  lr: 0.000000  iter-time: 0.0895\n",
            "[09:36:37.485813] Epoch: [10]  [121/122]  eta: 0:00:00  loss: 1.6358 (1.6658)  accuracy: 0.8750 (0.8866)  top-5-accuracy: 1.0000 (0.9805)  lr: 0.000000  iter-time: 0.0871\n",
            "[09:36:37.607786] Epoch: [10] Total time: 0:00:11 (0.0937 s / it)\n",
            "[09:36:37.607963] [Train] averaged stats: loss: 1.6358 (1.6658)  accuracy: 0.8750 (0.8866)  top-5-accuracy: 1.0000 (0.9805)  lr: 0.000000\n",
            "[09:36:37.910125] Epoch: [10]  [ 0/21]  eta: 0:00:06  loss: 1.5431 (1.5431)  accuracy: 1.0000 (1.0000)  top-5-accuracy: 1.0000 (1.0000)  iter-time: 0.3005\n",
            "[09:36:38.227972] Epoch: [10]  [10/21]  eta: 0:00:00  loss: 1.5435 (1.5490)  accuracy: 1.0000 (1.0000)  top-5-accuracy: 1.0000 (1.0000)  iter-time: 0.0561\n",
            "[09:36:38.506090] Epoch: [10]  [20/21]  eta: 0:00:00  loss: 1.5466 (1.5649)  accuracy: 1.0000 (0.9821)  top-5-accuracy: 1.0000 (1.0000)  iter-time: 0.0297\n",
            "[09:36:38.617285] Epoch: [10] Total time: 0:00:01 (0.0480 s / it)\n",
            "[09:36:38.617432] [Val] averaged stats: loss: 1.5466 (1.5649)  accuracy: 1.0000 (0.9821)  top-5-accuracy: 1.0000 (1.0000)\n",
            "[09:36:38.618117] Val loss improved from 1.5660119851430256 to 1.5649065914608182, saving model to /content/output/my_3d_classification/checkpoints/my_3d_classification_1-checkpoint-best.pth\n",
            "[09:36:38.677854] [Val] best loss: 1.5649 best  accuracy: 0.9821 top-5-accuracy: 1.0000 \n",
            "[09:36:38.680892] Creating training plots . . .\n",
            "[09:36:39.371535] [Time] 13.2s 2.8m/3.0m\n",
            "\n",
            "[09:36:39.371680] Training time 0:02:48\n",
            "[09:36:39.371723] Train loss: 1.6658131734269563\n",
            "[09:36:39.371772] Train accuracy: 0.8866120220207777\n",
            "[09:36:39.371817] Train top-5-accuracy: 0.9805327868852459\n",
            "[09:36:39.372017] Val loss: 1.5649065914608182\n",
            "[09:36:39.372074] Val accuracy: 0.9821428656578064\n",
            "[09:36:39.376273] Val top-5-accuracy: 1.0\n",
            "[09:36:39.377204] Finished Training\n",
            "[09:36:39.751035] Releasing memory . . .\n",
            "[09:36:39.752520] ######################\n",
            "#   LOAD TEST DATA   #\n",
            "######################\n",
            "\n",
            "[09:36:39.753358] 2) Loading test images . . .\n",
            "[09:36:39.754138] ### LOAD ###\n",
            "[09:36:39.755158] Found 11 classes\n",
            "[09:36:39.755243] Analizing folder /content/data/test/0\n",
            "[09:36:39.755485] Found 69 samples\n",
            "[09:36:39.755523] Loading data from /content/data/test/0\n"
          ]
        },
        {
          "output_type": "stream",
          "name": "stderr",
          "text": [
            "100%|██████████| 69/69 [00:00<00:00, 344.21it/s]\n"
          ]
        },
        {
          "output_type": "stream",
          "name": "stdout",
          "text": [
            "[09:36:39.968726] *** Loaded data shape is (69, 28, 28, 28, 1)\n",
            "[09:36:39.968844] Analizing folder /content/data/test/1\n",
            "[09:36:39.970470] Found 68 samples\n",
            "[09:36:39.970536] Loading data from /content/data/test/1\n"
          ]
        },
        {
          "output_type": "stream",
          "name": "stderr",
          "text": [
            "100%|██████████| 68/68 [00:00<00:00, 345.19it/s]\n"
          ]
        },
        {
          "output_type": "stream",
          "name": "stdout",
          "text": [
            "[09:36:40.180641] *** Loaded data shape is (68, 28, 28, 28, 1)\n",
            "[09:36:40.180766] Analizing folder /content/data/test/10\n",
            "[09:36:40.181005] Found 69 samples\n",
            "[09:36:40.181069] Loading data from /content/data/test/10\n"
          ]
        },
        {
          "output_type": "stream",
          "name": "stderr",
          "text": [
            "100%|██████████| 69/69 [00:00<00:00, 351.53it/s]\n"
          ]
        },
        {
          "output_type": "stream",
          "name": "stdout",
          "text": [
            "[09:36:40.393730] *** Loaded data shape is (69, 28, 28, 28, 1)\n",
            "[09:36:40.393847] Analizing folder /content/data/test/2\n",
            "[09:36:40.395418] Found 69 samples\n",
            "[09:36:40.395497] Loading data from /content/data/test/2\n"
          ]
        },
        {
          "output_type": "stream",
          "name": "stderr",
          "text": [
            "100%|██████████| 69/69 [00:00<00:00, 337.16it/s]\n"
          ]
        },
        {
          "output_type": "stream",
          "name": "stdout",
          "text": [
            "[09:36:40.612997] *** Loaded data shape is (69, 28, 28, 28, 1)\n",
            "[09:36:40.613936] Analizing folder /content/data/test/3\n",
            "[09:36:40.615164] Found 65 samples\n",
            "[09:36:40.615236] Loading data from /content/data/test/3\n"
          ]
        },
        {
          "output_type": "stream",
          "name": "stderr",
          "text": [
            "100%|██████████| 65/65 [00:00<00:00, 352.76it/s]\n"
          ]
        },
        {
          "output_type": "stream",
          "name": "stdout",
          "text": [
            "[09:36:40.812797] *** Loaded data shape is (65, 28, 28, 28, 1)\n",
            "[09:36:40.813410] Analizing folder /content/data/test/4\n",
            "[09:36:40.816130] Found 65 samples\n",
            "[09:36:40.817535] Loading data from /content/data/test/4\n"
          ]
        },
        {
          "output_type": "stream",
          "name": "stderr",
          "text": [
            "100%|██████████| 65/65 [00:00<00:00, 352.09it/s]"
          ]
        },
        {
          "output_type": "stream",
          "name": "stdout",
          "text": [
            "[09:36:41.013452] *** Loaded data shape is (65, 28, 28, 28, 1)\n",
            "[09:36:41.013567] Analizing folder /content/data/test/5\n",
            "[09:36:41.016024] "
          ]
        },
        {
          "output_type": "stream",
          "name": "stderr",
          "text": [
            "\n"
          ]
        },
        {
          "output_type": "stream",
          "name": "stdout",
          "text": [
            "Found 66 samples\n",
            "[09:36:41.018121] Loading data from /content/data/test/5\n"
          ]
        },
        {
          "output_type": "stream",
          "name": "stderr",
          "text": [
            "100%|██████████| 66/66 [00:00<00:00, 307.83it/s]\n"
          ]
        },
        {
          "output_type": "stream",
          "name": "stdout",
          "text": [
            "[09:36:41.243742] *** Loaded data shape is (66, 28, 28, 28, 1)\n",
            "[09:36:41.243863] Analizing folder /content/data/test/6\n",
            "[09:36:41.245446] Found 28 samples\n",
            "[09:36:41.245527] Loading data from /content/data/test/6\n"
          ]
        },
        {
          "output_type": "stream",
          "name": "stderr",
          "text": [
            "100%|██████████| 28/28 [00:00<00:00, 388.69it/s]\n"
          ]
        },
        {
          "output_type": "stream",
          "name": "stdout",
          "text": [
            "[09:36:41.326339] *** Loaded data shape is (28, 28, 28, 28, 1)\n",
            "[09:36:41.326465] Analizing folder /content/data/test/7\n",
            "[09:36:41.326602] Found 21 samples\n",
            "[09:36:41.328848] Loading data from /content/data/test/7\n"
          ]
        },
        {
          "output_type": "stream",
          "name": "stderr",
          "text": [
            "100%|██████████| 21/21 [00:00<00:00, 358.25it/s]\n"
          ]
        },
        {
          "output_type": "stream",
          "name": "stdout",
          "text": [
            "[09:36:41.398923] *** Loaded data shape is (21, 28, 28, 28, 1)\n",
            "[09:36:41.399015] Analizing folder /content/data/test/8\n",
            "[09:36:41.399132] Found 21 samples\n",
            "[09:36:41.399173] Loading data from /content/data/test/8\n"
          ]
        },
        {
          "output_type": "stream",
          "name": "stderr",
          "text": [
            "100%|██████████| 21/21 [00:00<00:00, 362.98it/s]\n"
          ]
        },
        {
          "output_type": "stream",
          "name": "stdout",
          "text": [
            "[09:36:41.468877] *** Loaded data shape is (21, 28, 28, 28, 1)\n",
            "[09:36:41.469905] Analizing folder /content/data/test/9\n",
            "[09:36:41.470748] Found 69 samples\n",
            "[09:36:41.471629] Loading data from /content/data/test/9\n"
          ]
        },
        {
          "output_type": "stream",
          "name": "stderr",
          "text": [
            "100%|██████████| 69/69 [00:00<00:00, 347.45it/s]\n"
          ]
        },
        {
          "output_type": "stream",
          "name": "stdout",
          "text": [
            "[09:36:41.684461] *** Loaded data shape is (69, 28, 28, 28, 1)\n",
            "[09:36:41.690175] *** Loaded train data shape is: (610, 28, 28, 28, 1)\n",
            "[09:36:41.691079] ############################\n",
            "[09:36:41.691143] #  PREPARE TEST GENERATOR  #\n",
            "[09:36:41.692151] ############################\n",
            "[09:36:41.693786] ###############\n",
            "[09:36:41.693852] #  INFERENCE  #\n",
            "[09:36:41.695112] ###############\n",
            "[09:36:41.695811] Making predictions on test data . . .\n"
          ]
        },
        {
          "output_type": "stream",
          "name": "stderr",
          "text": [
            "\r  0%|          | 0/610 [00:00<?, ?it/s]"
          ]
        },
        {
          "output_type": "stream",
          "name": "stdout",
          "text": [
            "[09:36:41.709869] Processing image: img_010.tif\n"
          ]
        },
        {
          "output_type": "stream",
          "name": "stderr",
          "text": [
            "\n",
            "  0%|          | 0/1 [00:00<?, ?it/s]\u001b[A\n",
            "100%|██████████| 1/1 [00:00<00:00,  3.37it/s]\u001b[A\n",
            "  0%|          | 1/610 [00:00<03:17,  3.08it/s]"
          ]
        },
        {
          "output_type": "stream",
          "name": "stdout",
          "text": [
            "[09:36:42.038981] Processing image: img_021.tif\n"
          ]
        },
        {
          "output_type": "stream",
          "name": "stderr",
          "text": [
            "\n",
            "  0%|          | 0/1 [00:00<?, ?it/s]\u001b[A\n",
            "                                     \u001b[A"
          ]
        },
        {
          "output_type": "stream",
          "name": "stdout",
          "text": [
            "[09:36:42.065084] Processing image: img_044.tif\n"
          ]
        },
        {
          "output_type": "stream",
          "name": "stderr",
          "text": [
            "\n",
            "  0%|          | 0/1 [00:00<?, ?it/s]\u001b[A\n",
            "                                     \u001b[A"
          ]
        },
        {
          "output_type": "stream",
          "name": "stdout",
          "text": [
            "[09:36:42.096834] Processing image: img_048.tif\n"
          ]
        },
        {
          "output_type": "stream",
          "name": "stderr",
          "text": [
            "\n",
            "  0%|          | 0/1 [00:00<?, ?it/s]\u001b[A\n",
            "                                     \u001b[A"
          ]
        },
        {
          "output_type": "stream",
          "name": "stdout",
          "text": [
            "[09:36:42.129054] Processing image: img_055.tif\n"
          ]
        },
        {
          "output_type": "stream",
          "name": "stderr",
          "text": [
            "\n",
            "  0%|          | 0/1 [00:00<?, ?it/s]\u001b[A\n",
            "  1%|          | 5/610 [00:00<00:45, 13.33it/s]"
          ]
        },
        {
          "output_type": "stream",
          "name": "stdout",
          "text": [
            "[09:36:42.161103] Processing image: img_078.tif\n"
          ]
        },
        {
          "output_type": "stream",
          "name": "stderr",
          "text": [
            "\n",
            "  0%|          | 0/1 [00:00<?, ?it/s]\u001b[A\n",
            "                                     \u001b[A"
          ]
        },
        {
          "output_type": "stream",
          "name": "stdout",
          "text": [
            "[09:36:42.187563] Processing image: img_080.tif\n"
          ]
        },
        {
          "output_type": "stream",
          "name": "stderr",
          "text": [
            "\n",
            "  0%|          | 0/1 [00:00<?, ?it/s]\u001b[A\n",
            "                                     \u001b[A"
          ]
        },
        {
          "output_type": "stream",
          "name": "stdout",
          "text": [
            "[09:36:42.217443] Processing image: img_090.tif\n"
          ]
        },
        {
          "output_type": "stream",
          "name": "stderr",
          "text": [
            "\n",
            "  0%|          | 0/1 [00:00<?, ?it/s]\u001b[A\n",
            "                                     \u001b[A"
          ]
        },
        {
          "output_type": "stream",
          "name": "stdout",
          "text": [
            "[09:36:42.238606] Processing image: img_094.tif\n"
          ]
        },
        {
          "output_type": "stream",
          "name": "stderr",
          "text": [
            "\n",
            "  0%|          | 0/1 [00:00<?, ?it/s]\u001b[A\n",
            "  1%|▏         | 9/610 [00:00<00:28, 20.80it/s]"
          ]
        },
        {
          "output_type": "stream",
          "name": "stdout",
          "text": [
            "[09:36:42.266695] Processing image: img_106.tif\n"
          ]
        },
        {
          "output_type": "stream",
          "name": "stderr",
          "text": [
            "\n",
            "  0%|          | 0/1 [00:00<?, ?it/s]\u001b[A\n",
            "                                     \u001b[A"
          ]
        },
        {
          "output_type": "stream",
          "name": "stdout",
          "text": [
            "[09:36:42.306214] Processing image: img_107.tif\n"
          ]
        },
        {
          "output_type": "stream",
          "name": "stderr",
          "text": [
            "\n",
            "  0%|          | 0/1 [00:00<?, ?it/s]\u001b[A\n",
            "                                     \u001b[A"
          ]
        },
        {
          "output_type": "stream",
          "name": "stdout",
          "text": [
            "[09:36:42.340380] Processing image: img_123.tif\n"
          ]
        },
        {
          "output_type": "stream",
          "name": "stderr",
          "text": [
            "\n",
            "  0%|          | 0/1 [00:00<?, ?it/s]\u001b[A\n",
            "  2%|▏         | 12/610 [00:00<00:25, 23.02it/s]"
          ]
        },
        {
          "output_type": "stream",
          "name": "stdout",
          "text": [
            "[09:36:42.377762] Processing image: img_129.tif\n"
          ]
        },
        {
          "output_type": "stream",
          "name": "stderr",
          "text": [
            "\n",
            "  0%|          | 0/1 [00:00<?, ?it/s]\u001b[A\n",
            "                                     \u001b[A"
          ]
        },
        {
          "output_type": "stream",
          "name": "stdout",
          "text": [
            "[09:36:42.401434] Processing image: img_163.tif\n"
          ]
        },
        {
          "output_type": "stream",
          "name": "stderr",
          "text": [
            "\n",
            "  0%|          | 0/1 [00:00<?, ?it/s]\u001b[A\n",
            "                                     \u001b[A"
          ]
        },
        {
          "output_type": "stream",
          "name": "stdout",
          "text": [
            "[09:36:42.425827] Processing image: img_166.tif\n"
          ]
        },
        {
          "output_type": "stream",
          "name": "stderr",
          "text": [
            "\n",
            "  0%|          | 0/1 [00:00<?, ?it/s]\u001b[A\n",
            "                                     \u001b[A"
          ]
        },
        {
          "output_type": "stream",
          "name": "stdout",
          "text": [
            "[09:36:42.451031] Processing image: img_193.tif\n"
          ]
        },
        {
          "output_type": "stream",
          "name": "stderr",
          "text": [
            "\n",
            "  0%|          | 0/1 [00:00<?, ?it/s]\u001b[A\n",
            "  3%|▎         | 16/610 [00:00<00:21, 27.23it/s]"
          ]
        },
        {
          "output_type": "stream",
          "name": "stdout",
          "text": [
            "[09:36:42.482927] Processing image: img_209.tif\n"
          ]
        },
        {
          "output_type": "stream",
          "name": "stderr",
          "text": [
            "\n",
            "  0%|          | 0/1 [00:00<?, ?it/s]\u001b[A\n",
            "                                     \u001b[A"
          ]
        },
        {
          "output_type": "stream",
          "name": "stdout",
          "text": [
            "[09:36:42.514188] Processing image: img_216.tif\n"
          ]
        },
        {
          "output_type": "stream",
          "name": "stderr",
          "text": [
            "\n",
            "  0%|          | 0/1 [00:00<?, ?it/s]\u001b[A\n",
            "                                     \u001b[A"
          ]
        },
        {
          "output_type": "stream",
          "name": "stdout",
          "text": [
            "[09:36:42.543284] Processing image: img_226.tif\n"
          ]
        },
        {
          "output_type": "stream",
          "name": "stderr",
          "text": [
            "\n",
            "  0%|          | 0/1 [00:00<?, ?it/s]\u001b[A\n",
            "                                     \u001b[A"
          ]
        },
        {
          "output_type": "stream",
          "name": "stdout",
          "text": [
            "[09:36:42.572322] Processing image: img_242.tif\n"
          ]
        },
        {
          "output_type": "stream",
          "name": "stderr",
          "text": [
            "\n",
            "  0%|          | 0/1 [00:00<?, ?it/s]\u001b[A\n",
            "  3%|▎         | 20/610 [00:00<00:20, 29.00it/s]"
          ]
        },
        {
          "output_type": "stream",
          "name": "stdout",
          "text": [
            "[09:36:42.602206] Processing image: img_243.tif\n"
          ]
        },
        {
          "output_type": "stream",
          "name": "stderr",
          "text": [
            "\n",
            "  0%|          | 0/1 [00:00<?, ?it/s]\u001b[A\n",
            "                                     \u001b[A"
          ]
        },
        {
          "output_type": "stream",
          "name": "stdout",
          "text": [
            "[09:36:42.633319] Processing image: img_261.tif\n"
          ]
        },
        {
          "output_type": "stream",
          "name": "stderr",
          "text": [
            "\n",
            "  0%|          | 0/1 [00:00<?, ?it/s]\u001b[A\n",
            "                                     \u001b[A"
          ]
        },
        {
          "output_type": "stream",
          "name": "stdout",
          "text": [
            "[09:36:42.674542] Processing image: img_275.tif\n"
          ]
        },
        {
          "output_type": "stream",
          "name": "stderr",
          "text": [
            "\n",
            "  0%|          | 0/1 [00:00<?, ?it/s]\u001b[A\n",
            "                                     \u001b[A"
          ]
        },
        {
          "output_type": "stream",
          "name": "stdout",
          "text": [
            "[09:36:42.712227] Processing image: img_281.tif\n"
          ]
        },
        {
          "output_type": "stream",
          "name": "stderr",
          "text": [
            "\n",
            "  0%|          | 0/1 [00:00<?, ?it/s]\u001b[A\n",
            "  4%|▍         | 24/610 [00:01<00:20, 29.05it/s]"
          ]
        },
        {
          "output_type": "stream",
          "name": "stdout",
          "text": [
            "[09:36:42.741952] Processing image: img_285.tif\n"
          ]
        },
        {
          "output_type": "stream",
          "name": "stderr",
          "text": [
            "\n",
            "  0%|          | 0/1 [00:00<?, ?it/s]\u001b[A\n",
            "                                     \u001b[A"
          ]
        },
        {
          "output_type": "stream",
          "name": "stdout",
          "text": [
            "[09:36:42.767167] Processing image: img_289.tif\n"
          ]
        },
        {
          "output_type": "stream",
          "name": "stderr",
          "text": [
            "\n",
            "  0%|          | 0/1 [00:00<?, ?it/s]\u001b[A\n",
            "                                     \u001b[A"
          ]
        },
        {
          "output_type": "stream",
          "name": "stdout",
          "text": [
            "[09:36:42.793975] Processing image: img_300.tif\n"
          ]
        },
        {
          "output_type": "stream",
          "name": "stderr",
          "text": [
            "\n",
            "  0%|          | 0/1 [00:00<?, ?it/s]\u001b[A\n",
            "                                     \u001b[A"
          ]
        },
        {
          "output_type": "stream",
          "name": "stdout",
          "text": [
            "[09:36:42.818641] Processing image: img_306.tif\n"
          ]
        },
        {
          "output_type": "stream",
          "name": "stderr",
          "text": [
            "\n",
            "  0%|          | 0/1 [00:00<?, ?it/s]\u001b[A\n",
            "  5%|▍         | 28/610 [00:01<00:18, 31.52it/s]"
          ]
        },
        {
          "output_type": "stream",
          "name": "stdout",
          "text": [
            "[09:36:42.845448] Processing image: img_313.tif\n"
          ]
        },
        {
          "output_type": "stream",
          "name": "stderr",
          "text": [
            "\n",
            "  0%|          | 0/1 [00:00<?, ?it/s]\u001b[A\n",
            "                                     \u001b[A"
          ]
        },
        {
          "output_type": "stream",
          "name": "stdout",
          "text": [
            "[09:36:42.869023] Processing image: img_334.tif\n"
          ]
        },
        {
          "output_type": "stream",
          "name": "stderr",
          "text": [
            "\n",
            "  0%|          | 0/1 [00:00<?, ?it/s]\u001b[A\n",
            "                                     \u001b[A"
          ]
        },
        {
          "output_type": "stream",
          "name": "stdout",
          "text": [
            "[09:36:42.893133] Processing image: img_350.tif\n"
          ]
        },
        {
          "output_type": "stream",
          "name": "stderr",
          "text": [
            "\n",
            "  0%|          | 0/1 [00:00<?, ?it/s]\u001b[A\n",
            "                                     \u001b[A"
          ]
        },
        {
          "output_type": "stream",
          "name": "stdout",
          "text": [
            "[09:36:42.918387] Processing image: img_366.tif\n"
          ]
        },
        {
          "output_type": "stream",
          "name": "stderr",
          "text": [
            "\n",
            "  0%|          | 0/1 [00:00<?, ?it/s]\u001b[A\n",
            "                                     \u001b[A"
          ]
        },
        {
          "output_type": "stream",
          "name": "stdout",
          "text": [
            "[09:36:42.943780] Processing image: img_367.tif\n"
          ]
        },
        {
          "output_type": "stream",
          "name": "stderr",
          "text": [
            "\n",
            "  0%|          | 0/1 [00:00<?, ?it/s]\u001b[A\n",
            "  5%|▌         | 33/610 [00:01<00:16, 34.32it/s]"
          ]
        },
        {
          "output_type": "stream",
          "name": "stdout",
          "text": [
            "[09:36:42.968895] Processing image: img_368.tif\n"
          ]
        },
        {
          "output_type": "stream",
          "name": "stderr",
          "text": [
            "\n",
            "  0%|          | 0/1 [00:00<?, ?it/s]\u001b[A\n",
            "                                     \u001b[A"
          ]
        },
        {
          "output_type": "stream",
          "name": "stdout",
          "text": [
            "[09:36:42.992686] Processing image: img_372.tif\n"
          ]
        },
        {
          "output_type": "stream",
          "name": "stderr",
          "text": [
            "\n",
            "  0%|          | 0/1 [00:00<?, ?it/s]\u001b[A\n",
            "                                     \u001b[A"
          ]
        },
        {
          "output_type": "stream",
          "name": "stdout",
          "text": [
            "[09:36:43.015872] Processing image: img_411.tif\n"
          ]
        },
        {
          "output_type": "stream",
          "name": "stderr",
          "text": [
            "\n",
            "  0%|          | 0/1 [00:00<?, ?it/s]\u001b[A\n",
            "                                     \u001b[A"
          ]
        },
        {
          "output_type": "stream",
          "name": "stdout",
          "text": [
            "[09:36:43.039885] Processing image: img_424.tif\n"
          ]
        },
        {
          "output_type": "stream",
          "name": "stderr",
          "text": [
            "\n",
            "  0%|          | 0/1 [00:00<?, ?it/s]\u001b[A\n",
            "                                     \u001b[A"
          ]
        },
        {
          "output_type": "stream",
          "name": "stdout",
          "text": [
            "[09:36:43.065594] Processing image: img_430.tif\n"
          ]
        },
        {
          "output_type": "stream",
          "name": "stderr",
          "text": [
            "\n",
            "  0%|          | 0/1 [00:00<?, ?it/s]\u001b[A\n",
            "  6%|▌         | 38/610 [00:01<00:15, 36.27it/s]"
          ]
        },
        {
          "output_type": "stream",
          "name": "stdout",
          "text": [
            "[09:36:43.090398] Processing image: img_431.tif\n"
          ]
        },
        {
          "output_type": "stream",
          "name": "stderr",
          "text": [
            "\n",
            "  0%|          | 0/1 [00:00<?, ?it/s]\u001b[A\n",
            "                                     \u001b[A"
          ]
        },
        {
          "output_type": "stream",
          "name": "stdout",
          "text": [
            "[09:36:43.124650] Processing image: img_432.tif\n"
          ]
        },
        {
          "output_type": "stream",
          "name": "stderr",
          "text": [
            "\n",
            "  0%|          | 0/1 [00:00<?, ?it/s]\u001b[A\n",
            "                                     \u001b[A"
          ]
        },
        {
          "output_type": "stream",
          "name": "stdout",
          "text": [
            "[09:36:43.160330] Processing image: img_433.tif\n"
          ]
        },
        {
          "output_type": "stream",
          "name": "stderr",
          "text": [
            "\n",
            "  0%|          | 0/1 [00:00<?, ?it/s]\u001b[A\n",
            "                                     \u001b[A"
          ]
        },
        {
          "output_type": "stream",
          "name": "stdout",
          "text": [
            "[09:36:43.185482] Processing image: img_436.tif\n"
          ]
        },
        {
          "output_type": "stream",
          "name": "stderr",
          "text": [
            "\n",
            "  0%|          | 0/1 [00:00<?, ?it/s]\u001b[A\n",
            "  7%|▋         | 42/610 [00:01<00:16, 35.13it/s]"
          ]
        },
        {
          "output_type": "stream",
          "name": "stdout",
          "text": [
            "[09:36:43.216874] Processing image: img_441.tif\n"
          ]
        },
        {
          "output_type": "stream",
          "name": "stderr",
          "text": [
            "\n",
            "  0%|          | 0/1 [00:00<?, ?it/s]\u001b[A\n",
            "                                     \u001b[A"
          ]
        },
        {
          "output_type": "stream",
          "name": "stdout",
          "text": [
            "[09:36:43.242073] Processing image: img_451.tif\n"
          ]
        },
        {
          "output_type": "stream",
          "name": "stderr",
          "text": [
            "\n",
            "  0%|          | 0/1 [00:00<?, ?it/s]\u001b[A\n",
            "                                     \u001b[A"
          ]
        },
        {
          "output_type": "stream",
          "name": "stdout",
          "text": [
            "[09:36:43.279171] Processing image: img_454.tif\n"
          ]
        },
        {
          "output_type": "stream",
          "name": "stderr",
          "text": [
            "\n",
            "  0%|          | 0/1 [00:00<?, ?it/s]\u001b[A\n",
            "                                     \u001b[A"
          ]
        },
        {
          "output_type": "stream",
          "name": "stdout",
          "text": [
            "[09:36:43.312218] Processing image: img_470.tif\n"
          ]
        },
        {
          "output_type": "stream",
          "name": "stderr",
          "text": [
            "\n",
            "  0%|          | 0/1 [00:00<?, ?it/s]\u001b[A\n",
            "  8%|▊         | 46/610 [00:01<00:16, 33.68it/s]"
          ]
        },
        {
          "output_type": "stream",
          "name": "stdout",
          "text": [
            "[09:36:43.345779] Processing image: img_475.tif\n"
          ]
        },
        {
          "output_type": "stream",
          "name": "stderr",
          "text": [
            "\n",
            "  0%|          | 0/1 [00:00<?, ?it/s]\u001b[A\n",
            "                                     \u001b[A"
          ]
        },
        {
          "output_type": "stream",
          "name": "stdout",
          "text": [
            "[09:36:43.373360] Processing image: img_482.tif\n"
          ]
        },
        {
          "output_type": "stream",
          "name": "stderr",
          "text": [
            "\n",
            "  0%|          | 0/1 [00:00<?, ?it/s]\u001b[A\n",
            "                                     \u001b[A"
          ]
        },
        {
          "output_type": "stream",
          "name": "stdout",
          "text": [
            "[09:36:43.404678] Processing image: img_484.tif\n"
          ]
        },
        {
          "output_type": "stream",
          "name": "stderr",
          "text": [
            "\n",
            "  0%|          | 0/1 [00:00<?, ?it/s]\u001b[A\n",
            "                                     \u001b[A"
          ]
        },
        {
          "output_type": "stream",
          "name": "stdout",
          "text": [
            "[09:36:43.434200] Processing image: img_491.tif\n"
          ]
        },
        {
          "output_type": "stream",
          "name": "stderr",
          "text": [
            "\n",
            "  0%|          | 0/1 [00:00<?, ?it/s]\u001b[A\n",
            "  8%|▊         | 50/610 [00:01<00:16, 34.21it/s]"
          ]
        },
        {
          "output_type": "stream",
          "name": "stdout",
          "text": [
            "[09:36:43.463960] Processing image: img_493.tif\n"
          ]
        },
        {
          "output_type": "stream",
          "name": "stderr",
          "text": [
            "\n",
            "  0%|          | 0/1 [00:00<?, ?it/s]\u001b[A\n",
            "                                     \u001b[A"
          ]
        },
        {
          "output_type": "stream",
          "name": "stdout",
          "text": [
            "[09:36:43.497870] Processing image: img_507.tif\n"
          ]
        },
        {
          "output_type": "stream",
          "name": "stderr",
          "text": [
            "\n",
            "  0%|          | 0/1 [00:00<?, ?it/s]\u001b[A\n",
            "                                     \u001b[A"
          ]
        },
        {
          "output_type": "stream",
          "name": "stdout",
          "text": [
            "[09:36:43.525772] Processing image: img_512.tif\n"
          ]
        },
        {
          "output_type": "stream",
          "name": "stderr",
          "text": [
            "\n",
            "  0%|          | 0/1 [00:00<?, ?it/s]\u001b[A\n",
            "                                     \u001b[A"
          ]
        },
        {
          "output_type": "stream",
          "name": "stdout",
          "text": [
            "[09:36:43.557814] Processing image: img_514.tif\n"
          ]
        },
        {
          "output_type": "stream",
          "name": "stderr",
          "text": [
            "\n",
            "  0%|          | 0/1 [00:00<?, ?it/s]\u001b[A\n",
            "  9%|▉         | 54/610 [00:01<00:16, 33.21it/s]"
          ]
        },
        {
          "output_type": "stream",
          "name": "stdout",
          "text": [
            "[09:36:43.589115] Processing image: img_515.tif\n"
          ]
        },
        {
          "output_type": "stream",
          "name": "stderr",
          "text": [
            "\n",
            "  0%|          | 0/1 [00:00<?, ?it/s]\u001b[A\n",
            "                                     \u001b[A"
          ]
        },
        {
          "output_type": "stream",
          "name": "stdout",
          "text": [
            "[09:36:43.620483] Processing image: img_516.tif\n"
          ]
        },
        {
          "output_type": "stream",
          "name": "stderr",
          "text": [
            "\n",
            "  0%|          | 0/1 [00:00<?, ?it/s]\u001b[A\n",
            "                                     \u001b[A"
          ]
        },
        {
          "output_type": "stream",
          "name": "stdout",
          "text": [
            "[09:36:43.650579] Processing image: img_519.tif\n"
          ]
        },
        {
          "output_type": "stream",
          "name": "stderr",
          "text": [
            "\n",
            "  0%|          | 0/1 [00:00<?, ?it/s]\u001b[A\n",
            "                                     \u001b[A"
          ]
        },
        {
          "output_type": "stream",
          "name": "stdout",
          "text": [
            "[09:36:43.675999] Processing image: img_526.tif\n"
          ]
        },
        {
          "output_type": "stream",
          "name": "stderr",
          "text": [
            "\n",
            "  0%|          | 0/1 [00:00<?, ?it/s]\u001b[A\n",
            " 10%|▉         | 58/610 [00:01<00:16, 33.65it/s]"
          ]
        },
        {
          "output_type": "stream",
          "name": "stdout",
          "text": [
            "[09:36:43.703033] Processing image: img_531.tif\n"
          ]
        },
        {
          "output_type": "stream",
          "name": "stderr",
          "text": [
            "\n",
            "  0%|          | 0/1 [00:00<?, ?it/s]\u001b[A\n",
            "                                     \u001b[A"
          ]
        },
        {
          "output_type": "stream",
          "name": "stdout",
          "text": [
            "[09:36:43.728129] Processing image: img_536.tif\n"
          ]
        },
        {
          "output_type": "stream",
          "name": "stderr",
          "text": [
            "\n",
            "  0%|          | 0/1 [00:00<?, ?it/s]\u001b[A\n",
            "                                     \u001b[A"
          ]
        },
        {
          "output_type": "stream",
          "name": "stdout",
          "text": [
            "[09:36:43.758629] Processing image: img_559.tif\n"
          ]
        },
        {
          "output_type": "stream",
          "name": "stderr",
          "text": [
            "\n",
            "  0%|          | 0/1 [00:00<?, ?it/s]\u001b[A\n",
            "                                     \u001b[A"
          ]
        },
        {
          "output_type": "stream",
          "name": "stdout",
          "text": [
            "[09:36:43.786147] Processing image: img_560.tif\n"
          ]
        },
        {
          "output_type": "stream",
          "name": "stderr",
          "text": [
            "\n",
            "  0%|          | 0/1 [00:00<?, ?it/s]\u001b[A\n",
            " 10%|█         | 62/610 [00:02<00:16, 33.75it/s]"
          ]
        },
        {
          "output_type": "stream",
          "name": "stdout",
          "text": [
            "[09:36:43.821325] Processing image: img_562.tif\n"
          ]
        },
        {
          "output_type": "stream",
          "name": "stderr",
          "text": [
            "\n",
            "  0%|          | 0/1 [00:00<?, ?it/s]\u001b[A\n",
            "                                     \u001b[A"
          ]
        },
        {
          "output_type": "stream",
          "name": "stdout",
          "text": [
            "[09:36:43.850628] Processing image: img_572.tif\n"
          ]
        },
        {
          "output_type": "stream",
          "name": "stderr",
          "text": [
            "\n",
            "  0%|          | 0/1 [00:00<?, ?it/s]\u001b[A\n",
            "                                     \u001b[A"
          ]
        },
        {
          "output_type": "stream",
          "name": "stdout",
          "text": [
            "[09:36:43.885891] Processing image: img_575.tif\n"
          ]
        },
        {
          "output_type": "stream",
          "name": "stderr",
          "text": [
            "\n",
            "  0%|          | 0/1 [00:00<?, ?it/s]\u001b[A\n",
            "                                     \u001b[A"
          ]
        },
        {
          "output_type": "stream",
          "name": "stdout",
          "text": [
            "[09:36:43.917224] Processing image: img_580.tif\n"
          ]
        },
        {
          "output_type": "stream",
          "name": "stderr",
          "text": [
            "\n",
            "  0%|          | 0/1 [00:00<?, ?it/s]\u001b[A\n",
            " 11%|█         | 66/610 [00:02<00:16, 33.54it/s]"
          ]
        },
        {
          "output_type": "stream",
          "name": "stdout",
          "text": [
            "[09:36:43.948639] Processing image: img_591.tif\n"
          ]
        },
        {
          "output_type": "stream",
          "name": "stderr",
          "text": [
            "\n",
            "  0%|          | 0/1 [00:00<?, ?it/s]\u001b[A\n",
            "                                     \u001b[A"
          ]
        },
        {
          "output_type": "stream",
          "name": "stdout",
          "text": [
            "[09:36:43.974422] Processing image: img_594.tif\n"
          ]
        },
        {
          "output_type": "stream",
          "name": "stderr",
          "text": [
            "\n",
            "  0%|          | 0/1 [00:00<?, ?it/s]\u001b[A\n",
            "                                     \u001b[A"
          ]
        },
        {
          "output_type": "stream",
          "name": "stdout",
          "text": [
            "[09:36:43.996681] Processing image: img_598.tif\n"
          ]
        },
        {
          "output_type": "stream",
          "name": "stderr",
          "text": [
            "\n",
            "  0%|          | 0/1 [00:00<?, ?it/s]\u001b[A\n",
            "                                     \u001b[A"
          ]
        },
        {
          "output_type": "stream",
          "name": "stdout",
          "text": [
            "[09:36:44.026028] Processing image: img_016.tif\n"
          ]
        },
        {
          "output_type": "stream",
          "name": "stderr",
          "text": [
            "\n",
            "  0%|          | 0/1 [00:00<?, ?it/s]\u001b[A\n",
            " 11%|█▏        | 70/610 [00:02<00:16, 33.52it/s]"
          ]
        },
        {
          "output_type": "stream",
          "name": "stdout",
          "text": [
            "[09:36:44.068046] Processing image: img_018.tif\n"
          ]
        },
        {
          "output_type": "stream",
          "name": "stderr",
          "text": [
            "\n",
            "  0%|          | 0/1 [00:00<?, ?it/s]\u001b[A\n",
            "                                     \u001b[A"
          ]
        },
        {
          "output_type": "stream",
          "name": "stdout",
          "text": [
            "[09:36:44.102621] Processing image: img_026.tif\n"
          ]
        },
        {
          "output_type": "stream",
          "name": "stderr",
          "text": [
            "\n",
            "  0%|          | 0/1 [00:00<?, ?it/s]\u001b[A\n",
            "                                     \u001b[A"
          ]
        },
        {
          "output_type": "stream",
          "name": "stdout",
          "text": [
            "[09:36:44.139314] Processing image: img_032.tif\n"
          ]
        },
        {
          "output_type": "stream",
          "name": "stderr",
          "text": [
            "\n",
            "  0%|          | 0/1 [00:00<?, ?it/s]\u001b[A\n",
            "                                     \u001b[A"
          ]
        },
        {
          "output_type": "stream",
          "name": "stdout",
          "text": [
            "[09:36:44.166022] Processing image: img_034.tif\n"
          ]
        },
        {
          "output_type": "stream",
          "name": "stderr",
          "text": [
            "\n",
            "  0%|          | 0/1 [00:00<?, ?it/s]\u001b[A\n",
            " 12%|█▏        | 74/610 [00:02<00:16, 32.21it/s]"
          ]
        },
        {
          "output_type": "stream",
          "name": "stdout",
          "text": [
            "[09:36:44.197861] Processing image: img_040.tif\n"
          ]
        },
        {
          "output_type": "stream",
          "name": "stderr",
          "text": [
            "\n",
            "  0%|          | 0/1 [00:00<?, ?it/s]\u001b[A\n",
            "                                     \u001b[A"
          ]
        },
        {
          "output_type": "stream",
          "name": "stdout",
          "text": [
            "[09:36:44.224412] Processing image: img_041.tif\n"
          ]
        },
        {
          "output_type": "stream",
          "name": "stderr",
          "text": [
            "\n",
            "  0%|          | 0/1 [00:00<?, ?it/s]\u001b[A\n",
            "                                     \u001b[A"
          ]
        },
        {
          "output_type": "stream",
          "name": "stdout",
          "text": [
            "[09:36:44.256636] Processing image: img_058.tif\n"
          ]
        },
        {
          "output_type": "stream",
          "name": "stderr",
          "text": [
            "\n",
            "  0%|          | 0/1 [00:00<?, ?it/s]\u001b[A\n",
            "                                     \u001b[A"
          ]
        },
        {
          "output_type": "stream",
          "name": "stdout",
          "text": [
            "[09:36:44.287747] Processing image: img_060.tif\n"
          ]
        },
        {
          "output_type": "stream",
          "name": "stderr",
          "text": [
            "\n",
            "  0%|          | 0/1 [00:00<?, ?it/s]\u001b[A\n",
            " 13%|█▎        | 78/610 [00:02<00:16, 32.64it/s]"
          ]
        },
        {
          "output_type": "stream",
          "name": "stdout",
          "text": [
            "[09:36:44.317387] Processing image: img_065.tif\n"
          ]
        },
        {
          "output_type": "stream",
          "name": "stderr",
          "text": [
            "\n",
            "  0%|          | 0/1 [00:00<?, ?it/s]\u001b[A\n",
            "                                     \u001b[A"
          ]
        },
        {
          "output_type": "stream",
          "name": "stdout",
          "text": [
            "[09:36:44.343053] Processing image: img_067.tif\n"
          ]
        },
        {
          "output_type": "stream",
          "name": "stderr",
          "text": [
            "\n",
            "  0%|          | 0/1 [00:00<?, ?it/s]\u001b[A\n",
            "                                     \u001b[A"
          ]
        },
        {
          "output_type": "stream",
          "name": "stdout",
          "text": [
            "[09:36:44.367907] Processing image: img_084.tif\n"
          ]
        },
        {
          "output_type": "stream",
          "name": "stderr",
          "text": [
            "\n",
            "  0%|          | 0/1 [00:00<?, ?it/s]\u001b[A\n",
            "                                     \u001b[A"
          ]
        },
        {
          "output_type": "stream",
          "name": "stdout",
          "text": [
            "[09:36:44.392031] Processing image: img_092.tif\n"
          ]
        },
        {
          "output_type": "stream",
          "name": "stderr",
          "text": [
            "\n",
            "  0%|          | 0/1 [00:00<?, ?it/s]\u001b[A\n",
            " 13%|█▎        | 82/610 [00:02<00:15, 34.46it/s]"
          ]
        },
        {
          "output_type": "stream",
          "name": "stdout",
          "text": [
            "[09:36:44.415468] Processing image: img_105.tif\n"
          ]
        },
        {
          "output_type": "stream",
          "name": "stderr",
          "text": [
            "\n",
            "  0%|          | 0/1 [00:00<?, ?it/s]\u001b[A\n",
            "                                     \u001b[A"
          ]
        },
        {
          "output_type": "stream",
          "name": "stdout",
          "text": [
            "[09:36:44.447442] Processing image: img_126.tif\n"
          ]
        },
        {
          "output_type": "stream",
          "name": "stderr",
          "text": [
            "\n",
            "  0%|          | 0/1 [00:00<?, ?it/s]\u001b[A\n",
            "                                     \u001b[A"
          ]
        },
        {
          "output_type": "stream",
          "name": "stdout",
          "text": [
            "[09:36:44.477515] Processing image: img_127.tif\n"
          ]
        },
        {
          "output_type": "stream",
          "name": "stderr",
          "text": [
            "\n",
            "  0%|          | 0/1 [00:00<?, ?it/s]\u001b[A\n",
            "                                     \u001b[A"
          ]
        },
        {
          "output_type": "stream",
          "name": "stdout",
          "text": [
            "[09:36:44.509352] Processing image: img_133.tif\n"
          ]
        },
        {
          "output_type": "stream",
          "name": "stderr",
          "text": [
            "\n",
            "  0%|          | 0/1 [00:00<?, ?it/s]\u001b[A\n",
            " 14%|█▍        | 86/610 [00:02<00:15, 33.87it/s]"
          ]
        },
        {
          "output_type": "stream",
          "name": "stdout",
          "text": [
            "[09:36:44.539697] Processing image: img_135.tif\n"
          ]
        },
        {
          "output_type": "stream",
          "name": "stderr",
          "text": [
            "\n",
            "  0%|          | 0/1 [00:00<?, ?it/s]\u001b[A\n",
            "                                     \u001b[A"
          ]
        },
        {
          "output_type": "stream",
          "name": "stdout",
          "text": [
            "[09:36:44.565581] Processing image: img_137.tif\n"
          ]
        },
        {
          "output_type": "stream",
          "name": "stderr",
          "text": [
            "\n",
            "  0%|          | 0/1 [00:00<?, ?it/s]\u001b[A\n",
            "                                     \u001b[A"
          ]
        },
        {
          "output_type": "stream",
          "name": "stdout",
          "text": [
            "[09:36:44.595994] Processing image: img_139.tif\n"
          ]
        },
        {
          "output_type": "stream",
          "name": "stderr",
          "text": [
            "\n",
            "  0%|          | 0/1 [00:00<?, ?it/s]\u001b[A\n",
            "                                     \u001b[A"
          ]
        },
        {
          "output_type": "stream",
          "name": "stdout",
          "text": [
            "[09:36:44.625952] Processing image: img_141.tif\n"
          ]
        },
        {
          "output_type": "stream",
          "name": "stderr",
          "text": [
            "\n",
            "  0%|          | 0/1 [00:00<?, ?it/s]\u001b[A\n",
            " 15%|█▍        | 90/610 [00:02<00:15, 33.87it/s]"
          ]
        },
        {
          "output_type": "stream",
          "name": "stdout",
          "text": [
            "[09:36:44.660069] Processing image: img_145.tif\n"
          ]
        },
        {
          "output_type": "stream",
          "name": "stderr",
          "text": [
            "\n",
            "  0%|          | 0/1 [00:00<?, ?it/s]\u001b[A\n",
            "                                     \u001b[A"
          ]
        },
        {
          "output_type": "stream",
          "name": "stdout",
          "text": [
            "[09:36:44.699717] Processing image: img_152.tif\n"
          ]
        },
        {
          "output_type": "stream",
          "name": "stderr",
          "text": [
            "\n",
            "  0%|          | 0/1 [00:00<?, ?it/s]\u001b[A\n",
            "                                     \u001b[A"
          ]
        },
        {
          "output_type": "stream",
          "name": "stdout",
          "text": [
            "[09:36:44.734478] Processing image: img_155.tif\n"
          ]
        },
        {
          "output_type": "stream",
          "name": "stderr",
          "text": [
            "\n",
            "  0%|          | 0/1 [00:00<?, ?it/s]\u001b[A\n",
            "                                     \u001b[A"
          ]
        },
        {
          "output_type": "stream",
          "name": "stdout",
          "text": [
            "[09:36:44.762686] Processing image: img_164.tif\n"
          ]
        },
        {
          "output_type": "stream",
          "name": "stderr",
          "text": [
            "\n",
            "  0%|          | 0/1 [00:00<?, ?it/s]\u001b[A\n",
            " 15%|█▌        | 94/610 [00:03<00:15, 32.27it/s]"
          ]
        },
        {
          "output_type": "stream",
          "name": "stdout",
          "text": [
            "[09:36:44.795165] Processing image: img_174.tif\n"
          ]
        },
        {
          "output_type": "stream",
          "name": "stderr",
          "text": [
            "\n",
            "  0%|          | 0/1 [00:00<?, ?it/s]\u001b[A\n",
            "                                     \u001b[A"
          ]
        },
        {
          "output_type": "stream",
          "name": "stdout",
          "text": [
            "[09:36:44.823562] Processing image: img_178.tif\n"
          ]
        },
        {
          "output_type": "stream",
          "name": "stderr",
          "text": [
            "\n",
            "  0%|          | 0/1 [00:00<?, ?it/s]\u001b[A\n",
            "                                     \u001b[A"
          ]
        },
        {
          "output_type": "stream",
          "name": "stdout",
          "text": [
            "[09:36:44.852295] Processing image: img_188.tif\n"
          ]
        },
        {
          "output_type": "stream",
          "name": "stderr",
          "text": [
            "\n",
            "  0%|          | 0/1 [00:00<?, ?it/s]\u001b[A\n",
            "                                     \u001b[A"
          ]
        },
        {
          "output_type": "stream",
          "name": "stdout",
          "text": [
            "[09:36:44.879954] Processing image: img_231.tif\n"
          ]
        },
        {
          "output_type": "stream",
          "name": "stderr",
          "text": [
            "\n",
            "  0%|          | 0/1 [00:00<?, ?it/s]\u001b[A\n",
            " 16%|█▌        | 98/610 [00:03<00:15, 33.00it/s]"
          ]
        },
        {
          "output_type": "stream",
          "name": "stdout",
          "text": [
            "[09:36:44.909796] Processing image: img_240.tif\n"
          ]
        },
        {
          "output_type": "stream",
          "name": "stderr",
          "text": [
            "\n",
            "  0%|          | 0/1 [00:00<?, ?it/s]\u001b[A\n",
            "                                     \u001b[A"
          ]
        },
        {
          "output_type": "stream",
          "name": "stdout",
          "text": [
            "[09:36:44.935499] Processing image: img_246.tif\n"
          ]
        },
        {
          "output_type": "stream",
          "name": "stderr",
          "text": [
            "\n",
            "  0%|          | 0/1 [00:00<?, ?it/s]\u001b[A\n",
            "                                     \u001b[A"
          ]
        },
        {
          "output_type": "stream",
          "name": "stdout",
          "text": [
            "[09:36:44.961926] Processing image: img_263.tif\n"
          ]
        },
        {
          "output_type": "stream",
          "name": "stderr",
          "text": [
            "\n",
            "  0%|          | 0/1 [00:00<?, ?it/s]\u001b[A\n",
            "                                     \u001b[A"
          ]
        },
        {
          "output_type": "stream",
          "name": "stdout",
          "text": [
            "[09:36:44.999227] Processing image: img_273.tif\n"
          ]
        },
        {
          "output_type": "stream",
          "name": "stderr",
          "text": [
            "\n",
            "  0%|          | 0/1 [00:00<?, ?it/s]\u001b[A\n",
            " 17%|█▋        | 102/610 [00:03<00:15, 33.06it/s]"
          ]
        },
        {
          "output_type": "stream",
          "name": "stdout",
          "text": [
            "[09:36:45.031505] Processing image: img_282.tif\n"
          ]
        },
        {
          "output_type": "stream",
          "name": "stderr",
          "text": [
            "\n",
            "  0%|          | 0/1 [00:00<?, ?it/s]\u001b[A\n",
            "                                     \u001b[A"
          ]
        },
        {
          "output_type": "stream",
          "name": "stdout",
          "text": [
            "[09:36:45.060886] Processing image: img_291.tif\n"
          ]
        },
        {
          "output_type": "stream",
          "name": "stderr",
          "text": [
            "\n",
            "  0%|          | 0/1 [00:00<?, ?it/s]\u001b[A\n",
            "                                     \u001b[A"
          ]
        },
        {
          "output_type": "stream",
          "name": "stdout",
          "text": [
            "[09:36:45.090192] Processing image: img_299.tif\n"
          ]
        },
        {
          "output_type": "stream",
          "name": "stderr",
          "text": [
            "\n",
            "  0%|          | 0/1 [00:00<?, ?it/s]\u001b[A\n",
            "                                     \u001b[A"
          ]
        },
        {
          "output_type": "stream",
          "name": "stdout",
          "text": [
            "[09:36:45.134029] Processing image: img_304.tif\n"
          ]
        },
        {
          "output_type": "stream",
          "name": "stderr",
          "text": [
            "\n",
            "  0%|          | 0/1 [00:00<?, ?it/s]\u001b[A\n",
            " 17%|█▋        | 106/610 [00:03<00:15, 31.56it/s]"
          ]
        },
        {
          "output_type": "stream",
          "name": "stdout",
          "text": [
            "[09:36:45.172096] Processing image: img_305.tif\n"
          ]
        },
        {
          "output_type": "stream",
          "name": "stderr",
          "text": [
            "\n",
            "  0%|          | 0/1 [00:00<?, ?it/s]\u001b[A\n",
            "                                     \u001b[A"
          ]
        },
        {
          "output_type": "stream",
          "name": "stdout",
          "text": [
            "[09:36:45.200463] Processing image: img_324.tif\n"
          ]
        },
        {
          "output_type": "stream",
          "name": "stderr",
          "text": [
            "\n",
            "  0%|          | 0/1 [00:00<?, ?it/s]\u001b[A\n",
            "                                     \u001b[A"
          ]
        },
        {
          "output_type": "stream",
          "name": "stdout",
          "text": [
            "[09:36:45.227229] Processing image: img_326.tif\n"
          ]
        },
        {
          "output_type": "stream",
          "name": "stderr",
          "text": [
            "\n",
            "  0%|          | 0/1 [00:00<?, ?it/s]\u001b[A\n",
            "                                     \u001b[A"
          ]
        },
        {
          "output_type": "stream",
          "name": "stdout",
          "text": [
            "[09:36:45.256395] Processing image: img_335.tif\n"
          ]
        },
        {
          "output_type": "stream",
          "name": "stderr",
          "text": [
            "\n",
            "  0%|          | 0/1 [00:00<?, ?it/s]\u001b[A\n",
            " 18%|█▊        | 110/610 [00:03<00:15, 32.58it/s]"
          ]
        },
        {
          "output_type": "stream",
          "name": "stdout",
          "text": [
            "[09:36:45.289198] Processing image: img_346.tif\n"
          ]
        },
        {
          "output_type": "stream",
          "name": "stderr",
          "text": [
            "\n",
            "  0%|          | 0/1 [00:00<?, ?it/s]\u001b[A\n",
            "                                     \u001b[A"
          ]
        },
        {
          "output_type": "stream",
          "name": "stdout",
          "text": [
            "[09:36:45.315539] Processing image: img_349.tif\n"
          ]
        },
        {
          "output_type": "stream",
          "name": "stderr",
          "text": [
            "\n",
            "  0%|          | 0/1 [00:00<?, ?it/s]\u001b[A\n",
            "                                     \u001b[A"
          ]
        },
        {
          "output_type": "stream",
          "name": "stdout",
          "text": [
            "[09:36:45.342766] Processing image: img_376.tif\n"
          ]
        },
        {
          "output_type": "stream",
          "name": "stderr",
          "text": [
            "\n",
            "  0%|          | 0/1 [00:00<?, ?it/s]\u001b[A\n",
            "                                     \u001b[A"
          ]
        },
        {
          "output_type": "stream",
          "name": "stdout",
          "text": [
            "[09:36:45.371729] Processing image: img_384.tif\n"
          ]
        },
        {
          "output_type": "stream",
          "name": "stderr",
          "text": [
            "\n",
            "  0%|          | 0/1 [00:00<?, ?it/s]\u001b[A\n",
            " 19%|█▊        | 114/610 [00:03<00:14, 33.35it/s]"
          ]
        },
        {
          "output_type": "stream",
          "name": "stdout",
          "text": [
            "[09:36:45.402239] Processing image: img_403.tif\n"
          ]
        },
        {
          "output_type": "stream",
          "name": "stderr",
          "text": [
            "\n",
            "  0%|          | 0/1 [00:00<?, ?it/s]\u001b[A\n",
            "                                     \u001b[A"
          ]
        },
        {
          "output_type": "stream",
          "name": "stdout",
          "text": [
            "[09:36:45.432904] Processing image: img_407.tif\n"
          ]
        },
        {
          "output_type": "stream",
          "name": "stderr",
          "text": [
            "\n",
            "  0%|          | 0/1 [00:00<?, ?it/s]\u001b[A\n",
            "                                     \u001b[A"
          ]
        },
        {
          "output_type": "stream",
          "name": "stdout",
          "text": [
            "[09:36:45.463155] Processing image: img_421.tif\n"
          ]
        },
        {
          "output_type": "stream",
          "name": "stderr",
          "text": [
            "\n",
            "  0%|          | 0/1 [00:00<?, ?it/s]\u001b[A\n",
            "                                     \u001b[A"
          ]
        },
        {
          "output_type": "stream",
          "name": "stdout",
          "text": [
            "[09:36:45.489556] Processing image: img_422.tif\n"
          ]
        },
        {
          "output_type": "stream",
          "name": "stderr",
          "text": [
            "\n",
            "  0%|          | 0/1 [00:00<?, ?it/s]\u001b[A\n",
            " 19%|█▉        | 118/610 [00:03<00:14, 33.59it/s]"
          ]
        },
        {
          "output_type": "stream",
          "name": "stdout",
          "text": [
            "[09:36:45.521710] Processing image: img_429.tif\n"
          ]
        },
        {
          "output_type": "stream",
          "name": "stderr",
          "text": [
            "\n",
            "  0%|          | 0/1 [00:00<?, ?it/s]\u001b[A\n",
            "                                     \u001b[A"
          ]
        },
        {
          "output_type": "stream",
          "name": "stdout",
          "text": [
            "[09:36:45.550830] Processing image: img_439.tif\n"
          ]
        },
        {
          "output_type": "stream",
          "name": "stderr",
          "text": [
            "\n",
            "  0%|          | 0/1 [00:00<?, ?it/s]\u001b[A\n",
            "                                     \u001b[A"
          ]
        },
        {
          "output_type": "stream",
          "name": "stdout",
          "text": [
            "[09:36:45.578533] Processing image: img_452.tif\n"
          ]
        },
        {
          "output_type": "stream",
          "name": "stderr",
          "text": [
            "\n",
            "  0%|          | 0/1 [00:00<?, ?it/s]\u001b[A\n",
            "                                     \u001b[A"
          ]
        },
        {
          "output_type": "stream",
          "name": "stdout",
          "text": [
            "[09:36:45.610252] Processing image: img_472.tif\n"
          ]
        },
        {
          "output_type": "stream",
          "name": "stderr",
          "text": [
            "\n",
            "  0%|          | 0/1 [00:00<?, ?it/s]\u001b[A\n",
            " 20%|██        | 122/610 [00:03<00:14, 33.44it/s]"
          ]
        },
        {
          "output_type": "stream",
          "name": "stdout",
          "text": [
            "[09:36:45.635504] Processing image: img_473.tif\n"
          ]
        },
        {
          "output_type": "stream",
          "name": "stderr",
          "text": [
            "\n",
            "  0%|          | 0/1 [00:00<?, ?it/s]\u001b[A\n",
            "                                     \u001b[A"
          ]
        },
        {
          "output_type": "stream",
          "name": "stdout",
          "text": [
            "[09:36:45.664077] Processing image: img_492.tif\n"
          ]
        },
        {
          "output_type": "stream",
          "name": "stderr",
          "text": [
            "\n",
            "  0%|          | 0/1 [00:00<?, ?it/s]\u001b[A\n",
            "                                     \u001b[A"
          ]
        },
        {
          "output_type": "stream",
          "name": "stdout",
          "text": [
            "[09:36:45.696109] Processing image: img_494.tif\n"
          ]
        },
        {
          "output_type": "stream",
          "name": "stderr",
          "text": [
            "\n",
            "  0%|          | 0/1 [00:00<?, ?it/s]\u001b[A\n",
            "                                     \u001b[A"
          ]
        },
        {
          "output_type": "stream",
          "name": "stdout",
          "text": [
            "[09:36:45.724060] Processing image: img_500.tif\n"
          ]
        },
        {
          "output_type": "stream",
          "name": "stderr",
          "text": [
            "\n",
            "  0%|          | 0/1 [00:00<?, ?it/s]\u001b[A\n",
            " 21%|██        | 126/610 [00:04<00:14, 33.67it/s]"
          ]
        },
        {
          "output_type": "stream",
          "name": "stdout",
          "text": [
            "[09:36:45.756357] Processing image: img_503.tif\n"
          ]
        },
        {
          "output_type": "stream",
          "name": "stderr",
          "text": [
            "\n",
            "  0%|          | 0/1 [00:00<?, ?it/s]\u001b[A\n",
            "                                     \u001b[A"
          ]
        },
        {
          "output_type": "stream",
          "name": "stdout",
          "text": [
            "[09:36:45.794361] Processing image: img_513.tif\n"
          ]
        },
        {
          "output_type": "stream",
          "name": "stderr",
          "text": [
            "\n",
            "  0%|          | 0/1 [00:00<?, ?it/s]\u001b[A\n",
            "                                     \u001b[A"
          ]
        },
        {
          "output_type": "stream",
          "name": "stdout",
          "text": [
            "[09:36:45.826852] Processing image: img_527.tif\n"
          ]
        },
        {
          "output_type": "stream",
          "name": "stderr",
          "text": [
            "\n",
            "  0%|          | 0/1 [00:00<?, ?it/s]\u001b[A\n",
            "                                     \u001b[A"
          ]
        },
        {
          "output_type": "stream",
          "name": "stdout",
          "text": [
            "[09:36:45.856386] Processing image: img_540.tif\n"
          ]
        },
        {
          "output_type": "stream",
          "name": "stderr",
          "text": [
            "\n",
            "  0%|          | 0/1 [00:00<?, ?it/s]\u001b[A\n",
            " 21%|██▏       | 130/610 [00:04<00:14, 32.36it/s]"
          ]
        },
        {
          "output_type": "stream",
          "name": "stdout",
          "text": [
            "[09:36:45.885418] Processing image: img_567.tif\n"
          ]
        },
        {
          "output_type": "stream",
          "name": "stderr",
          "text": [
            "\n",
            "  0%|          | 0/1 [00:00<?, ?it/s]\u001b[A\n",
            "                                     \u001b[A"
          ]
        },
        {
          "output_type": "stream",
          "name": "stdout",
          "text": [
            "[09:36:45.908472] Processing image: img_570.tif\n"
          ]
        },
        {
          "output_type": "stream",
          "name": "stderr",
          "text": [
            "\n",
            "  0%|          | 0/1 [00:00<?, ?it/s]\u001b[A\n",
            "                                     \u001b[A"
          ]
        },
        {
          "output_type": "stream",
          "name": "stdout",
          "text": [
            "[09:36:45.939510] Processing image: img_579.tif\n"
          ]
        },
        {
          "output_type": "stream",
          "name": "stderr",
          "text": [
            "\n",
            "  0%|          | 0/1 [00:00<?, ?it/s]\u001b[A\n",
            "                                     \u001b[A"
          ]
        },
        {
          "output_type": "stream",
          "name": "stdout",
          "text": [
            "[09:36:45.969435] Processing image: img_584.tif\n"
          ]
        },
        {
          "output_type": "stream",
          "name": "stderr",
          "text": [
            "\n",
            "  0%|          | 0/1 [00:00<?, ?it/s]\u001b[A\n",
            " 22%|██▏       | 134/610 [00:04<00:14, 33.23it/s]"
          ]
        },
        {
          "output_type": "stream",
          "name": "stdout",
          "text": [
            "[09:36:46.000852] Processing image: img_586.tif\n"
          ]
        },
        {
          "output_type": "stream",
          "name": "stderr",
          "text": [
            "\n",
            "  0%|          | 0/1 [00:00<?, ?it/s]\u001b[A\n",
            "                                     \u001b[A"
          ]
        },
        {
          "output_type": "stream",
          "name": "stdout",
          "text": [
            "[09:36:46.029305] Processing image: img_595.tif\n"
          ]
        },
        {
          "output_type": "stream",
          "name": "stderr",
          "text": [
            "\n",
            "  0%|          | 0/1 [00:00<?, ?it/s]\u001b[A\n",
            "                                     \u001b[A"
          ]
        },
        {
          "output_type": "stream",
          "name": "stdout",
          "text": [
            "[09:36:46.059771] Processing image: img_604.tif\n"
          ]
        },
        {
          "output_type": "stream",
          "name": "stderr",
          "text": [
            "\n",
            "  0%|          | 0/1 [00:00<?, ?it/s]\u001b[A\n",
            "                                     \u001b[A"
          ]
        },
        {
          "output_type": "stream",
          "name": "stdout",
          "text": [
            "[09:36:46.096685] Processing image: img_000.tif\n"
          ]
        },
        {
          "output_type": "stream",
          "name": "stderr",
          "text": [
            "\n",
            "  0%|          | 0/1 [00:00<?, ?it/s]\u001b[A\n",
            " 23%|██▎       | 138/610 [00:04<00:14, 32.79it/s]"
          ]
        },
        {
          "output_type": "stream",
          "name": "stdout",
          "text": [
            "[09:36:46.136467] Processing image: img_017.tif\n"
          ]
        },
        {
          "output_type": "stream",
          "name": "stderr",
          "text": [
            "\n",
            "  0%|          | 0/1 [00:00<?, ?it/s]\u001b[A\n",
            "                                     \u001b[A"
          ]
        },
        {
          "output_type": "stream",
          "name": "stdout",
          "text": [
            "[09:36:46.169700] Processing image: img_019.tif\n"
          ]
        },
        {
          "output_type": "stream",
          "name": "stderr",
          "text": [
            "\n",
            "  0%|          | 0/1 [00:00<?, ?it/s]\u001b[A\n",
            "                                     \u001b[A"
          ]
        },
        {
          "output_type": "stream",
          "name": "stdout",
          "text": [
            "[09:36:46.200745] Processing image: img_030.tif\n"
          ]
        },
        {
          "output_type": "stream",
          "name": "stderr",
          "text": [
            "\n",
            "  0%|          | 0/1 [00:00<?, ?it/s]\u001b[A\n",
            "                                     \u001b[A"
          ]
        },
        {
          "output_type": "stream",
          "name": "stdout",
          "text": [
            "[09:36:46.234484] Processing image: img_054.tif\n"
          ]
        },
        {
          "output_type": "stream",
          "name": "stderr",
          "text": [
            "\n",
            "  0%|          | 0/1 [00:00<?, ?it/s]\u001b[A\n",
            " 23%|██▎       | 142/610 [00:04<00:14, 31.63it/s]"
          ]
        },
        {
          "output_type": "stream",
          "name": "stdout",
          "text": [
            "[09:36:46.266782] Processing image: img_056.tif\n"
          ]
        },
        {
          "output_type": "stream",
          "name": "stderr",
          "text": [
            "\n",
            "  0%|          | 0/1 [00:00<?, ?it/s]\u001b[A\n",
            "                                     \u001b[A"
          ]
        },
        {
          "output_type": "stream",
          "name": "stdout",
          "text": [
            "[09:36:46.290580] Processing image: img_071.tif\n"
          ]
        },
        {
          "output_type": "stream",
          "name": "stderr",
          "text": [
            "\n",
            "  0%|          | 0/1 [00:00<?, ?it/s]\u001b[A\n",
            "                                     \u001b[A"
          ]
        },
        {
          "output_type": "stream",
          "name": "stdout",
          "text": [
            "[09:36:46.316672] Processing image: img_088.tif\n"
          ]
        },
        {
          "output_type": "stream",
          "name": "stderr",
          "text": [
            "\n",
            "  0%|          | 0/1 [00:00<?, ?it/s]\u001b[A\n",
            "                                     \u001b[A"
          ]
        },
        {
          "output_type": "stream",
          "name": "stdout",
          "text": [
            "[09:36:46.351301] Processing image: img_100.tif\n"
          ]
        },
        {
          "output_type": "stream",
          "name": "stderr",
          "text": [
            "\n",
            "  0%|          | 0/1 [00:00<?, ?it/s]\u001b[A\n",
            " 24%|██▍       | 146/610 [00:04<00:14, 32.27it/s]"
          ]
        },
        {
          "output_type": "stream",
          "name": "stdout",
          "text": [
            "[09:36:46.384837] Processing image: img_113.tif\n"
          ]
        },
        {
          "output_type": "stream",
          "name": "stderr",
          "text": [
            "\n",
            "  0%|          | 0/1 [00:00<?, ?it/s]\u001b[A\n",
            "                                     \u001b[A"
          ]
        },
        {
          "output_type": "stream",
          "name": "stdout",
          "text": [
            "[09:36:46.414085] Processing image: img_114.tif\n"
          ]
        },
        {
          "output_type": "stream",
          "name": "stderr",
          "text": [
            "\n",
            "  0%|          | 0/1 [00:00<?, ?it/s]\u001b[A\n",
            "                                     \u001b[A"
          ]
        },
        {
          "output_type": "stream",
          "name": "stdout",
          "text": [
            "[09:36:46.442694] Processing image: img_116.tif\n"
          ]
        },
        {
          "output_type": "stream",
          "name": "stderr",
          "text": [
            "\n",
            "  0%|          | 0/1 [00:00<?, ?it/s]\u001b[A\n",
            "                                     \u001b[A"
          ]
        },
        {
          "output_type": "stream",
          "name": "stdout",
          "text": [
            "[09:36:46.468824] Processing image: img_117.tif\n"
          ]
        },
        {
          "output_type": "stream",
          "name": "stderr",
          "text": [
            "\n",
            "  0%|          | 0/1 [00:00<?, ?it/s]\u001b[A\n",
            " 25%|██▍       | 150/610 [00:04<00:13, 33.12it/s]"
          ]
        },
        {
          "output_type": "stream",
          "name": "stdout",
          "text": [
            "[09:36:46.498000] Processing image: img_128.tif\n"
          ]
        },
        {
          "output_type": "stream",
          "name": "stderr",
          "text": [
            "\n",
            "  0%|          | 0/1 [00:00<?, ?it/s]\u001b[A\n",
            "                                     \u001b[A"
          ]
        },
        {
          "output_type": "stream",
          "name": "stdout",
          "text": [
            "[09:36:46.526659] Processing image: img_142.tif\n"
          ]
        },
        {
          "output_type": "stream",
          "name": "stderr",
          "text": [
            "\n",
            "  0%|          | 0/1 [00:00<?, ?it/s]\u001b[A\n",
            "                                     \u001b[A"
          ]
        },
        {
          "output_type": "stream",
          "name": "stdout",
          "text": [
            "[09:36:46.556671] Processing image: img_156.tif\n"
          ]
        },
        {
          "output_type": "stream",
          "name": "stderr",
          "text": [
            "\n",
            "  0%|          | 0/1 [00:00<?, ?it/s]\u001b[A\n",
            "                                     \u001b[A"
          ]
        },
        {
          "output_type": "stream",
          "name": "stdout",
          "text": [
            "[09:36:46.586450] Processing image: img_159.tif\n"
          ]
        },
        {
          "output_type": "stream",
          "name": "stderr",
          "text": [
            "\n",
            "  0%|          | 0/1 [00:00<?, ?it/s]\u001b[A\n",
            " 25%|██▌       | 154/610 [00:04<00:14, 32.49it/s]"
          ]
        },
        {
          "output_type": "stream",
          "name": "stdout",
          "text": [
            "[09:36:46.624438] Processing image: img_177.tif\n"
          ]
        },
        {
          "output_type": "stream",
          "name": "stderr",
          "text": [
            "\n",
            "  0%|          | 0/1 [00:00<?, ?it/s]\u001b[A\n",
            "                                     \u001b[A"
          ]
        },
        {
          "output_type": "stream",
          "name": "stdout",
          "text": [
            "[09:36:46.651423] Processing image: img_180.tif\n"
          ]
        },
        {
          "output_type": "stream",
          "name": "stderr",
          "text": [
            "\n",
            "  0%|          | 0/1 [00:00<?, ?it/s]\u001b[A\n",
            "                                     \u001b[A"
          ]
        },
        {
          "output_type": "stream",
          "name": "stdout",
          "text": [
            "[09:36:46.681498] Processing image: img_192.tif\n"
          ]
        },
        {
          "output_type": "stream",
          "name": "stderr",
          "text": [
            "\n",
            "  0%|          | 0/1 [00:00<?, ?it/s]\u001b[A\n",
            "                                     \u001b[A"
          ]
        },
        {
          "output_type": "stream",
          "name": "stdout",
          "text": [
            "[09:36:46.713296] Processing image: img_210.tif\n"
          ]
        },
        {
          "output_type": "stream",
          "name": "stderr",
          "text": [
            "\n",
            "  0%|          | 0/1 [00:00<?, ?it/s]\u001b[A\n",
            " 26%|██▌       | 158/610 [00:05<00:13, 32.90it/s]"
          ]
        },
        {
          "output_type": "stream",
          "name": "stdout",
          "text": [
            "[09:36:46.741982] Processing image: img_219.tif\n"
          ]
        },
        {
          "output_type": "stream",
          "name": "stderr",
          "text": [
            "\n",
            "  0%|          | 0/1 [00:00<?, ?it/s]\u001b[A\n",
            "                                     \u001b[A"
          ]
        },
        {
          "output_type": "stream",
          "name": "stdout",
          "text": [
            "[09:36:46.774389] Processing image: img_220.tif\n"
          ]
        },
        {
          "output_type": "stream",
          "name": "stderr",
          "text": [
            "\n",
            "  0%|          | 0/1 [00:00<?, ?it/s]\u001b[A\n",
            "                                     \u001b[A"
          ]
        },
        {
          "output_type": "stream",
          "name": "stdout",
          "text": [
            "[09:36:46.807237] Processing image: img_222.tif\n"
          ]
        },
        {
          "output_type": "stream",
          "name": "stderr",
          "text": [
            "\n",
            "  0%|          | 0/1 [00:00<?, ?it/s]\u001b[A\n",
            "                                     \u001b[A"
          ]
        },
        {
          "output_type": "stream",
          "name": "stdout",
          "text": [
            "[09:36:46.841817] Processing image: img_235.tif\n"
          ]
        },
        {
          "output_type": "stream",
          "name": "stderr",
          "text": [
            "\n",
            "  0%|          | 0/1 [00:00<?, ?it/s]\u001b[A\n",
            " 27%|██▋       | 162/610 [00:05<00:14, 31.62it/s]"
          ]
        },
        {
          "output_type": "stream",
          "name": "stdout",
          "text": [
            "[09:36:46.883746] Processing image: img_250.tif\n"
          ]
        },
        {
          "output_type": "stream",
          "name": "stderr",
          "text": [
            "\n",
            "  0%|          | 0/1 [00:00<?, ?it/s]\u001b[A\n",
            "                                     \u001b[A"
          ]
        },
        {
          "output_type": "stream",
          "name": "stdout",
          "text": [
            "[09:36:46.908950] Processing image: img_257.tif\n"
          ]
        },
        {
          "output_type": "stream",
          "name": "stderr",
          "text": [
            "\n",
            "  0%|          | 0/1 [00:00<?, ?it/s]\u001b[A\n",
            "                                     \u001b[A"
          ]
        },
        {
          "output_type": "stream",
          "name": "stdout",
          "text": [
            "[09:36:46.938940] Processing image: img_259.tif\n"
          ]
        },
        {
          "output_type": "stream",
          "name": "stderr",
          "text": [
            "\n",
            "  0%|          | 0/1 [00:00<?, ?it/s]\u001b[A\n",
            "                                     \u001b[A"
          ]
        },
        {
          "output_type": "stream",
          "name": "stdout",
          "text": [
            "[09:36:46.969861] Processing image: img_267.tif\n"
          ]
        },
        {
          "output_type": "stream",
          "name": "stderr",
          "text": [
            "\n",
            "  0%|          | 0/1 [00:00<?, ?it/s]\u001b[A\n",
            " 27%|██▋       | 166/610 [00:05<00:14, 31.45it/s]"
          ]
        },
        {
          "output_type": "stream",
          "name": "stdout",
          "text": [
            "[09:36:47.006504] Processing image: img_274.tif\n"
          ]
        },
        {
          "output_type": "stream",
          "name": "stderr",
          "text": [
            "\n",
            "  0%|          | 0/1 [00:00<?, ?it/s]\u001b[A\n",
            "                                     \u001b[A"
          ]
        },
        {
          "output_type": "stream",
          "name": "stdout",
          "text": [
            "[09:36:47.043520] Processing image: img_292.tif\n"
          ]
        },
        {
          "output_type": "stream",
          "name": "stderr",
          "text": [
            "\n",
            "  0%|          | 0/1 [00:00<?, ?it/s]\u001b[A\n",
            "                                     \u001b[A"
          ]
        },
        {
          "output_type": "stream",
          "name": "stdout",
          "text": [
            "[09:36:47.074321] Processing image: img_298.tif\n"
          ]
        },
        {
          "output_type": "stream",
          "name": "stderr",
          "text": [
            "\n",
            "  0%|          | 0/1 [00:00<?, ?it/s]\u001b[A\n",
            "                                     \u001b[A"
          ]
        },
        {
          "output_type": "stream",
          "name": "stdout",
          "text": [
            "[09:36:47.108973] Processing image: img_310.tif\n"
          ]
        },
        {
          "output_type": "stream",
          "name": "stderr",
          "text": [
            "\n",
            "  0%|          | 0/1 [00:00<?, ?it/s]\u001b[A\n",
            " 28%|██▊       | 170/610 [00:05<00:14, 30.59it/s]"
          ]
        },
        {
          "output_type": "stream",
          "name": "stdout",
          "text": [
            "[09:36:47.152002] Processing image: img_311.tif\n"
          ]
        },
        {
          "output_type": "stream",
          "name": "stderr",
          "text": [
            "\n",
            "  0%|          | 0/1 [00:00<?, ?it/s]\u001b[A\n",
            "                                     \u001b[A"
          ]
        },
        {
          "output_type": "stream",
          "name": "stdout",
          "text": [
            "[09:36:47.189911] Processing image: img_318.tif\n"
          ]
        },
        {
          "output_type": "stream",
          "name": "stderr",
          "text": [
            "\n",
            "  0%|          | 0/1 [00:00<?, ?it/s]\u001b[A\n",
            "                                     \u001b[A"
          ]
        },
        {
          "output_type": "stream",
          "name": "stdout",
          "text": [
            "[09:36:47.221434] Processing image: img_323.tif\n"
          ]
        },
        {
          "output_type": "stream",
          "name": "stderr",
          "text": [
            "\n",
            "  0%|          | 0/1 [00:00<?, ?it/s]\u001b[A\n",
            "                                     \u001b[A"
          ]
        },
        {
          "output_type": "stream",
          "name": "stdout",
          "text": [
            "[09:36:47.251693] Processing image: img_342.tif\n"
          ]
        },
        {
          "output_type": "stream",
          "name": "stderr",
          "text": [
            "\n",
            "  0%|          | 0/1 [00:00<?, ?it/s]\u001b[A\n",
            " 29%|██▊       | 174/610 [00:05<00:14, 30.47it/s]"
          ]
        },
        {
          "output_type": "stream",
          "name": "stdout",
          "text": [
            "[09:36:47.281076] Processing image: img_344.tif\n"
          ]
        },
        {
          "output_type": "stream",
          "name": "stderr",
          "text": [
            "\n",
            "  0%|          | 0/1 [00:00<?, ?it/s]\u001b[A\n",
            "                                     \u001b[A"
          ]
        },
        {
          "output_type": "stream",
          "name": "stdout",
          "text": [
            "[09:36:47.312527] Processing image: img_351.tif\n"
          ]
        },
        {
          "output_type": "stream",
          "name": "stderr",
          "text": [
            "\n",
            "  0%|          | 0/1 [00:00<?, ?it/s]\u001b[A\n",
            "                                     \u001b[A"
          ]
        },
        {
          "output_type": "stream",
          "name": "stdout",
          "text": [
            "[09:36:47.353319] Processing image: img_356.tif\n"
          ]
        },
        {
          "output_type": "stream",
          "name": "stderr",
          "text": [
            "\n",
            "  0%|          | 0/1 [00:00<?, ?it/s]\u001b[A\n",
            "                                     \u001b[A"
          ]
        },
        {
          "output_type": "stream",
          "name": "stdout",
          "text": [
            "[09:36:47.381679] Processing image: img_358.tif\n"
          ]
        },
        {
          "output_type": "stream",
          "name": "stderr",
          "text": [
            "\n",
            "  0%|          | 0/1 [00:00<?, ?it/s]\u001b[A\n",
            " 29%|██▉       | 178/610 [00:05<00:14, 30.02it/s]"
          ]
        },
        {
          "output_type": "stream",
          "name": "stdout",
          "text": [
            "[09:36:47.416319] Processing image: img_363.tif\n"
          ]
        },
        {
          "output_type": "stream",
          "name": "stderr",
          "text": [
            "\n",
            "  0%|          | 0/1 [00:00<?, ?it/s]\u001b[A\n",
            "                                     \u001b[A"
          ]
        },
        {
          "output_type": "stream",
          "name": "stdout",
          "text": [
            "[09:36:47.448604] Processing image: img_371.tif\n"
          ]
        },
        {
          "output_type": "stream",
          "name": "stderr",
          "text": [
            "\n",
            "  0%|          | 0/1 [00:00<?, ?it/s]\u001b[A\n",
            "                                     \u001b[A"
          ]
        },
        {
          "output_type": "stream",
          "name": "stdout",
          "text": [
            "[09:36:47.476211] Processing image: img_378.tif\n"
          ]
        },
        {
          "output_type": "stream",
          "name": "stderr",
          "text": [
            "\n",
            "  0%|          | 0/1 [00:00<?, ?it/s]\u001b[A\n",
            "                                     \u001b[A"
          ]
        },
        {
          "output_type": "stream",
          "name": "stdout",
          "text": [
            "[09:36:47.519342] Processing image: img_386.tif\n"
          ]
        },
        {
          "output_type": "stream",
          "name": "stderr",
          "text": [
            "\n",
            "  0%|          | 0/1 [00:00<?, ?it/s]\u001b[A\n",
            " 30%|██▉       | 182/610 [00:05<00:14, 29.65it/s]"
          ]
        },
        {
          "output_type": "stream",
          "name": "stdout",
          "text": [
            "[09:36:47.558850] Processing image: img_391.tif\n"
          ]
        },
        {
          "output_type": "stream",
          "name": "stderr",
          "text": [
            "\n",
            "  0%|          | 0/1 [00:00<?, ?it/s]\u001b[A\n",
            "                                     \u001b[A"
          ]
        },
        {
          "output_type": "stream",
          "name": "stdout",
          "text": [
            "[09:36:47.596933] Processing image: img_394.tif\n"
          ]
        },
        {
          "output_type": "stream",
          "name": "stderr",
          "text": [
            "\n",
            "  0%|          | 0/1 [00:00<?, ?it/s]\u001b[A\n",
            "                                     \u001b[A"
          ]
        },
        {
          "output_type": "stream",
          "name": "stdout",
          "text": [
            "[09:36:47.624446] Processing image: img_398.tif\n"
          ]
        },
        {
          "output_type": "stream",
          "name": "stderr",
          "text": [
            "\n",
            "  0%|          | 0/1 [00:00<?, ?it/s]\u001b[A\n",
            "                                     \u001b[A"
          ]
        },
        {
          "output_type": "stream",
          "name": "stdout",
          "text": [
            "[09:36:47.650931] Processing image: img_412.tif\n"
          ]
        },
        {
          "output_type": "stream",
          "name": "stderr",
          "text": [
            "\n",
            "  0%|          | 0/1 [00:00<?, ?it/s]\u001b[A\n",
            " 30%|███       | 186/610 [00:05<00:13, 30.65it/s]"
          ]
        },
        {
          "output_type": "stream",
          "name": "stdout",
          "text": [
            "[09:36:47.672208] Processing image: img_413.tif\n"
          ]
        },
        {
          "output_type": "stream",
          "name": "stderr",
          "text": [
            "\n",
            "  0%|          | 0/1 [00:00<?, ?it/s]\u001b[A\n",
            "                                     \u001b[A"
          ]
        },
        {
          "output_type": "stream",
          "name": "stdout",
          "text": [
            "[09:36:47.698444] Processing image: img_418.tif\n"
          ]
        },
        {
          "output_type": "stream",
          "name": "stderr",
          "text": [
            "\n",
            "  0%|          | 0/1 [00:00<?, ?it/s]\u001b[A\n",
            "                                     \u001b[A"
          ]
        },
        {
          "output_type": "stream",
          "name": "stdout",
          "text": [
            "[09:36:47.723387] Processing image: img_419.tif\n"
          ]
        },
        {
          "output_type": "stream",
          "name": "stderr",
          "text": [
            "\n",
            "  0%|          | 0/1 [00:00<?, ?it/s]\u001b[A\n",
            "                                     \u001b[A"
          ]
        },
        {
          "output_type": "stream",
          "name": "stdout",
          "text": [
            "[09:36:47.746510] Processing image: img_458.tif\n"
          ]
        },
        {
          "output_type": "stream",
          "name": "stderr",
          "text": [
            "\n",
            "  0%|          | 0/1 [00:00<?, ?it/s]\u001b[A\n",
            " 31%|███       | 190/610 [00:06<00:12, 32.85it/s]"
          ]
        },
        {
          "output_type": "stream",
          "name": "stdout",
          "text": [
            "[09:36:47.778161] Processing image: img_474.tif\n"
          ]
        },
        {
          "output_type": "stream",
          "name": "stderr",
          "text": [
            "\n",
            "  0%|          | 0/1 [00:00<?, ?it/s]\u001b[A\n",
            "                                     \u001b[A"
          ]
        },
        {
          "output_type": "stream",
          "name": "stdout",
          "text": [
            "[09:36:47.807811] Processing image: img_476.tif\n"
          ]
        },
        {
          "output_type": "stream",
          "name": "stderr",
          "text": [
            "\n",
            "  0%|          | 0/1 [00:00<?, ?it/s]\u001b[A\n",
            "                                     \u001b[A"
          ]
        },
        {
          "output_type": "stream",
          "name": "stdout",
          "text": [
            "[09:36:47.834850] Processing image: img_477.tif\n"
          ]
        },
        {
          "output_type": "stream",
          "name": "stderr",
          "text": [
            "\n",
            "  0%|          | 0/1 [00:00<?, ?it/s]\u001b[A\n",
            "                                     \u001b[A"
          ]
        },
        {
          "output_type": "stream",
          "name": "stdout",
          "text": [
            "[09:36:47.864306] Processing image: img_479.tif\n"
          ]
        },
        {
          "output_type": "stream",
          "name": "stderr",
          "text": [
            "\n",
            "  0%|          | 0/1 [00:00<?, ?it/s]\u001b[A\n",
            " 32%|███▏      | 194/610 [00:06<00:12, 33.73it/s]"
          ]
        },
        {
          "output_type": "stream",
          "name": "stdout",
          "text": [
            "[09:36:47.898228] Processing image: img_488.tif\n"
          ]
        },
        {
          "output_type": "stream",
          "name": "stderr",
          "text": [
            "\n",
            "  0%|          | 0/1 [00:00<?, ?it/s]\u001b[A\n",
            "                                     \u001b[A"
          ]
        },
        {
          "output_type": "stream",
          "name": "stdout",
          "text": [
            "[09:36:47.939916] Processing image: img_497.tif\n"
          ]
        },
        {
          "output_type": "stream",
          "name": "stderr",
          "text": [
            "\n",
            "  0%|          | 0/1 [00:00<?, ?it/s]\u001b[A\n",
            "                                     \u001b[A"
          ]
        },
        {
          "output_type": "stream",
          "name": "stdout",
          "text": [
            "[09:36:47.973042] Processing image: img_506.tif\n"
          ]
        },
        {
          "output_type": "stream",
          "name": "stderr",
          "text": [
            "\n",
            "  0%|          | 0/1 [00:00<?, ?it/s]\u001b[A\n",
            "                                     \u001b[A"
          ]
        },
        {
          "output_type": "stream",
          "name": "stdout",
          "text": [
            "[09:36:48.000931] Processing image: img_528.tif\n"
          ]
        },
        {
          "output_type": "stream",
          "name": "stderr",
          "text": [
            "\n",
            "  0%|          | 0/1 [00:00<?, ?it/s]\u001b[A\n",
            " 32%|███▏      | 198/610 [00:06<00:12, 31.99it/s]"
          ]
        },
        {
          "output_type": "stream",
          "name": "stdout",
          "text": [
            "[09:36:48.033149] Processing image: img_541.tif\n"
          ]
        },
        {
          "output_type": "stream",
          "name": "stderr",
          "text": [
            "\n",
            "  0%|          | 0/1 [00:00<?, ?it/s]\u001b[A\n",
            "                                     \u001b[A"
          ]
        },
        {
          "output_type": "stream",
          "name": "stdout",
          "text": [
            "[09:36:48.061728] Processing image: img_547.tif\n"
          ]
        },
        {
          "output_type": "stream",
          "name": "stderr",
          "text": [
            "\n",
            "  0%|          | 0/1 [00:00<?, ?it/s]\u001b[A\n",
            "                                     \u001b[A"
          ]
        },
        {
          "output_type": "stream",
          "name": "stdout",
          "text": [
            "[09:36:48.093857] Processing image: img_549.tif\n"
          ]
        },
        {
          "output_type": "stream",
          "name": "stderr",
          "text": [
            "\n",
            "  0%|          | 0/1 [00:00<?, ?it/s]\u001b[A\n",
            "                                     \u001b[A"
          ]
        },
        {
          "output_type": "stream",
          "name": "stdout",
          "text": [
            "[09:36:48.124465] Processing image: img_552.tif\n"
          ]
        },
        {
          "output_type": "stream",
          "name": "stderr",
          "text": [
            "\n",
            "  0%|          | 0/1 [00:00<?, ?it/s]\u001b[A\n",
            " 33%|███▎      | 202/610 [00:06<00:12, 32.08it/s]"
          ]
        },
        {
          "output_type": "stream",
          "name": "stdout",
          "text": [
            "[09:36:48.156648] Processing image: img_557.tif\n"
          ]
        },
        {
          "output_type": "stream",
          "name": "stderr",
          "text": [
            "\n",
            "  0%|          | 0/1 [00:00<?, ?it/s]\u001b[A\n",
            "                                     \u001b[A"
          ]
        },
        {
          "output_type": "stream",
          "name": "stdout",
          "text": [
            "[09:36:48.188730] Processing image: img_573.tif\n"
          ]
        },
        {
          "output_type": "stream",
          "name": "stderr",
          "text": [
            "\n",
            "  0%|          | 0/1 [00:00<?, ?it/s]\u001b[A\n",
            "                                     \u001b[A"
          ]
        },
        {
          "output_type": "stream",
          "name": "stdout",
          "text": [
            "[09:36:48.228243] Processing image: img_596.tif\n"
          ]
        },
        {
          "output_type": "stream",
          "name": "stderr",
          "text": [
            "\n",
            "  0%|          | 0/1 [00:00<?, ?it/s]\u001b[A\n",
            "                                     \u001b[A"
          ]
        },
        {
          "output_type": "stream",
          "name": "stdout",
          "text": [
            "[09:36:48.263992] Processing image: img_606.tif\n"
          ]
        },
        {
          "output_type": "stream",
          "name": "stderr",
          "text": [
            "\n",
            "  0%|          | 0/1 [00:00<?, ?it/s]\u001b[A\n",
            " 34%|███▍      | 206/610 [00:06<00:13, 30.76it/s]"
          ]
        },
        {
          "output_type": "stream",
          "name": "stdout",
          "text": [
            "[09:36:48.295839] Processing image: img_001.tif\n"
          ]
        },
        {
          "output_type": "stream",
          "name": "stderr",
          "text": [
            "\n",
            "  0%|          | 0/1 [00:00<?, ?it/s]\u001b[A\n",
            "                                     \u001b[A"
          ]
        },
        {
          "output_type": "stream",
          "name": "stdout",
          "text": [
            "[09:36:48.323438] Processing image: img_007.tif\n"
          ]
        },
        {
          "output_type": "stream",
          "name": "stderr",
          "text": [
            "\n",
            "  0%|          | 0/1 [00:00<?, ?it/s]\u001b[A\n",
            "                                     \u001b[A"
          ]
        },
        {
          "output_type": "stream",
          "name": "stdout",
          "text": [
            "[09:36:48.368621] Processing image: img_011.tif\n"
          ]
        },
        {
          "output_type": "stream",
          "name": "stderr",
          "text": [
            "\n",
            "  0%|          | 0/1 [00:00<?, ?it/s]\u001b[A\n",
            "                                     \u001b[A"
          ]
        },
        {
          "output_type": "stream",
          "name": "stdout",
          "text": [
            "[09:36:48.396830] Processing image: img_057.tif\n"
          ]
        },
        {
          "output_type": "stream",
          "name": "stderr",
          "text": [
            "\n",
            "  0%|          | 0/1 [00:00<?, ?it/s]\u001b[A\n",
            " 34%|███▍      | 210/610 [00:06<00:13, 30.58it/s]"
          ]
        },
        {
          "output_type": "stream",
          "name": "stdout",
          "text": [
            "[09:36:48.433303] Processing image: img_069.tif\n"
          ]
        },
        {
          "output_type": "stream",
          "name": "stderr",
          "text": [
            "\n",
            "  0%|          | 0/1 [00:00<?, ?it/s]\u001b[A\n",
            "                                     \u001b[A"
          ]
        },
        {
          "output_type": "stream",
          "name": "stdout",
          "text": [
            "[09:36:48.467011] Processing image: img_073.tif\n"
          ]
        },
        {
          "output_type": "stream",
          "name": "stderr",
          "text": [
            "\n",
            "  0%|          | 0/1 [00:00<?, ?it/s]\u001b[A\n",
            "                                     \u001b[A"
          ]
        },
        {
          "output_type": "stream",
          "name": "stdout",
          "text": [
            "[09:36:48.504398] Processing image: img_085.tif\n"
          ]
        },
        {
          "output_type": "stream",
          "name": "stderr",
          "text": [
            "\n",
            "  0%|          | 0/1 [00:00<?, ?it/s]\u001b[A\n",
            "                                     \u001b[A"
          ]
        },
        {
          "output_type": "stream",
          "name": "stdout",
          "text": [
            "[09:36:48.533493] Processing image: img_086.tif\n"
          ]
        },
        {
          "output_type": "stream",
          "name": "stderr",
          "text": [
            "\n",
            "  0%|          | 0/1 [00:00<?, ?it/s]\u001b[A\n",
            " 35%|███▌      | 214/610 [00:06<00:13, 30.21it/s]"
          ]
        },
        {
          "output_type": "stream",
          "name": "stdout",
          "text": [
            "[09:36:48.566898] Processing image: img_089.tif\n"
          ]
        },
        {
          "output_type": "stream",
          "name": "stderr",
          "text": [
            "\n",
            "  0%|          | 0/1 [00:00<?, ?it/s]\u001b[A\n",
            "                                     \u001b[A"
          ]
        },
        {
          "output_type": "stream",
          "name": "stdout",
          "text": [
            "[09:36:48.592199] Processing image: img_095.tif\n"
          ]
        },
        {
          "output_type": "stream",
          "name": "stderr",
          "text": [
            "\n",
            "  0%|          | 0/1 [00:00<?, ?it/s]\u001b[A\n",
            "                                     \u001b[A"
          ]
        },
        {
          "output_type": "stream",
          "name": "stdout",
          "text": [
            "[09:36:48.613399] Processing image: img_096.tif\n"
          ]
        },
        {
          "output_type": "stream",
          "name": "stderr",
          "text": [
            "\n",
            "  0%|          | 0/1 [00:00<?, ?it/s]\u001b[A\n",
            "                                     \u001b[A"
          ]
        },
        {
          "output_type": "stream",
          "name": "stdout",
          "text": [
            "[09:36:48.637667] Processing image: img_099.tif\n"
          ]
        },
        {
          "output_type": "stream",
          "name": "stderr",
          "text": [
            "\n",
            "  0%|          | 0/1 [00:00<?, ?it/s]\u001b[A\n",
            " 36%|███▌      | 218/610 [00:06<00:12, 32.32it/s]"
          ]
        },
        {
          "output_type": "stream",
          "name": "stdout",
          "text": [
            "[09:36:48.665155] Processing image: img_110.tif\n"
          ]
        },
        {
          "output_type": "stream",
          "name": "stderr",
          "text": [
            "\n",
            "  0%|          | 0/1 [00:00<?, ?it/s]\u001b[A\n",
            "                                     \u001b[A"
          ]
        },
        {
          "output_type": "stream",
          "name": "stdout",
          "text": [
            "[09:36:48.690523] Processing image: img_119.tif\n"
          ]
        },
        {
          "output_type": "stream",
          "name": "stderr",
          "text": [
            "\n",
            "  0%|          | 0/1 [00:00<?, ?it/s]\u001b[A\n",
            "                                     \u001b[A"
          ]
        },
        {
          "output_type": "stream",
          "name": "stdout",
          "text": [
            "[09:36:48.718912] Processing image: img_144.tif\n"
          ]
        },
        {
          "output_type": "stream",
          "name": "stderr",
          "text": [
            "\n",
            "  0%|          | 0/1 [00:00<?, ?it/s]\u001b[A\n",
            "                                     \u001b[A"
          ]
        },
        {
          "output_type": "stream",
          "name": "stdout",
          "text": [
            "[09:36:48.748743] Processing image: img_147.tif\n"
          ]
        },
        {
          "output_type": "stream",
          "name": "stderr",
          "text": [
            "\n",
            "  0%|          | 0/1 [00:00<?, ?it/s]\u001b[A\n",
            " 36%|███▋      | 222/610 [00:07<00:11, 33.90it/s]"
          ]
        },
        {
          "output_type": "stream",
          "name": "stdout",
          "text": [
            "[09:36:48.773462] Processing image: img_154.tif\n"
          ]
        },
        {
          "output_type": "stream",
          "name": "stderr",
          "text": [
            "\n",
            "  0%|          | 0/1 [00:00<?, ?it/s]\u001b[A\n",
            "                                     \u001b[A"
          ]
        },
        {
          "output_type": "stream",
          "name": "stdout",
          "text": [
            "[09:36:48.796946] Processing image: img_161.tif\n"
          ]
        },
        {
          "output_type": "stream",
          "name": "stderr",
          "text": [
            "\n",
            "  0%|          | 0/1 [00:00<?, ?it/s]\u001b[A\n",
            "                                     \u001b[A"
          ]
        },
        {
          "output_type": "stream",
          "name": "stdout",
          "text": [
            "[09:36:48.819935] Processing image: img_168.tif\n"
          ]
        },
        {
          "output_type": "stream",
          "name": "stderr",
          "text": [
            "\n",
            "  0%|          | 0/1 [00:00<?, ?it/s]\u001b[A\n",
            "                                     \u001b[A"
          ]
        },
        {
          "output_type": "stream",
          "name": "stdout",
          "text": [
            "[09:36:48.848667] Processing image: img_170.tif\n"
          ]
        },
        {
          "output_type": "stream",
          "name": "stderr",
          "text": [
            "\n",
            "  0%|          | 0/1 [00:00<?, ?it/s]\u001b[A\n",
            " 37%|███▋      | 226/610 [00:07<00:11, 34.72it/s]"
          ]
        },
        {
          "output_type": "stream",
          "name": "stdout",
          "text": [
            "[09:36:48.881883] Processing image: img_172.tif\n"
          ]
        },
        {
          "output_type": "stream",
          "name": "stderr",
          "text": [
            "\n",
            "  0%|          | 0/1 [00:00<?, ?it/s]\u001b[A\n",
            "                                     \u001b[A"
          ]
        },
        {
          "output_type": "stream",
          "name": "stdout",
          "text": [
            "[09:36:48.907087] Processing image: img_173.tif\n"
          ]
        },
        {
          "output_type": "stream",
          "name": "stderr",
          "text": [
            "\n",
            "  0%|          | 0/1 [00:00<?, ?it/s]\u001b[A\n",
            "                                     \u001b[A"
          ]
        },
        {
          "output_type": "stream",
          "name": "stdout",
          "text": [
            "[09:36:48.935450] Processing image: img_204.tif\n"
          ]
        },
        {
          "output_type": "stream",
          "name": "stderr",
          "text": [
            "\n",
            "  0%|          | 0/1 [00:00<?, ?it/s]\u001b[A\n",
            "                                     \u001b[A"
          ]
        },
        {
          "output_type": "stream",
          "name": "stdout",
          "text": [
            "[09:36:48.969110] Processing image: img_206.tif\n"
          ]
        },
        {
          "output_type": "stream",
          "name": "stderr",
          "text": [
            "\n",
            "  0%|          | 0/1 [00:00<?, ?it/s]\u001b[A\n",
            " 38%|███▊      | 230/610 [00:07<00:11, 34.34it/s]"
          ]
        },
        {
          "output_type": "stream",
          "name": "stdout",
          "text": [
            "[09:36:49.014211] Processing image: img_223.tif\n"
          ]
        },
        {
          "output_type": "stream",
          "name": "stderr",
          "text": [
            "\n",
            "  0%|          | 0/1 [00:00<?, ?it/s]\u001b[A\n",
            "                                     \u001b[A"
          ]
        },
        {
          "output_type": "stream",
          "name": "stdout",
          "text": [
            "[09:36:49.055609] Processing image: img_225.tif\n"
          ]
        },
        {
          "output_type": "stream",
          "name": "stderr",
          "text": [
            "\n",
            "  0%|          | 0/1 [00:00<?, ?it/s]\u001b[A\n",
            "                                     \u001b[A"
          ]
        },
        {
          "output_type": "stream",
          "name": "stdout",
          "text": [
            "[09:36:49.086139] Processing image: img_228.tif\n"
          ]
        },
        {
          "output_type": "stream",
          "name": "stderr",
          "text": [
            "\n",
            "  0%|          | 0/1 [00:00<?, ?it/s]\u001b[A\n",
            "                                     \u001b[A"
          ]
        },
        {
          "output_type": "stream",
          "name": "stdout",
          "text": [
            "[09:36:49.120999] Processing image: img_234.tif\n"
          ]
        },
        {
          "output_type": "stream",
          "name": "stderr",
          "text": [
            "\n",
            "  0%|          | 0/1 [00:00<?, ?it/s]\u001b[A\n",
            " 38%|███▊      | 234/610 [00:07<00:12, 31.23it/s]"
          ]
        },
        {
          "output_type": "stream",
          "name": "stdout",
          "text": [
            "[09:36:49.156653] Processing image: img_236.tif\n"
          ]
        },
        {
          "output_type": "stream",
          "name": "stderr",
          "text": [
            "\n",
            "  0%|          | 0/1 [00:00<?, ?it/s]\u001b[A\n",
            "                                     \u001b[A"
          ]
        },
        {
          "output_type": "stream",
          "name": "stdout",
          "text": [
            "[09:36:49.187492] Processing image: img_237.tif\n"
          ]
        },
        {
          "output_type": "stream",
          "name": "stderr",
          "text": [
            "\n",
            "  0%|          | 0/1 [00:00<?, ?it/s]\u001b[A\n",
            "                                     \u001b[A"
          ]
        },
        {
          "output_type": "stream",
          "name": "stdout",
          "text": [
            "[09:36:49.216606] Processing image: img_251.tif\n"
          ]
        },
        {
          "output_type": "stream",
          "name": "stderr",
          "text": [
            "\n",
            "  0%|          | 0/1 [00:00<?, ?it/s]\u001b[A\n",
            "                                     \u001b[A"
          ]
        },
        {
          "output_type": "stream",
          "name": "stdout",
          "text": [
            "[09:36:49.250711] Processing image: img_255.tif\n"
          ]
        },
        {
          "output_type": "stream",
          "name": "stderr",
          "text": [
            "\n",
            "  0%|          | 0/1 [00:00<?, ?it/s]\u001b[A\n",
            " 39%|███▉      | 238/610 [00:07<00:11, 31.24it/s]"
          ]
        },
        {
          "output_type": "stream",
          "name": "stdout",
          "text": [
            "[09:36:49.287396] Processing image: img_272.tif\n"
          ]
        },
        {
          "output_type": "stream",
          "name": "stderr",
          "text": [
            "\n",
            "  0%|          | 0/1 [00:00<?, ?it/s]\u001b[A\n",
            "                                     \u001b[A"
          ]
        },
        {
          "output_type": "stream",
          "name": "stdout",
          "text": [
            "[09:36:49.317579] Processing image: img_283.tif\n"
          ]
        },
        {
          "output_type": "stream",
          "name": "stderr",
          "text": [
            "\n",
            "  0%|          | 0/1 [00:00<?, ?it/s]\u001b[A\n",
            "                                     \u001b[A"
          ]
        },
        {
          "output_type": "stream",
          "name": "stdout",
          "text": [
            "[09:36:49.344560] Processing image: img_284.tif\n"
          ]
        },
        {
          "output_type": "stream",
          "name": "stderr",
          "text": [
            "\n",
            "  0%|          | 0/1 [00:00<?, ?it/s]\u001b[A\n",
            "                                     \u001b[A"
          ]
        },
        {
          "output_type": "stream",
          "name": "stdout",
          "text": [
            "[09:36:49.372546] Processing image: img_301.tif\n"
          ]
        },
        {
          "output_type": "stream",
          "name": "stderr",
          "text": [
            "\n",
            "  0%|          | 0/1 [00:00<?, ?it/s]\u001b[A\n",
            " 40%|███▉      | 242/610 [00:07<00:11, 31.64it/s]"
          ]
        },
        {
          "output_type": "stream",
          "name": "stdout",
          "text": [
            "[09:36:49.405131] Processing image: img_316.tif\n"
          ]
        },
        {
          "output_type": "stream",
          "name": "stderr",
          "text": [
            "\n",
            "  0%|          | 0/1 [00:00<?, ?it/s]\u001b[A\n",
            "                                     \u001b[A"
          ]
        },
        {
          "output_type": "stream",
          "name": "stdout",
          "text": [
            "[09:36:49.434062] Processing image: img_321.tif\n"
          ]
        },
        {
          "output_type": "stream",
          "name": "stderr",
          "text": [
            "\n",
            "  0%|          | 0/1 [00:00<?, ?it/s]\u001b[A\n",
            "                                     \u001b[A"
          ]
        },
        {
          "output_type": "stream",
          "name": "stdout",
          "text": [
            "[09:36:49.467141] Processing image: img_322.tif\n"
          ]
        },
        {
          "output_type": "stream",
          "name": "stderr",
          "text": [
            "\n",
            "  0%|          | 0/1 [00:00<?, ?it/s]\u001b[A\n",
            "                                     \u001b[A"
          ]
        },
        {
          "output_type": "stream",
          "name": "stdout",
          "text": [
            "[09:36:49.504036] Processing image: img_329.tif\n"
          ]
        },
        {
          "output_type": "stream",
          "name": "stderr",
          "text": [
            "\n",
            "  0%|          | 0/1 [00:00<?, ?it/s]\u001b[A\n",
            " 40%|████      | 246/610 [00:07<00:11, 31.33it/s]"
          ]
        },
        {
          "output_type": "stream",
          "name": "stdout",
          "text": [
            "[09:36:49.547999] Processing image: img_332.tif\n"
          ]
        },
        {
          "output_type": "stream",
          "name": "stderr",
          "text": [
            "\n",
            "  0%|          | 0/1 [00:00<?, ?it/s]\u001b[A\n",
            "                                     \u001b[A"
          ]
        },
        {
          "output_type": "stream",
          "name": "stdout",
          "text": [
            "[09:36:49.579466] Processing image: img_341.tif\n"
          ]
        },
        {
          "output_type": "stream",
          "name": "stderr",
          "text": [
            "\n",
            "  0%|          | 0/1 [00:00<?, ?it/s]\u001b[A\n",
            "                                     \u001b[A"
          ]
        },
        {
          "output_type": "stream",
          "name": "stdout",
          "text": [
            "[09:36:49.607582] Processing image: img_343.tif\n"
          ]
        },
        {
          "output_type": "stream",
          "name": "stderr",
          "text": [
            "\n",
            "  0%|          | 0/1 [00:00<?, ?it/s]\u001b[A\n",
            "                                     \u001b[A"
          ]
        },
        {
          "output_type": "stream",
          "name": "stdout",
          "text": [
            "[09:36:49.637328] Processing image: img_353.tif\n"
          ]
        },
        {
          "output_type": "stream",
          "name": "stderr",
          "text": [
            "\n",
            "  0%|          | 0/1 [00:00<?, ?it/s]\u001b[A\n",
            " 41%|████      | 250/610 [00:07<00:11, 30.97it/s]"
          ]
        },
        {
          "output_type": "stream",
          "name": "stdout",
          "text": [
            "[09:36:49.668442] Processing image: img_355.tif\n"
          ]
        },
        {
          "output_type": "stream",
          "name": "stderr",
          "text": [
            "\n",
            "  0%|          | 0/1 [00:00<?, ?it/s]\u001b[A\n",
            "                                     \u001b[A"
          ]
        },
        {
          "output_type": "stream",
          "name": "stdout",
          "text": [
            "[09:36:49.696217] Processing image: img_365.tif\n"
          ]
        },
        {
          "output_type": "stream",
          "name": "stderr",
          "text": [
            "\n",
            "  0%|          | 0/1 [00:00<?, ?it/s]\u001b[A\n",
            "                                     \u001b[A"
          ]
        },
        {
          "output_type": "stream",
          "name": "stdout",
          "text": [
            "[09:36:49.726438] Processing image: img_373.tif\n"
          ]
        },
        {
          "output_type": "stream",
          "name": "stderr",
          "text": [
            "\n",
            "  0%|          | 0/1 [00:00<?, ?it/s]\u001b[A\n",
            "                                     \u001b[A"
          ]
        },
        {
          "output_type": "stream",
          "name": "stdout",
          "text": [
            "[09:36:49.756429] Processing image: img_379.tif\n"
          ]
        },
        {
          "output_type": "stream",
          "name": "stderr",
          "text": [
            "\n",
            "  0%|          | 0/1 [00:00<?, ?it/s]\u001b[A\n",
            " 42%|████▏     | 254/610 [00:08<00:11, 31.80it/s]"
          ]
        },
        {
          "output_type": "stream",
          "name": "stdout",
          "text": [
            "[09:36:49.788365] Processing image: img_382.tif\n"
          ]
        },
        {
          "output_type": "stream",
          "name": "stderr",
          "text": [
            "\n",
            "  0%|          | 0/1 [00:00<?, ?it/s]\u001b[A\n",
            "                                     \u001b[A"
          ]
        },
        {
          "output_type": "stream",
          "name": "stdout",
          "text": [
            "[09:36:49.816198] Processing image: img_387.tif\n"
          ]
        },
        {
          "output_type": "stream",
          "name": "stderr",
          "text": [
            "\n",
            "  0%|          | 0/1 [00:00<?, ?it/s]\u001b[A\n",
            "                                     \u001b[A"
          ]
        },
        {
          "output_type": "stream",
          "name": "stdout",
          "text": [
            "[09:36:49.844617] Processing image: img_390.tif\n"
          ]
        },
        {
          "output_type": "stream",
          "name": "stderr",
          "text": [
            "\n",
            "  0%|          | 0/1 [00:00<?, ?it/s]\u001b[A\n",
            "                                     \u001b[A"
          ]
        },
        {
          "output_type": "stream",
          "name": "stdout",
          "text": [
            "[09:36:49.874527] Processing image: img_401.tif\n"
          ]
        },
        {
          "output_type": "stream",
          "name": "stderr",
          "text": [
            "\n",
            "  0%|          | 0/1 [00:00<?, ?it/s]\u001b[A\n",
            " 42%|████▏     | 258/610 [00:08<00:10, 32.30it/s]"
          ]
        },
        {
          "output_type": "stream",
          "name": "stdout",
          "text": [
            "[09:36:49.907429] Processing image: img_408.tif\n"
          ]
        },
        {
          "output_type": "stream",
          "name": "stderr",
          "text": [
            "\n",
            "  0%|          | 0/1 [00:00<?, ?it/s]\u001b[A\n",
            "                                     \u001b[A"
          ]
        },
        {
          "output_type": "stream",
          "name": "stdout",
          "text": [
            "[09:36:49.936803] Processing image: img_410.tif\n"
          ]
        },
        {
          "output_type": "stream",
          "name": "stderr",
          "text": [
            "\n",
            "  0%|          | 0/1 [00:00<?, ?it/s]\u001b[A\n",
            "                                     \u001b[A"
          ]
        },
        {
          "output_type": "stream",
          "name": "stdout",
          "text": [
            "[09:36:49.968561] Processing image: img_420.tif\n"
          ]
        },
        {
          "output_type": "stream",
          "name": "stderr",
          "text": [
            "\n",
            "  0%|          | 0/1 [00:00<?, ?it/s]\u001b[A\n",
            "                                     \u001b[A"
          ]
        },
        {
          "output_type": "stream",
          "name": "stdout",
          "text": [
            "[09:36:49.997880] Processing image: img_425.tif\n"
          ]
        },
        {
          "output_type": "stream",
          "name": "stderr",
          "text": [
            "\n",
            "  0%|          | 0/1 [00:00<?, ?it/s]\u001b[A\n",
            " 43%|████▎     | 262/610 [00:08<00:10, 32.35it/s]"
          ]
        },
        {
          "output_type": "stream",
          "name": "stdout",
          "text": [
            "[09:36:50.030807] Processing image: img_434.tif\n"
          ]
        },
        {
          "output_type": "stream",
          "name": "stderr",
          "text": [
            "\n",
            "  0%|          | 0/1 [00:00<?, ?it/s]\u001b[A\n",
            "                                     \u001b[A"
          ]
        },
        {
          "output_type": "stream",
          "name": "stdout",
          "text": [
            "[09:36:50.062168] Processing image: img_467.tif\n"
          ]
        },
        {
          "output_type": "stream",
          "name": "stderr",
          "text": [
            "\n",
            "  0%|          | 0/1 [00:00<?, ?it/s]\u001b[A\n",
            "                                     \u001b[A"
          ]
        },
        {
          "output_type": "stream",
          "name": "stdout",
          "text": [
            "[09:36:50.092722] Processing image: img_468.tif\n"
          ]
        },
        {
          "output_type": "stream",
          "name": "stderr",
          "text": [
            "\n",
            "  0%|          | 0/1 [00:00<?, ?it/s]\u001b[A\n",
            "                                     \u001b[A"
          ]
        },
        {
          "output_type": "stream",
          "name": "stdout",
          "text": [
            "[09:36:50.124277] Processing image: img_486.tif\n"
          ]
        },
        {
          "output_type": "stream",
          "name": "stderr",
          "text": [
            "\n",
            "  0%|          | 0/1 [00:00<?, ?it/s]\u001b[A\n",
            " 44%|████▎     | 266/610 [00:08<00:10, 31.94it/s]"
          ]
        },
        {
          "output_type": "stream",
          "name": "stdout",
          "text": [
            "[09:36:50.159733] Processing image: img_505.tif\n"
          ]
        },
        {
          "output_type": "stream",
          "name": "stderr",
          "text": [
            "\n",
            "  0%|          | 0/1 [00:00<?, ?it/s]\u001b[A\n",
            "                                     \u001b[A"
          ]
        },
        {
          "output_type": "stream",
          "name": "stdout",
          "text": [
            "[09:36:50.194967] Processing image: img_517.tif\n"
          ]
        },
        {
          "output_type": "stream",
          "name": "stderr",
          "text": [
            "\n",
            "  0%|          | 0/1 [00:00<?, ?it/s]\u001b[A\n",
            "                                     \u001b[A"
          ]
        },
        {
          "output_type": "stream",
          "name": "stdout",
          "text": [
            "[09:36:50.232778] Processing image: img_533.tif\n"
          ]
        },
        {
          "output_type": "stream",
          "name": "stderr",
          "text": [
            "\n",
            "  0%|          | 0/1 [00:00<?, ?it/s]\u001b[A\n",
            "                                     \u001b[A"
          ]
        },
        {
          "output_type": "stream",
          "name": "stdout",
          "text": [
            "[09:36:50.264878] Processing image: img_535.tif\n"
          ]
        },
        {
          "output_type": "stream",
          "name": "stderr",
          "text": [
            "\n",
            "  0%|          | 0/1 [00:00<?, ?it/s]\u001b[A\n",
            " 44%|████▍     | 270/610 [00:08<00:11, 30.78it/s]"
          ]
        },
        {
          "output_type": "stream",
          "name": "stdout",
          "text": [
            "[09:36:50.306235] Processing image: img_537.tif\n"
          ]
        },
        {
          "output_type": "stream",
          "name": "stderr",
          "text": [
            "\n",
            "  0%|          | 0/1 [00:00<?, ?it/s]\u001b[A\n",
            "                                     \u001b[A"
          ]
        },
        {
          "output_type": "stream",
          "name": "stdout",
          "text": [
            "[09:36:50.344058] Processing image: img_546.tif\n"
          ]
        },
        {
          "output_type": "stream",
          "name": "stderr",
          "text": [
            "\n",
            "  0%|          | 0/1 [00:00<?, ?it/s]\u001b[A\n",
            "                                     \u001b[A"
          ]
        },
        {
          "output_type": "stream",
          "name": "stdout",
          "text": [
            "[09:36:50.384484] Processing image: img_548.tif\n"
          ]
        },
        {
          "output_type": "stream",
          "name": "stderr",
          "text": [
            "\n",
            "  0%|          | 0/1 [00:00<?, ?it/s]\u001b[A\n",
            "                                     \u001b[A"
          ]
        },
        {
          "output_type": "stream",
          "name": "stdout",
          "text": [
            "[09:36:50.425082] Processing image: img_555.tif\n"
          ]
        },
        {
          "output_type": "stream",
          "name": "stderr",
          "text": [
            "\n",
            "  0%|          | 0/1 [00:00<?, ?it/s]\u001b[A\n",
            " 45%|████▍     | 274/610 [00:08<00:11, 29.26it/s]"
          ]
        },
        {
          "output_type": "stream",
          "name": "stdout",
          "text": [
            "[09:36:50.454867] Processing image: img_565.tif\n"
          ]
        },
        {
          "output_type": "stream",
          "name": "stderr",
          "text": [
            "\n",
            "  0%|          | 0/1 [00:00<?, ?it/s]\u001b[A\n",
            "                                     \u001b[A"
          ]
        },
        {
          "output_type": "stream",
          "name": "stdout",
          "text": [
            "[09:36:50.492434] Processing image: img_002.tif\n"
          ]
        },
        {
          "output_type": "stream",
          "name": "stderr",
          "text": [
            "\n",
            "  0%|          | 0/1 [00:00<?, ?it/s]\u001b[A\n",
            "                                     \u001b[A"
          ]
        },
        {
          "output_type": "stream",
          "name": "stdout",
          "text": [
            "[09:36:50.526348] Processing image: img_009.tif\n"
          ]
        },
        {
          "output_type": "stream",
          "name": "stderr",
          "text": [
            "\n",
            "  0%|          | 0/1 [00:00<?, ?it/s]\u001b[A\n",
            " 45%|████▌     | 277/610 [00:08<00:11, 28.45it/s]"
          ]
        },
        {
          "output_type": "stream",
          "name": "stdout",
          "text": [
            "[09:36:50.567547] Processing image: img_012.tif\n"
          ]
        },
        {
          "output_type": "stream",
          "name": "stderr",
          "text": [
            "\n",
            "  0%|          | 0/1 [00:00<?, ?it/s]\u001b[A\n",
            "                                     \u001b[A"
          ]
        },
        {
          "output_type": "stream",
          "name": "stdout",
          "text": [
            "[09:36:50.603444] Processing image: img_033.tif\n"
          ]
        },
        {
          "output_type": "stream",
          "name": "stderr",
          "text": [
            "\n",
            "  0%|          | 0/1 [00:00<?, ?it/s]\u001b[A\n",
            "                                     \u001b[A"
          ]
        },
        {
          "output_type": "stream",
          "name": "stdout",
          "text": [
            "[09:36:50.629869] Processing image: img_035.tif\n"
          ]
        },
        {
          "output_type": "stream",
          "name": "stderr",
          "text": [
            "\n",
            "  0%|          | 0/1 [00:00<?, ?it/s]\u001b[A\n",
            " 46%|████▌     | 280/610 [00:08<00:11, 28.73it/s]"
          ]
        },
        {
          "output_type": "stream",
          "name": "stdout",
          "text": [
            "[09:36:50.669857] Processing image: img_038.tif\n"
          ]
        },
        {
          "output_type": "stream",
          "name": "stderr",
          "text": [
            "\n",
            "  0%|          | 0/1 [00:00<?, ?it/s]\u001b[A\n",
            "                                     \u001b[A"
          ]
        },
        {
          "output_type": "stream",
          "name": "stdout",
          "text": [
            "[09:36:50.706640] Processing image: img_043.tif\n"
          ]
        },
        {
          "output_type": "stream",
          "name": "stderr",
          "text": [
            "\n",
            "  0%|          | 0/1 [00:00<?, ?it/s]\u001b[A\n",
            "                                     \u001b[A"
          ]
        },
        {
          "output_type": "stream",
          "name": "stdout",
          "text": [
            "[09:36:50.744577] Processing image: img_046.tif\n"
          ]
        },
        {
          "output_type": "stream",
          "name": "stderr",
          "text": [
            "\n",
            "  0%|          | 0/1 [00:00<?, ?it/s]\u001b[A\n",
            " 46%|████▋     | 283/610 [00:09<00:11, 27.98it/s]"
          ]
        },
        {
          "output_type": "stream",
          "name": "stdout",
          "text": [
            "[09:36:50.785067] Processing image: img_047.tif\n"
          ]
        },
        {
          "output_type": "stream",
          "name": "stderr",
          "text": [
            "\n",
            "  0%|          | 0/1 [00:00<?, ?it/s]\u001b[A\n",
            "                                     \u001b[A"
          ]
        },
        {
          "output_type": "stream",
          "name": "stdout",
          "text": [
            "[09:36:50.824379] Processing image: img_053.tif\n"
          ]
        },
        {
          "output_type": "stream",
          "name": "stderr",
          "text": [
            "\n",
            "  0%|          | 0/1 [00:00<?, ?it/s]\u001b[A\n",
            "                                     \u001b[A"
          ]
        },
        {
          "output_type": "stream",
          "name": "stdout",
          "text": [
            "[09:36:50.859234] Processing image: img_061.tif\n"
          ]
        },
        {
          "output_type": "stream",
          "name": "stderr",
          "text": [
            "\n",
            "  0%|          | 0/1 [00:00<?, ?it/s]\u001b[A\n",
            " 47%|████▋     | 286/610 [00:09<00:11, 27.64it/s]"
          ]
        },
        {
          "output_type": "stream",
          "name": "stdout",
          "text": [
            "[09:36:50.896851] Processing image: img_087.tif\n"
          ]
        },
        {
          "output_type": "stream",
          "name": "stderr",
          "text": [
            "\n",
            "  0%|          | 0/1 [00:00<?, ?it/s]\u001b[A\n",
            "                                     \u001b[A"
          ]
        },
        {
          "output_type": "stream",
          "name": "stdout",
          "text": [
            "[09:36:50.932956] Processing image: img_098.tif\n"
          ]
        },
        {
          "output_type": "stream",
          "name": "stderr",
          "text": [
            "\n",
            "  0%|          | 0/1 [00:00<?, ?it/s]\u001b[A\n",
            "                                     \u001b[A"
          ]
        },
        {
          "output_type": "stream",
          "name": "stdout",
          "text": [
            "[09:36:50.967486] Processing image: img_112.tif\n"
          ]
        },
        {
          "output_type": "stream",
          "name": "stderr",
          "text": [
            "\n",
            "  0%|          | 0/1 [00:00<?, ?it/s]\u001b[A\n",
            " 47%|████▋     | 289/610 [00:09<00:11, 27.60it/s]"
          ]
        },
        {
          "output_type": "stream",
          "name": "stdout",
          "text": [
            "[09:36:51.007459] Processing image: img_118.tif\n"
          ]
        },
        {
          "output_type": "stream",
          "name": "stderr",
          "text": [
            "\n",
            "  0%|          | 0/1 [00:00<?, ?it/s]\u001b[A\n",
            "                                     \u001b[A"
          ]
        },
        {
          "output_type": "stream",
          "name": "stdout",
          "text": [
            "[09:36:51.044826] Processing image: img_122.tif\n"
          ]
        },
        {
          "output_type": "stream",
          "name": "stderr",
          "text": [
            "\n",
            "  0%|          | 0/1 [00:00<?, ?it/s]\u001b[A\n",
            "                                     \u001b[A"
          ]
        },
        {
          "output_type": "stream",
          "name": "stdout",
          "text": [
            "[09:36:51.080098] Processing image: img_131.tif\n"
          ]
        },
        {
          "output_type": "stream",
          "name": "stderr",
          "text": [
            "\n",
            "  0%|          | 0/1 [00:00<?, ?it/s]\u001b[A\n",
            " 48%|████▊     | 292/610 [00:09<00:11, 27.53it/s]"
          ]
        },
        {
          "output_type": "stream",
          "name": "stdout",
          "text": [
            "[09:36:51.118916] Processing image: img_138.tif\n"
          ]
        },
        {
          "output_type": "stream",
          "name": "stderr",
          "text": [
            "\n",
            "  0%|          | 0/1 [00:00<?, ?it/s]\u001b[A\n",
            "                                     \u001b[A"
          ]
        },
        {
          "output_type": "stream",
          "name": "stdout",
          "text": [
            "[09:36:51.158600] Processing image: img_143.tif\n"
          ]
        },
        {
          "output_type": "stream",
          "name": "stderr",
          "text": [
            "\n",
            "  0%|          | 0/1 [00:00<?, ?it/s]\u001b[A\n",
            "                                     \u001b[A"
          ]
        },
        {
          "output_type": "stream",
          "name": "stdout",
          "text": [
            "[09:36:51.199797] Processing image: img_153.tif\n"
          ]
        },
        {
          "output_type": "stream",
          "name": "stderr",
          "text": [
            "\n",
            "  0%|          | 0/1 [00:00<?, ?it/s]\u001b[A\n",
            " 48%|████▊     | 295/610 [00:09<00:11, 26.66it/s]"
          ]
        },
        {
          "output_type": "stream",
          "name": "stdout",
          "text": [
            "[09:36:51.234227] Processing image: img_179.tif\n"
          ]
        },
        {
          "output_type": "stream",
          "name": "stderr",
          "text": [
            "\n",
            "  0%|          | 0/1 [00:00<?, ?it/s]\u001b[A\n",
            "                                     \u001b[A"
          ]
        },
        {
          "output_type": "stream",
          "name": "stdout",
          "text": [
            "[09:36:51.269475] Processing image: img_183.tif\n"
          ]
        },
        {
          "output_type": "stream",
          "name": "stderr",
          "text": [
            "\n",
            "  0%|          | 0/1 [00:00<?, ?it/s]\u001b[A\n",
            "                                     \u001b[A"
          ]
        },
        {
          "output_type": "stream",
          "name": "stdout",
          "text": [
            "[09:36:51.295688] Processing image: img_184.tif\n"
          ]
        },
        {
          "output_type": "stream",
          "name": "stderr",
          "text": [
            "\n",
            "  0%|          | 0/1 [00:00<?, ?it/s]\u001b[A\n",
            "                                     \u001b[A"
          ]
        },
        {
          "output_type": "stream",
          "name": "stdout",
          "text": [
            "[09:36:51.320563] Processing image: img_190.tif\n"
          ]
        },
        {
          "output_type": "stream",
          "name": "stderr",
          "text": [
            "\n",
            "  0%|          | 0/1 [00:00<?, ?it/s]\u001b[A\n",
            " 49%|████▉     | 299/610 [00:09<00:10, 28.93it/s]"
          ]
        },
        {
          "output_type": "stream",
          "name": "stdout",
          "text": [
            "[09:36:51.348798] Processing image: img_195.tif\n"
          ]
        },
        {
          "output_type": "stream",
          "name": "stderr",
          "text": [
            "\n",
            "  0%|          | 0/1 [00:00<?, ?it/s]\u001b[A\n",
            "                                     \u001b[A"
          ]
        },
        {
          "output_type": "stream",
          "name": "stdout",
          "text": [
            "[09:36:51.374160] Processing image: img_196.tif\n"
          ]
        },
        {
          "output_type": "stream",
          "name": "stderr",
          "text": [
            "\n",
            "  0%|          | 0/1 [00:00<?, ?it/s]\u001b[A\n",
            "                                     \u001b[A"
          ]
        },
        {
          "output_type": "stream",
          "name": "stdout",
          "text": [
            "[09:36:51.396595] Processing image: img_201.tif\n"
          ]
        },
        {
          "output_type": "stream",
          "name": "stderr",
          "text": [
            "\n",
            "  0%|          | 0/1 [00:00<?, ?it/s]\u001b[A\n",
            "                                     \u001b[A"
          ]
        },
        {
          "output_type": "stream",
          "name": "stdout",
          "text": [
            "[09:36:51.421197] Processing image: img_205.tif\n"
          ]
        },
        {
          "output_type": "stream",
          "name": "stderr",
          "text": [
            "\n",
            "  0%|          | 0/1 [00:00<?, ?it/s]\u001b[A\n",
            "                                     \u001b[A"
          ]
        },
        {
          "output_type": "stream",
          "name": "stdout",
          "text": [
            "[09:36:51.442505] Processing image: img_212.tif\n"
          ]
        },
        {
          "output_type": "stream",
          "name": "stderr",
          "text": [
            "\n",
            "  0%|          | 0/1 [00:00<?, ?it/s]\u001b[A\n",
            " 50%|████▉     | 304/610 [00:09<00:09, 33.04it/s]"
          ]
        },
        {
          "output_type": "stream",
          "name": "stdout",
          "text": [
            "[09:36:51.467532] Processing image: img_217.tif\n"
          ]
        },
        {
          "output_type": "stream",
          "name": "stderr",
          "text": [
            "\n",
            "  0%|          | 0/1 [00:00<?, ?it/s]\u001b[A\n",
            "                                     \u001b[A"
          ]
        },
        {
          "output_type": "stream",
          "name": "stdout",
          "text": [
            "[09:36:51.491314] Processing image: img_233.tif\n"
          ]
        },
        {
          "output_type": "stream",
          "name": "stderr",
          "text": [
            "\n",
            "  0%|          | 0/1 [00:00<?, ?it/s]\u001b[A\n",
            "                                     \u001b[A"
          ]
        },
        {
          "output_type": "stream",
          "name": "stdout",
          "text": [
            "[09:36:51.514080] Processing image: img_254.tif\n"
          ]
        },
        {
          "output_type": "stream",
          "name": "stderr",
          "text": [
            "\n",
            "  0%|          | 0/1 [00:00<?, ?it/s]\u001b[A\n",
            "                                     \u001b[A"
          ]
        },
        {
          "output_type": "stream",
          "name": "stdout",
          "text": [
            "[09:36:51.537850] Processing image: img_256.tif\n"
          ]
        },
        {
          "output_type": "stream",
          "name": "stderr",
          "text": [
            "\n",
            "  0%|          | 0/1 [00:00<?, ?it/s]\u001b[A\n",
            "                                     \u001b[A"
          ]
        },
        {
          "output_type": "stream",
          "name": "stdout",
          "text": [
            "[09:36:51.559949] Processing image: img_265.tif\n"
          ]
        },
        {
          "output_type": "stream",
          "name": "stderr",
          "text": [
            "\n",
            "  0%|          | 0/1 [00:00<?, ?it/s]\u001b[A\n",
            " 51%|█████     | 309/610 [00:09<00:08, 35.93it/s]"
          ]
        },
        {
          "output_type": "stream",
          "name": "stdout",
          "text": [
            "[09:36:51.583691] Processing image: img_277.tif\n"
          ]
        },
        {
          "output_type": "stream",
          "name": "stderr",
          "text": [
            "\n",
            "  0%|          | 0/1 [00:00<?, ?it/s]\u001b[A\n",
            "                                     \u001b[A"
          ]
        },
        {
          "output_type": "stream",
          "name": "stdout",
          "text": [
            "[09:36:51.607169] Processing image: img_290.tif\n"
          ]
        },
        {
          "output_type": "stream",
          "name": "stderr",
          "text": [
            "\n",
            "  0%|          | 0/1 [00:00<?, ?it/s]\u001b[A\n",
            "                                     \u001b[A"
          ]
        },
        {
          "output_type": "stream",
          "name": "stdout",
          "text": [
            "[09:36:51.629186] Processing image: img_293.tif\n"
          ]
        },
        {
          "output_type": "stream",
          "name": "stderr",
          "text": [
            "\n",
            "  0%|          | 0/1 [00:00<?, ?it/s]\u001b[A\n",
            "                                     \u001b[A"
          ]
        },
        {
          "output_type": "stream",
          "name": "stdout",
          "text": [
            "[09:36:51.652851] Processing image: img_308.tif\n"
          ]
        },
        {
          "output_type": "stream",
          "name": "stderr",
          "text": [
            "\n",
            "  0%|          | 0/1 [00:00<?, ?it/s]\u001b[A\n",
            "                                     \u001b[A"
          ]
        },
        {
          "output_type": "stream",
          "name": "stdout",
          "text": [
            "[09:36:51.676166] Processing image: img_314.tif\n"
          ]
        },
        {
          "output_type": "stream",
          "name": "stderr",
          "text": [
            "\n",
            "  0%|          | 0/1 [00:00<?, ?it/s]\u001b[A\n",
            " 51%|█████▏    | 314/610 [00:09<00:07, 37.95it/s]"
          ]
        },
        {
          "output_type": "stream",
          "name": "stdout",
          "text": [
            "[09:36:51.701140] Processing image: img_317.tif\n"
          ]
        },
        {
          "output_type": "stream",
          "name": "stderr",
          "text": [
            "\n",
            "  0%|          | 0/1 [00:00<?, ?it/s]\u001b[A\n",
            "                                     \u001b[A"
          ]
        },
        {
          "output_type": "stream",
          "name": "stdout",
          "text": [
            "[09:36:51.727705] Processing image: img_328.tif\n"
          ]
        },
        {
          "output_type": "stream",
          "name": "stderr",
          "text": [
            "\n",
            "  0%|          | 0/1 [00:00<?, ?it/s]\u001b[A\n",
            "                                     \u001b[A"
          ]
        },
        {
          "output_type": "stream",
          "name": "stdout",
          "text": [
            "[09:36:51.750322] Processing image: img_337.tif\n"
          ]
        },
        {
          "output_type": "stream",
          "name": "stderr",
          "text": [
            "\n",
            "  0%|          | 0/1 [00:00<?, ?it/s]\u001b[A\n",
            "                                     \u001b[A"
          ]
        },
        {
          "output_type": "stream",
          "name": "stdout",
          "text": [
            "[09:36:51.772556] Processing image: img_348.tif\n"
          ]
        },
        {
          "output_type": "stream",
          "name": "stderr",
          "text": [
            "\n",
            "  0%|          | 0/1 [00:00<?, ?it/s]\u001b[A\n",
            "                                     \u001b[A"
          ]
        },
        {
          "output_type": "stream",
          "name": "stdout",
          "text": [
            "[09:36:51.795926] Processing image: img_360.tif\n"
          ]
        },
        {
          "output_type": "stream",
          "name": "stderr",
          "text": [
            "\n",
            "  0%|          | 0/1 [00:00<?, ?it/s]\u001b[A\n",
            " 52%|█████▏    | 319/610 [00:10<00:07, 39.13it/s]"
          ]
        },
        {
          "output_type": "stream",
          "name": "stdout",
          "text": [
            "[09:36:51.821053] Processing image: img_383.tif\n"
          ]
        },
        {
          "output_type": "stream",
          "name": "stderr",
          "text": [
            "\n",
            "  0%|          | 0/1 [00:00<?, ?it/s]\u001b[A\n",
            "                                     \u001b[A"
          ]
        },
        {
          "output_type": "stream",
          "name": "stdout",
          "text": [
            "[09:36:51.843120] Processing image: img_393.tif\n"
          ]
        },
        {
          "output_type": "stream",
          "name": "stderr",
          "text": [
            "\n",
            "  0%|          | 0/1 [00:00<?, ?it/s]\u001b[A\n",
            "                                     \u001b[A"
          ]
        },
        {
          "output_type": "stream",
          "name": "stdout",
          "text": [
            "[09:36:51.865135] Processing image: img_443.tif\n"
          ]
        },
        {
          "output_type": "stream",
          "name": "stderr",
          "text": [
            "\n",
            "  0%|          | 0/1 [00:00<?, ?it/s]\u001b[A\n",
            "                                     \u001b[A"
          ]
        },
        {
          "output_type": "stream",
          "name": "stdout",
          "text": [
            "[09:36:51.887543] Processing image: img_449.tif\n"
          ]
        },
        {
          "output_type": "stream",
          "name": "stderr",
          "text": [
            "\n",
            "  0%|          | 0/1 [00:00<?, ?it/s]\u001b[A\n",
            "                                     \u001b[A"
          ]
        },
        {
          "output_type": "stream",
          "name": "stdout",
          "text": [
            "[09:36:51.910456] Processing image: img_469.tif\n"
          ]
        },
        {
          "output_type": "stream",
          "name": "stderr",
          "text": [
            "\n",
            "  0%|          | 0/1 [00:00<?, ?it/s]\u001b[A\n",
            " 53%|█████▎    | 324/610 [00:10<00:07, 40.59it/s]"
          ]
        },
        {
          "output_type": "stream",
          "name": "stdout",
          "text": [
            "[09:36:51.934369] Processing image: img_498.tif\n"
          ]
        },
        {
          "output_type": "stream",
          "name": "stderr",
          "text": [
            "\n",
            "  0%|          | 0/1 [00:00<?, ?it/s]\u001b[A\n",
            "                                     \u001b[A"
          ]
        },
        {
          "output_type": "stream",
          "name": "stdout",
          "text": [
            "[09:36:51.959610] Processing image: img_502.tif\n"
          ]
        },
        {
          "output_type": "stream",
          "name": "stderr",
          "text": [
            "\n",
            "  0%|          | 0/1 [00:00<?, ?it/s]\u001b[A\n",
            "                                     \u001b[A"
          ]
        },
        {
          "output_type": "stream",
          "name": "stdout",
          "text": [
            "[09:36:51.985178] Processing image: img_522.tif\n"
          ]
        },
        {
          "output_type": "stream",
          "name": "stderr",
          "text": [
            "\n",
            "  0%|          | 0/1 [00:00<?, ?it/s]\u001b[A\n",
            "                                     \u001b[A"
          ]
        },
        {
          "output_type": "stream",
          "name": "stdout",
          "text": [
            "[09:36:52.012426] Processing image: img_523.tif\n"
          ]
        },
        {
          "output_type": "stream",
          "name": "stderr",
          "text": [
            "\n",
            "  0%|          | 0/1 [00:00<?, ?it/s]\u001b[A\n",
            "                                     \u001b[A"
          ]
        },
        {
          "output_type": "stream",
          "name": "stdout",
          "text": [
            "[09:36:52.036223] Processing image: img_524.tif\n"
          ]
        },
        {
          "output_type": "stream",
          "name": "stderr",
          "text": [
            "\n",
            "  0%|          | 0/1 [00:00<?, ?it/s]\u001b[A\n",
            " 54%|█████▍    | 329/610 [00:10<00:07, 40.03it/s]"
          ]
        },
        {
          "output_type": "stream",
          "name": "stdout",
          "text": [
            "[09:36:52.064034] Processing image: img_525.tif\n"
          ]
        },
        {
          "output_type": "stream",
          "name": "stderr",
          "text": [
            "\n",
            "  0%|          | 0/1 [00:00<?, ?it/s]\u001b[A\n",
            "                                     \u001b[A"
          ]
        },
        {
          "output_type": "stream",
          "name": "stdout",
          "text": [
            "[09:36:52.088228] Processing image: img_534.tif\n"
          ]
        },
        {
          "output_type": "stream",
          "name": "stderr",
          "text": [
            "\n",
            "  0%|          | 0/1 [00:00<?, ?it/s]\u001b[A\n",
            "                                     \u001b[A"
          ]
        },
        {
          "output_type": "stream",
          "name": "stdout",
          "text": [
            "[09:36:52.114945] Processing image: img_550.tif\n"
          ]
        },
        {
          "output_type": "stream",
          "name": "stderr",
          "text": [
            "\n",
            "  0%|          | 0/1 [00:00<?, ?it/s]\u001b[A\n",
            "                                     \u001b[A"
          ]
        },
        {
          "output_type": "stream",
          "name": "stdout",
          "text": [
            "[09:36:52.138747] Processing image: img_568.tif\n"
          ]
        },
        {
          "output_type": "stream",
          "name": "stderr",
          "text": [
            "\n",
            "  0%|          | 0/1 [00:00<?, ?it/s]\u001b[A\n",
            "                                     \u001b[A"
          ]
        },
        {
          "output_type": "stream",
          "name": "stdout",
          "text": [
            "[09:36:52.163412] Processing image: img_569.tif\n"
          ]
        },
        {
          "output_type": "stream",
          "name": "stderr",
          "text": [
            "\n",
            "  0%|          | 0/1 [00:00<?, ?it/s]\u001b[A\n",
            " 55%|█████▍    | 334/610 [00:10<00:06, 40.02it/s]"
          ]
        },
        {
          "output_type": "stream",
          "name": "stdout",
          "text": [
            "[09:36:52.190898] Processing image: img_581.tif\n"
          ]
        },
        {
          "output_type": "stream",
          "name": "stderr",
          "text": [
            "\n",
            "  0%|          | 0/1 [00:00<?, ?it/s]\u001b[A\n",
            "                                     \u001b[A"
          ]
        },
        {
          "output_type": "stream",
          "name": "stdout",
          "text": [
            "[09:36:52.223294] Processing image: img_583.tif\n"
          ]
        },
        {
          "output_type": "stream",
          "name": "stderr",
          "text": [
            "\n",
            "  0%|          | 0/1 [00:00<?, ?it/s]\u001b[A\n",
            "                                     \u001b[A"
          ]
        },
        {
          "output_type": "stream",
          "name": "stdout",
          "text": [
            "[09:36:52.261194] Processing image: img_593.tif\n"
          ]
        },
        {
          "output_type": "stream",
          "name": "stderr",
          "text": [
            "\n",
            "  0%|          | 0/1 [00:00<?, ?it/s]\u001b[A\n",
            "                                     \u001b[A"
          ]
        },
        {
          "output_type": "stream",
          "name": "stdout",
          "text": [
            "[09:36:52.302690] Processing image: img_601.tif\n"
          ]
        },
        {
          "output_type": "stream",
          "name": "stderr",
          "text": [
            "\n",
            "  0%|          | 0/1 [00:00<?, ?it/s]\u001b[A\n",
            "                                     \u001b[A"
          ]
        },
        {
          "output_type": "stream",
          "name": "stdout",
          "text": [
            "[09:36:52.341068] Processing image: img_607.tif\n"
          ]
        },
        {
          "output_type": "stream",
          "name": "stderr",
          "text": [
            "\n",
            "  0%|          | 0/1 [00:00<?, ?it/s]\u001b[A\n",
            " 56%|█████▌    | 339/610 [00:10<00:07, 34.69it/s]"
          ]
        },
        {
          "output_type": "stream",
          "name": "stdout",
          "text": [
            "[09:36:52.381978] Processing image: img_609.tif\n"
          ]
        },
        {
          "output_type": "stream",
          "name": "stderr",
          "text": [
            "\n",
            "  0%|          | 0/1 [00:00<?, ?it/s]\u001b[A\n",
            "                                     \u001b[A"
          ]
        },
        {
          "output_type": "stream",
          "name": "stdout",
          "text": [
            "[09:36:52.422388] Processing image: img_003.tif\n"
          ]
        },
        {
          "output_type": "stream",
          "name": "stderr",
          "text": [
            "\n",
            "  0%|          | 0/1 [00:00<?, ?it/s]\u001b[A\n",
            "                                     \u001b[A"
          ]
        },
        {
          "output_type": "stream",
          "name": "stdout",
          "text": [
            "[09:36:52.466706] Processing image: img_008.tif\n"
          ]
        },
        {
          "output_type": "stream",
          "name": "stderr",
          "text": [
            "\n",
            "  0%|          | 0/1 [00:00<?, ?it/s]\u001b[A\n",
            "                                     \u001b[A"
          ]
        },
        {
          "output_type": "stream",
          "name": "stdout",
          "text": [
            "[09:36:52.505787] Processing image: img_031.tif\n"
          ]
        },
        {
          "output_type": "stream",
          "name": "stderr",
          "text": [
            "\n",
            "  0%|          | 0/1 [00:00<?, ?it/s]\u001b[A\n",
            " 56%|█████▌    | 343/610 [00:10<00:08, 30.96it/s]"
          ]
        },
        {
          "output_type": "stream",
          "name": "stdout",
          "text": [
            "[09:36:52.552126] Processing image: img_042.tif\n"
          ]
        },
        {
          "output_type": "stream",
          "name": "stderr",
          "text": [
            "\n",
            "  0%|          | 0/1 [00:00<?, ?it/s]\u001b[A\n",
            "                                     \u001b[A"
          ]
        },
        {
          "output_type": "stream",
          "name": "stdout",
          "text": [
            "[09:36:52.591460] Processing image: img_045.tif\n"
          ]
        },
        {
          "output_type": "stream",
          "name": "stderr",
          "text": [
            "\n",
            "  0%|          | 0/1 [00:00<?, ?it/s]\u001b[A\n",
            "                                     \u001b[A"
          ]
        },
        {
          "output_type": "stream",
          "name": "stdout",
          "text": [
            "[09:36:52.625383] Processing image: img_049.tif\n"
          ]
        },
        {
          "output_type": "stream",
          "name": "stderr",
          "text": [
            "\n",
            "  0%|          | 0/1 [00:00<?, ?it/s]\u001b[A\n",
            "                                     \u001b[A"
          ]
        },
        {
          "output_type": "stream",
          "name": "stdout",
          "text": [
            "[09:36:52.666350] Processing image: img_050.tif\n"
          ]
        },
        {
          "output_type": "stream",
          "name": "stderr",
          "text": [
            "\n",
            "  0%|          | 0/1 [00:00<?, ?it/s]\u001b[A\n",
            " 57%|█████▋    | 347/610 [00:10<00:09, 29.22it/s]"
          ]
        },
        {
          "output_type": "stream",
          "name": "stdout",
          "text": [
            "[09:36:52.707582] Processing image: img_062.tif\n"
          ]
        },
        {
          "output_type": "stream",
          "name": "stderr",
          "text": [
            "\n",
            "  0%|          | 0/1 [00:00<?, ?it/s]\u001b[A\n",
            "                                     \u001b[A"
          ]
        },
        {
          "output_type": "stream",
          "name": "stdout",
          "text": [
            "[09:36:52.744673] Processing image: img_070.tif\n"
          ]
        },
        {
          "output_type": "stream",
          "name": "stderr",
          "text": [
            "\n",
            "  0%|          | 0/1 [00:00<?, ?it/s]\u001b[A\n",
            "                                     \u001b[A"
          ]
        },
        {
          "output_type": "stream",
          "name": "stdout",
          "text": [
            "[09:36:52.778249] Processing image: img_081.tif\n"
          ]
        },
        {
          "output_type": "stream",
          "name": "stderr",
          "text": [
            "\n",
            "  0%|          | 0/1 [00:00<?, ?it/s]\u001b[A\n",
            "                                     \u001b[A"
          ]
        },
        {
          "output_type": "stream",
          "name": "stdout",
          "text": [
            "[09:36:52.817435] Processing image: img_082.tif\n"
          ]
        },
        {
          "output_type": "stream",
          "name": "stderr",
          "text": [
            "\n",
            "  0%|          | 0/1 [00:00<?, ?it/s]\u001b[A\n",
            " 58%|█████▊    | 351/610 [00:11<00:09, 28.52it/s]"
          ]
        },
        {
          "output_type": "stream",
          "name": "stdout",
          "text": [
            "[09:36:52.856950] Processing image: img_093.tif\n"
          ]
        },
        {
          "output_type": "stream",
          "name": "stderr",
          "text": [
            "\n",
            "  0%|          | 0/1 [00:00<?, ?it/s]\u001b[A\n",
            "                                     \u001b[A"
          ]
        },
        {
          "output_type": "stream",
          "name": "stdout",
          "text": [
            "[09:36:52.892086] Processing image: img_108.tif\n"
          ]
        },
        {
          "output_type": "stream",
          "name": "stderr",
          "text": [
            "\n",
            "  0%|          | 0/1 [00:00<?, ?it/s]\u001b[A\n",
            "                                     \u001b[A"
          ]
        },
        {
          "output_type": "stream",
          "name": "stdout",
          "text": [
            "[09:36:52.935189] Processing image: img_115.tif\n"
          ]
        },
        {
          "output_type": "stream",
          "name": "stderr",
          "text": [
            "\n",
            "  0%|          | 0/1 [00:00<?, ?it/s]\u001b[A\n",
            " 58%|█████▊    | 354/610 [00:11<00:09, 27.54it/s]"
          ]
        },
        {
          "output_type": "stream",
          "name": "stdout",
          "text": [
            "[09:36:52.978284] Processing image: img_134.tif\n"
          ]
        },
        {
          "output_type": "stream",
          "name": "stderr",
          "text": [
            "\n",
            "  0%|          | 0/1 [00:00<?, ?it/s]\u001b[A\n",
            "                                     \u001b[A"
          ]
        },
        {
          "output_type": "stream",
          "name": "stdout",
          "text": [
            "[09:36:53.014804] Processing image: img_160.tif\n"
          ]
        },
        {
          "output_type": "stream",
          "name": "stderr",
          "text": [
            "\n",
            "  0%|          | 0/1 [00:00<?, ?it/s]\u001b[A\n",
            "                                     \u001b[A"
          ]
        },
        {
          "output_type": "stream",
          "name": "stdout",
          "text": [
            "[09:36:53.050250] Processing image: img_165.tif\n"
          ]
        },
        {
          "output_type": "stream",
          "name": "stderr",
          "text": [
            "\n",
            "  0%|          | 0/1 [00:00<?, ?it/s]\u001b[A\n",
            " 59%|█████▊    | 357/610 [00:11<00:09, 27.46it/s]"
          ]
        },
        {
          "output_type": "stream",
          "name": "stdout",
          "text": [
            "[09:36:53.090947] Processing image: img_167.tif\n"
          ]
        },
        {
          "output_type": "stream",
          "name": "stderr",
          "text": [
            "\n",
            "  0%|          | 0/1 [00:00<?, ?it/s]\u001b[A\n",
            "                                     \u001b[A"
          ]
        },
        {
          "output_type": "stream",
          "name": "stdout",
          "text": [
            "[09:36:53.130194] Processing image: img_171.tif\n"
          ]
        },
        {
          "output_type": "stream",
          "name": "stderr",
          "text": [
            "\n",
            "  0%|          | 0/1 [00:00<?, ?it/s]\u001b[A\n",
            "                                     \u001b[A"
          ]
        },
        {
          "output_type": "stream",
          "name": "stdout",
          "text": [
            "[09:36:53.168553] Processing image: img_176.tif\n"
          ]
        },
        {
          "output_type": "stream",
          "name": "stderr",
          "text": [
            "\n",
            "  0%|          | 0/1 [00:00<?, ?it/s]\u001b[A\n",
            " 59%|█████▉    | 360/610 [00:11<00:09, 26.86it/s]"
          ]
        },
        {
          "output_type": "stream",
          "name": "stdout",
          "text": [
            "[09:36:53.206016] Processing image: img_187.tif\n"
          ]
        },
        {
          "output_type": "stream",
          "name": "stderr",
          "text": [
            "\n",
            "  0%|          | 0/1 [00:00<?, ?it/s]\u001b[A\n",
            "                                     \u001b[A"
          ]
        },
        {
          "output_type": "stream",
          "name": "stdout",
          "text": [
            "[09:36:53.244420] Processing image: img_189.tif\n"
          ]
        },
        {
          "output_type": "stream",
          "name": "stderr",
          "text": [
            "\n",
            "  0%|          | 0/1 [00:00<?, ?it/s]\u001b[A\n",
            "                                     \u001b[A"
          ]
        },
        {
          "output_type": "stream",
          "name": "stdout",
          "text": [
            "[09:36:53.285756] Processing image: img_191.tif\n"
          ]
        },
        {
          "output_type": "stream",
          "name": "stderr",
          "text": [
            "\n",
            "  0%|          | 0/1 [00:00<?, ?it/s]\u001b[A\n",
            " 60%|█████▉    | 363/610 [00:11<00:09, 26.54it/s]"
          ]
        },
        {
          "output_type": "stream",
          "name": "stdout",
          "text": [
            "[09:36:53.322262] Processing image: img_194.tif\n"
          ]
        },
        {
          "output_type": "stream",
          "name": "stderr",
          "text": [
            "\n",
            "  0%|          | 0/1 [00:00<?, ?it/s]\u001b[A\n",
            "                                     \u001b[A"
          ]
        },
        {
          "output_type": "stream",
          "name": "stdout",
          "text": [
            "[09:36:53.367080] Processing image: img_197.tif\n"
          ]
        },
        {
          "output_type": "stream",
          "name": "stderr",
          "text": [
            "\n",
            "  0%|          | 0/1 [00:00<?, ?it/s]\u001b[A\n",
            "                                     \u001b[A"
          ]
        },
        {
          "output_type": "stream",
          "name": "stdout",
          "text": [
            "[09:36:53.404971] Processing image: img_200.tif\n"
          ]
        },
        {
          "output_type": "stream",
          "name": "stderr",
          "text": [
            "\n",
            "  0%|          | 0/1 [00:00<?, ?it/s]\u001b[A\n",
            " 60%|██████    | 366/610 [00:11<00:09, 25.81it/s]"
          ]
        },
        {
          "output_type": "stream",
          "name": "stdout",
          "text": [
            "[09:36:53.448551] Processing image: img_221.tif\n"
          ]
        },
        {
          "output_type": "stream",
          "name": "stderr",
          "text": [
            "\n",
            "  0%|          | 0/1 [00:00<?, ?it/s]\u001b[A\n",
            "                                     \u001b[A"
          ]
        },
        {
          "output_type": "stream",
          "name": "stdout",
          "text": [
            "[09:36:53.485303] Processing image: img_238.tif\n"
          ]
        },
        {
          "output_type": "stream",
          "name": "stderr",
          "text": [
            "\n",
            "  0%|          | 0/1 [00:00<?, ?it/s]\u001b[A\n",
            "                                     \u001b[A"
          ]
        },
        {
          "output_type": "stream",
          "name": "stdout",
          "text": [
            "[09:36:53.524412] Processing image: img_241.tif\n"
          ]
        },
        {
          "output_type": "stream",
          "name": "stderr",
          "text": [
            "\n",
            "  0%|          | 0/1 [00:00<?, ?it/s]\u001b[A\n",
            " 60%|██████    | 369/610 [00:11<00:09, 26.21it/s]"
          ]
        },
        {
          "output_type": "stream",
          "name": "stdout",
          "text": [
            "[09:36:53.555778] Processing image: img_244.tif\n"
          ]
        },
        {
          "output_type": "stream",
          "name": "stderr",
          "text": [
            "\n",
            "  0%|          | 0/1 [00:00<?, ?it/s]\u001b[A\n",
            "                                     \u001b[A"
          ]
        },
        {
          "output_type": "stream",
          "name": "stdout",
          "text": [
            "[09:36:53.589024] Processing image: img_245.tif\n"
          ]
        },
        {
          "output_type": "stream",
          "name": "stderr",
          "text": [
            "\n",
            "  0%|          | 0/1 [00:00<?, ?it/s]\u001b[A\n",
            "                                     \u001b[A"
          ]
        },
        {
          "output_type": "stream",
          "name": "stdout",
          "text": [
            "[09:36:53.621400] Processing image: img_248.tif\n"
          ]
        },
        {
          "output_type": "stream",
          "name": "stderr",
          "text": [
            "\n",
            "  0%|          | 0/1 [00:00<?, ?it/s]\u001b[A\n",
            "                                     \u001b[A"
          ]
        },
        {
          "output_type": "stream",
          "name": "stdout",
          "text": [
            "[09:36:53.656966] Processing image: img_252.tif\n"
          ]
        },
        {
          "output_type": "stream",
          "name": "stderr",
          "text": [
            "\n",
            "  0%|          | 0/1 [00:00<?, ?it/s]\u001b[A\n",
            " 61%|██████    | 373/610 [00:11<00:08, 27.22it/s]"
          ]
        },
        {
          "output_type": "stream",
          "name": "stdout",
          "text": [
            "[09:36:53.701679] Processing image: img_270.tif\n"
          ]
        },
        {
          "output_type": "stream",
          "name": "stderr",
          "text": [
            "\n",
            "  0%|          | 0/1 [00:00<?, ?it/s]\u001b[A\n",
            "                                     \u001b[A"
          ]
        },
        {
          "output_type": "stream",
          "name": "stdout",
          "text": [
            "[09:36:53.744283] Processing image: img_333.tif\n"
          ]
        },
        {
          "output_type": "stream",
          "name": "stderr",
          "text": [
            "\n",
            "  0%|          | 0/1 [00:00<?, ?it/s]\u001b[A\n",
            "                                     \u001b[A"
          ]
        },
        {
          "output_type": "stream",
          "name": "stdout",
          "text": [
            "[09:36:53.780784] Processing image: img_340.tif\n"
          ]
        },
        {
          "output_type": "stream",
          "name": "stderr",
          "text": [
            "\n",
            "  0%|          | 0/1 [00:00<?, ?it/s]\u001b[A\n",
            " 62%|██████▏   | 376/610 [00:12<00:08, 26.27it/s]"
          ]
        },
        {
          "output_type": "stream",
          "name": "stdout",
          "text": [
            "[09:36:53.823906] Processing image: img_345.tif\n"
          ]
        },
        {
          "output_type": "stream",
          "name": "stderr",
          "text": [
            "\n",
            "  0%|          | 0/1 [00:00<?, ?it/s]\u001b[A\n",
            "                                     \u001b[A"
          ]
        },
        {
          "output_type": "stream",
          "name": "stdout",
          "text": [
            "[09:36:53.857117] Processing image: img_347.tif\n"
          ]
        },
        {
          "output_type": "stream",
          "name": "stderr",
          "text": [
            "\n",
            "  0%|          | 0/1 [00:00<?, ?it/s]\u001b[A\n",
            "                                     \u001b[A"
          ]
        },
        {
          "output_type": "stream",
          "name": "stdout",
          "text": [
            "[09:36:53.892577] Processing image: img_354.tif\n"
          ]
        },
        {
          "output_type": "stream",
          "name": "stderr",
          "text": [
            "\n",
            "  0%|          | 0/1 [00:00<?, ?it/s]\u001b[A\n",
            " 62%|██████▏   | 379/610 [00:12<00:08, 26.87it/s]"
          ]
        },
        {
          "output_type": "stream",
          "name": "stdout",
          "text": [
            "[09:36:53.922160] Processing image: img_359.tif\n"
          ]
        },
        {
          "output_type": "stream",
          "name": "stderr",
          "text": [
            "\n",
            "  0%|          | 0/1 [00:00<?, ?it/s]\u001b[A\n",
            "                                     \u001b[A"
          ]
        },
        {
          "output_type": "stream",
          "name": "stdout",
          "text": [
            "[09:36:53.949080] Processing image: img_362.tif\n"
          ]
        },
        {
          "output_type": "stream",
          "name": "stderr",
          "text": [
            "\n",
            "  0%|          | 0/1 [00:00<?, ?it/s]\u001b[A\n",
            "                                     \u001b[A"
          ]
        },
        {
          "output_type": "stream",
          "name": "stdout",
          "text": [
            "[09:36:53.975971] Processing image: img_377.tif\n"
          ]
        },
        {
          "output_type": "stream",
          "name": "stderr",
          "text": [
            "\n",
            "  0%|          | 0/1 [00:00<?, ?it/s]\u001b[A\n",
            "                                     \u001b[A"
          ]
        },
        {
          "output_type": "stream",
          "name": "stdout",
          "text": [
            "[09:36:54.002897] Processing image: img_396.tif\n"
          ]
        },
        {
          "output_type": "stream",
          "name": "stderr",
          "text": [
            "\n",
            "  0%|          | 0/1 [00:00<?, ?it/s]\u001b[A\n",
            " 63%|██████▎   | 383/610 [00:12<00:07, 29.46it/s]"
          ]
        },
        {
          "output_type": "stream",
          "name": "stdout",
          "text": [
            "[09:36:54.032483] Processing image: img_399.tif\n"
          ]
        },
        {
          "output_type": "stream",
          "name": "stderr",
          "text": [
            "\n",
            "  0%|          | 0/1 [00:00<?, ?it/s]\u001b[A\n",
            "                                     \u001b[A"
          ]
        },
        {
          "output_type": "stream",
          "name": "stdout",
          "text": [
            "[09:36:54.059637] Processing image: img_402.tif\n"
          ]
        },
        {
          "output_type": "stream",
          "name": "stderr",
          "text": [
            "\n",
            "  0%|          | 0/1 [00:00<?, ?it/s]\u001b[A\n",
            "                                     \u001b[A"
          ]
        },
        {
          "output_type": "stream",
          "name": "stdout",
          "text": [
            "[09:36:54.089386] Processing image: img_406.tif\n"
          ]
        },
        {
          "output_type": "stream",
          "name": "stderr",
          "text": [
            "\n",
            "  0%|          | 0/1 [00:00<?, ?it/s]\u001b[A\n",
            "                                     \u001b[A"
          ]
        },
        {
          "output_type": "stream",
          "name": "stdout",
          "text": [
            "[09:36:54.120594] Processing image: img_409.tif\n"
          ]
        },
        {
          "output_type": "stream",
          "name": "stderr",
          "text": [
            "\n",
            "  0%|          | 0/1 [00:00<?, ?it/s]\u001b[A\n",
            " 63%|██████▎   | 387/610 [00:12<00:07, 30.59it/s]"
          ]
        },
        {
          "output_type": "stream",
          "name": "stdout",
          "text": [
            "[09:36:54.154510] Processing image: img_416.tif\n"
          ]
        },
        {
          "output_type": "stream",
          "name": "stderr",
          "text": [
            "\n",
            "  0%|          | 0/1 [00:00<?, ?it/s]\u001b[A\n",
            "                                     \u001b[A"
          ]
        },
        {
          "output_type": "stream",
          "name": "stdout",
          "text": [
            "[09:36:54.192960] Processing image: img_417.tif\n"
          ]
        },
        {
          "output_type": "stream",
          "name": "stderr",
          "text": [
            "\n",
            "  0%|          | 0/1 [00:00<?, ?it/s]\u001b[A\n",
            "                                     \u001b[A"
          ]
        },
        {
          "output_type": "stream",
          "name": "stdout",
          "text": [
            "[09:36:54.233837] Processing image: img_428.tif\n"
          ]
        },
        {
          "output_type": "stream",
          "name": "stderr",
          "text": [
            "\n",
            "  0%|          | 0/1 [00:00<?, ?it/s]\u001b[A\n",
            "                                     \u001b[A"
          ]
        },
        {
          "output_type": "stream",
          "name": "stdout",
          "text": [
            "[09:36:54.273248] Processing image: img_438.tif\n"
          ]
        },
        {
          "output_type": "stream",
          "name": "stderr",
          "text": [
            "\n",
            "  0%|          | 0/1 [00:00<?, ?it/s]\u001b[A\n",
            " 64%|██████▍   | 391/610 [00:12<00:07, 28.87it/s]"
          ]
        },
        {
          "output_type": "stream",
          "name": "stdout",
          "text": [
            "[09:36:54.318965] Processing image: img_440.tif\n"
          ]
        },
        {
          "output_type": "stream",
          "name": "stderr",
          "text": [
            "\n",
            "  0%|          | 0/1 [00:00<?, ?it/s]\u001b[A\n",
            "                                     \u001b[A"
          ]
        },
        {
          "output_type": "stream",
          "name": "stdout",
          "text": [
            "[09:36:54.362191] Processing image: img_444.tif\n"
          ]
        },
        {
          "output_type": "stream",
          "name": "stderr",
          "text": [
            "\n",
            "  0%|          | 0/1 [00:00<?, ?it/s]\u001b[A\n",
            "                                     \u001b[A"
          ]
        },
        {
          "output_type": "stream",
          "name": "stdout",
          "text": [
            "[09:36:54.399564] Processing image: img_447.tif\n"
          ]
        },
        {
          "output_type": "stream",
          "name": "stderr",
          "text": [
            "\n",
            "  0%|          | 0/1 [00:00<?, ?it/s]\u001b[A\n",
            " 65%|██████▍   | 394/610 [00:12<00:07, 27.63it/s]"
          ]
        },
        {
          "output_type": "stream",
          "name": "stdout",
          "text": [
            "[09:36:54.443566] Processing image: img_450.tif\n"
          ]
        },
        {
          "output_type": "stream",
          "name": "stderr",
          "text": [
            "\n",
            "  0%|          | 0/1 [00:00<?, ?it/s]\u001b[A\n",
            "                                     \u001b[A"
          ]
        },
        {
          "output_type": "stream",
          "name": "stdout",
          "text": [
            "[09:36:54.483758] Processing image: img_456.tif\n"
          ]
        },
        {
          "output_type": "stream",
          "name": "stderr",
          "text": [
            "\n",
            "  0%|          | 0/1 [00:00<?, ?it/s]\u001b[A\n",
            "                                     \u001b[A"
          ]
        },
        {
          "output_type": "stream",
          "name": "stdout",
          "text": [
            "[09:36:54.523473] Processing image: img_466.tif\n"
          ]
        },
        {
          "output_type": "stream",
          "name": "stderr",
          "text": [
            "\n",
            "  0%|          | 0/1 [00:00<?, ?it/s]\u001b[A\n",
            " 65%|██████▌   | 397/610 [00:12<00:07, 26.63it/s]"
          ]
        },
        {
          "output_type": "stream",
          "name": "stdout",
          "text": [
            "[09:36:54.562309] Processing image: img_496.tif\n"
          ]
        },
        {
          "output_type": "stream",
          "name": "stderr",
          "text": [
            "\n",
            "  0%|          | 0/1 [00:00<?, ?it/s]\u001b[A\n",
            "                                     \u001b[A"
          ]
        },
        {
          "output_type": "stream",
          "name": "stdout",
          "text": [
            "[09:36:54.599928] Processing image: img_504.tif\n"
          ]
        },
        {
          "output_type": "stream",
          "name": "stderr",
          "text": [
            "\n",
            "  0%|          | 0/1 [00:00<?, ?it/s]\u001b[A\n",
            "                                     \u001b[A"
          ]
        },
        {
          "output_type": "stream",
          "name": "stdout",
          "text": [
            "[09:36:54.639378] Processing image: img_508.tif\n"
          ]
        },
        {
          "output_type": "stream",
          "name": "stderr",
          "text": [
            "\n",
            "  0%|          | 0/1 [00:00<?, ?it/s]\u001b[A\n",
            " 66%|██████▌   | 400/610 [00:12<00:08, 26.11it/s]"
          ]
        },
        {
          "output_type": "stream",
          "name": "stdout",
          "text": [
            "[09:36:54.681217] Processing image: img_511.tif\n"
          ]
        },
        {
          "output_type": "stream",
          "name": "stderr",
          "text": [
            "\n",
            "  0%|          | 0/1 [00:00<?, ?it/s]\u001b[A\n",
            "                                     \u001b[A"
          ]
        },
        {
          "output_type": "stream",
          "name": "stdout",
          "text": [
            "[09:36:54.710438] Processing image: img_532.tif\n"
          ]
        },
        {
          "output_type": "stream",
          "name": "stderr",
          "text": [
            "\n",
            "  0%|          | 0/1 [00:00<?, ?it/s]\u001b[A\n",
            "                                     \u001b[A"
          ]
        },
        {
          "output_type": "stream",
          "name": "stdout",
          "text": [
            "[09:36:54.743739] Processing image: img_543.tif\n"
          ]
        },
        {
          "output_type": "stream",
          "name": "stderr",
          "text": [
            "\n",
            "  0%|          | 0/1 [00:00<?, ?it/s]\u001b[A\n",
            " 66%|██████▌   | 403/610 [00:13<00:07, 26.96it/s]"
          ]
        },
        {
          "output_type": "stream",
          "name": "stdout",
          "text": [
            "[09:36:54.778823] Processing image: img_578.tif\n"
          ]
        },
        {
          "output_type": "stream",
          "name": "stderr",
          "text": [
            "\n",
            "  0%|          | 0/1 [00:00<?, ?it/s]\u001b[A\n",
            "                                     \u001b[A"
          ]
        },
        {
          "output_type": "stream",
          "name": "stdout",
          "text": [
            "[09:36:54.810491] Processing image: img_608.tif\n"
          ]
        },
        {
          "output_type": "stream",
          "name": "stderr",
          "text": [
            "\n",
            "  0%|          | 0/1 [00:00<?, ?it/s]\u001b[A\n",
            "                                     \u001b[A"
          ]
        },
        {
          "output_type": "stream",
          "name": "stdout",
          "text": [
            "[09:36:54.840836] Processing image: img_006.tif\n"
          ]
        },
        {
          "output_type": "stream",
          "name": "stderr",
          "text": [
            "\n",
            "  0%|          | 0/1 [00:00<?, ?it/s]\u001b[A\n",
            "                                     \u001b[A"
          ]
        },
        {
          "output_type": "stream",
          "name": "stdout",
          "text": [
            "[09:36:54.870207] Processing image: img_014.tif\n"
          ]
        },
        {
          "output_type": "stream",
          "name": "stderr",
          "text": [
            "\n",
            "  0%|          | 0/1 [00:00<?, ?it/s]\u001b[A\n",
            " 67%|██████▋   | 407/610 [00:13<00:07, 28.50it/s]"
          ]
        },
        {
          "output_type": "stream",
          "name": "stdout",
          "text": [
            "[09:36:54.905721] Processing image: img_015.tif\n"
          ]
        },
        {
          "output_type": "stream",
          "name": "stderr",
          "text": [
            "\n",
            "  0%|          | 0/1 [00:00<?, ?it/s]\u001b[A\n",
            "                                     \u001b[A"
          ]
        },
        {
          "output_type": "stream",
          "name": "stdout",
          "text": [
            "[09:36:54.935007] Processing image: img_023.tif\n"
          ]
        },
        {
          "output_type": "stream",
          "name": "stderr",
          "text": [
            "\n",
            "  0%|          | 0/1 [00:00<?, ?it/s]\u001b[A\n",
            "                                     \u001b[A"
          ]
        },
        {
          "output_type": "stream",
          "name": "stdout",
          "text": [
            "[09:36:54.958756] Processing image: img_027.tif\n"
          ]
        },
        {
          "output_type": "stream",
          "name": "stderr",
          "text": [
            "\n",
            "  0%|          | 0/1 [00:00<?, ?it/s]\u001b[A\n",
            "                                     \u001b[A"
          ]
        },
        {
          "output_type": "stream",
          "name": "stdout",
          "text": [
            "[09:36:54.984893] Processing image: img_029.tif\n"
          ]
        },
        {
          "output_type": "stream",
          "name": "stderr",
          "text": [
            "\n",
            "  0%|          | 0/1 [00:00<?, ?it/s]\u001b[A\n",
            " 67%|██████▋   | 411/610 [00:13<00:06, 30.72it/s]"
          ]
        },
        {
          "output_type": "stream",
          "name": "stdout",
          "text": [
            "[09:36:55.011995] Processing image: img_039.tif\n"
          ]
        },
        {
          "output_type": "stream",
          "name": "stderr",
          "text": [
            "\n",
            "  0%|          | 0/1 [00:00<?, ?it/s]\u001b[A\n",
            "                                     \u001b[A"
          ]
        },
        {
          "output_type": "stream",
          "name": "stdout",
          "text": [
            "[09:36:55.038561] Processing image: img_051.tif\n"
          ]
        },
        {
          "output_type": "stream",
          "name": "stderr",
          "text": [
            "\n",
            "  0%|          | 0/1 [00:00<?, ?it/s]\u001b[A\n",
            "                                     \u001b[A"
          ]
        },
        {
          "output_type": "stream",
          "name": "stdout",
          "text": [
            "[09:36:55.063131] Processing image: img_074.tif\n"
          ]
        },
        {
          "output_type": "stream",
          "name": "stderr",
          "text": [
            "\n",
            "  0%|          | 0/1 [00:00<?, ?it/s]\u001b[A\n",
            "                                     \u001b[A"
          ]
        },
        {
          "output_type": "stream",
          "name": "stdout",
          "text": [
            "[09:36:55.094339] Processing image: img_076.tif\n"
          ]
        },
        {
          "output_type": "stream",
          "name": "stderr",
          "text": [
            "\n",
            "  0%|          | 0/1 [00:00<?, ?it/s]\u001b[A\n",
            " 68%|██████▊   | 415/610 [00:13<00:06, 32.13it/s]"
          ]
        },
        {
          "output_type": "stream",
          "name": "stdout",
          "text": [
            "[09:36:55.127332] Processing image: img_091.tif\n"
          ]
        },
        {
          "output_type": "stream",
          "name": "stderr",
          "text": [
            "\n",
            "  0%|          | 0/1 [00:00<?, ?it/s]\u001b[A\n",
            "                                     \u001b[A"
          ]
        },
        {
          "output_type": "stream",
          "name": "stdout",
          "text": [
            "[09:36:55.153776] Processing image: img_097.tif\n"
          ]
        },
        {
          "output_type": "stream",
          "name": "stderr",
          "text": [
            "\n",
            "  0%|          | 0/1 [00:00<?, ?it/s]\u001b[A\n",
            "                                     \u001b[A"
          ]
        },
        {
          "output_type": "stream",
          "name": "stdout",
          "text": [
            "[09:36:55.180587] Processing image: img_102.tif\n"
          ]
        },
        {
          "output_type": "stream",
          "name": "stderr",
          "text": [
            "\n",
            "  0%|          | 0/1 [00:00<?, ?it/s]\u001b[A\n",
            "                                     \u001b[A"
          ]
        },
        {
          "output_type": "stream",
          "name": "stdout",
          "text": [
            "[09:36:55.208855] Processing image: img_103.tif\n"
          ]
        },
        {
          "output_type": "stream",
          "name": "stderr",
          "text": [
            "\n",
            "  0%|          | 0/1 [00:00<?, ?it/s]\u001b[A\n",
            " 69%|██████▊   | 419/610 [00:13<00:05, 33.16it/s]"
          ]
        },
        {
          "output_type": "stream",
          "name": "stdout",
          "text": [
            "[09:36:55.236608] Processing image: img_104.tif\n"
          ]
        },
        {
          "output_type": "stream",
          "name": "stderr",
          "text": [
            "\n",
            "  0%|          | 0/1 [00:00<?, ?it/s]\u001b[A\n",
            "                                     \u001b[A"
          ]
        },
        {
          "output_type": "stream",
          "name": "stdout",
          "text": [
            "[09:36:55.263428] Processing image: img_120.tif\n"
          ]
        },
        {
          "output_type": "stream",
          "name": "stderr",
          "text": [
            "\n",
            "  0%|          | 0/1 [00:00<?, ?it/s]\u001b[A\n",
            "                                     \u001b[A"
          ]
        },
        {
          "output_type": "stream",
          "name": "stdout",
          "text": [
            "[09:36:55.292197] Processing image: img_121.tif\n"
          ]
        },
        {
          "output_type": "stream",
          "name": "stderr",
          "text": [
            "\n",
            "  0%|          | 0/1 [00:00<?, ?it/s]\u001b[A\n",
            "                                     \u001b[A"
          ]
        },
        {
          "output_type": "stream",
          "name": "stdout",
          "text": [
            "[09:36:55.319157] Processing image: img_148.tif\n"
          ]
        },
        {
          "output_type": "stream",
          "name": "stderr",
          "text": [
            "\n",
            "  0%|          | 0/1 [00:00<?, ?it/s]\u001b[A\n",
            " 69%|██████▉   | 423/610 [00:13<00:05, 33.64it/s]"
          ]
        },
        {
          "output_type": "stream",
          "name": "stdout",
          "text": [
            "[09:36:55.350592] Processing image: img_150.tif\n"
          ]
        },
        {
          "output_type": "stream",
          "name": "stderr",
          "text": [
            "\n",
            "  0%|          | 0/1 [00:00<?, ?it/s]\u001b[A\n",
            "                                     \u001b[A"
          ]
        },
        {
          "output_type": "stream",
          "name": "stdout",
          "text": [
            "[09:36:55.376040] Processing image: img_157.tif\n"
          ]
        },
        {
          "output_type": "stream",
          "name": "stderr",
          "text": [
            "\n",
            "  0%|          | 0/1 [00:00<?, ?it/s]\u001b[A\n",
            "                                     \u001b[A"
          ]
        },
        {
          "output_type": "stream",
          "name": "stdout",
          "text": [
            "[09:36:55.397970] Processing image: img_162.tif\n"
          ]
        },
        {
          "output_type": "stream",
          "name": "stderr",
          "text": [
            "\n",
            "  0%|          | 0/1 [00:00<?, ?it/s]\u001b[A\n",
            "                                     \u001b[A"
          ]
        },
        {
          "output_type": "stream",
          "name": "stdout",
          "text": [
            "[09:36:55.422566] Processing image: img_169.tif\n"
          ]
        },
        {
          "output_type": "stream",
          "name": "stderr",
          "text": [
            "\n",
            "  0%|          | 0/1 [00:00<?, ?it/s]\u001b[A\n",
            "                                     \u001b[A"
          ]
        },
        {
          "output_type": "stream",
          "name": "stdout",
          "text": [
            "[09:36:55.445002] Processing image: img_181.tif\n"
          ]
        },
        {
          "output_type": "stream",
          "name": "stderr",
          "text": [
            "\n",
            "  0%|          | 0/1 [00:00<?, ?it/s]\u001b[A\n",
            " 70%|███████   | 428/610 [00:13<00:05, 36.32it/s]"
          ]
        },
        {
          "output_type": "stream",
          "name": "stdout",
          "text": [
            "[09:36:55.470890] Processing image: img_198.tif\n"
          ]
        },
        {
          "output_type": "stream",
          "name": "stderr",
          "text": [
            "\n",
            "  0%|          | 0/1 [00:00<?, ?it/s]\u001b[A\n",
            "                                     \u001b[A"
          ]
        },
        {
          "output_type": "stream",
          "name": "stdout",
          "text": [
            "[09:36:55.499251] Processing image: img_199.tif\n"
          ]
        },
        {
          "output_type": "stream",
          "name": "stderr",
          "text": [
            "\n",
            "  0%|          | 0/1 [00:00<?, ?it/s]\u001b[A\n",
            "                                     \u001b[A"
          ]
        },
        {
          "output_type": "stream",
          "name": "stdout",
          "text": [
            "[09:36:55.527107] Processing image: img_208.tif\n"
          ]
        },
        {
          "output_type": "stream",
          "name": "stderr",
          "text": [
            "\n",
            "  0%|          | 0/1 [00:00<?, ?it/s]\u001b[A\n",
            "                                     \u001b[A"
          ]
        },
        {
          "output_type": "stream",
          "name": "stdout",
          "text": [
            "[09:36:55.550678] Processing image: img_214.tif\n"
          ]
        },
        {
          "output_type": "stream",
          "name": "stderr",
          "text": [
            "\n",
            "  0%|          | 0/1 [00:00<?, ?it/s]\u001b[A\n",
            " 71%|███████   | 432/610 [00:13<00:04, 36.70it/s]"
          ]
        },
        {
          "output_type": "stream",
          "name": "stdout",
          "text": [
            "[09:36:55.575546] Processing image: img_227.tif\n"
          ]
        },
        {
          "output_type": "stream",
          "name": "stderr",
          "text": [
            "\n",
            "  0%|          | 0/1 [00:00<?, ?it/s]\u001b[A\n",
            "                                     \u001b[A"
          ]
        },
        {
          "output_type": "stream",
          "name": "stdout",
          "text": [
            "[09:36:55.596463] Processing image: img_230.tif\n"
          ]
        },
        {
          "output_type": "stream",
          "name": "stderr",
          "text": [
            "\n",
            "  0%|          | 0/1 [00:00<?, ?it/s]\u001b[A\n",
            "                                     \u001b[A"
          ]
        },
        {
          "output_type": "stream",
          "name": "stdout",
          "text": [
            "[09:36:55.618107] Processing image: img_232.tif\n"
          ]
        },
        {
          "output_type": "stream",
          "name": "stderr",
          "text": [
            "\n",
            "  0%|          | 0/1 [00:00<?, ?it/s]\u001b[A\n",
            "                                     \u001b[A"
          ]
        },
        {
          "output_type": "stream",
          "name": "stdout",
          "text": [
            "[09:36:55.647488] Processing image: img_249.tif\n"
          ]
        },
        {
          "output_type": "stream",
          "name": "stderr",
          "text": [
            "\n",
            "  0%|          | 0/1 [00:00<?, ?it/s]\u001b[A\n",
            " 71%|███████▏  | 436/610 [00:13<00:04, 37.24it/s]"
          ]
        },
        {
          "output_type": "stream",
          "name": "stdout",
          "text": [
            "[09:36:55.684986] Processing image: img_258.tif\n"
          ]
        },
        {
          "output_type": "stream",
          "name": "stderr",
          "text": [
            "\n",
            "  0%|          | 0/1 [00:00<?, ?it/s]\u001b[A\n",
            "                                     \u001b[A"
          ]
        },
        {
          "output_type": "stream",
          "name": "stdout",
          "text": [
            "[09:36:55.714723] Processing image: img_262.tif\n"
          ]
        },
        {
          "output_type": "stream",
          "name": "stderr",
          "text": [
            "\n",
            "  0%|          | 0/1 [00:00<?, ?it/s]\u001b[A\n",
            "                                     \u001b[A"
          ]
        },
        {
          "output_type": "stream",
          "name": "stdout",
          "text": [
            "[09:36:55.743601] Processing image: img_278.tif\n"
          ]
        },
        {
          "output_type": "stream",
          "name": "stderr",
          "text": [
            "\n",
            "  0%|          | 0/1 [00:00<?, ?it/s]\u001b[A\n",
            "                                     \u001b[A"
          ]
        },
        {
          "output_type": "stream",
          "name": "stdout",
          "text": [
            "[09:36:55.781469] Processing image: img_279.tif\n"
          ]
        },
        {
          "output_type": "stream",
          "name": "stderr",
          "text": [
            "\n",
            "  0%|          | 0/1 [00:00<?, ?it/s]\u001b[A\n",
            " 72%|███████▏  | 440/610 [00:14<00:04, 34.61it/s]"
          ]
        },
        {
          "output_type": "stream",
          "name": "stdout",
          "text": [
            "[09:36:55.816247] Processing image: img_280.tif\n"
          ]
        },
        {
          "output_type": "stream",
          "name": "stderr",
          "text": [
            "\n",
            "  0%|          | 0/1 [00:00<?, ?it/s]\u001b[A\n",
            "                                     \u001b[A"
          ]
        },
        {
          "output_type": "stream",
          "name": "stdout",
          "text": [
            "[09:36:55.854694] Processing image: img_287.tif\n"
          ]
        },
        {
          "output_type": "stream",
          "name": "stderr",
          "text": [
            "\n",
            "  0%|          | 0/1 [00:00<?, ?it/s]\u001b[A\n",
            "                                     \u001b[A"
          ]
        },
        {
          "output_type": "stream",
          "name": "stdout",
          "text": [
            "[09:36:55.889669] Processing image: img_297.tif\n"
          ]
        },
        {
          "output_type": "stream",
          "name": "stderr",
          "text": [
            "\n",
            "  0%|          | 0/1 [00:00<?, ?it/s]\u001b[A\n",
            "                                     \u001b[A"
          ]
        },
        {
          "output_type": "stream",
          "name": "stdout",
          "text": [
            "[09:36:55.935380] Processing image: img_307.tif\n"
          ]
        },
        {
          "output_type": "stream",
          "name": "stderr",
          "text": [
            "\n",
            "  0%|          | 0/1 [00:00<?, ?it/s]\u001b[A\n",
            " 73%|███████▎  | 444/610 [00:14<00:05, 31.34it/s]"
          ]
        },
        {
          "output_type": "stream",
          "name": "stdout",
          "text": [
            "[09:36:55.980164] Processing image: img_309.tif\n"
          ]
        },
        {
          "output_type": "stream",
          "name": "stderr",
          "text": [
            "\n",
            "  0%|          | 0/1 [00:00<?, ?it/s]\u001b[A\n",
            "                                     \u001b[A"
          ]
        },
        {
          "output_type": "stream",
          "name": "stdout",
          "text": [
            "[09:36:56.010100] Processing image: img_319.tif\n"
          ]
        },
        {
          "output_type": "stream",
          "name": "stderr",
          "text": [
            "\n",
            "  0%|          | 0/1 [00:00<?, ?it/s]\u001b[A\n",
            "                                     \u001b[A"
          ]
        },
        {
          "output_type": "stream",
          "name": "stdout",
          "text": [
            "[09:36:56.038819] Processing image: img_336.tif\n"
          ]
        },
        {
          "output_type": "stream",
          "name": "stderr",
          "text": [
            "\n",
            "  0%|          | 0/1 [00:00<?, ?it/s]\u001b[A\n",
            "                                     \u001b[A"
          ]
        },
        {
          "output_type": "stream",
          "name": "stdout",
          "text": [
            "[09:36:56.075238] Processing image: img_364.tif\n"
          ]
        },
        {
          "output_type": "stream",
          "name": "stderr",
          "text": [
            "\n",
            "  0%|          | 0/1 [00:00<?, ?it/s]\u001b[A\n",
            " 73%|███████▎  | 448/610 [00:14<00:05, 30.36it/s]"
          ]
        },
        {
          "output_type": "stream",
          "name": "stdout",
          "text": [
            "[09:36:56.118110] Processing image: img_374.tif\n"
          ]
        },
        {
          "output_type": "stream",
          "name": "stderr",
          "text": [
            "\n",
            "  0%|          | 0/1 [00:00<?, ?it/s]\u001b[A\n",
            "                                     \u001b[A"
          ]
        },
        {
          "output_type": "stream",
          "name": "stdout",
          "text": [
            "[09:36:56.155907] Processing image: img_381.tif\n"
          ]
        },
        {
          "output_type": "stream",
          "name": "stderr",
          "text": [
            "\n",
            "  0%|          | 0/1 [00:00<?, ?it/s]\u001b[A\n",
            "                                     \u001b[A"
          ]
        },
        {
          "output_type": "stream",
          "name": "stdout",
          "text": [
            "[09:36:56.195351] Processing image: img_388.tif\n"
          ]
        },
        {
          "output_type": "stream",
          "name": "stderr",
          "text": [
            "\n",
            "  0%|          | 0/1 [00:00<?, ?it/s]\u001b[A\n",
            "                                     \u001b[A"
          ]
        },
        {
          "output_type": "stream",
          "name": "stdout",
          "text": [
            "[09:36:56.222148] Processing image: img_389.tif\n"
          ]
        },
        {
          "output_type": "stream",
          "name": "stderr",
          "text": [
            "\n",
            "  0%|          | 0/1 [00:00<?, ?it/s]\u001b[A\n",
            " 74%|███████▍  | 452/610 [00:14<00:05, 29.58it/s]"
          ]
        },
        {
          "output_type": "stream",
          "name": "stdout",
          "text": [
            "[09:36:56.256704] Processing image: img_400.tif\n"
          ]
        },
        {
          "output_type": "stream",
          "name": "stderr",
          "text": [
            "\n",
            "  0%|          | 0/1 [00:00<?, ?it/s]\u001b[A\n",
            "                                     \u001b[A"
          ]
        },
        {
          "output_type": "stream",
          "name": "stdout",
          "text": [
            "[09:36:56.285275] Processing image: img_415.tif\n"
          ]
        },
        {
          "output_type": "stream",
          "name": "stderr",
          "text": [
            "\n",
            "  0%|          | 0/1 [00:00<?, ?it/s]\u001b[A\n",
            "                                     \u001b[A"
          ]
        },
        {
          "output_type": "stream",
          "name": "stdout",
          "text": [
            "[09:36:56.315678] Processing image: img_442.tif\n"
          ]
        },
        {
          "output_type": "stream",
          "name": "stderr",
          "text": [
            "\n",
            "  0%|          | 0/1 [00:00<?, ?it/s]\u001b[A\n",
            "                                     \u001b[A"
          ]
        },
        {
          "output_type": "stream",
          "name": "stdout",
          "text": [
            "[09:36:56.344986] Processing image: img_448.tif\n"
          ]
        },
        {
          "output_type": "stream",
          "name": "stderr",
          "text": [
            "\n",
            "  0%|          | 0/1 [00:00<?, ?it/s]\u001b[A\n",
            " 75%|███████▍  | 456/610 [00:14<00:04, 31.01it/s]"
          ]
        },
        {
          "output_type": "stream",
          "name": "stdout",
          "text": [
            "[09:36:56.380177] Processing image: img_457.tif\n"
          ]
        },
        {
          "output_type": "stream",
          "name": "stderr",
          "text": [
            "\n",
            "  0%|          | 0/1 [00:00<?, ?it/s]\u001b[A\n",
            "                                     \u001b[A"
          ]
        },
        {
          "output_type": "stream",
          "name": "stdout",
          "text": [
            "[09:36:56.414753] Processing image: img_459.tif\n"
          ]
        },
        {
          "output_type": "stream",
          "name": "stderr",
          "text": [
            "\n",
            "  0%|          | 0/1 [00:00<?, ?it/s]\u001b[A\n",
            "                                     \u001b[A"
          ]
        },
        {
          "output_type": "stream",
          "name": "stdout",
          "text": [
            "[09:36:56.447473] Processing image: img_461.tif\n"
          ]
        },
        {
          "output_type": "stream",
          "name": "stderr",
          "text": [
            "\n",
            "  0%|          | 0/1 [00:00<?, ?it/s]\u001b[A\n",
            "                                     \u001b[A"
          ]
        },
        {
          "output_type": "stream",
          "name": "stdout",
          "text": [
            "[09:36:56.483383] Processing image: img_462.tif\n"
          ]
        },
        {
          "output_type": "stream",
          "name": "stderr",
          "text": [
            "\n",
            "  0%|          | 0/1 [00:00<?, ?it/s]\u001b[A\n",
            " 75%|███████▌  | 460/610 [00:14<00:05, 29.83it/s]"
          ]
        },
        {
          "output_type": "stream",
          "name": "stdout",
          "text": [
            "[09:36:56.521016] Processing image: img_463.tif\n"
          ]
        },
        {
          "output_type": "stream",
          "name": "stderr",
          "text": [
            "\n",
            "  0%|          | 0/1 [00:00<?, ?it/s]\u001b[A\n",
            "                                     \u001b[A"
          ]
        },
        {
          "output_type": "stream",
          "name": "stdout",
          "text": [
            "[09:36:56.555847] Processing image: img_465.tif\n"
          ]
        },
        {
          "output_type": "stream",
          "name": "stderr",
          "text": [
            "\n",
            "  0%|          | 0/1 [00:00<?, ?it/s]\u001b[A\n",
            "                                     \u001b[A"
          ]
        },
        {
          "output_type": "stream",
          "name": "stdout",
          "text": [
            "[09:36:56.591776] Processing image: img_471.tif\n"
          ]
        },
        {
          "output_type": "stream",
          "name": "stderr",
          "text": [
            "\n",
            "  0%|          | 0/1 [00:00<?, ?it/s]\u001b[A\n",
            "                                     \u001b[A"
          ]
        },
        {
          "output_type": "stream",
          "name": "stdout",
          "text": [
            "[09:36:56.621635] Processing image: img_478.tif\n"
          ]
        },
        {
          "output_type": "stream",
          "name": "stderr",
          "text": [
            "\n",
            "  0%|          | 0/1 [00:00<?, ?it/s]\u001b[A\n",
            " 76%|███████▌  | 464/610 [00:14<00:04, 29.65it/s]"
          ]
        },
        {
          "output_type": "stream",
          "name": "stdout",
          "text": [
            "[09:36:56.653363] Processing image: img_480.tif\n"
          ]
        },
        {
          "output_type": "stream",
          "name": "stderr",
          "text": [
            "\n",
            "  0%|          | 0/1 [00:00<?, ?it/s]\u001b[A\n",
            "                                     \u001b[A"
          ]
        },
        {
          "output_type": "stream",
          "name": "stdout",
          "text": [
            "[09:36:56.680328] Processing image: img_490.tif\n"
          ]
        },
        {
          "output_type": "stream",
          "name": "stderr",
          "text": [
            "\n",
            "  0%|          | 0/1 [00:00<?, ?it/s]\u001b[A\n",
            "                                     \u001b[A"
          ]
        },
        {
          "output_type": "stream",
          "name": "stdout",
          "text": [
            "[09:36:56.711827] Processing image: img_542.tif\n"
          ]
        },
        {
          "output_type": "stream",
          "name": "stderr",
          "text": [
            "\n",
            "  0%|          | 0/1 [00:00<?, ?it/s]\u001b[A\n",
            "                                     \u001b[A"
          ]
        },
        {
          "output_type": "stream",
          "name": "stdout",
          "text": [
            "[09:36:56.744190] Processing image: img_554.tif\n"
          ]
        },
        {
          "output_type": "stream",
          "name": "stderr",
          "text": [
            "\n",
            "  0%|          | 0/1 [00:00<?, ?it/s]\u001b[A\n",
            " 77%|███████▋  | 468/610 [00:15<00:04, 30.55it/s]"
          ]
        },
        {
          "output_type": "stream",
          "name": "stdout",
          "text": [
            "[09:36:56.779702] Processing image: img_556.tif\n"
          ]
        },
        {
          "output_type": "stream",
          "name": "stderr",
          "text": [
            "\n",
            "  0%|          | 0/1 [00:00<?, ?it/s]\u001b[A\n",
            "                                     \u001b[A"
          ]
        },
        {
          "output_type": "stream",
          "name": "stdout",
          "text": [
            "[09:36:56.812793] Processing image: img_597.tif\n"
          ]
        },
        {
          "output_type": "stream",
          "name": "stderr",
          "text": [
            "\n",
            "  0%|          | 0/1 [00:00<?, ?it/s]\u001b[A\n",
            "                                     \u001b[A"
          ]
        },
        {
          "output_type": "stream",
          "name": "stdout",
          "text": [
            "[09:36:56.854017] Processing image: img_602.tif\n"
          ]
        },
        {
          "output_type": "stream",
          "name": "stderr",
          "text": [
            "\n",
            "  0%|          | 0/1 [00:00<?, ?it/s]\u001b[A\n",
            "                                     \u001b[A"
          ]
        },
        {
          "output_type": "stream",
          "name": "stdout",
          "text": [
            "[09:36:56.885592] Processing image: img_101.tif\n"
          ]
        },
        {
          "output_type": "stream",
          "name": "stderr",
          "text": [
            "\n",
            "  0%|          | 0/1 [00:00<?, ?it/s]\u001b[A\n",
            " 77%|███████▋  | 472/610 [00:15<00:04, 29.86it/s]"
          ]
        },
        {
          "output_type": "stream",
          "name": "stdout",
          "text": [
            "[09:36:56.916606] Processing image: img_130.tif\n"
          ]
        },
        {
          "output_type": "stream",
          "name": "stderr",
          "text": [
            "\n",
            "  0%|          | 0/1 [00:00<?, ?it/s]\u001b[A\n",
            "                                     \u001b[A"
          ]
        },
        {
          "output_type": "stream",
          "name": "stdout",
          "text": [
            "[09:36:56.943095] Processing image: img_175.tif\n"
          ]
        },
        {
          "output_type": "stream",
          "name": "stderr",
          "text": [
            "\n",
            "  0%|          | 0/1 [00:00<?, ?it/s]\u001b[A\n",
            "                                     \u001b[A"
          ]
        },
        {
          "output_type": "stream",
          "name": "stdout",
          "text": [
            "[09:36:56.975177] Processing image: img_186.tif\n"
          ]
        },
        {
          "output_type": "stream",
          "name": "stderr",
          "text": [
            "\n",
            "  0%|          | 0/1 [00:00<?, ?it/s]\u001b[A\n",
            "                                     \u001b[A"
          ]
        },
        {
          "output_type": "stream",
          "name": "stdout",
          "text": [
            "[09:36:57.009359] Processing image: img_202.tif\n"
          ]
        },
        {
          "output_type": "stream",
          "name": "stderr",
          "text": [
            "\n",
            "  0%|          | 0/1 [00:00<?, ?it/s]\u001b[A\n",
            " 78%|███████▊  | 476/610 [00:15<00:04, 30.50it/s]"
          ]
        },
        {
          "output_type": "stream",
          "name": "stdout",
          "text": [
            "[09:36:57.043289] Processing image: img_218.tif\n"
          ]
        },
        {
          "output_type": "stream",
          "name": "stderr",
          "text": [
            "\n",
            "  0%|          | 0/1 [00:00<?, ?it/s]\u001b[A\n",
            "                                     \u001b[A"
          ]
        },
        {
          "output_type": "stream",
          "name": "stdout",
          "text": [
            "[09:36:57.074444] Processing image: img_229.tif\n"
          ]
        },
        {
          "output_type": "stream",
          "name": "stderr",
          "text": [
            "\n",
            "  0%|          | 0/1 [00:00<?, ?it/s]\u001b[A\n",
            "                                     \u001b[A"
          ]
        },
        {
          "output_type": "stream",
          "name": "stdout",
          "text": [
            "[09:36:57.098960] Processing image: img_239.tif\n"
          ]
        },
        {
          "output_type": "stream",
          "name": "stderr",
          "text": [
            "\n",
            "  0%|          | 0/1 [00:00<?, ?it/s]\u001b[A\n",
            "                                     \u001b[A"
          ]
        },
        {
          "output_type": "stream",
          "name": "stdout",
          "text": [
            "[09:36:57.129983] Processing image: img_264.tif\n"
          ]
        },
        {
          "output_type": "stream",
          "name": "stderr",
          "text": [
            "\n",
            "  0%|          | 0/1 [00:00<?, ?it/s]\u001b[A\n",
            " 79%|███████▊  | 480/610 [00:15<00:04, 31.67it/s]"
          ]
        },
        {
          "output_type": "stream",
          "name": "stdout",
          "text": [
            "[09:36:57.163874] Processing image: img_266.tif\n"
          ]
        },
        {
          "output_type": "stream",
          "name": "stderr",
          "text": [
            "\n",
            "  0%|          | 0/1 [00:00<?, ?it/s]\u001b[A\n",
            "                                     \u001b[A"
          ]
        },
        {
          "output_type": "stream",
          "name": "stdout",
          "text": [
            "[09:36:57.199258] Processing image: img_288.tif\n"
          ]
        },
        {
          "output_type": "stream",
          "name": "stderr",
          "text": [
            "\n",
            "  0%|          | 0/1 [00:00<?, ?it/s]\u001b[A\n",
            "                                     \u001b[A"
          ]
        },
        {
          "output_type": "stream",
          "name": "stdout",
          "text": [
            "[09:36:57.232237] Processing image: img_312.tif\n"
          ]
        },
        {
          "output_type": "stream",
          "name": "stderr",
          "text": [
            "\n",
            "  0%|          | 0/1 [00:00<?, ?it/s]\u001b[A\n",
            "                                     \u001b[A"
          ]
        },
        {
          "output_type": "stream",
          "name": "stdout",
          "text": [
            "[09:36:57.259335] Processing image: img_320.tif\n"
          ]
        },
        {
          "output_type": "stream",
          "name": "stderr",
          "text": [
            "\n",
            "  0%|          | 0/1 [00:00<?, ?it/s]\u001b[A\n",
            " 79%|███████▉  | 484/610 [00:15<00:04, 31.08it/s]"
          ]
        },
        {
          "output_type": "stream",
          "name": "stdout",
          "text": [
            "[09:36:57.291942] Processing image: img_338.tif\n"
          ]
        },
        {
          "output_type": "stream",
          "name": "stderr",
          "text": [
            "\n",
            "  0%|          | 0/1 [00:00<?, ?it/s]\u001b[A\n",
            "                                     \u001b[A"
          ]
        },
        {
          "output_type": "stream",
          "name": "stdout",
          "text": [
            "[09:36:57.325778] Processing image: img_339.tif\n"
          ]
        },
        {
          "output_type": "stream",
          "name": "stderr",
          "text": [
            "\n",
            "  0%|          | 0/1 [00:00<?, ?it/s]\u001b[A\n",
            "                                     \u001b[A"
          ]
        },
        {
          "output_type": "stream",
          "name": "stdout",
          "text": [
            "[09:36:57.358211] Processing image: img_375.tif\n"
          ]
        },
        {
          "output_type": "stream",
          "name": "stderr",
          "text": [
            "\n",
            "  0%|          | 0/1 [00:00<?, ?it/s]\u001b[A\n",
            "                                     \u001b[A"
          ]
        },
        {
          "output_type": "stream",
          "name": "stdout",
          "text": [
            "[09:36:57.389971] Processing image: img_385.tif\n"
          ]
        },
        {
          "output_type": "stream",
          "name": "stderr",
          "text": [
            "\n",
            "  0%|          | 0/1 [00:00<?, ?it/s]\u001b[A\n",
            " 80%|████████  | 488/610 [00:15<00:03, 30.79it/s]"
          ]
        },
        {
          "output_type": "stream",
          "name": "stdout",
          "text": [
            "[09:36:57.419861] Processing image: img_392.tif\n"
          ]
        },
        {
          "output_type": "stream",
          "name": "stderr",
          "text": [
            "\n",
            "  0%|          | 0/1 [00:00<?, ?it/s]\u001b[A\n",
            "                                     \u001b[A"
          ]
        },
        {
          "output_type": "stream",
          "name": "stdout",
          "text": [
            "[09:36:57.448138] Processing image: img_426.tif\n"
          ]
        },
        {
          "output_type": "stream",
          "name": "stderr",
          "text": [
            "\n",
            "  0%|          | 0/1 [00:00<?, ?it/s]\u001b[A\n",
            "                                     \u001b[A"
          ]
        },
        {
          "output_type": "stream",
          "name": "stdout",
          "text": [
            "[09:36:57.473888] Processing image: img_445.tif\n"
          ]
        },
        {
          "output_type": "stream",
          "name": "stderr",
          "text": [
            "\n",
            "  0%|          | 0/1 [00:00<?, ?it/s]\u001b[A\n",
            "                                     \u001b[A"
          ]
        },
        {
          "output_type": "stream",
          "name": "stdout",
          "text": [
            "[09:36:57.498732] Processing image: img_460.tif\n"
          ]
        },
        {
          "output_type": "stream",
          "name": "stderr",
          "text": [
            "\n",
            "  0%|          | 0/1 [00:00<?, ?it/s]\u001b[A\n",
            " 81%|████████  | 492/610 [00:15<00:03, 32.56it/s]"
          ]
        },
        {
          "output_type": "stream",
          "name": "stdout",
          "text": [
            "[09:36:57.527198] Processing image: img_501.tif\n"
          ]
        },
        {
          "output_type": "stream",
          "name": "stderr",
          "text": [
            "\n",
            "  0%|          | 0/1 [00:00<?, ?it/s]\u001b[A\n",
            "                                     \u001b[A"
          ]
        },
        {
          "output_type": "stream",
          "name": "stdout",
          "text": [
            "[09:36:57.565922] Processing image: img_520.tif\n"
          ]
        },
        {
          "output_type": "stream",
          "name": "stderr",
          "text": [
            "\n",
            "  0%|          | 0/1 [00:00<?, ?it/s]\u001b[A\n",
            "                                     \u001b[A"
          ]
        },
        {
          "output_type": "stream",
          "name": "stdout",
          "text": [
            "[09:36:57.607184] Processing image: img_530.tif\n"
          ]
        },
        {
          "output_type": "stream",
          "name": "stderr",
          "text": [
            "\n",
            "  0%|          | 0/1 [00:00<?, ?it/s]\u001b[A\n",
            "                                     \u001b[A"
          ]
        },
        {
          "output_type": "stream",
          "name": "stdout",
          "text": [
            "[09:36:57.646313] Processing image: img_551.tif\n"
          ]
        },
        {
          "output_type": "stream",
          "name": "stderr",
          "text": [
            "\n",
            "  0%|          | 0/1 [00:00<?, ?it/s]\u001b[A\n",
            " 81%|████████▏ | 496/610 [00:15<00:03, 30.52it/s]"
          ]
        },
        {
          "output_type": "stream",
          "name": "stdout",
          "text": [
            "[09:36:57.680545] Processing image: img_571.tif\n"
          ]
        },
        {
          "output_type": "stream",
          "name": "stderr",
          "text": [
            "\n",
            "  0%|          | 0/1 [00:00<?, ?it/s]\u001b[A\n",
            "                                     \u001b[A"
          ]
        },
        {
          "output_type": "stream",
          "name": "stdout",
          "text": [
            "[09:36:57.704461] Processing image: img_582.tif\n"
          ]
        },
        {
          "output_type": "stream",
          "name": "stderr",
          "text": [
            "\n",
            "  0%|          | 0/1 [00:00<?, ?it/s]\u001b[A\n",
            "                                     \u001b[A"
          ]
        },
        {
          "output_type": "stream",
          "name": "stdout",
          "text": [
            "[09:36:57.741860] Processing image: img_599.tif\n"
          ]
        },
        {
          "output_type": "stream",
          "name": "stderr",
          "text": [
            "\n",
            "  0%|          | 0/1 [00:00<?, ?it/s]\u001b[A\n",
            "                                     \u001b[A"
          ]
        },
        {
          "output_type": "stream",
          "name": "stdout",
          "text": [
            "[09:36:57.781392] Processing image: img_005.tif\n"
          ]
        },
        {
          "output_type": "stream",
          "name": "stderr",
          "text": [
            "\n",
            "  0%|          | 0/1 [00:00<?, ?it/s]\u001b[A\n",
            " 82%|████████▏ | 500/610 [00:16<00:03, 29.92it/s]"
          ]
        },
        {
          "output_type": "stream",
          "name": "stdout",
          "text": [
            "[09:36:57.825873] Processing image: img_028.tif\n"
          ]
        },
        {
          "output_type": "stream",
          "name": "stderr",
          "text": [
            "\n",
            "  0%|          | 0/1 [00:00<?, ?it/s]\u001b[A\n",
            "                                     \u001b[A"
          ]
        },
        {
          "output_type": "stream",
          "name": "stdout",
          "text": [
            "[09:36:57.851022] Processing image: img_037.tif\n"
          ]
        },
        {
          "output_type": "stream",
          "name": "stderr",
          "text": [
            "\n",
            "  0%|          | 0/1 [00:00<?, ?it/s]\u001b[A\n",
            "                                     \u001b[A"
          ]
        },
        {
          "output_type": "stream",
          "name": "stdout",
          "text": [
            "[09:36:57.882464] Processing image: img_068.tif\n"
          ]
        },
        {
          "output_type": "stream",
          "name": "stderr",
          "text": [
            "\n",
            "  0%|          | 0/1 [00:00<?, ?it/s]\u001b[A\n",
            "                                     \u001b[A"
          ]
        },
        {
          "output_type": "stream",
          "name": "stdout",
          "text": [
            "[09:36:57.918795] Processing image: img_109.tif\n"
          ]
        },
        {
          "output_type": "stream",
          "name": "stderr",
          "text": [
            "\n",
            "  0%|          | 0/1 [00:00<?, ?it/s]\u001b[A\n",
            " 83%|████████▎ | 504/610 [00:16<00:03, 29.67it/s]"
          ]
        },
        {
          "output_type": "stream",
          "name": "stdout",
          "text": [
            "[09:36:57.962346] Processing image: img_136.tif\n"
          ]
        },
        {
          "output_type": "stream",
          "name": "stderr",
          "text": [
            "\n",
            "  0%|          | 0/1 [00:00<?, ?it/s]\u001b[A\n",
            "                                     \u001b[A"
          ]
        },
        {
          "output_type": "stream",
          "name": "stdout",
          "text": [
            "[09:36:57.996878] Processing image: img_149.tif\n"
          ]
        },
        {
          "output_type": "stream",
          "name": "stderr",
          "text": [
            "\n",
            "  0%|          | 0/1 [00:00<?, ?it/s]\u001b[A\n",
            "                                     \u001b[A"
          ]
        },
        {
          "output_type": "stream",
          "name": "stdout",
          "text": [
            "[09:36:58.024944] Processing image: img_247.tif\n"
          ]
        },
        {
          "output_type": "stream",
          "name": "stderr",
          "text": [
            "\n",
            "  0%|          | 0/1 [00:00<?, ?it/s]\u001b[A\n",
            " 83%|████████▎ | 507/610 [00:16<00:03, 29.45it/s]"
          ]
        },
        {
          "output_type": "stream",
          "name": "stdout",
          "text": [
            "[09:36:58.066465] Processing image: img_271.tif\n"
          ]
        },
        {
          "output_type": "stream",
          "name": "stderr",
          "text": [
            "\n",
            "  0%|          | 0/1 [00:00<?, ?it/s]\u001b[A\n",
            "                                     \u001b[A"
          ]
        },
        {
          "output_type": "stream",
          "name": "stdout",
          "text": [
            "[09:36:58.097275] Processing image: img_295.tif\n"
          ]
        },
        {
          "output_type": "stream",
          "name": "stderr",
          "text": [
            "\n",
            "  0%|          | 0/1 [00:00<?, ?it/s]\u001b[A\n",
            "                                     \u001b[A"
          ]
        },
        {
          "output_type": "stream",
          "name": "stdout",
          "text": [
            "[09:36:58.129790] Processing image: img_315.tif\n"
          ]
        },
        {
          "output_type": "stream",
          "name": "stderr",
          "text": [
            "\n",
            "  0%|          | 0/1 [00:00<?, ?it/s]\u001b[A\n",
            " 84%|████████▎ | 510/610 [00:16<00:03, 29.35it/s]"
          ]
        },
        {
          "output_type": "stream",
          "name": "stdout",
          "text": [
            "[09:36:58.167086] Processing image: img_370.tif\n"
          ]
        },
        {
          "output_type": "stream",
          "name": "stderr",
          "text": [
            "\n",
            "  0%|          | 0/1 [00:00<?, ?it/s]\u001b[A\n",
            "                                     \u001b[A"
          ]
        },
        {
          "output_type": "stream",
          "name": "stdout",
          "text": [
            "[09:36:58.198697] Processing image: img_446.tif\n"
          ]
        },
        {
          "output_type": "stream",
          "name": "stderr",
          "text": [
            "\n",
            "  0%|          | 0/1 [00:00<?, ?it/s]\u001b[A\n",
            "                                     \u001b[A"
          ]
        },
        {
          "output_type": "stream",
          "name": "stdout",
          "text": [
            "[09:36:58.230684] Processing image: img_453.tif\n"
          ]
        },
        {
          "output_type": "stream",
          "name": "stderr",
          "text": [
            "\n",
            "  0%|          | 0/1 [00:00<?, ?it/s]\u001b[A\n",
            "                                     \u001b[A"
          ]
        },
        {
          "output_type": "stream",
          "name": "stdout",
          "text": [
            "[09:36:58.261911] Processing image: img_483.tif\n"
          ]
        },
        {
          "output_type": "stream",
          "name": "stderr",
          "text": [
            "\n",
            "  0%|          | 0/1 [00:00<?, ?it/s]\u001b[A\n",
            " 84%|████████▍ | 514/610 [00:16<00:03, 29.98it/s]"
          ]
        },
        {
          "output_type": "stream",
          "name": "stdout",
          "text": [
            "[09:36:58.291367] Processing image: img_510.tif\n"
          ]
        },
        {
          "output_type": "stream",
          "name": "stderr",
          "text": [
            "\n",
            "  0%|          | 0/1 [00:00<?, ?it/s]\u001b[A\n",
            "                                     \u001b[A"
          ]
        },
        {
          "output_type": "stream",
          "name": "stdout",
          "text": [
            "[09:36:58.324897] Processing image: img_529.tif\n"
          ]
        },
        {
          "output_type": "stream",
          "name": "stderr",
          "text": [
            "\n",
            "  0%|          | 0/1 [00:00<?, ?it/s]\u001b[A\n",
            "                                     \u001b[A"
          ]
        },
        {
          "output_type": "stream",
          "name": "stdout",
          "text": [
            "[09:36:58.358379] Processing image: img_561.tif\n"
          ]
        },
        {
          "output_type": "stream",
          "name": "stderr",
          "text": [
            "\n",
            "  0%|          | 0/1 [00:00<?, ?it/s]\u001b[A\n",
            "                                     \u001b[A"
          ]
        },
        {
          "output_type": "stream",
          "name": "stdout",
          "text": [
            "[09:36:58.386999] Processing image: img_566.tif\n"
          ]
        },
        {
          "output_type": "stream",
          "name": "stderr",
          "text": [
            "\n",
            "  0%|          | 0/1 [00:00<?, ?it/s]\u001b[A\n",
            " 85%|████████▍ | 518/610 [00:16<00:03, 30.59it/s]"
          ]
        },
        {
          "output_type": "stream",
          "name": "stdout",
          "text": [
            "[09:36:58.417599] Processing image: img_592.tif\n"
          ]
        },
        {
          "output_type": "stream",
          "name": "stderr",
          "text": [
            "\n",
            "  0%|          | 0/1 [00:00<?, ?it/s]\u001b[A\n",
            "                                     \u001b[A"
          ]
        },
        {
          "output_type": "stream",
          "name": "stdout",
          "text": [
            "[09:36:58.449619] Processing image: img_605.tif\n"
          ]
        },
        {
          "output_type": "stream",
          "name": "stderr",
          "text": [
            "\n",
            "  0%|          | 0/1 [00:00<?, ?it/s]\u001b[A\n",
            "                                     \u001b[A"
          ]
        },
        {
          "output_type": "stream",
          "name": "stdout",
          "text": [
            "[09:36:58.487711] Processing image: img_013.tif\n"
          ]
        },
        {
          "output_type": "stream",
          "name": "stderr",
          "text": [
            "\n",
            "  0%|          | 0/1 [00:00<?, ?it/s]\u001b[A\n",
            "                                     \u001b[A"
          ]
        },
        {
          "output_type": "stream",
          "name": "stdout",
          "text": [
            "[09:36:58.528804] Processing image: img_024.tif\n"
          ]
        },
        {
          "output_type": "stream",
          "name": "stderr",
          "text": [
            "\n",
            "  0%|          | 0/1 [00:00<?, ?it/s]\u001b[A\n",
            " 86%|████████▌ | 522/610 [00:16<00:02, 29.83it/s]"
          ]
        },
        {
          "output_type": "stream",
          "name": "stdout",
          "text": [
            "[09:36:58.559722] Processing image: img_036.tif\n"
          ]
        },
        {
          "output_type": "stream",
          "name": "stderr",
          "text": [
            "\n",
            "  0%|          | 0/1 [00:00<?, ?it/s]\u001b[A\n",
            "                                     \u001b[A"
          ]
        },
        {
          "output_type": "stream",
          "name": "stdout",
          "text": [
            "[09:36:58.585688] Processing image: img_064.tif\n"
          ]
        },
        {
          "output_type": "stream",
          "name": "stderr",
          "text": [
            "\n",
            "  0%|          | 0/1 [00:00<?, ?it/s]\u001b[A\n",
            "                                     \u001b[A"
          ]
        },
        {
          "output_type": "stream",
          "name": "stdout",
          "text": [
            "[09:36:58.618553] Processing image: img_066.tif\n"
          ]
        },
        {
          "output_type": "stream",
          "name": "stderr",
          "text": [
            "\n",
            "  0%|          | 0/1 [00:00<?, ?it/s]\u001b[A\n",
            "                                     \u001b[A"
          ]
        },
        {
          "output_type": "stream",
          "name": "stdout",
          "text": [
            "[09:36:58.652684] Processing image: img_075.tif\n"
          ]
        },
        {
          "output_type": "stream",
          "name": "stderr",
          "text": [
            "\n",
            "  0%|          | 0/1 [00:00<?, ?it/s]\u001b[A\n",
            " 86%|████████▌ | 526/610 [00:16<00:02, 30.18it/s]"
          ]
        },
        {
          "output_type": "stream",
          "name": "stdout",
          "text": [
            "[09:36:58.690748] Processing image: img_079.tif\n"
          ]
        },
        {
          "output_type": "stream",
          "name": "stderr",
          "text": [
            "\n",
            "  0%|          | 0/1 [00:00<?, ?it/s]\u001b[A\n",
            "                                     \u001b[A"
          ]
        },
        {
          "output_type": "stream",
          "name": "stdout",
          "text": [
            "[09:36:58.728014] Processing image: img_111.tif\n"
          ]
        },
        {
          "output_type": "stream",
          "name": "stderr",
          "text": [
            "\n",
            "  0%|          | 0/1 [00:00<?, ?it/s]\u001b[A\n",
            "                                     \u001b[A"
          ]
        },
        {
          "output_type": "stream",
          "name": "stdout",
          "text": [
            "[09:36:58.757661] Processing image: img_140.tif\n"
          ]
        },
        {
          "output_type": "stream",
          "name": "stderr",
          "text": [
            "\n",
            "  0%|          | 0/1 [00:00<?, ?it/s]\u001b[A\n",
            "                                     \u001b[A"
          ]
        },
        {
          "output_type": "stream",
          "name": "stdout",
          "text": [
            "[09:36:58.787491] Processing image: img_158.tif\n"
          ]
        },
        {
          "output_type": "stream",
          "name": "stderr",
          "text": [
            "\n",
            "  0%|          | 0/1 [00:00<?, ?it/s]\u001b[A\n",
            " 87%|████████▋ | 530/610 [00:17<00:02, 30.33it/s]"
          ]
        },
        {
          "output_type": "stream",
          "name": "stdout",
          "text": [
            "[09:36:58.826672] Processing image: img_182.tif\n"
          ]
        },
        {
          "output_type": "stream",
          "name": "stderr",
          "text": [
            "\n",
            "  0%|          | 0/1 [00:00<?, ?it/s]\u001b[A\n",
            "                                     \u001b[A"
          ]
        },
        {
          "output_type": "stream",
          "name": "stdout",
          "text": [
            "[09:36:58.860049] Processing image: img_260.tif\n"
          ]
        },
        {
          "output_type": "stream",
          "name": "stderr",
          "text": [
            "\n",
            "  0%|          | 0/1 [00:00<?, ?it/s]\u001b[A\n",
            "                                     \u001b[A"
          ]
        },
        {
          "output_type": "stream",
          "name": "stdout",
          "text": [
            "[09:36:58.888609] Processing image: img_276.tif\n"
          ]
        },
        {
          "output_type": "stream",
          "name": "stderr",
          "text": [
            "\n",
            "  0%|          | 0/1 [00:00<?, ?it/s]\u001b[A\n",
            "                                     \u001b[A"
          ]
        },
        {
          "output_type": "stream",
          "name": "stdout",
          "text": [
            "[09:36:58.912834] Processing image: img_286.tif\n"
          ]
        },
        {
          "output_type": "stream",
          "name": "stderr",
          "text": [
            "\n",
            "  0%|          | 0/1 [00:00<?, ?it/s]\u001b[A\n",
            " 88%|████████▊ | 534/610 [00:17<00:02, 31.06it/s]"
          ]
        },
        {
          "output_type": "stream",
          "name": "stdout",
          "text": [
            "[09:36:58.944861] Processing image: img_331.tif\n"
          ]
        },
        {
          "output_type": "stream",
          "name": "stderr",
          "text": [
            "\n",
            "  0%|          | 0/1 [00:00<?, ?it/s]\u001b[A\n",
            "                                     \u001b[A"
          ]
        },
        {
          "output_type": "stream",
          "name": "stdout",
          "text": [
            "[09:36:58.973262] Processing image: img_352.tif\n"
          ]
        },
        {
          "output_type": "stream",
          "name": "stderr",
          "text": [
            "\n",
            "  0%|          | 0/1 [00:00<?, ?it/s]\u001b[A\n",
            "                                     \u001b[A"
          ]
        },
        {
          "output_type": "stream",
          "name": "stdout",
          "text": [
            "[09:36:59.005042] Processing image: img_404.tif\n"
          ]
        },
        {
          "output_type": "stream",
          "name": "stderr",
          "text": [
            "\n",
            "  0%|          | 0/1 [00:00<?, ?it/s]\u001b[A\n",
            "                                     \u001b[A"
          ]
        },
        {
          "output_type": "stream",
          "name": "stdout",
          "text": [
            "[09:36:59.036829] Processing image: img_481.tif\n"
          ]
        },
        {
          "output_type": "stream",
          "name": "stderr",
          "text": [
            "\n",
            "  0%|          | 0/1 [00:00<?, ?it/s]\u001b[A\n",
            " 88%|████████▊ | 538/610 [00:17<00:02, 31.19it/s]"
          ]
        },
        {
          "output_type": "stream",
          "name": "stdout",
          "text": [
            "[09:36:59.068606] Processing image: img_588.tif\n"
          ]
        },
        {
          "output_type": "stream",
          "name": "stderr",
          "text": [
            "\n",
            "  0%|          | 0/1 [00:00<?, ?it/s]\u001b[A\n",
            "                                     \u001b[A"
          ]
        },
        {
          "output_type": "stream",
          "name": "stdout",
          "text": [
            "[09:36:59.098176] Processing image: img_590.tif\n"
          ]
        },
        {
          "output_type": "stream",
          "name": "stderr",
          "text": [
            "\n",
            "  0%|          | 0/1 [00:00<?, ?it/s]\u001b[A\n",
            "                                     \u001b[A"
          ]
        },
        {
          "output_type": "stream",
          "name": "stdout",
          "text": [
            "[09:36:59.125290] Processing image: img_600.tif\n"
          ]
        },
        {
          "output_type": "stream",
          "name": "stderr",
          "text": [
            "\n",
            "  0%|          | 0/1 [00:00<?, ?it/s]\u001b[A\n",
            "                                     \u001b[A"
          ]
        },
        {
          "output_type": "stream",
          "name": "stdout",
          "text": [
            "[09:36:59.152055] Processing image: img_004.tif\n"
          ]
        },
        {
          "output_type": "stream",
          "name": "stderr",
          "text": [
            "\n",
            "  0%|          | 0/1 [00:00<?, ?it/s]\u001b[A\n",
            " 89%|████████▉ | 542/610 [00:17<00:02, 32.13it/s]"
          ]
        },
        {
          "output_type": "stream",
          "name": "stdout",
          "text": [
            "[09:36:59.179991] Processing image: img_020.tif\n"
          ]
        },
        {
          "output_type": "stream",
          "name": "stderr",
          "text": [
            "\n",
            "  0%|          | 0/1 [00:00<?, ?it/s]\u001b[A\n",
            "                                     \u001b[A"
          ]
        },
        {
          "output_type": "stream",
          "name": "stdout",
          "text": [
            "[09:36:59.218461] Processing image: img_022.tif\n"
          ]
        },
        {
          "output_type": "stream",
          "name": "stderr",
          "text": [
            "\n",
            "  0%|          | 0/1 [00:00<?, ?it/s]\u001b[A\n",
            "                                     \u001b[A"
          ]
        },
        {
          "output_type": "stream",
          "name": "stdout",
          "text": [
            "[09:36:59.257038] Processing image: img_025.tif\n"
          ]
        },
        {
          "output_type": "stream",
          "name": "stderr",
          "text": [
            "\n",
            "  0%|          | 0/1 [00:00<?, ?it/s]\u001b[A\n",
            "                                     \u001b[A"
          ]
        },
        {
          "output_type": "stream",
          "name": "stdout",
          "text": [
            "[09:36:59.284114] Processing image: img_052.tif\n"
          ]
        },
        {
          "output_type": "stream",
          "name": "stderr",
          "text": [
            "\n",
            "  0%|          | 0/1 [00:00<?, ?it/s]\u001b[A\n",
            " 90%|████████▉ | 546/610 [00:17<00:02, 31.52it/s]"
          ]
        },
        {
          "output_type": "stream",
          "name": "stdout",
          "text": [
            "[09:36:59.313222] Processing image: img_059.tif\n"
          ]
        },
        {
          "output_type": "stream",
          "name": "stderr",
          "text": [
            "\n",
            "  0%|          | 0/1 [00:00<?, ?it/s]\u001b[A\n",
            "                                     \u001b[A"
          ]
        },
        {
          "output_type": "stream",
          "name": "stdout",
          "text": [
            "[09:36:59.342452] Processing image: img_063.tif\n"
          ]
        },
        {
          "output_type": "stream",
          "name": "stderr",
          "text": [
            "\n",
            "  0%|          | 0/1 [00:00<?, ?it/s]\u001b[A\n",
            "                                     \u001b[A"
          ]
        },
        {
          "output_type": "stream",
          "name": "stdout",
          "text": [
            "[09:36:59.371466] Processing image: img_072.tif\n"
          ]
        },
        {
          "output_type": "stream",
          "name": "stderr",
          "text": [
            "\n",
            "  0%|          | 0/1 [00:00<?, ?it/s]\u001b[A\n",
            "                                     \u001b[A"
          ]
        },
        {
          "output_type": "stream",
          "name": "stdout",
          "text": [
            "[09:36:59.401620] Processing image: img_077.tif\n"
          ]
        },
        {
          "output_type": "stream",
          "name": "stderr",
          "text": [
            "\n",
            "  0%|          | 0/1 [00:00<?, ?it/s]\u001b[A\n",
            " 90%|█████████ | 550/610 [00:17<00:01, 32.19it/s]"
          ]
        },
        {
          "output_type": "stream",
          "name": "stdout",
          "text": [
            "[09:36:59.432465] Processing image: img_083.tif\n"
          ]
        },
        {
          "output_type": "stream",
          "name": "stderr",
          "text": [
            "\n",
            "  0%|          | 0/1 [00:00<?, ?it/s]\u001b[A\n",
            "                                     \u001b[A"
          ]
        },
        {
          "output_type": "stream",
          "name": "stdout",
          "text": [
            "[09:36:59.455694] Processing image: img_124.tif\n"
          ]
        },
        {
          "output_type": "stream",
          "name": "stderr",
          "text": [
            "\n",
            "  0%|          | 0/1 [00:00<?, ?it/s]\u001b[A\n",
            "                                     \u001b[A"
          ]
        },
        {
          "output_type": "stream",
          "name": "stdout",
          "text": [
            "[09:36:59.483639] Processing image: img_125.tif\n"
          ]
        },
        {
          "output_type": "stream",
          "name": "stderr",
          "text": [
            "\n",
            "  0%|          | 0/1 [00:00<?, ?it/s]\u001b[A\n",
            "                                     \u001b[A"
          ]
        },
        {
          "output_type": "stream",
          "name": "stdout",
          "text": [
            "[09:36:59.522392] Processing image: img_132.tif\n"
          ]
        },
        {
          "output_type": "stream",
          "name": "stderr",
          "text": [
            "\n",
            "  0%|          | 0/1 [00:00<?, ?it/s]\u001b[A\n",
            " 91%|█████████ | 554/610 [00:17<00:01, 32.73it/s]"
          ]
        },
        {
          "output_type": "stream",
          "name": "stdout",
          "text": [
            "[09:36:59.558051] Processing image: img_146.tif\n"
          ]
        },
        {
          "output_type": "stream",
          "name": "stderr",
          "text": [
            "\n",
            "  0%|          | 0/1 [00:00<?, ?it/s]\u001b[A\n",
            "                                     \u001b[A"
          ]
        },
        {
          "output_type": "stream",
          "name": "stdout",
          "text": [
            "[09:36:59.598374] Processing image: img_151.tif\n"
          ]
        },
        {
          "output_type": "stream",
          "name": "stderr",
          "text": [
            "\n",
            "  0%|          | 0/1 [00:00<?, ?it/s]\u001b[A\n",
            "                                     \u001b[A"
          ]
        },
        {
          "output_type": "stream",
          "name": "stdout",
          "text": [
            "[09:36:59.629618] Processing image: img_185.tif\n"
          ]
        },
        {
          "output_type": "stream",
          "name": "stderr",
          "text": [
            "\n",
            "  0%|          | 0/1 [00:00<?, ?it/s]\u001b[A\n",
            "                                     \u001b[A"
          ]
        },
        {
          "output_type": "stream",
          "name": "stdout",
          "text": [
            "[09:36:59.664295] Processing image: img_203.tif\n"
          ]
        },
        {
          "output_type": "stream",
          "name": "stderr",
          "text": [
            "\n",
            "  0%|          | 0/1 [00:00<?, ?it/s]\u001b[A\n",
            " 91%|█████████▏| 558/610 [00:17<00:01, 30.89it/s]"
          ]
        },
        {
          "output_type": "stream",
          "name": "stdout",
          "text": [
            "[09:36:59.696172] Processing image: img_207.tif\n"
          ]
        },
        {
          "output_type": "stream",
          "name": "stderr",
          "text": [
            "\n",
            "  0%|          | 0/1 [00:00<?, ?it/s]\u001b[A\n",
            "                                     \u001b[A"
          ]
        },
        {
          "output_type": "stream",
          "name": "stdout",
          "text": [
            "[09:36:59.727536] Processing image: img_211.tif\n"
          ]
        },
        {
          "output_type": "stream",
          "name": "stderr",
          "text": [
            "\n",
            "  0%|          | 0/1 [00:00<?, ?it/s]\u001b[A\n",
            "                                     \u001b[A"
          ]
        },
        {
          "output_type": "stream",
          "name": "stdout",
          "text": [
            "[09:36:59.758728] Processing image: img_213.tif\n"
          ]
        },
        {
          "output_type": "stream",
          "name": "stderr",
          "text": [
            "\n",
            "  0%|          | 0/1 [00:00<?, ?it/s]\u001b[A\n",
            "                                     \u001b[A"
          ]
        },
        {
          "output_type": "stream",
          "name": "stdout",
          "text": [
            "[09:36:59.793019] Processing image: img_215.tif\n"
          ]
        },
        {
          "output_type": "stream",
          "name": "stderr",
          "text": [
            "\n",
            "  0%|          | 0/1 [00:00<?, ?it/s]\u001b[A\n",
            " 92%|█████████▏| 562/610 [00:18<00:01, 30.96it/s]"
          ]
        },
        {
          "output_type": "stream",
          "name": "stdout",
          "text": [
            "[09:36:59.826002] Processing image: img_224.tif\n"
          ]
        },
        {
          "output_type": "stream",
          "name": "stderr",
          "text": [
            "\n",
            "  0%|          | 0/1 [00:00<?, ?it/s]\u001b[A\n",
            "                                     \u001b[A"
          ]
        },
        {
          "output_type": "stream",
          "name": "stdout",
          "text": [
            "[09:36:59.857965] Processing image: img_253.tif\n"
          ]
        },
        {
          "output_type": "stream",
          "name": "stderr",
          "text": [
            "\n",
            "  0%|          | 0/1 [00:00<?, ?it/s]\u001b[A\n",
            "                                     \u001b[A"
          ]
        },
        {
          "output_type": "stream",
          "name": "stdout",
          "text": [
            "[09:36:59.883681] Processing image: img_268.tif\n"
          ]
        },
        {
          "output_type": "stream",
          "name": "stderr",
          "text": [
            "\n",
            "  0%|          | 0/1 [00:00<?, ?it/s]\u001b[A\n",
            "                                     \u001b[A"
          ]
        },
        {
          "output_type": "stream",
          "name": "stdout",
          "text": [
            "[09:36:59.908406] Processing image: img_269.tif\n"
          ]
        },
        {
          "output_type": "stream",
          "name": "stderr",
          "text": [
            "\n",
            "  0%|          | 0/1 [00:00<?, ?it/s]\u001b[A\n",
            " 93%|█████████▎| 566/610 [00:18<00:01, 32.36it/s]"
          ]
        },
        {
          "output_type": "stream",
          "name": "stdout",
          "text": [
            "[09:36:59.942224] Processing image: img_294.tif\n"
          ]
        },
        {
          "output_type": "stream",
          "name": "stderr",
          "text": [
            "\n",
            "  0%|          | 0/1 [00:00<?, ?it/s]\u001b[A\n",
            "                                     \u001b[A"
          ]
        },
        {
          "output_type": "stream",
          "name": "stdout",
          "text": [
            "[09:36:59.978455] Processing image: img_296.tif\n"
          ]
        },
        {
          "output_type": "stream",
          "name": "stderr",
          "text": [
            "\n",
            "  0%|          | 0/1 [00:00<?, ?it/s]\u001b[A\n",
            "                                     \u001b[A"
          ]
        },
        {
          "output_type": "stream",
          "name": "stdout",
          "text": [
            "[09:37:00.015512] Processing image: img_302.tif\n"
          ]
        },
        {
          "output_type": "stream",
          "name": "stderr",
          "text": [
            "\n",
            "  0%|          | 0/1 [00:00<?, ?it/s]\u001b[A\n",
            "                                     \u001b[A"
          ]
        },
        {
          "output_type": "stream",
          "name": "stdout",
          "text": [
            "[09:37:00.050556] Processing image: img_303.tif\n"
          ]
        },
        {
          "output_type": "stream",
          "name": "stderr",
          "text": [
            "\n",
            "  0%|          | 0/1 [00:00<?, ?it/s]\u001b[A\n",
            " 93%|█████████▎| 570/610 [00:18<00:01, 30.50it/s]"
          ]
        },
        {
          "output_type": "stream",
          "name": "stdout",
          "text": [
            "[09:37:00.084854] Processing image: img_325.tif\n"
          ]
        },
        {
          "output_type": "stream",
          "name": "stderr",
          "text": [
            "\n",
            "  0%|          | 0/1 [00:00<?, ?it/s]\u001b[A\n",
            "                                     \u001b[A"
          ]
        },
        {
          "output_type": "stream",
          "name": "stdout",
          "text": [
            "[09:37:00.115950] Processing image: img_327.tif\n"
          ]
        },
        {
          "output_type": "stream",
          "name": "stderr",
          "text": [
            "\n",
            "  0%|          | 0/1 [00:00<?, ?it/s]\u001b[A\n",
            "                                     \u001b[A"
          ]
        },
        {
          "output_type": "stream",
          "name": "stdout",
          "text": [
            "[09:37:00.150017] Processing image: img_330.tif\n"
          ]
        },
        {
          "output_type": "stream",
          "name": "stderr",
          "text": [
            "\n",
            "  0%|          | 0/1 [00:00<?, ?it/s]\u001b[A\n",
            "                                     \u001b[A"
          ]
        },
        {
          "output_type": "stream",
          "name": "stdout",
          "text": [
            "[09:37:00.186777] Processing image: img_357.tif\n"
          ]
        },
        {
          "output_type": "stream",
          "name": "stderr",
          "text": [
            "\n",
            "  0%|          | 0/1 [00:00<?, ?it/s]\u001b[A\n",
            " 94%|█████████▍| 574/610 [00:18<00:01, 30.19it/s]"
          ]
        },
        {
          "output_type": "stream",
          "name": "stdout",
          "text": [
            "[09:37:00.228292] Processing image: img_361.tif\n"
          ]
        },
        {
          "output_type": "stream",
          "name": "stderr",
          "text": [
            "\n",
            "  0%|          | 0/1 [00:00<?, ?it/s]\u001b[A\n",
            "                                     \u001b[A"
          ]
        },
        {
          "output_type": "stream",
          "name": "stdout",
          "text": [
            "[09:37:00.266655] Processing image: img_369.tif\n"
          ]
        },
        {
          "output_type": "stream",
          "name": "stderr",
          "text": [
            "\n",
            "  0%|          | 0/1 [00:00<?, ?it/s]\u001b[A\n",
            "                                     \u001b[A"
          ]
        },
        {
          "output_type": "stream",
          "name": "stdout",
          "text": [
            "[09:37:00.303549] Processing image: img_380.tif\n"
          ]
        },
        {
          "output_type": "stream",
          "name": "stderr",
          "text": [
            "\n",
            "  0%|          | 0/1 [00:00<?, ?it/s]\u001b[A\n",
            "                                     \u001b[A"
          ]
        },
        {
          "output_type": "stream",
          "name": "stdout",
          "text": [
            "[09:37:00.343299] Processing image: img_395.tif\n"
          ]
        },
        {
          "output_type": "stream",
          "name": "stderr",
          "text": [
            "\n",
            "  0%|          | 0/1 [00:00<?, ?it/s]\u001b[A\n",
            " 95%|█████████▍| 578/610 [00:18<00:01, 28.81it/s]"
          ]
        },
        {
          "output_type": "stream",
          "name": "stdout",
          "text": [
            "[09:37:00.382292] Processing image: img_397.tif\n"
          ]
        },
        {
          "output_type": "stream",
          "name": "stderr",
          "text": [
            "\n",
            "  0%|          | 0/1 [00:00<?, ?it/s]\u001b[A\n",
            "                                     \u001b[A"
          ]
        },
        {
          "output_type": "stream",
          "name": "stdout",
          "text": [
            "[09:37:00.422499] Processing image: img_405.tif\n"
          ]
        },
        {
          "output_type": "stream",
          "name": "stderr",
          "text": [
            "\n",
            "  0%|          | 0/1 [00:00<?, ?it/s]\u001b[A\n",
            "                                     \u001b[A"
          ]
        },
        {
          "output_type": "stream",
          "name": "stdout",
          "text": [
            "[09:37:00.456439] Processing image: img_414.tif\n"
          ]
        },
        {
          "output_type": "stream",
          "name": "stderr",
          "text": [
            "\n",
            "  0%|          | 0/1 [00:00<?, ?it/s]\u001b[A\n",
            " 95%|█████████▌| 581/610 [00:18<00:01, 28.47it/s]"
          ]
        },
        {
          "output_type": "stream",
          "name": "stdout",
          "text": [
            "[09:37:00.486903] Processing image: img_423.tif\n"
          ]
        },
        {
          "output_type": "stream",
          "name": "stderr",
          "text": [
            "\n",
            "  0%|          | 0/1 [00:00<?, ?it/s]\u001b[A\n",
            "                                     \u001b[A"
          ]
        },
        {
          "output_type": "stream",
          "name": "stdout",
          "text": [
            "[09:37:00.519665] Processing image: img_427.tif\n"
          ]
        },
        {
          "output_type": "stream",
          "name": "stderr",
          "text": [
            "\n",
            "  0%|          | 0/1 [00:00<?, ?it/s]\u001b[A\n",
            "                                     \u001b[A"
          ]
        },
        {
          "output_type": "stream",
          "name": "stdout",
          "text": [
            "[09:37:00.546020] Processing image: img_435.tif\n"
          ]
        },
        {
          "output_type": "stream",
          "name": "stderr",
          "text": [
            "\n",
            "  0%|          | 0/1 [00:00<?, ?it/s]\u001b[A\n",
            "                                     \u001b[A"
          ]
        },
        {
          "output_type": "stream",
          "name": "stdout",
          "text": [
            "[09:37:00.577123] Processing image: img_437.tif\n"
          ]
        },
        {
          "output_type": "stream",
          "name": "stderr",
          "text": [
            "\n",
            "  0%|          | 0/1 [00:00<?, ?it/s]\u001b[A\n",
            " 96%|█████████▌| 585/610 [00:18<00:00, 29.81it/s]"
          ]
        },
        {
          "output_type": "stream",
          "name": "stdout",
          "text": [
            "[09:37:00.608327] Processing image: img_455.tif\n"
          ]
        },
        {
          "output_type": "stream",
          "name": "stderr",
          "text": [
            "\n",
            "  0%|          | 0/1 [00:00<?, ?it/s]\u001b[A\n",
            "                                     \u001b[A"
          ]
        },
        {
          "output_type": "stream",
          "name": "stdout",
          "text": [
            "[09:37:00.636504] Processing image: img_464.tif\n"
          ]
        },
        {
          "output_type": "stream",
          "name": "stderr",
          "text": [
            "\n",
            "  0%|          | 0/1 [00:00<?, ?it/s]\u001b[A\n",
            "                                     \u001b[A"
          ]
        },
        {
          "output_type": "stream",
          "name": "stdout",
          "text": [
            "[09:37:00.663077] Processing image: img_485.tif\n"
          ]
        },
        {
          "output_type": "stream",
          "name": "stderr",
          "text": [
            "\n",
            "  0%|          | 0/1 [00:00<?, ?it/s]\u001b[A\n",
            "                                     \u001b[A"
          ]
        },
        {
          "output_type": "stream",
          "name": "stdout",
          "text": [
            "[09:37:00.691754] Processing image: img_487.tif\n"
          ]
        },
        {
          "output_type": "stream",
          "name": "stderr",
          "text": [
            "\n",
            "  0%|          | 0/1 [00:00<?, ?it/s]\u001b[A\n",
            " 97%|█████████▋| 589/610 [00:19<00:00, 31.25it/s]"
          ]
        },
        {
          "output_type": "stream",
          "name": "stdout",
          "text": [
            "[09:37:00.717740] Processing image: img_489.tif\n"
          ]
        },
        {
          "output_type": "stream",
          "name": "stderr",
          "text": [
            "\n",
            "  0%|          | 0/1 [00:00<?, ?it/s]\u001b[A\n",
            "                                     \u001b[A"
          ]
        },
        {
          "output_type": "stream",
          "name": "stdout",
          "text": [
            "[09:37:00.746609] Processing image: img_495.tif\n"
          ]
        },
        {
          "output_type": "stream",
          "name": "stderr",
          "text": [
            "\n",
            "  0%|          | 0/1 [00:00<?, ?it/s]\u001b[A\n",
            "                                     \u001b[A"
          ]
        },
        {
          "output_type": "stream",
          "name": "stdout",
          "text": [
            "[09:37:00.773093] Processing image: img_499.tif\n"
          ]
        },
        {
          "output_type": "stream",
          "name": "stderr",
          "text": [
            "\n",
            "  0%|          | 0/1 [00:00<?, ?it/s]\u001b[A\n",
            "                                     \u001b[A"
          ]
        },
        {
          "output_type": "stream",
          "name": "stdout",
          "text": [
            "[09:37:00.798447] Processing image: img_509.tif\n"
          ]
        },
        {
          "output_type": "stream",
          "name": "stderr",
          "text": [
            "\n",
            "  0%|          | 0/1 [00:00<?, ?it/s]\u001b[A\n",
            " 97%|█████████▋| 593/610 [00:19<00:00, 32.76it/s]"
          ]
        },
        {
          "output_type": "stream",
          "name": "stdout",
          "text": [
            "[09:37:00.826774] Processing image: img_518.tif\n"
          ]
        },
        {
          "output_type": "stream",
          "name": "stderr",
          "text": [
            "\n",
            "  0%|          | 0/1 [00:00<?, ?it/s]\u001b[A\n",
            "                                     \u001b[A"
          ]
        },
        {
          "output_type": "stream",
          "name": "stdout",
          "text": [
            "[09:37:00.862827] Processing image: img_521.tif\n"
          ]
        },
        {
          "output_type": "stream",
          "name": "stderr",
          "text": [
            "\n",
            "  0%|          | 0/1 [00:00<?, ?it/s]\u001b[A\n",
            "                                     \u001b[A"
          ]
        },
        {
          "output_type": "stream",
          "name": "stdout",
          "text": [
            "[09:37:00.900683] Processing image: img_538.tif\n"
          ]
        },
        {
          "output_type": "stream",
          "name": "stderr",
          "text": [
            "\n",
            "  0%|          | 0/1 [00:00<?, ?it/s]\u001b[A\n",
            "                                     \u001b[A"
          ]
        },
        {
          "output_type": "stream",
          "name": "stdout",
          "text": [
            "[09:37:00.927728] Processing image: img_539.tif\n"
          ]
        },
        {
          "output_type": "stream",
          "name": "stderr",
          "text": [
            "\n",
            "  0%|          | 0/1 [00:00<?, ?it/s]\u001b[A\n",
            " 98%|█████████▊| 597/610 [00:19<00:00, 32.31it/s]"
          ]
        },
        {
          "output_type": "stream",
          "name": "stdout",
          "text": [
            "[09:37:00.958779] Processing image: img_544.tif\n"
          ]
        },
        {
          "output_type": "stream",
          "name": "stderr",
          "text": [
            "\n",
            "  0%|          | 0/1 [00:00<?, ?it/s]\u001b[A\n",
            "                                     \u001b[A"
          ]
        },
        {
          "output_type": "stream",
          "name": "stdout",
          "text": [
            "[09:37:00.986182] Processing image: img_545.tif\n"
          ]
        },
        {
          "output_type": "stream",
          "name": "stderr",
          "text": [
            "\n",
            "  0%|          | 0/1 [00:00<?, ?it/s]\u001b[A\n",
            "                                     \u001b[A"
          ]
        },
        {
          "output_type": "stream",
          "name": "stdout",
          "text": [
            "[09:37:01.007911] Processing image: img_553.tif\n"
          ]
        },
        {
          "output_type": "stream",
          "name": "stderr",
          "text": [
            "\n",
            "  0%|          | 0/1 [00:00<?, ?it/s]\u001b[A\n",
            "                                     \u001b[A"
          ]
        },
        {
          "output_type": "stream",
          "name": "stdout",
          "text": [
            "[09:37:01.034207] Processing image: img_558.tif\n"
          ]
        },
        {
          "output_type": "stream",
          "name": "stderr",
          "text": [
            "\n",
            "  0%|          | 0/1 [00:00<?, ?it/s]\u001b[A\n",
            " 99%|█████████▊| 601/610 [00:19<00:00, 33.15it/s]"
          ]
        },
        {
          "output_type": "stream",
          "name": "stdout",
          "text": [
            "[09:37:01.073521] Processing image: img_563.tif\n"
          ]
        },
        {
          "output_type": "stream",
          "name": "stderr",
          "text": [
            "\n",
            "  0%|          | 0/1 [00:00<?, ?it/s]\u001b[A\n",
            "                                     \u001b[A"
          ]
        },
        {
          "output_type": "stream",
          "name": "stdout",
          "text": [
            "[09:37:01.096371] Processing image: img_564.tif\n"
          ]
        },
        {
          "output_type": "stream",
          "name": "stderr",
          "text": [
            "\n",
            "  0%|          | 0/1 [00:00<?, ?it/s]\u001b[A\n",
            "                                     \u001b[A"
          ]
        },
        {
          "output_type": "stream",
          "name": "stdout",
          "text": [
            "[09:37:01.126828] Processing image: img_574.tif\n"
          ]
        },
        {
          "output_type": "stream",
          "name": "stderr",
          "text": [
            "\n",
            "  0%|          | 0/1 [00:00<?, ?it/s]\u001b[A\n",
            "                                     \u001b[A"
          ]
        },
        {
          "output_type": "stream",
          "name": "stdout",
          "text": [
            "[09:37:01.153619] Processing image: img_576.tif\n"
          ]
        },
        {
          "output_type": "stream",
          "name": "stderr",
          "text": [
            "\n",
            "  0%|          | 0/1 [00:00<?, ?it/s]\u001b[A\n",
            " 99%|█████████▉| 605/610 [00:19<00:00, 33.89it/s]"
          ]
        },
        {
          "output_type": "stream",
          "name": "stdout",
          "text": [
            "[09:37:01.182890] Processing image: img_577.tif\n"
          ]
        },
        {
          "output_type": "stream",
          "name": "stderr",
          "text": [
            "\n",
            "  0%|          | 0/1 [00:00<?, ?it/s]\u001b[A\n",
            "                                     \u001b[A"
          ]
        },
        {
          "output_type": "stream",
          "name": "stdout",
          "text": [
            "[09:37:01.212704] Processing image: img_585.tif\n"
          ]
        },
        {
          "output_type": "stream",
          "name": "stderr",
          "text": [
            "\n",
            "  0%|          | 0/1 [00:00<?, ?it/s]\u001b[A\n",
            "                                     \u001b[A"
          ]
        },
        {
          "output_type": "stream",
          "name": "stdout",
          "text": [
            "[09:37:01.241848] Processing image: img_587.tif\n"
          ]
        },
        {
          "output_type": "stream",
          "name": "stderr",
          "text": [
            "\n",
            "  0%|          | 0/1 [00:00<?, ?it/s]\u001b[A\n",
            "                                     \u001b[A"
          ]
        },
        {
          "output_type": "stream",
          "name": "stdout",
          "text": [
            "[09:37:01.273376] Processing image: img_589.tif\n"
          ]
        },
        {
          "output_type": "stream",
          "name": "stderr",
          "text": [
            "\n",
            "  0%|          | 0/1 [00:00<?, ?it/s]\u001b[A\n",
            "100%|█████████▉| 609/610 [00:19<00:00, 33.32it/s]"
          ]
        },
        {
          "output_type": "stream",
          "name": "stdout",
          "text": [
            "[09:37:01.307970] Processing image: img_603.tif\n"
          ]
        },
        {
          "output_type": "stream",
          "name": "stderr",
          "text": [
            "\n",
            "  0%|          | 0/1 [00:00<?, ?it/s]\u001b[A\n",
            "100%|██████████| 610/610 [00:19<00:00, 31.09it/s]"
          ]
        },
        {
          "output_type": "stream",
          "name": "stdout",
          "text": [
            "[09:37:01.323512] Releasing memory . . .\n"
          ]
        },
        {
          "output_type": "stream",
          "name": "stderr",
          "text": [
            "\n"
          ]
        },
        {
          "output_type": "stream",
          "name": "stdout",
          "text": [
            "[09:37:01.366114] #############\n",
            "[09:37:01.367909] #  RESULTS  #\n",
            "[09:37:01.368771] #############\n",
            "[09:37:01.369874] Epoch number: 10\n",
            "[09:37:01.369913] Train time (s): 0:02:48\n",
            "[09:37:01.369997] Train loss: 1.6658131734269563\n",
            "[09:37:01.370063] Train accuracy: 0.8866120220207777\n",
            "[09:37:01.370122] Train top-5-accuracy: 0.9815573770491803\n",
            "[09:37:01.370174] Validation loss: 1.5649065914608182\n",
            "[09:37:01.370221] Validation accuracy: 0.9821428571428571\n",
            "[09:37:01.370282] Validation top-5-accuracy: 1.0\n",
            "[09:37:01.370341] Test Accuracy:  86.89 %\n",
            "[09:37:01.370394] Confusion matrix: \n",
            "[09:37:01.370421] [[67  2  0  0  0  0  0  0  0  0  0]\n",
            " [ 0 54  0 12  0  0  1  0  0  0  1]\n",
            " [ 0  0 67  0  0  0  2  0  0  0  0]\n",
            " [ 0  7  0 56  3  1  1  1  0  0  0]\n",
            " [ 0  4  2  0 54  0  2  3  0  0  0]\n",
            " [ 0  1  2  0  5 51  3  3  0  0  0]\n",
            " [ 1  2  4  1  2  0 54  1  0  0  1]\n",
            " [ 0  0  0  1  0  0  0 25  0  1  1]\n",
            " [ 0  0  0  0  0  0  0  0 21  0  0]\n",
            " [ 0  0  0  0  0  0  0  0  0 20  1]\n",
            " [ 0  0  0  4  0  2  2  0  0  0 61]]\n",
            "[09:37:01.396423] \n",
            "                 precision    recall  f1-score   support\n",
            "\n",
            " Category 0 (0)       0.99      0.97      0.98        69\n",
            " Category 1 (1)       0.77      0.79      0.78        68\n",
            "Category 2 (10)       0.89      0.97      0.93        69\n",
            " Category 3 (2)       0.76      0.81      0.78        69\n",
            " Category 4 (3)       0.84      0.83      0.84        65\n",
            " Category 5 (4)       0.94      0.78      0.86        65\n",
            " Category 6 (5)       0.83      0.82      0.82        66\n",
            " Category 7 (6)       0.76      0.89      0.82        28\n",
            " Category 8 (7)       1.00      1.00      1.00        21\n",
            " Category 9 (8)       0.95      0.95      0.95        21\n",
            "Category 10 (9)       0.94      0.88      0.91        69\n",
            "\n",
            "       accuracy                           0.87       610\n",
            "      macro avg       0.88      0.88      0.88       610\n",
            "   weighted avg       0.87      0.87      0.87       610\n",
            "\n",
            "[09:37:01.397586] FINISHED JOB my_3d_classification_1 !!\n"
          ]
        },
        {
          "output_type": "display_data",
          "data": {
            "text/plain": [
              "<Figure size 640x480 with 0 Axes>"
            ]
          },
          "metadata": {}
        }
      ],
      "source": [
        "#@markdown ##Play to train the model\n",
        "import os\n",
        "import errno\n",
        "\n",
        "os.chdir('/content/')\n",
        "\n",
        "job_name = model_name\n",
        "yaml_file = \"/content/\"+str(job_name)+\".yaml\"\n",
        "\n",
        "# remove previous configuration file if it exists with the same name\n",
        "if os.path.exists( yaml_file ):\n",
        "    os.remove( yaml_file )\n",
        "\n",
        "# remove template file it is exists\n",
        "template_file = '3d_classification.yaml'\n",
        "if os.path.exists( template_file ):\n",
        "    os.remove( template_file )\n",
        "\n",
        "# Download template file\n",
        "!wget https://raw.githubusercontent.com/BiaPyX/BiaPy/master/templates/classification/3d_classification.yaml &> /dev/null\n",
        "\n",
        "# Check folders before modifying the .yaml file\n",
        "if not os.path.exists(train_data_path):\n",
        "    raise FileNotFoundError(errno.ENOENT, os.strerror(errno.ENOENT), train_data_path)\n",
        "ids = sorted(next(os.walk(train_data_path))[1])\n",
        "if len(ids) == 0:\n",
        "    raise ValueError(\"No folders found in dir {}\".format(train_data_path))\n",
        "\n",
        "if not os.path.exists(val_data_path):\n",
        "    raise FileNotFoundError(errno.ENOENT, os.strerror(errno.ENOENT), val_data_path)\n",
        "ids = sorted(next(os.walk(val_data_path))[1])\n",
        "if len(ids) == 0:\n",
        "    raise ValueError(\"No folders found in dir {}\".format(val_data_path))\n",
        "\n",
        "if not os.path.exists(test_data_path):\n",
        "    raise FileNotFoundError(errno.ENOENT, os.strerror(errno.ENOENT), test_data_path)\n",
        "ids = sorted(next(os.walk(test_data_path))[1])\n",
        "if len(ids) == 0:\n",
        "    raise ValueError(\"No folders found in dir {}\".format(test_data_path))\n",
        "\n",
        "\n",
        "# open template configuration file\n",
        "import yaml\n",
        "with open( template_file, 'r') as stream:\n",
        "    try:\n",
        "        biapy_config = yaml.safe_load(stream)\n",
        "    except yaml.YAMLError as exc:\n",
        "        print(exc)\n",
        "\n",
        "# update paths to data\n",
        "biapy_config['DATA']['TRAIN']['PATH'] = train_data_path\n",
        "biapy_config['DATA']['VAL']['PATH'] = val_data_path\n",
        "biapy_config['DATA']['TEST']['PATH'] = test_data_path\n",
        "biapy_config['DATA']['TEST']['LOAD_GT'] = test_ground_truth\n",
        "\n",
        "# update data patch size\n",
        "biapy_config['DATA']['PATCH_SIZE'] = '('+str(patch_size)+', '+ str(patch_size)+', '+ str(patch_size)+', ' + str(input_channels)+')'\n",
        "# adjust test padding accordingly\n",
        "padding = patch_size // 8\n",
        "biapy_config['DATA']['TEST']['PADDING'] = '('+str(padding)+', '+ str(padding)+', '+str(padding)+')'\n",
        "\n",
        "# update training parameters\n",
        "biapy_config['DATA']['VAL']['FROM_TRAIN'] = validation_from_train\n",
        "biapy_config['DATA']['VAL']['SPLIT_TRAIN'] = percentage_validation/100.0\n",
        "biapy_config['TRAIN']['EPOCHS'] = number_of_epochs\n",
        "biapy_config['TRAIN']['PATIENCE'] = patience\n",
        "biapy_config['TRAIN']['BATCH_SIZE'] = batch_size\n",
        "biapy_config['TRAIN']['OPTIMIZER'] = optimizer\n",
        "biapy_config['TRAIN']['LR'] = initial_learning_rate\n",
        "\n",
        "\n",
        "# change source to build model - biapy, torchvision or bmz\n",
        "if changed_source:\n",
        "    if source.value == \"BiaPy\":\n",
        "        biapy_config['MODEL']['SOURCE'] = \"biapy\"\n",
        "    elif source.value == 'BioImage Model Zoo':\n",
        "        biapy_config['MODEL']['SOURCE'] = \"bmz\"\n",
        "        biapy_config['MODEL']['BMZ'] = {}\n",
        "        biapy_config['MODEL']['BMZ']['SOURCE_MODEL_DOI'] = bmz.value\n",
        "else:\n",
        "    biapy_config['MODEL']['SOURCE'] = \"biapy\"\n",
        "\n",
        "\n",
        "# Transcribe model architecture\n",
        "# Available models: \"simple_cnn\", \"EfficientNetB0\"\n",
        "architecture = \"simple_cnn\"\n",
        "if model_architecture == \"Simple CNN\":\n",
        "    architecture = 'simple_cnn'\n",
        "else:\n",
        "    architecture = 'ViT'\n",
        "\n",
        "biapy_config['MODEL']['N_CLASSES'] = number_of_classes\n",
        "biapy_config['MODEL']['ARCHITECTURE'] = architecture\n",
        "\n",
        "# Data augmentation\n",
        "if aggressive_data_augmentation == True:\n",
        "    biapy_config['AUGMENTOR']['DROPOUT'] = True\n",
        "    biapy_config['AUGMENTOR']['GRIDMASK'] = True\n",
        "    biapy_config['AUGMENTOR']['CUTBLUR'] = True\n",
        "    biapy_config['AUGMENTOR']['CUTNOISE'] = True\n",
        "    biapy_config['AUGMENTOR']['MOTION_BLUR'] = True\n",
        "    #biapy_config['AUGMENTOR']['ELASTIC'] = True\n",
        "    #biapy_config['AUGMENTOR']['CUTOUT'] = True\n",
        "    #biapy_config['AUGMENTOR']['BRIGHTNESS'] = True\n",
        "    #biapy_config['AUGMENTOR']['CONTRAST'] = True\n",
        "\n",
        "# learning rate scheduler\n",
        "if learning_rate_scheduler == 'One cycle':\n",
        "    biapy_config['TRAIN']['LR_SCHEDULER'] = {}\n",
        "    biapy_config['TRAIN']['LR_SCHEDULER']['NAME'] = 'onecycle'\n",
        "elif learning_rate_scheduler == 'Warm-up cosine decay':\n",
        "    biapy_config['TRAIN']['LR_SCHEDULER'] = {}\n",
        "    biapy_config['TRAIN']['LR_SCHEDULER']['NAME'] = 'warmupcosine'\n",
        "    biapy_config['TRAIN']['LR_SCHEDULER']['MIN_LR'] = 0.0\n",
        "    biapy_config['TRAIN']['LR_SCHEDULER']['WARMUP_COSINE_DECAY_EPOCHS'] = 0\n",
        "elif learning_rate_scheduler == 'Reduce on plateau':\n",
        "    biapy_config['TRAIN']['LR_SCHEDULER'] = {}\n",
        "    biapy_config['TRAIN']['LR_SCHEDULER']['NAME'] = 'reduceonplateau'\n",
        "    biapy_config['TRAIN']['LR_SCHEDULER']['REDUCEONPLATEAU_FACTOR'] = 0.5\n",
        "    biapy_config['TRAIN']['LR_SCHEDULER']['REDUCEONPLATEAU_PATIENCE'] = 5\n",
        "    biapy_config['TRAIN']['LR_SCHEDULER']['MIN_LR'] = 0.00001\n",
        "\n",
        "# update test parameters\n",
        "biapy_config['TEST']['AUGMENTATION'] = test_time_augmentation\n",
        "biapy_config['DATA']['TEST']['LOAD_GT'] = test_ground_truth\n",
        "biapy_config['TEST']['ENABLE'] = True\n",
        "\n",
        "# model weights\n",
        "if checkpoint_path != '':\n",
        "    biapy_config['PATHS'] = {}\n",
        "    biapy_config['PATHS']['CHECKPOINT_FILE'] = checkpoint_path\n",
        "    biapy_config['MODEL'] = {}\n",
        "    biapy_config['MODEL']['LOAD_CHECKPOINT'] = True\n",
        "\n",
        "\n",
        "# save file\n",
        "with open( yaml_file, 'w') as outfile:\n",
        "    yaml.dump(biapy_config, outfile, default_flow_style=False)\n",
        "\n",
        "print( \"Training configuration finished.\")\n",
        "\n",
        "# Run the code\n",
        "biapy = BiaPy(f'/content/{job_name}.yaml', result_dir=output_path, name=job_name, run_id=1, gpu=0)\n",
        "biapy.run_job()"
      ]
    },
    {
      "cell_type": "markdown",
      "metadata": {
        "id": "k4i0N2vOWUes"
      },
      "source": [
        "## **Inspection of the loss function and the Accuracy**\n",
        "---\n",
        "\n",
        "Before proceeding with interpretations, it's pivotal to gauge the training evolution by juxtaposing the training loss against the validation loss. The validation loss casts light on the model's efficacy over a reserved subset of data unseen during training. A deeper understanding can be garnered from [this review](https://www.ncbi.nlm.nih.gov/pmc/articles/PMC6381354/) by Nichols *et al.*\n",
        "\n",
        "- **Training Loss**: This captures the discrepancy between the model's predictions and the actual ground-truth after each epoch.\n",
        "\n",
        "- **Validation Loss**: This signifies the error between the model's estimates on validation images and their actual counterparts.\n",
        "\n",
        "As training unfurls, these metrics are expected to wane, eventually plateauing at an optimal, minimal value. Contrasting the trajectories of these losses can yield vital information about the model's adaptability.\n",
        "\n",
        "- **Decreasing Training and Validation Losses**: This trend is indicative of potential model improvements with further training. Elevating the `number_of_epochs` is advised in such scenarios. Notably, even if the loss curves seem to stabilize towards the tail end, it might be a mere visual effect due to y-axis scaling. The model is considered convergent once the curves genuinely flatten, marking the end of required training.\n",
        "\n",
        "- **Divergent Losses**: An upward tick in validation loss while training loss gravitates towards zero hints at overfitting. It suggests that the model is intricately memorizing training patterns at the cost of broader applicability. A more substantial training dataset can alleviate this.\n",
        "\n",
        "\n",
        "The **Accuracy** metric evaluates the model's performance across all classes by contrasting the target class against the predicted output. **A value gravitating towards 1 denotes peak performance.**"
      ]
    },
    {
      "cell_type": "code",
      "execution_count": 9,
      "metadata": {
        "cellView": "form",
        "colab": {
          "base_uri": "https://localhost:8080/",
          "height": 498
        },
        "id": "ur21krhZVwX2",
        "outputId": "1bd7e6c7-0364-4817-d4a8-a5fd8e638cae"
      },
      "outputs": [
        {
          "output_type": "display_data",
          "data": {
            "text/plain": [
              "<Figure size 2000x1000 with 2 Axes>"
            ],
            "image/png": "[encoded data removed]"
          },
          "metadata": {}
        }
      ],
      "source": [
        "#@markdown ##Play the cell to show a plot of training error vs. epoch number and accuracy vs epoch number\n",
        "import matplotlib.pyplot as plt\n",
        "\n",
        "loss_plot = imread( output_path + '/'+job_name+'/results/'+job_name+'_1/charts/'+job_name+'_1_loss.png' )\n",
        "\n",
        "iou_plot = imread( output_path + '/'+job_name+'/results/'+job_name+'_1/charts/'+job_name+'_1_accuracy.png' )\n",
        "\n",
        "fig = plt.figure( figsize = (20,10))\n",
        "ax1 = plt.subplot( 1, 2, 1 )\n",
        "_ = plt.imshow( loss_plot )\n",
        "_ = plt.axis('off')\n",
        "ax1.set_title( 'Training error vs epoch number', fontdict = {'fontsize':22})\n",
        "\n",
        "ax2 = plt.subplot( 1, 2, 2 )\n",
        "_ = plt.imshow( iou_plot )\n",
        "_ = plt.axis('off')\n",
        "_= ax2.set_title( 'Accuracy vs epoch number', fontdict = {'fontsize':22})"
      ]
    },
    {
      "cell_type": "code",
      "execution_count": 10,
      "metadata": {
        "cellView": "form",
        "id": "mlQnAH6uAawl",
        "colab": {
          "base_uri": "https://localhost:8080/"
        },
        "outputId": "7bdbaecb-e3e8-4233-8447-725570be24ad"
      },
      "outputs": [
        {
          "output_type": "stream",
          "name": "stdout",
          "text": [
            "[09:37:02.176091] Output paths:\n",
            "[09:37:02.176282]     Predicted test classes are in /content/output/my_3d_classification/results/my_3d_classification_1/predictions.csv\n"
          ]
        }
      ],
      "source": [
        "#@markdown ###Play to display the path to the output CSV file\n",
        "\n",
        "final_results = os.path.join(output_path, job_name, 'results', job_name+\"_1\")\n",
        "\n",
        "class_results = os.path.join(final_results, \"predictions.csv\")\n",
        "\n",
        "print(\"Output paths:\")\n",
        "print(\"    Predicted test classes are in {}\".format(class_results))"
      ]
    },
    {
      "cell_type": "markdown",
      "source": [],
      "metadata": {
        "id": "8VdFEAokrhde"
      }
    },
    {
      "cell_type": "markdown",
      "source": [
        "## **Visualize classification results (from the test set)**\n",
        "----"
      ],
      "metadata": {
        "id": "ptymgXJPrbf8"
      }
    },
    {
      "cell_type": "code",
      "execution_count": 11,
      "metadata": {
        "cellView": "form",
        "colab": {
          "base_uri": "https://localhost:8080/",
          "height": 181
        },
        "id": "UeL1cOzwIJA7",
        "outputId": "e7beeb97-7c2d-4a63-f9ac-acc39c17e222"
      },
      "outputs": [
        {
          "output_type": "display_data",
          "data": {
            "text/plain": [
              "<Figure size 1800x18000 with 10 Axes>"
            ],
            "image/png": "[encoded data removed]"
          },
          "metadata": {}
        }
      ],
      "source": [
        "#@markdown ##Play to load some predictions from the test set\n",
        "\n",
        "\n",
        "import pandas as pd\n",
        "import matplotlib.pyplot as plt\n",
        "import os\n",
        "\n",
        "# Read CSV file with predictions\n",
        "predictions_df = pd.read_csv('/content/output/'+str(job_name)+'/results/'+str(job_name)+'_1/predictions.csv')\n",
        "\n",
        "# List the folders (classes) in order\n",
        "labels = sorted([folder for folder in os.listdir(test_data_path) if os.path.isdir(os.path.join(test_data_path, folder))])\n",
        "\n",
        "# Function to find the original class of the image\n",
        "def find_original_class(filename, labels):\n",
        "    for index, label in enumerate(labels):\n",
        "        if filename in os.listdir(os.path.join(test_data_path, label)):\n",
        "            return index\n",
        "    return None\n",
        "\n",
        "# Function for displaying images and forecasts\n",
        "def display_predictions(predictions_df, labels, num_image):\n",
        "    random_samples = predictions_df.sample(n=num_image)\n",
        "\n",
        "    fig = plt.figure(figsize=(18, 18 * num_image))\n",
        "\n",
        "    for index, (idx, row) in enumerate(random_samples.iterrows()):\n",
        "        original_class = find_original_class(row['filename'], labels)\n",
        "        image_path = os.path.join(test_data_path, labels[original_class], row['filename'])\n",
        "        image = plt.imread(image_path)\n",
        "\n",
        "        ax = plt.subplot(1, num_image, index + 1)\n",
        "        if image.shape[-1] == 1 or image.ndim == 2:\n",
        "            ax.imshow(image, cmap='gray')\n",
        "        else:\n",
        "            ax.imshow(image)\n",
        "        if original_class == None:\n",
        "          ax.set_title(f\"Predicted label: {labels[row['class']]}\")\n",
        "        else:\n",
        "          ax.set_title(f\"Predicted label: {labels[row['class']]}\\nOriginal label: {labels[original_class]}\")\n",
        "        ax.axis('off')\n",
        "\n",
        "    plt.tight_layout()\n",
        "    plt.show()\n",
        "\n",
        "display_predictions(predictions_df, labels, 10)"
      ]
    },
    {
      "cell_type": "markdown",
      "metadata": {
        "id": "zdCIYo4ohcAw"
      },
      "source": [
        "## **Download classification results**\n",
        "---"
      ]
    },
    {
      "cell_type": "code",
      "execution_count": null,
      "metadata": {
        "cellView": "form",
        "colab": {
          "base_uri": "https://localhost:8080/",
          "height": 16
        },
        "id": "gnRa9DOUP0FM",
        "outputId": "2f28af0d-7df5-4cdf-afc4-932e9007d223"
      },
      "outputs": [
        {
          "data": {
            "application/javascript": "\n    async function download(id, filename, size) {\n      if (!google.colab.kernel.accessAllowed) {\n        return;\n      }\n      const div = document.createElement('div');\n      const label = document.createElement('label');\n      label.textContent = `Downloading \"${filename}\": `;\n      div.appendChild(label);\n      const progress = document.createElement('progress');\n      progress.max = size;\n      div.appendChild(progress);\n      document.body.appendChild(div);\n\n      const buffers = [];\n      let downloaded = 0;\n\n      const channel = await google.colab.kernel.comms.open(id);\n      // Send a message to notify the kernel that we're ready.\n      channel.send({})\n\n      for await (const message of channel.messages) {\n        // Send a message to notify the kernel that we're ready.\n        channel.send({})\n        if (message.buffers) {\n          for (const buffer of message.buffers) {\n            buffers.push(buffer);\n            downloaded += buffer.byteLength;\n            progress.value = downloaded;\n          }\n        }\n      }\n      const blob = new Blob(buffers, {type: 'application/binary'});\n      const a = document.createElement('a');\n      a.href = window.URL.createObjectURL(blob);\n      a.download = filename;\n      div.appendChild(a);\n      a.click();\n      div.remove();\n    }\n  ",
            "text/plain": [
              "<IPython.core.display.Javascript object>"
            ]
          },
          "metadata": {},
          "output_type": "display_data"
        },
        {
          "data": {
            "application/javascript": "download(\"download_5196bd93-aa67-4647-88a2-90002271c5bb\", \"predictions.csv\", 8631)",
            "text/plain": [
              "<IPython.core.display.Javascript object>"
            ]
          },
          "metadata": {},
          "output_type": "display_data"
        }
      ],
      "source": [
        "#@markdown ###Play to download the CSV file with all classification results in test.\n",
        "\n",
        "from google.colab import files\n",
        "\n",
        "files.download(class_results)\n"
      ]
    },
    {
      "cell_type": "markdown",
      "metadata": {
        "id": "Kwt72WYddVgl"
      },
      "source": [
        "## **Download train model (weights and configuration file)**\n",
        "---\n",
        "If you want to **reuse the train model in the future**, you can download both the model weights and its configuration file (.YAML) by running the following cells."
      ]
    },
    {
      "cell_type": "code",
      "execution_count": null,
      "metadata": {
        "cellView": "form",
        "colab": {
          "base_uri": "https://localhost:8080/",
          "height": 16
        },
        "id": "XoFclBfEduZC",
        "outputId": "38458927-132d-402f-8ad5-3f7cd8ce9dc5"
      },
      "outputs": [
        {
          "data": {
            "application/javascript": "\n    async function download(id, filename, size) {\n      if (!google.colab.kernel.accessAllowed) {\n        return;\n      }\n      const div = document.createElement('div');\n      const label = document.createElement('label');\n      label.textContent = `Downloading \"${filename}\": `;\n      div.appendChild(label);\n      const progress = document.createElement('progress');\n      progress.max = size;\n      div.appendChild(progress);\n      document.body.appendChild(div);\n\n      const buffers = [];\n      let downloaded = 0;\n\n      const channel = await google.colab.kernel.comms.open(id);\n      // Send a message to notify the kernel that we're ready.\n      channel.send({})\n\n      for await (const message of channel.messages) {\n        // Send a message to notify the kernel that we're ready.\n        channel.send({})\n        if (message.buffers) {\n          for (const buffer of message.buffers) {\n            buffers.push(buffer);\n            downloaded += buffer.byteLength;\n            progress.value = downloaded;\n          }\n        }\n      }\n      const blob = new Blob(buffers, {type: 'application/binary'});\n      const a = document.createElement('a');\n      a.href = window.URL.createObjectURL(blob);\n      a.download = filename;\n      div.appendChild(a);\n      a.click();\n      div.remove();\n    }\n  ",
            "text/plain": [
              "<IPython.core.display.Javascript object>"
            ]
          },
          "metadata": {},
          "output_type": "display_data"
        },
        {
          "data": {
            "application/javascript": "download(\"download_0c074a81-14e8-46e4-9f39-673ab1da39c0\", \"my_3d_classification_1-checkpoint-best.pth\", 12980096)",
            "text/plain": [
              "<IPython.core.display.Javascript object>"
            ]
          },
          "metadata": {},
          "output_type": "display_data"
        }
      ],
      "source": [
        "from google.colab import files\n",
        "\n",
        "#@markdown ###Play to download the model weights\n",
        "\n",
        "checkpoints_path = os.path.join(output_path, job_name, 'checkpoints')\n",
        "\n",
        "weights_filename = str( job_name ) + '_1-checkpoint-best.pth'\n",
        "\n",
        "files.download( os.path.join( checkpoints_path, weights_filename))"
      ]
    },
    {
      "cell_type": "code",
      "execution_count": null,
      "metadata": {
        "cellView": "form",
        "colab": {
          "base_uri": "https://localhost:8080/",
          "height": 16
        },
        "id": "raDdSsz1dujE",
        "outputId": "250c4d96-dc74-4034-e7c8-d02c8ffc4ef1"
      },
      "outputs": [
        {
          "data": {
            "application/javascript": "\n    async function download(id, filename, size) {\n      if (!google.colab.kernel.accessAllowed) {\n        return;\n      }\n      const div = document.createElement('div');\n      const label = document.createElement('label');\n      label.textContent = `Downloading \"${filename}\": `;\n      div.appendChild(label);\n      const progress = document.createElement('progress');\n      progress.max = size;\n      div.appendChild(progress);\n      document.body.appendChild(div);\n\n      const buffers = [];\n      let downloaded = 0;\n\n      const channel = await google.colab.kernel.comms.open(id);\n      // Send a message to notify the kernel that we're ready.\n      channel.send({})\n\n      for await (const message of channel.messages) {\n        // Send a message to notify the kernel that we're ready.\n        channel.send({})\n        if (message.buffers) {\n          for (const buffer of message.buffers) {\n            buffers.push(buffer);\n            downloaded += buffer.byteLength;\n            progress.value = downloaded;\n          }\n        }\n      }\n      const blob = new Blob(buffers, {type: 'application/binary'});\n      const a = document.createElement('a');\n      a.href = window.URL.createObjectURL(blob);\n      a.download = filename;\n      div.appendChild(a);\n      a.click();\n      div.remove();\n    }\n  ",
            "text/plain": [
              "<IPython.core.display.Javascript object>"
            ]
          },
          "metadata": {},
          "output_type": "display_data"
        },
        {
          "data": {
            "application/javascript": "download(\"download_0ebe35c5-975f-4cb7-bc5b-eae929ddbd4a\", \"my_3d_classification.yaml\", 642)",
            "text/plain": [
              "<IPython.core.display.Javascript object>"
            ]
          },
          "metadata": {},
          "output_type": "display_data"
        }
      ],
      "source": [
        "#@markdown ###Play to download the model configuration file (.YAML)\n",
        "\n",
        "config_path = os.path.join(output_path, job_name, 'config_files')\n",
        "\n",
        "files.download( os.path.join( config_path, yaml_file))"
      ]
    },
    {
      "cell_type": "markdown",
      "metadata": {
        "id": "0FESBnhkmsuk"
      },
      "source": [
        "## **Export your model to BioImage Model Zoo format:**\n",
        "---\n",
        "If you want to export the model into the [BioImage Model Zoo](https://bioimage.io/#/) format, fill the metadata and run the following cell. After the cell is run a `trained_model_name.bmz.zip` file will be downloaded."
      ]
    },
    {
      "cell_type": "code",
      "execution_count": null,
      "metadata": {
        "cellView": "form",
        "id": "0j310dmomsuk"
      },
      "outputs": [],
      "source": [
        "\n",
        "#@markdown ##Construct model's metadata to export it to the BioImage Model Zoo format. Choose just one option:\n",
        "\n",
        "#@markdown **Option 1: Reuse previous BioImage Model Zoo model configuration**\n",
        "\n",
        "#@markdown With this option, if you were using a model from BioImage Model Zoo you can select this option to reuse its configuration instead of provide all fields manually. If that's not the case and you try to use this option an error will be thrown.\n",
        "reuse_previous_BMZ_model_config = False #@param {type:\"boolean\"}\n",
        "\n",
        "#@markdown ---\n",
        "\n",
        "#@markdown **Option 2: Manual export fields**\n",
        "\n",
        "#@markdown With this option you need to introduce manually the metadata of the model.\n",
        "\n",
        "# ------------- User input ------------\n",
        "# information about the model\n",
        "trained_model_name    = \"\" #@param {type:\"string\"}\n",
        "trained_model_authors =  \"[First Author, Second Author, Third Author]\" #@param {type:\"string\"}\n",
        "trained_model_authors_affiliation =  \"[First Author Affiliation, Second Author Affiliation, Third Author Affiliation]\" #@param {type:\"string\"}\n",
        "trained_model_description = \"\" #@param {type:\"string\"}\n",
        "trained_model_license = 'CC-BY-4.0'#@param {type:\"string\"}\n",
        "trained_model_references = [\"Ronneberger et al. arXiv in 2015\", \"Franco-Barranco, Daniel, et al. ISBI in 2023\"] #@param {type:\"string\"}\n",
        "trained_model_references_DOI = [\"10.1007/978-3-319-24574-4_28\",\"10.1109/ISBI53787.2023.10230593\"] #@param {type:\"string\"}\n",
        "trained_model_tags = \"modality: electron-microscopy, content: mitochondria\" #@param {type:\"string\"}\n",
        "trained_model_documentation = \"/content/README.md\" #@param {type:\"string\"}\n"
      ]
    },
    {
      "cell_type": "code",
      "execution_count": null,
      "metadata": {
        "cellView": "form",
        "id": "cDOCUwndmsul"
      },
      "outputs": [],
      "source": [
        "#@markdown ###Play to download a zip file with your [BioImage Model Zoo](https://bioimage.io/#/) exported model\n",
        "# update BMZ export parameters\n",
        "\n",
        "final_results = os.path.join(output_path, job_name, 'results', job_name+\"_1\")\n",
        "bmz_results = os.path.join(final_results, \"bmz_model\")\n",
        "\n",
        "if not reuse_previous_BMZ_model_config:\n",
        "    from google.colab import files\n",
        "\n",
        "    # create the author spec input\n",
        "    auth_names = trained_model_authors[1:-1].split(\",\")\n",
        "    auth_affs = trained_model_authors_affiliation[1:-1].split(\",\")\n",
        "    assert len(auth_names) == len(auth_affs)\n",
        "    authors = [{\"name\": auth_name, \"affiliation\": auth_aff} for auth_name, auth_aff in zip(auth_names, auth_affs)]\n",
        "\n",
        "    # create the citation input spec\n",
        "    assert len(trained_model_references_DOI) == len(trained_model_references)\n",
        "    citations = [{'text': text, 'doi': doi} for text, doi in zip(trained_model_references, trained_model_references_DOI)]\n",
        "\n",
        "    tags = [{t.split(\":\")[0]: t.split(\":\")[1]} for t in trained_model_tags.split(\",\")]\n",
        "\n",
        "    with open(trained_model_documentation, \"w\") as f:\n",
        "        f.write(\"### **Description**\\n\")\n",
        "        f.write(f\"{trained_model_description}\\n\\n\")\n",
        "        f.write(\"This model was created using the [BiaPy library](https://biapyx.github.io/).\\n\")\n",
        "\n",
        "    bmz_cfg = {}\n",
        "    # Description of the model\n",
        "    bmz_cfg['description'] = trained_model_description\n",
        "    # Authors of the model. Need to be a list of dicts, e.g. authors=[{\"name\": \"Gizmo\"}]\n",
        "    bmz_cfg['authors'] = authors\n",
        "    # License of the model. E.g. \"CC-BY-4.0\"\n",
        "    bmz_cfg['license'] = trained_model_license\n",
        "    # List of dictionaries of citations associated, e.g. [{\"text\": \"Gizmo et al.\", \"doi\": \"doi:10.1002/xyzacab123\"}]\n",
        "    bmz_cfg['tags'] = tags\n",
        "    # Tags to make models more findable on the website, e.g. tags=[{'modality': 'electron-microscopy', 'content': 'mitochondria'}]\n",
        "    bmz_cfg['cite'] = citations\n",
        "    # Path to a file with a documentation of the model in markdown, e.g. \"my-model/doc.md\"\n",
        "    bmz_cfg['doc'] = trained_model_documentation\n",
        "\n",
        "    biapy.export_model_to_bmz(bmz_results, bmz_cfg)\n",
        "else:\n",
        "    biapy.export_model_to_bmz(bmz_results, reuse_original_bmz_config=True)\n",
        "\n",
        "bmz_zip_path = f\"/content/{trained_model_name}.bmz.zip\"\n",
        "if os.path.isdir(bmz_results):\n",
        "    !zip -r $bmz_zip_path $bmz_results\n",
        "else:\n",
        "    print(\"The model was not exported to this format\")\n",
        "\n",
        "files.download(bmz_zip_path)"
      ]
    },
    {
      "cell_type": "markdown",
      "source": [
        "## **How to use the trained model with new data**\n",
        "---\n",
        "To directly infer new data to the trained model, you can use [this notebook](https://github.com/BiaPyX/BiaPy/blob/master/notebooks/BiaPy_Inference.ipynb). It will be necessary to upload the downloaded YAML configuration file and model weights to that notebook."
      ],
      "metadata": {
        "id": "PFVjWbF8GZ2z"
      }
    },
    {
      "cell_type": "markdown",
      "metadata": {
        "id": "vjSgLwe0x-P0"
      },
      "source": [
        "## **Acknowledgments**\n",
        "---\n",
        "We extend our gratitude to the [ZeroCostDL4Mic notebooks](https://github.com/HenriquesLab/ZeroCostDL4Mic/wiki) for their invaluable inspiration. Notably, we have adopted some of their descriptions concerning metrics and parameters."
      ]
    }
  ],
  "metadata": {
    "colab": {
      "provenance": [],
      "toc_visible": true,
      "gpuType": "T4"
    },
    "kernelspec": {
      "display_name": "Python 3",
      "name": "python3"
    },
    "widgets": {
      "application/vnd.jupyter.widget-state+json": {
        "455c44ded1c843e9a060ba5a1aca6c9d": {
          "model_module": "@jupyter-widgets/controls",
          "model_name": "HBoxModel",
          "model_module_version": "1.5.0",
          "state": {
            "_dom_classes": [],
            "_model_module": "@jupyter-widgets/controls",
            "_model_module_version": "1.5.0",
            "_model_name": "HBoxModel",
            "_view_count": null,
            "_view_module": "@jupyter-widgets/controls",
            "_view_module_version": "1.5.0",
            "_view_name": "HBoxView",
            "box_style": "",
            "children": [
              "IPY_MODEL_4aaa4933c4d64ae2bc8014d3214bf2f0",
              "IPY_MODEL_c3a5dd6aa65c4d888b92cd9d3833f179",
              "IPY_MODEL_c3beb24e33fb41bbb663fb632f252451",
              "IPY_MODEL_5b2d77e04e1e4d8e8fab6aae542a282b"
            ],
            "layout": "IPY_MODEL_47827e563f0e4d68958c90aae1dadaa4"
          }
        },
        "4aaa4933c4d64ae2bc8014d3214bf2f0": {
          "model_module": "@jupyter-widgets/controls",
          "model_name": "DropdownModel",
          "model_module_version": "1.5.0",
          "state": {
            "_dom_classes": [],
            "_model_module": "@jupyter-widgets/controls",
            "_model_module_version": "1.5.0",
            "_model_name": "DropdownModel",
            "_options_labels": [
              "training-set",
              "test-set"
            ],
            "_view_count": null,
            "_view_module": "@jupyter-widgets/controls",
            "_view_module_version": "1.5.0",
            "_view_name": "DropdownView",
            "description": "Set:",
            "description_tooltip": null,
            "disabled": false,
            "index": 0,
            "layout": "IPY_MODEL_80195fe7ff8e408cbadcadab061ee2db",
            "style": "IPY_MODEL_4ff643d6612c4c33877dfcb52fec74ad"
          }
        },
        "c3a5dd6aa65c4d888b92cd9d3833f179": {
          "model_module": "@jupyter-widgets/controls",
          "model_name": "DropdownModel",
          "model_module_version": "1.5.0",
          "state": {
            "_dom_classes": [],
            "_model_module": "@jupyter-widgets/controls",
            "_model_module_version": "1.5.0",
            "_model_name": "DropdownModel",
            "_options_labels": [
              "0",
              "1",
              "10",
              "2",
              "3",
              "4",
              "5",
              "6",
              "7",
              "8",
              "9"
            ],
            "_view_count": null,
            "_view_module": "@jupyter-widgets/controls",
            "_view_module_version": "1.5.0",
            "_view_name": "DropdownView",
            "description": "Set:",
            "description_tooltip": null,
            "disabled": false,
            "index": 6,
            "layout": "IPY_MODEL_447e4f482d274cbf910873a34525d2e4",
            "style": "IPY_MODEL_4f0c304bbeba4c268b0deb6c9709e442"
          }
        },
        "c3beb24e33fb41bbb663fb632f252451": {
          "model_module": "@jupyter-widgets/controls",
          "model_name": "IntSliderModel",
          "model_module_version": "1.5.0",
          "state": {
            "_dom_classes": [],
            "_model_module": "@jupyter-widgets/controls",
            "_model_module_version": "1.5.0",
            "_model_name": "IntSliderModel",
            "_view_count": null,
            "_view_module": "@jupyter-widgets/controls",
            "_view_module_version": "1.5.0",
            "_view_name": "IntSliderView",
            "continuous_update": false,
            "description": "Image index:",
            "description_tooltip": null,
            "disabled": false,
            "layout": "IPY_MODEL_aebdde5cb8184e09861f58c0b4640c79",
            "max": 94,
            "min": 1,
            "orientation": "horizontal",
            "readout": true,
            "readout_format": "d",
            "step": 1,
            "style": "IPY_MODEL_ccd0a082886e474ca35840dab3e1decb",
            "value": 39
          }
        },
        "5b2d77e04e1e4d8e8fab6aae542a282b": {
          "model_module": "@jupyter-widgets/controls",
          "model_name": "IntSliderModel",
          "model_module_version": "1.5.0",
          "state": {
            "_dom_classes": [],
            "_model_module": "@jupyter-widgets/controls",
            "_model_module_version": "1.5.0",
            "_model_name": "IntSliderModel",
            "_view_count": null,
            "_view_module": "@jupyter-widgets/controls",
            "_view_module_version": "1.5.0",
            "_view_name": "IntSliderView",
            "continuous_update": false,
            "description": "Z value:",
            "description_tooltip": null,
            "disabled": false,
            "layout": "IPY_MODEL_6d3a6bf9df5144ed8ba0eb6c3a5270cd",
            "max": 28,
            "min": 1,
            "orientation": "horizontal",
            "readout": true,
            "readout_format": "d",
            "step": 1,
            "style": "IPY_MODEL_d6b67f12926440f5afe33bfcf504f85a",
            "value": 12
          }
        },
        "47827e563f0e4d68958c90aae1dadaa4": {
          "model_module": "@jupyter-widgets/base",
          "model_name": "LayoutModel",
          "model_module_version": "1.2.0",
          "state": {
            "_model_module": "@jupyter-widgets/base",
            "_model_module_version": "1.2.0",
            "_model_name": "LayoutModel",
            "_view_count": null,
            "_view_module": "@jupyter-widgets/base",
            "_view_module_version": "1.2.0",
            "_view_name": "LayoutView",
            "align_content": null,
            "align_items": null,
            "align_self": null,
            "border": null,
            "bottom": null,
            "display": null,
            "flex": null,
            "flex_flow": null,
            "grid_area": null,
            "grid_auto_columns": null,
            "grid_auto_flow": null,
            "grid_auto_rows": null,
            "grid_column": null,
            "grid_gap": null,
            "grid_row": null,
            "grid_template_areas": null,
            "grid_template_columns": null,
            "grid_template_rows": null,
            "height": null,
            "justify_content": null,
            "justify_items": null,
            "left": null,
            "margin": null,
            "max_height": null,
            "max_width": null,
            "min_height": null,
            "min_width": null,
            "object_fit": null,
            "object_position": null,
            "order": null,
            "overflow": null,
            "overflow_x": null,
            "overflow_y": null,
            "padding": null,
            "right": null,
            "top": null,
            "visibility": null,
            "width": null
          }
        },
        "80195fe7ff8e408cbadcadab061ee2db": {
          "model_module": "@jupyter-widgets/base",
          "model_name": "LayoutModel",
          "model_module_version": "1.2.0",
          "state": {
            "_model_module": "@jupyter-widgets/base",
            "_model_module_version": "1.2.0",
            "_model_name": "LayoutModel",
            "_view_count": null,
            "_view_module": "@jupyter-widgets/base",
            "_view_module_version": "1.2.0",
            "_view_name": "LayoutView",
            "align_content": null,
            "align_items": null,
            "align_self": null,
            "border": null,
            "bottom": null,
            "display": null,
            "flex": null,
            "flex_flow": null,
            "grid_area": null,
            "grid_auto_columns": null,
            "grid_auto_flow": null,
            "grid_auto_rows": null,
            "grid_column": null,
            "grid_gap": null,
            "grid_row": null,
            "grid_template_areas": null,
            "grid_template_columns": null,
            "grid_template_rows": null,
            "height": null,
            "justify_content": null,
            "justify_items": null,
            "left": null,
            "margin": null,
            "max_height": null,
            "max_width": null,
            "min_height": null,
            "min_width": null,
            "object_fit": null,
            "object_position": null,
            "order": null,
            "overflow": null,
            "overflow_x": null,
            "overflow_y": null,
            "padding": null,
            "right": null,
            "top": null,
            "visibility": null,
            "width": null
          }
        },
        "4ff643d6612c4c33877dfcb52fec74ad": {
          "model_module": "@jupyter-widgets/controls",
          "model_name": "DescriptionStyleModel",
          "model_module_version": "1.5.0",
          "state": {
            "_model_module": "@jupyter-widgets/controls",
            "_model_module_version": "1.5.0",
            "_model_name": "DescriptionStyleModel",
            "_view_count": null,
            "_view_module": "@jupyter-widgets/base",
            "_view_module_version": "1.2.0",
            "_view_name": "StyleView",
            "description_width": ""
          }
        },
        "447e4f482d274cbf910873a34525d2e4": {
          "model_module": "@jupyter-widgets/base",
          "model_name": "LayoutModel",
          "model_module_version": "1.2.0",
          "state": {
            "_model_module": "@jupyter-widgets/base",
            "_model_module_version": "1.2.0",
            "_model_name": "LayoutModel",
            "_view_count": null,
            "_view_module": "@jupyter-widgets/base",
            "_view_module_version": "1.2.0",
            "_view_name": "LayoutView",
            "align_content": null,
            "align_items": null,
            "align_self": null,
            "border": null,
            "bottom": null,
            "display": null,
            "flex": null,
            "flex_flow": null,
            "grid_area": null,
            "grid_auto_columns": null,
            "grid_auto_flow": null,
            "grid_auto_rows": null,
            "grid_column": null,
            "grid_gap": null,
            "grid_row": null,
            "grid_template_areas": null,
            "grid_template_columns": null,
            "grid_template_rows": null,
            "height": null,
            "justify_content": null,
            "justify_items": null,
            "left": null,
            "margin": null,
            "max_height": null,
            "max_width": null,
            "min_height": null,
            "min_width": null,
            "object_fit": null,
            "object_position": null,
            "order": null,
            "overflow": null,
            "overflow_x": null,
            "overflow_y": null,
            "padding": null,
            "right": null,
            "top": null,
            "visibility": null,
            "width": null
          }
        },
        "4f0c304bbeba4c268b0deb6c9709e442": {
          "model_module": "@jupyter-widgets/controls",
          "model_name": "DescriptionStyleModel",
          "model_module_version": "1.5.0",
          "state": {
            "_model_module": "@jupyter-widgets/controls",
            "_model_module_version": "1.5.0",
            "_model_name": "DescriptionStyleModel",
            "_view_count": null,
            "_view_module": "@jupyter-widgets/base",
            "_view_module_version": "1.2.0",
            "_view_name": "StyleView",
            "description_width": ""
          }
        },
        "aebdde5cb8184e09861f58c0b4640c79": {
          "model_module": "@jupyter-widgets/base",
          "model_name": "LayoutModel",
          "model_module_version": "1.2.0",
          "state": {
            "_model_module": "@jupyter-widgets/base",
            "_model_module_version": "1.2.0",
            "_model_name": "LayoutModel",
            "_view_count": null,
            "_view_module": "@jupyter-widgets/base",
            "_view_module_version": "1.2.0",
            "_view_name": "LayoutView",
            "align_content": null,
            "align_items": null,
            "align_self": null,
            "border": null,
            "bottom": null,
            "display": null,
            "flex": null,
            "flex_flow": null,
            "grid_area": null,
            "grid_auto_columns": null,
            "grid_auto_flow": null,
            "grid_auto_rows": null,
            "grid_column": null,
            "grid_gap": null,
            "grid_row": null,
            "grid_template_areas": null,
            "grid_template_columns": null,
            "grid_template_rows": null,
            "height": null,
            "justify_content": null,
            "justify_items": null,
            "left": null,
            "margin": "0 0 0 10px",
            "max_height": null,
            "max_width": null,
            "min_height": null,
            "min_width": null,
            "object_fit": null,
            "object_position": null,
            "order": null,
            "overflow": null,
            "overflow_x": null,
            "overflow_y": null,
            "padding": null,
            "right": null,
            "top": null,
            "visibility": null,
            "width": "400px"
          }
        },
        "ccd0a082886e474ca35840dab3e1decb": {
          "model_module": "@jupyter-widgets/controls",
          "model_name": "SliderStyleModel",
          "model_module_version": "1.5.0",
          "state": {
            "_model_module": "@jupyter-widgets/controls",
            "_model_module_version": "1.5.0",
            "_model_name": "SliderStyleModel",
            "_view_count": null,
            "_view_module": "@jupyter-widgets/base",
            "_view_module_version": "1.2.0",
            "_view_name": "StyleView",
            "description_width": "initial",
            "handle_color": "blue"
          }
        },
        "6d3a6bf9df5144ed8ba0eb6c3a5270cd": {
          "model_module": "@jupyter-widgets/base",
          "model_name": "LayoutModel",
          "model_module_version": "1.2.0",
          "state": {
            "_model_module": "@jupyter-widgets/base",
            "_model_module_version": "1.2.0",
            "_model_name": "LayoutModel",
            "_view_count": null,
            "_view_module": "@jupyter-widgets/base",
            "_view_module_version": "1.2.0",
            "_view_name": "LayoutView",
            "align_content": null,
            "align_items": null,
            "align_self": null,
            "border": null,
            "bottom": null,
            "display": null,
            "flex": null,
            "flex_flow": null,
            "grid_area": null,
            "grid_auto_columns": null,
            "grid_auto_flow": null,
            "grid_auto_rows": null,
            "grid_column": null,
            "grid_gap": null,
            "grid_row": null,
            "grid_template_areas": null,
            "grid_template_columns": null,
            "grid_template_rows": null,
            "height": null,
            "justify_content": null,
            "justify_items": null,
            "left": null,
            "margin": "0 0 0 10px",
            "max_height": null,
            "max_width": null,
            "min_height": null,
            "min_width": null,
            "object_fit": null,
            "object_position": null,
            "order": null,
            "overflow": null,
            "overflow_x": null,
            "overflow_y": null,
            "padding": null,
            "right": null,
            "top": null,
            "visibility": null,
            "width": "400px"
          }
        },
        "d6b67f12926440f5afe33bfcf504f85a": {
          "model_module": "@jupyter-widgets/controls",
          "model_name": "SliderStyleModel",
          "model_module_version": "1.5.0",
          "state": {
            "_model_module": "@jupyter-widgets/controls",
            "_model_module_version": "1.5.0",
            "_model_name": "SliderStyleModel",
            "_view_count": null,
            "_view_module": "@jupyter-widgets/base",
            "_view_module_version": "1.2.0",
            "_view_name": "StyleView",
            "description_width": "initial",
            "handle_color": "blue"
          }
        },
        "c4e443c7bde3406d9d7158cae1deee1c": {
          "model_module": "@jupyter-widgets/output",
          "model_name": "OutputModel",
          "model_module_version": "1.0.0",
          "state": {
            "_dom_classes": [],
            "_model_module": "@jupyter-widgets/output",
            "_model_module_version": "1.0.0",
            "_model_name": "OutputModel",
            "_view_count": null,
            "_view_module": "@jupyter-widgets/output",
            "_view_module_version": "1.0.0",
            "_view_name": "OutputView",
            "layout": "IPY_MODEL_7cd98872c36443edb4dc0f80e59c0b4e",
            "msg_id": "",
            "outputs": [
              {
                "output_type": "display_data",
                "data": {
                  "text/plain": "<Figure size 1200x600 with 1 Axes>",
                  "image/png": "iVBORw0KGgoAAAANSUhEUgAAAdYAAAHoCAYAAAD0as6HAAAAOXRFWHRTb2Z0d2FyZQBNYXRwbG90bGliIHZlcnNpb24zLjcuMSwgaHR0cHM6Ly9tYXRwbG90bGliLm9yZy/bCgiHAAAACXBIWXMAAA9hAAAPYQGoP6dpAAA07klEQVR4nO3deXTU9b3/8dcAySRkmZCNJBLC5gYoCq0plc1KDWit261G7S1YjxYbPBep2pPeIuK1xaWL15YL7bkWrih1a8XjUi2iQFsBKy5cVCggGraENQvZCMnn94e/zHVMgMzn84GZ2OfjnDmHTL6vfD/55jt5MZOZeQeMMUYAAMCLHrFeAAAAXyQUKwAAHlGsAAB4RLECAOARxQoAgEcUKwAAHlGsAAB4RLECAOARxQoAgEcUKxClFStWKBAIaMWKFbFeCoA4RLHipFu0aJECgYDeeuutWC9FktTQ0KC7776bouyCVatW6Zvf/KYKCwuVlJSkvLw8TZo0SX/72986bNvS0qI5c+Zo0KBBCgaDGjRokO69914dOXLEat/t583xLh9//HHUX/vQoUOaPXu2Jk2apMzMTAUCAS1atKjDdm1tbVq0aFH4GKSkpGj48OG699571dTUZPV94YunV6wXAMRaQ0OD5syZI0maMGHCcbcfN26cGhsblZiYeIJXFn/+8Y9/qEePHpo2bZry8vJ08OBBPfbYYxo3bpxefPFFTZo0Kbztt7/9bT399NP67ne/qy996Utas2aNZs2apYqKCv32t7+Net/jxo3T4sWLO/3czp07VV5ergEDBig3Nzfqr71v3z7dc8896t+/v0aMGHHU/2Q1NDTohhtu0Fe+8hVNmzZNubm5Wr16tWbPnq3ly5frtddeUyAQiHr/+IIxwEm2cOFCI8n8/e9/j/VSjDHG7N2710gys2fPjvVSuqX6+nrTt29fU1JSEr7uzTffNJLMrFmzIrb9wQ9+YAKBgHnvvfe87f/IkSNm3LhxJiEhwaxZs8bqazQ1NZndu3cbY4z5+9//biSZhQsXdtiuubnZ/O1vf+tw/Zw5c4wks2zZMqv944uFh4IRF6ZOnarU1FTt3LlTl19+uVJTU5WTk6Pbb79dra2t4e0+/vhjBQIB/exnP9Mvf/lLFRUVKTk5WePHj9eGDRsivuaECRM6vQc6depUDRgwIPz1cnJyJElz5swJP5x49913H3Wtnf2NdcKECRo+fLjWr1+v8ePHq3fv3hoyZIieeeYZSdLKlStVXFys5ORknX766Xr11VcjvuYnn3yi73//+zr99NOVnJysrKwsfetb3+r0Yc32fSQnJ6tfv3669957tXDhwk4fBv3Tn/6ksWPHKiUlRWlpabrkkkv0/vvvR2zT0tKijRs3avfu3Uf9no+ld+/eysnJUXV1dfi6v/zlL5Kk0tLSiG1LS0tljNGTTz5pta/OzJkzR6tWrdK9996r4uLiiM9t3LhRFRUVx/0awWBQeXl5x90uMTFRX/3qVztcf8UVV0iSPvzwwy6uGl9kFCviRmtrq0pKSpSVlaWf/exnGj9+vH7+8593+rDho48+qocfflhlZWUqLy/Xhg0b9LWvfU1VVVVR7TMnJ0fz58+X9Okvx8WLF2vx4sW68soro17/wYMH9Y1vfEPFxcV64IEHFAwGVVpaqieffFKlpaW6+OKLdd9996m+vl7/8i//orq6unD273//u9544w2Vlpbq4Ycf1rRp07R8+XJNmDBBDQ0N4e127typCy64QO+//77Ky8t122236fHHH9d//ud/dljP4sWLdckllyg1NVX333+/Zs2apQ8++EBjxoyJKOCdO3fqzDPPVHl5eZe/19raWu3bt08bN27Uj370I23YsEEXXnhh+PPNzc2SpOTk5Ihc7969JUnr1q3r8r6O5bXXXtNPfvITlZSU6I477ujw+TPPPFPf+c53vOzrWCorKyVJ2dnZJ3xf6AZifZcZ/3w6eyh4ypQpRpK55557IrY999xzzahRo8Ifb9u2zUgyycnJZseOHeHr165daySZ2267LXzd+PHjzfjx4zvsf8qUKaaoqCj8cbQPBb/++utGknn99dcj9iXJLFmyJHzdxo0bjSTTo0ePiIcoX3nllQ4PNTY0NHTYz+rVq40k8+ijj4avu/XWW00gEDDvvPNO+Lr9+/ebzMxMI8ls27bNGGNMXV2dycjIMDfddFPE16ysrDShUCji+vZjOmXKlC59/8YYU1JSYiQZSSYxMdF873vfM42NjeHP/+EPfzCSzOLFiyNyCxYsMJLM8OHDu7yvo6mqqjL5+fkmLy/PVFVVdbqNpE7PgWM51kPBRzNx4kSTnp5uDh48GNW+8MXEPVbElWnTpkV8PHbsWH300Ucdtrv88st1yimnhD8+77zzVFxcrJdeeumEr/FoUlNTIx76PP3005WRkaEzzzwz4iHK9n9/9vv67D27lpYW7d+/X0OGDFFGRobefvvt8OdefvlljR49Wuecc074uszMTF1//fURa1m2bJmqq6t17bXXat++feFLz549VVxcrNdffz287YABA2SM6fRZsEdz33336c9//rMeeeQRfeUrX9Hhw4cjnu178cUXq6ioSLfffrv++Mc/6pNPPtFTTz2lf//3f1evXr3U2NjY5X11xhij73znO6qqqtLixYuP+oQlY8wJf7b3T3/6U7366qu67777lJGRcUL3he6BZwUjbiQlJYX/3tmuT58+OnjwYIdtTz311A7XnXbaaXrqqadO2PqOp1+/fh2eERoKhVRYWNjhOkkR31djY6Pmzp2rhQsXaufOnTLGhD9XU1MT/vcnn3yi0aNHd9j3kCFDIj7evHmzJOlrX/tap2tNT0/vyrd0VJ8t9m9/+9saOXKkpk6dGv6bclJSkl588UVdffXVuuqqqyR9+nfMBx54QD/5yU+UmprqtP/7779fr7zyisrLyzVx4kSnr+XiySef1I9//GPdeOONuuWWW2K2DsQXihVxo2fPnl6/XiAQiCiodp99MpRPR1v/0a7/7NpuvfVWLVy4UDNmzNDo0aMVCoUUCARUWlqqtra2qNfSnlm8eHGnT8rp1cvfTT8xMVHf/OY3dd9996mxsTF873vYsGHasGGDPvjgAx08eFBDhw5VcnKybrvtNo0fP956f6tXr9asWbP01a9+Vffcc4+vbyNqy5Yt03e+8x1dcsklWrBgQczWgfhDsaJbar9H9ln/+Mc/ws/2lT69t9vZw8iffPJJxMfx8LrDZ555RlOmTNHPf/7z8HVNTU0Rz7SVpKKiIm3ZsqVD/vPXDR48WJKUm5t7Uu7RNTY2yhijurq6iIe1A4GAhg0bFv74pZdeUltbm/WaDh48qNLSUqWmpmrJkiVe/4MQjbVr1+qKK67Ql770JT311FMxWwfiE39jRbe0dOlS7dy5M/zxm2++qbVr12ry5Mnh6wYPHqyNGzdq79694evee++9Du8S1P5M1c+X2MnUs2fPDveuf/WrX3W4d11SUqLVq1fr3XffDV934MABPf744x22S09P109/+lO1tLR02N9nj0k0L7fZs2dPh+uqq6v1hz/8QYWFhcd8c4bGxkbNmjVL+fn5uvbaa4+7r85897vfVUVFhR555BEVFRUdd/uuvtwmGh9++KEuueQSDRgwQC+88EKHZz4D/DcL3dKQIUM0ZswY3XLLLWpubtZDDz2krKws3XnnneFtvvvd7+oXv/iFSkpKdOONN2rPnj1asGCBhg0bptra2vB2ycnJGjp0qJ588kmddtppyszM1PDhwzV8+PCT9v184xvf0OLFixUKhTR06FCtXr1ar776qrKysiK2u/POO/XYY4/p61//um699ValpKTov//7v9W/f38dOHAgfO87PT1d8+fP17/+679q5MiRKi0tVU5OjioqKvTiiy/q/PPP169//WtJ//dymylTphz3CUyTJ09Wv379VFxcrNzcXFVUVGjhwoXatWtXh9emXn311SooKNDQoUNVW1ur3/3ud/roo4/04osvKi0tLWLbQCCg8ePHH/OJRgsWLNDSpUt19tlnq6GhQY899lin2339619X3759JX36cpvjfd12v/71r1VdXa1du3ZJkp5//nnt2LFD0qcP1YdCIdXV1amkpEQHDx7UHXfcoRdffDHiawwePLjTv4Hjn0zsnpCMf1ZHe7lNSkpKh21nz55tPnuatr805MEHHzQ///nPTWFhoQkGg2bs2LGdvpvPY489ZgYNGmQSExPNOeecY1555ZUOL7cxxpg33njDjBo1yiQmJh73pTdHe7nNsGHDOmxbVFRkLrnkkg7XSzJlZWXhjw8ePGhuuOEGk52dbVJTU01JSYnZuHGjKSoq6vAymHfeeceMHTvWBINB069fPzN37lzz8MMPG0mmsrKyw1pLSkpMKBQySUlJZvDgwWbq1Knmrbfe6nBMu/Jym1//+tdmzJgxJjs72/Tq1cvk5OSYSy+91KxatarDtvfff78544wzTFJSkunTp4/55je/GfEyoXZ1dXVGkiktLT3mvttfknW8y2d/Lori5TZFRUVH/ZrtL2NqP1ZHu0TzkiV8cQWM6eTZHUCc+vjjjzVw4EA9+OCDuv3222O9nLgxY8YM/eY3v9GhQ4e8PwnsRHvppZf0jW98Q++9957OOuusWC8HcMbfWIFu5vOvAd2/f78WL16sMWPGdLtSlaTXX39dpaWllCq+MPgbK9DNjB49WhMmTNCZZ56pqqoqPfLII6qtrdWsWbNivTQrDz74YKyXAHhFsQLdzMUXX6xnnnlGv/3tbxUIBDRy5Eg98sgjGjduXKyXBkASf2MFAMAj/sYKAIBHFCsAAB7F3d9Y29ratGvXLqWlpcXFW80BAGD+/1t2FhQUqEePY98njbti3bVrV4dpIAAAxIPt27erX79+x9wm7oq1/a3Oxo0bZ/XG1sf7n8SxuIzS+uxb5EUrMTHROuvK5f1xPz+qLBqdjX3rKptpL+1cXufZ/vZ2Njp74/yu+uzc2Wi5nlvHeu/f40lKSrLOtr+toI3OBjR01effQjIaV155pXV20qRJ1lmcHLW1tSosLOzwdpydibtibX/4t1evXie9WBMSErpd1pXLVA6XX9ouv3RjVazBYNA66/IzdjnOrsXq8nNyyXbHY90+zMGG63xcnDxd+RPlCXvy0rx58zRgwAAlJSWpuLhYb7755onaFQAAceOEFOuTTz6pmTNnavbs2Xr77bc1YsQIlZSUdDpyCgCAL5ITUqy/+MUvdNNNN+mGG27Q0KFDtWDBAvXu3Vu/+93vTsTuAACIG96L9fDhw1q3bp0mTpz4fzvp0UMTJ07U6tWrO2zf3Nys2traiAsAAN2V92Ldt2+fWltbw4OG2/Xt21eVlZUdtp87d65CoVD4wkttAADdWczfeam8vFw1NTXhy/bt22O9JAAArHl/uU12drZ69uypqqqqiOurqqqUl5fXYftgMOj01HoAAOKJ93usiYmJGjVqlJYvXx6+rq2tTcuXL9fo0aN97w4AgLhyQt4gYubMmZoyZYq+9KUv6bzzztNDDz2k+vp63XDDDSdidwAAxI0TUqzXXHON9u7dq7vuukuVlZU655xz9PLLL3d4QhMAAF80J+wtDadPn67p06efqC8PAEBcirv3Cm6XkJBg9Z6fBQUF1vvcu3evddblvT6Lioqss5LU2tpqnc3IyIjJfl977TXrrMv7ubqcHy77LSkpsc66vLbb9d3OXN4M3xhjnc3Pz7fOnnPOOdbZa665xjo7YsQI6+y+ffuss3/5y1+ss9nZ2dZZSTrjjDOss8nJydbZ1NRU6+zJEPOX2wAA8EVCsQIA4BHFCgCARxQrAAAeUawAAHhEsQIA4BHFCgCARxQrAAAeUawAAHhEsQIA4BHFCgCARxQrAAAeUawAAHhEsQIA4FHcjo1LTU21Ghtnk2k3cuRI6+yRI0essy7jtSS30WArV660zjY1NVlnr7vuOutsMBi0ztbU1FhnXX5OH330kXW2Z8+e1tlevdxu4n369LHOtrS0WGfr6upist8ePezva7S1tVlnMzMzrbOXXnqpdbaiosI6K7n9/li1apV11uW2mJSUZJVrbm7u8rbcYwUAwCOKFQAAjyhWAAA8olgBAPCIYgUAwCOKFQAAjyhWAAA8olgBAPCIYgUAwCOKFQAAjyhWAAA8olgBAPCIYgUAwCOKFQAAj+J2bNy5555rNd4nPT3dep95eXnW2cOHD1tnDx06ZJ2VpL59+1pnN2/ebJ0dOnSoddZl1F1KSop11mW0V3V1tXU2FApZZ1tbW62zrudWNKOyPi8tLc0629jYaJ11Gf32xhtvWGddbg8ua3YZDVhQUGCddfXhhx9aZ11uE1lZWVa5aM5J7rECAOARxQoAgEcUKwAAHlGsAAB4RLECAOARxQoAgEcUKwAAHlGsAAB4RLECAOARxQoAgEcUKwAAHlGsAAB4RLECAOARxQoAgEcBY4yJ9SI+q7a2VqFQSL/85S+VnJwcdf6ss86y3vdXv/pV66wLl1FmkrRw4ULr7MqVK62z/fv3t84GAgHrrM150a6qqso6GwwGrbMu49tcRmRlZGRYZyWpZ8+e1tmmpibr7JEjR6yzLmxGVbbLycmxzubn51tnXQwZMsQp73Kb2LFjh3V269at1tkZM2ZY5dq7qaam5rjjSbnHCgCARxQrAAAeUawAAHhEsQIA4BHFCgCARxQrAAAeUawAAHhEsQIA4BHFCgCARxQrAAAeUawAAHhEsQIA4BHFCgCARxQrAAAeUawAAHjUK9YLOJrExEQlJiZGnXOZqbp9+3br7MyZM62zixcvts5KUlZWlnW2T58+1tmGhgbrbF1dnXW2d+/e1lkXvXrZ31yys7Ots7W1tdbZ5uZm66zkNm/T5vbbzmUOrMvsW5fv96OPPrLOuvyc7rjjDutsS0uLddbVsGHDrLP/+7//a53dvXu3VS6a31ncYwUAwCOKFQAAjyhWAAA88l6sd999twKBQMTljDPO8L0bAADi0gl58tKwYcP06quv/t9OHJ70AQBAd3JCGq9Xr17Ky8s7EV8aAIC4dkL+xrp582YVFBRo0KBBuv7661VRUXHUbZubm1VbWxtxAQCgu/JerMXFxVq0aJFefvllzZ8/X9u2bdPYsWOP+hqguXPnKhQKhS+FhYW+lwQAwEnjvVgnT56sb33rWzr77LNVUlKil156SdXV1Xrqqac63b68vFw1NTXhi8ubNAAAEGsn/FlFGRkZOu2007Rly5ZOPx8MBp3e7QQAgHhywl/HeujQIW3dulX5+fknelcAAMSc92K9/fbbtXLlSn388cd64403dMUVV6hnz5669tprfe8KAIC44/2h4B07dujaa6/V/v37lZOTozFjxmjNmjXKycnxvSsAAOKO92J94oknfH9JAAC6jbh9S6S0tLSTPh6soKDAOnvTTTdZZ13Ga0luo65SUlKss8YY62xaWpp1tr6+3jrrwmXUncvPKCkpyTrb2tpqnZWkhIQE66zL8XIZG5eRkWGddTleRUVF1tl9+/ZZZw8ePGiddbn9S9KBAwessy7H69xzz7XO9uhh9xfQaI4Vb8IPAIBHFCsAAB5RrAAAeESxAgDgEcUKAIBHFCsAAB5RrAAAeESxAgDgEcUKAIBHFCsAAB5RrAAAeESxAgDgEcUKAIBHFCsAAB7F7di4sWPHOo0Ws+EyqurQoUMeVxKdJUuWWGddjrHLSDEXbW1tMdlvKBSyztbU1FhnXc6tI0eOWGclt59xS0uLdTY5Odk668LleH3yySfW2T59+lhnKysrY7JfyW30mwvb0W8nS3yvDgCAboZiBQDAI4oVAACPKFYAADyiWAEA8IhiBQDAI4oVAACPKFYAADyiWAEA8IhiBQDAI4oVAACPKFYAADyiWAEA8IhiBQDAo7gdG5eammo10mz37t3W+5w/f7519vrrr7fOLl261DorSZmZmdbZ6upq62xKSkpM9pubm2uddRmx1dTUZJ3t3bu3dba5udk6m5SUZJ2VpMTEROusy3g/l3Nrz5491lmXcWTZ2dnWWZfj/Nhjj1lnf/azn1lnJbefcSAQcNq3Lds1t7a2dnlb7rECAOARxQoAgEcUKwAAHlGsAAB4RLECAOARxQoAgEcUKwAAHlGsAAB4RLECAOARxQoAgEcUKwAAHlGsAAB4RLECAOARxQoAgEdxOzYuMTHRapTSe++9Z73PPn36WGfz8vKss7/5zW+ss5J0+PBh66zLyLnGxkbrrIu9e/daZ3v27OlxJV23f/9+66zN+MR2LmPQJLdzKz093TpbU1Njnc3IyLDOuozZq6+vt84eOnTIOhurkXOSdPXVV1tnXdbtoqWl5YTnuMcKAIBHFCsAAB5RrAAAeESxAgDgEcUKAIBHFCsAAB5RrAAAeESxAgDgEcUKAIBHFCsAAB5RrAAAeESxAgDgEcUKAIBHFCsAAB7F7di4xx57TMnJyVHnLrjgAut9Tpo0yTpbWlpqnR00aJB1VpKOHDlina2rq7POuoxgc9mvyzgyl2PVq5f9zSU1NdU663KscnNzrbOSlJCQYJ11GYV24MAB66zLCMeGhgbr7MGDB62zgwcPts66jCRcv369dVaSPv74Y+tsVlaWdfb999+3ztoe66ampi5vyz1WAAA8olgBAPCIYgUAwKOoi3XVqlW69NJLVVBQoEAgoKVLl0Z83hiju+66S/n5+UpOTtbEiRO1efNmX+sFACCuRV2s9fX1GjFihObNm9fp5x944AE9/PDDWrBggdauXauUlBSVlJRE9YdfAAC6q6if5jh58mRNnjy5088ZY/TQQw/pxz/+sS677DJJ0qOPPqq+fftq6dKlTs+cBQCgO/D6N9Zt27apsrJSEydODF8XCoVUXFys1atXd5ppbm5WbW1txAUAgO7Ka7FWVlZKkvr27Rtxfd++fcOf+7y5c+cqFAqFL4WFhT6XBADASRXzZwWXl5erpqYmfNm+fXuslwQAgDWvxdr+jidVVVUR11dVVR313VCCwaDS09MjLgAAdFdei3XgwIHKy8vT8uXLw9fV1tZq7dq1Gj16tM9dAQAQl6J+VvChQ4e0ZcuW8Mfbtm3Tu+++q8zMTPXv318zZszQvffeq1NPPVUDBw7UrFmzVFBQoMsvv9znugEAiEtRF+tbb70V8Ub3M2fOlCRNmTJFixYt0p133qn6+nrdfPPNqq6u1pgxY/Tyyy8rKSnJ36oBAIhTURfrhAkTZIw56ucDgYDuuece3XPPPU4LAwCgO4rbsXGjR49WWlpa1DmX18F+//vft85mZ2dbZ125jCRzebKYy4itYDBona2urrbOfv6lYNGor6+3zrqMX3P5GbmMMnPdt8v37DJSzGW/hw8fts4OGDDAOtujh/3TXXr37m2ddTmnJTk9Erlz507rrMvvPNufcTS5mL/cBgCALxKKFQAAjyhWAAA8olgBAPCIYgUAwCOKFQAAjyhWAAA8olgBAPCIYgUAwCOKFQAAjyhWAAA8olgBAPCIYgUAwCOKFQAAj+J2bFxdXd0x574ezX333We9z1AoZJ3NyMiwzrqMX5PcRoOlpKRYZ1taWqyzLmOfTjnlFOusy7Hu1cv+5uIy6s5lxJ7LWC9JOnDgQMz2baupqck6GwgErLMux8plbJzL7y2b0ZyftW/fPutsZmamddbl99a2bduscoyNAwAgRihWAAA8olgBAPCIYgUAwCOKFQAAjyhWAAA8olgBAPCIYgUAwCOKFQAAjyhWAAA8olgBAPCIYgUAwCOKFQAAjyhWAAA8ituxca+88orV2KloRvt8nssosyNHjlhnW1tbrbOSNGDAAOvszp07rbO9e/e2zrqMUevZs6d1du/evdZZl9GALlmX77etrc06K7mNrEtMTLTONjc3W2ddRrC5jAZ0OdZ9+vSxzrocK5fboSQNHDjQOrtnzx7r7KhRo6yzd911l3W2q7jHCgCARxQrAAAeUawAAHhEsQIA4BHFCgCARxQrAAAeUawAAHhEsQIA4BHFCgCARxQrAAAeUawAAHhEsQIA4BHFCgCARxQrAAAeBYwxJtaL+Kza2lqFQiGdeuqpVuOyrrjiCut9V1ZWWmdtRtz5yLrm6+rqrLOxOnVcRvS5jG9raGiwzrqMfqupqbHOuoxRlNzGgu3bt8866zJyzmUMo8vtISUlxTrrMp6vqanJOpuVlWWdldyO9aZNm6yz77zzjnW2oqLCKmeMkTFGNTU1Sk9PP+a23GMFAMAjihUAAI8oVgAAPKJYAQDwiGIFAMAjihUAAI8oVgAAPKJYAQDwiGIFAMAjihUAAI8oVgAAPKJYAQDwiGIFAMAjihUAAI8oVgAAPOoV6wUczaRJk6xmFLrMJozVrE5X27Zts866zAnt06ePdbZXL/tTr0eP2Px/0GUOrMtc1Ly8POusy+1Bkqqrq62zLnOCXWa5hkIh6+ygQYOss1VVVdbZhIQE62xycrJ11mXWrySlpaVZZydOnGid/dOf/mSdHTlypFWutbW1y3NguccKAIBHFCsAAB5RrAAAeBR1sa5atUqXXnqpCgoKFAgEtHTp0ojPT506VYFAIOIyadIkX+sFACCuRV2s9fX1GjFihObNm3fUbSZNmqTdu3eHL7///e+dFgkAQHcR9VMzJ0+erMmTJx9zm2Aw6PRMRgAAuqsT8jfWFStWKDc3V6effrpuueUW7d+//6jbNjc3q7a2NuICAEB35b1YJ02apEcffVTLly/X/fffr5UrV2ry5MlqbW3tdPu5c+cqFAqFL4WFhb6XBADASeP9DSJKS0vD/z7rrLN09tlna/DgwVqxYoUuvPDCDtuXl5dr5syZ4Y9ra2spVwBAt3XCX24zaNAgZWdna8uWLZ1+PhgMKj09PeICAEB3dcKLdceOHdq/f7/y8/NP9K4AAIi5qB8KPnToUMS9z23btundd99VZmamMjMzNWfOHF111VXKy8vT1q1bdeedd2rIkCEqKSnxunAAAOJR1MX61ltv6YILLgh/3P730SlTpmj+/Plav369/ud//kfV1dUqKCjQRRddpP/4j/+wekN9AAC6m6iLdcKECTLGHPXzr7zyitOCAADozuJ2bJwtl5FiLS0t1lmX8Ukuo7kk6ZRTTrHOuoxvO9Z/sI7HZYyay35dRnu5vOmJy5r37t0bk/1KbiPJXG5POTk51tm6ujrrbGVlpXU2VsfKZZyhy+8OyW0sYe/eva2zLuMuN27caJWL5rbEm/ADAOARxQoAgEcUKwAAHlGsAAB4RLECAOARxQoAgEcUKwAAHlGsAAB4RLECAOARxQoAgEcUKwAAHlGsAAB4RLECAOARxQoAgEdxOzYuOztbSUlJUec++OAD6326jH1yGeSekJBgnZWkmpoa62xra6t11mVUXnNzs3XWZTRgenq6ddZlBNu+ffussy7jtVy57Nvle87IyLDOutyeXMa3uZwfLmt2Gf24Z88e66wkpaamWmdXrVplnT333HOts1u2bLHKtbW1qb6+vkvbco8VAACPKFYAADyiWAEA8IhiBQDAI4oVAACPKFYAADyiWAEA8IhiBQDAI4oVAACPKFYAADyiWAEA8IhiBQDAI4oVAACPKFYAADyK27FxtkKhkHW2ra3NOusybionJ8c6K0nV1dXWWZdxVYcPH7bOuowjcxnPFQgErLNNTU3W2aysLOusy1jAxsZG66wkHTlyxDrrMs5s165d1lmXc9pl/KPLeZmYmGid3b17t3V28ODB1lnX/B/+8Afr7I4dO6yzI0eOtModOXKky2P2uMcKAIBHFCsAAB5RrAAAeESxAgDgEcUKAIBHFCsAAB5RrAAAeESxAgDgEcUKAIBHFCsAAB5RrAAAeESxAgDgEcUKAIBHFCsAAB7F7di4AwcOWI1wKigosN6ny/gll5FzLvuVpJ49e1pne/SIzf+tXPbrMmLLZYxaUlKSddZl5JzLOLK0tDTrrOR2brlwGTnn8j27/JxcRhK6jGA855xzrLPbt2+3zkrSrFmzrLNbt2512ret/v37W+Wi+RlxjxUAAI8oVgAAPKJYAQDwiGIFAMAjihUAAI8oVgAAPKJYAQDwiGIFAMAjihUAAI8oVgAAPKJYAQDwiGIFAMAjihUAAI8oVgAAPIrbsXGZmZlWY7oaGhqs9+kynssl6zq6raWlxTpbU1Njnc3MzLTO7tq1yzrrMsosISHBOutynFtbW62zWVlZ1tmUlBTrrOQ2zqy+vt5p37ZcRjgmJydbZ11+97gcZ5dza8OGDdZZSdqzZ49TPhYeffTRE74P7rECAOARxQoAgEcUKwAAHkVVrHPnztWXv/xlpaWlKTc3V5dffrk2bdoUsU1TU5PKysqUlZWl1NRUXXXVVaqqqvK6aAAA4lVUxbpy5UqVlZVpzZo1WrZsmVpaWnTRRRdFPEnhtttu0/PPP6+nn35aK1eu1K5du3TllVd6XzgAAPEoqmcFv/zyyxEfL1q0SLm5uVq3bp3GjRunmpoaPfLII1qyZIm+9rWvSZIWLlyoM888U2vWrNFXvvIVfysHACAOOf2Ntf2lGu0vu1i3bp1aWlo0ceLE8DZnnHGG+vfvr9WrV3f6NZqbm1VbWxtxAQCgu7Iu1ra2Ns2YMUPnn3++hg8fLkmqrKxUYmKiMjIyIrbt27evKisrO/06c+fOVSgUCl8KCwttlwQAQMxZF2tZWZk2bNigJ554wmkB5eXlqqmpCV+2b9/u9PUAAIglq3demj59ul544QWtWrVK/fr1C1+fl5enw4cPq7q6OuJea1VVlfLy8jr9WsFgUMFg0GYZAADEnajusRpjNH36dD377LN67bXXNHDgwIjPjxo1SgkJCVq+fHn4uk2bNqmiokKjR4/2s2IAAOJYVPdYy8rKtGTJEj333HNKS0sL/900FAopOTlZoVBIN954o2bOnKnMzEylp6fr1ltv1ejRo3lGMADgn0JUxTp//nxJ0oQJEyKuX7hwoaZOnSpJ+uUvf6kePXroqquuUnNzs0pKSvRf//VfXhYLAEC8i6pYuzLBJSkpSfPmzdO8efOsFwUAQHcVt2Pj6uvrdeTIkahzNqPm2uXk5Fhnbdbarrm52TorSXV1ddZZl+PlMr7NZRSai0AgYJ1tbGy0zrqMq3MZK+g61stlHKLLCDaXUWgHDhywzrqMb3M5p4/25M6ucHnt/+ffkjZaffr0sc66/N5yYXt7MsZ0+fbAm/ADAOARxQoAgEcUKwAAHlGsAAB4RLECAOARxQoAgEcUKwAAHlGsAAB4RLECAOARxQoAgEcUKwAAHlGsAAB4RLECAOARxQoAgEdxOzYuPT3daqTZoUOHrPfZ1NRknXUZoRYMBq2zkpSYmGidbWhosM66jEKrr6+3zrp8v/v27bPOuozYc+EyNs713HLhMkrRZd0uYxgzMzOtsy5jBVtaWqyzLs4991yn/KBBg6yzK1assM6+/fbb1tm2tjbrbFdxjxUAAI8oVgAAPKJYAQDwiGIFAMAjihUAAI8oVgAAPKJYAQDwiGIFAMAjihUAAI8oVgAAPKJYAQDwiGIFAMAjihUAAI8oVgAAPIrbsXEtLS1Wo9hycnKs9+kyUiwQCFhnXceRuYzKcxl15TI2LiUlJSb7PeWUU6yzLuPIevWyv6nV1NRYZ9PT062zklRbW+uUt+UyKi87O9s66zJG0WXU3eHDh62zLmMUx4wZY5113fc//vEP66zL74DLLrvMKtfS0qKlS5d2aVvusQIA4BHFCgCARxQrAAAeUawAAHhEsQIA4BHFCgCARxQrAAAeUawAAHhEsQIA4BHFCgCARxQrAAAeUawAAHhEsQIA4BHFCgCARxQrAAAefeHmsTY1NVnvMzU11TqbnJxsnd2/f791VpIyMjKss2lpadZZl5mZu3btss6GQiHrbFVVlXXWZd6my/zIfv36WWfr6uqss5LUp08f62x1dbV11mVOsEvWZb6oy8zd/Px862xLS4t11nXersvt+Prrr7fOrlmzxjp75MiRE57jHisAAB5RrAAAeESxAgDgEcUKAIBHFCsAAB5RrAAAeESxAgDgEcUKAIBHFCsAAB5RrAAAeESxAgDgEcUKAIBHFCsAAB5RrAAAeBS3Y+MaGxvV1tYWda6iosJ6n4WFhdbZ1tZW66zL2DfJbTRYc3OzddZlxJbLKLTKykrrbO/eva2zWVlZ1lmX88NlHJnN6MXPcjk/XM5rl3FmSUlJ1lmX0ZEuP2OXcYa5ubnW2eHDh1tnJWnOnDnW2cGDB1tnL730Uuvs0KFDrXKNjY164YUXurQt91gBAPCIYgUAwCOKFQAAj6Iq1rlz5+rLX/6y0tLSlJubq8svv1ybNm2K2GbChAkKBAIRl2nTpnldNAAA8SqqYl25cqXKysq0Zs0aLVu2TC0tLbroootUX18fsd1NN92k3bt3hy8PPPCA10UDABCvonq64csvvxzx8aJFi5Sbm6t169Zp3Lhx4et79+6tvLw8PysEAKAbcfoba01NjSQpMzMz4vrHH39c2dnZGj58uMrLy9XQ0HDUr9Hc3Kza2tqICwAA3ZX1C+Ta2to0Y8YMnX/++RGvhbruuutUVFSkgoICrV+/Xj/84Q+1adMm/fGPf+z068ydO9fptVAAAMQT62ItKyvThg0b9Ne//jXi+ptvvjn877POOkv5+fm68MILtXXr1k5fEFxeXq6ZM2eGP66trXV6owYAAGLJqlinT5+uF154QatWrTruO+gUFxdLkrZs2dJpsQaDQQWDQZtlAAAQd6IqVmOMbr31Vj377LNasWKFBg4ceNzMu+++K0nKz8+3WiAAAN1JVMVaVlamJUuW6LnnnlNaWlr4PVtDoZCSk5O1detWLVmyRBdffLGysrK0fv163XbbbRo3bpzOPvvsE/INAAAQT6Iq1vnz50v69E0gPmvhwoWaOnWqEhMT9eqrr+qhhx5SfX29CgsLddVVV+nHP/6xtwUDABDPon4o+FgKCwu1cuVKpwUBANCdBczx2vIkq62tVSgU0ve+9z2rJzXl5ORY79tl5FxLS4t1tk+fPtZZSUpJSbHO9u/f3zp74MAB6+zhw4etsy7j6lxGivXoYf+yb5ebmcs4suTkZOusJO3cudM66zKiz+X25GLv3r3W2YSEBOusy++t/fv3W2eXLVtmnZWkQYMGWWffeOMN6+yhQ4ess8d6X4WuqKmpUXp6+jG34U34AQDwiGIFAMAjihUAAI8oVgAAPKJYAQDwiGIFAMAjihUAAI8oVgAAPKJYAQDwiGIFAMAjihUAAI8oVgAAPKJYAQDwiGIFAMCjqOaxnkxJSUlWY+P27NljvU+XsWD9+vWzzu7YscM66+r999+3zrqMX0pNTbXOuowjc/kZu4yqchkb5zKOzGU8nySr22C7QCBgnW1qarLOupwfPXv2tM4OHTrUOvv4449bZ/ft22ed3bx5s3VWchvh2NzcbJ29+uqrrbO2owFbWlr05z//uUvbco8VAACPKFYAADyiWAEA8IhiBQDAI4oVAACPKFYAADyiWAEA8IhiBQDAI4oVAACPKFYAADyiWAEA8IhiBQDAI4oVAACP4m66TfsUENvJBy7TPFyyLpMaXCeQuOy7ra3NOhur4+UygcRlaorLml2m27S2tlpnXX6+0qcTPWz16mX/68XlWLtMMHLZb2Njo3X2yJEj1lmX88PlvIzlvl1+99ie0+0/o66sO2Bcj6xnO3bsUGFhYayXAQBAB9u3bz/umNC4K9a2tjbt2rVLaWlpnc5zrK2tVWFhobZv36709PQYrLD74FhFh+PVdRyr6HC8ui5ej5UxRnV1dSooKDjuoyJx91Bwjx49ujQ0PD09Pa4OejzjWEWH49V1HKvocLy6Lh6PVSgU6tJ2PHkJAACPKFYAADzqdsUaDAY1e/ZsBYPBWC8l7nGsosPx6jqOVXQ4Xl33RThWcffkJQAAurNud48VAIB4RrECAOARxQoAgEcUKwAAHlGsAAB41K2Kdd68eRowYICSkpJUXFysN998M9ZLikt33323AoFAxOWMM86I9bLixqpVq3TppZeqoKBAgUBAS5cujfi8MUZ33XWX8vPzlZycrIkTJ2rz5s2xWWyMHe9YTZ06tcO5NmnSpNgsNsbmzp2rL3/5y0pLS1Nubq4uv/xybdq0KWKbpqYmlZWVKSsrS6mpqbrqqqtUVVUVoxXHVleO14QJEzqcX9OmTYvRiruu2xTrk08+qZkzZ2r27Nl6++23NWLECJWUlGjPnj2xXlpcGjZsmHbv3h2+/PWvf431kuJGfX29RowYoXnz5nX6+QceeEAPP/ywFixYoLVr1yolJUUlJSVOk3G6q+MdK0maNGlSxLn2+9///iSuMH6sXLlSZWVlWrNmjZYtW6aWlhZddNFFqq+vD29z22236fnnn9fTTz+tlStXateuXbryyitjuOrY6crxkqSbbrop4vx64IEHYrTiKJhu4rzzzjNlZWXhj1tbW01BQYGZO3duDFcVn2bPnm1GjBgR62V0C5LMs88+G/64ra3N5OXlmQcffDB8XXV1tQkGg+b3v/99DFYYPz5/rIwxZsqUKeayyy6LyXri3Z49e4wks3LlSmPMp+dRQkKCefrpp8PbfPjhh0aSWb16dayWGTc+f7yMMWb8+PHm3/7t32K3KEvd4h7r4cOHtW7dOk2cODF8XY8ePTRx4kStXr06hiuLX5s3b1ZBQYEGDRqk66+/XhUVFbFeUrewbds2VVZWRpxroVBIxcXFnGtHsWLFCuXm5ur000/XLbfcov3798d6SXGhpqZGkpSZmSlJWrdunVpaWiLOrTPOOEP9+/fn3FLH49Xu8ccfV3Z2toYPH67y8nI1NDTEYnlRibvpNp3Zt2+fWltb1bdv34jr+/btq40bN8ZoVfGruLhYixYt0umnn67du3drzpw5Gjt2rDZs2KC0tLRYLy+uVVZWSlKn51r75/B/Jk2apCuvvFIDBw7U1q1b9aMf/UiTJ0/W6tWrnQbSd3dtbW2aMWOGzj//fA0fPlzSp+dWYmKiMjIyIrbl3Or8eEnSddddp6KiIhUUFGj9+vX64Q9/qE2bNumPf/xjDFd7fN2iWBGdyZMnh/999tlnq7i4WEVFRXrqqad04403xnBl+KIpLS0N//uss87S2WefrcGDB2vFihW68MILY7iy2CorK9OGDRt4bkMXHe143XzzzeF/n3XWWcrPz9eFF16orVu3avDgwSd7mV3WLR4Kzs7OVs+ePTs8e66qqkp5eXkxWlX3kZGRodNOO01btmyJ9VLiXvv5xLlmZ9CgQcrOzv6nPtemT5+uF154Qa+//nrEbOm8vDwdPnxY1dXVEdv/s59bRztenSkuLpakuD+/ukWxJiYmatSoUVq+fHn4ura2Ni1fvlyjR4+O4cq6h0OHDmnr1q3Kz8+P9VLi3sCBA5WXlxdxrtXW1mrt2rWca12wY8cO7d+//5/yXDPGaPr06Xr22Wf12muvaeDAgRGfHzVqlBISEiLOrU2bNqmiouKf8tw63vHqzLvvvitJ8X9+xfrZU131xBNPmGAwaBYtWmQ++OADc/PNN5uMjAxTWVkZ66XFnR/84AdmxYoVZtu2beZvf/ubmThxosnOzjZ79uyJ9dLiQl1dnXnnnXfMO++8YySZX/ziF+add94xn3zyiTHGmPvuu89kZGSY5557zqxfv95cdtllZuDAgaaxsTHGKz/5jnWs6urqzO23325Wr15ttm3bZl599VUzcuRIc+qpp5qmpqZYL/2ku+WWW0woFDIrVqwwu3fvDl8aGhrC20ybNs3079/fvPbaa+att94yo0ePNqNHj47hqmPneMdry5Yt5p577jFvvfWW2bZtm3nuuefMoEGDzLhx42K88uPrNsVqjDG/+tWvTP/+/U1iYqI577zzzJo1a2K9pLh0zTXXmPz8fJOYmGhOOeUUc80115gtW7bEellx4/XXXzeSOlymTJlijPn0JTezZs0yffv2NcFg0Fx44YVm06ZNsV10jBzrWDU0NJiLLrrI5OTkmISEBFNUVGRuuummf9r/7HZ2nCSZhQsXhrdpbGw03//+902fPn1M7969zRVXXGF2794du0XH0PGOV0VFhRk3bpzJzMw0wWDQDBkyxNxxxx2mpqYmtgvvAuaxAgDgUbf4GysAAN0FxQoAgEcUKwAAHlGsAAB4RLECAOARxQoAgEcUKwAAHlGsAAB4RLECAOARxQoAgEcUKwAAHv0/5ivQm/8crOwAAAAASUVORK5CYII=\n"
                },
                "metadata": {}
              }
            ]
          }
        },
        "7cd98872c36443edb4dc0f80e59c0b4e": {
          "model_module": "@jupyter-widgets/base",
          "model_name": "LayoutModel",
          "model_module_version": "1.2.0",
          "state": {
            "_model_module": "@jupyter-widgets/base",
            "_model_module_version": "1.2.0",
            "_model_name": "LayoutModel",
            "_view_count": null,
            "_view_module": "@jupyter-widgets/base",
            "_view_module_version": "1.2.0",
            "_view_name": "LayoutView",
            "align_content": null,
            "align_items": null,
            "align_self": null,
            "border": null,
            "bottom": null,
            "display": null,
            "flex": null,
            "flex_flow": null,
            "grid_area": null,
            "grid_auto_columns": null,
            "grid_auto_flow": null,
            "grid_auto_rows": null,
            "grid_column": null,
            "grid_gap": null,
            "grid_row": null,
            "grid_template_areas": null,
            "grid_template_columns": null,
            "grid_template_rows": null,
            "height": null,
            "justify_content": null,
            "justify_items": null,
            "left": null,
            "margin": null,
            "max_height": null,
            "max_width": null,
            "min_height": null,
            "min_width": null,
            "object_fit": null,
            "object_position": null,
            "order": null,
            "overflow": null,
            "overflow_x": null,
            "overflow_y": null,
            "padding": null,
            "right": null,
            "top": null,
            "visibility": null,
            "width": null
          }
        },
        "e9e69a81ebe44c338fc9a3d398f964c6": {
          "model_module": "@jupyter-widgets/controls",
          "model_name": "ToggleButtonsModel",
          "model_module_version": "1.5.0",
          "state": {
            "_dom_classes": [],
            "_model_module": "@jupyter-widgets/controls",
            "_model_module_version": "1.5.0",
            "_model_name": "ToggleButtonsModel",
            "_options_labels": [
              "BiaPy",
              "BioImage Model Zoo"
            ],
            "_view_count": null,
            "_view_module": "@jupyter-widgets/controls",
            "_view_module_version": "1.5.0",
            "_view_name": "ToggleButtonsView",
            "button_style": "",
            "description": "Source:",
            "description_tooltip": null,
            "disabled": false,
            "icons": [],
            "index": 0,
            "layout": "IPY_MODEL_2a0c1ce3e2474f579311737b92f04d11",
            "style": "IPY_MODEL_ebbfd264f9af4d1bb6609d0de8320169",
            "tooltips": [
              "Models created during this workflow",
              "BioImage Model Zoo model"
            ]
          }
        },
        "2a0c1ce3e2474f579311737b92f04d11": {
          "model_module": "@jupyter-widgets/base",
          "model_name": "LayoutModel",
          "model_module_version": "1.2.0",
          "state": {
            "_model_module": "@jupyter-widgets/base",
            "_model_module_version": "1.2.0",
            "_model_name": "LayoutModel",
            "_view_count": null,
            "_view_module": "@jupyter-widgets/base",
            "_view_module_version": "1.2.0",
            "_view_name": "LayoutView",
            "align_content": null,
            "align_items": null,
            "align_self": null,
            "border": null,
            "bottom": null,
            "display": null,
            "flex": null,
            "flex_flow": null,
            "grid_area": null,
            "grid_auto_columns": null,
            "grid_auto_flow": null,
            "grid_auto_rows": null,
            "grid_column": null,
            "grid_gap": null,
            "grid_row": null,
            "grid_template_areas": null,
            "grid_template_columns": null,
            "grid_template_rows": null,
            "height": null,
            "justify_content": null,
            "justify_items": null,
            "left": null,
            "margin": null,
            "max_height": null,
            "max_width": null,
            "min_height": null,
            "min_width": null,
            "object_fit": null,
            "object_position": null,
            "order": null,
            "overflow": null,
            "overflow_x": null,
            "overflow_y": null,
            "padding": null,
            "right": null,
            "top": null,
            "visibility": null,
            "width": null
          }
        },
        "ebbfd264f9af4d1bb6609d0de8320169": {
          "model_module": "@jupyter-widgets/controls",
          "model_name": "ToggleButtonsStyleModel",
          "model_module_version": "1.5.0",
          "state": {
            "_model_module": "@jupyter-widgets/controls",
            "_model_module_version": "1.5.0",
            "_model_name": "ToggleButtonsStyleModel",
            "_view_count": null,
            "_view_module": "@jupyter-widgets/base",
            "_view_module_version": "1.2.0",
            "_view_name": "StyleView",
            "button_width": "",
            "description_width": "",
            "font_weight": ""
          }
        }
      }
    },
    "accelerator": "GPU"
  },
  "nbformat": 4,
  "nbformat_minor": 0
}